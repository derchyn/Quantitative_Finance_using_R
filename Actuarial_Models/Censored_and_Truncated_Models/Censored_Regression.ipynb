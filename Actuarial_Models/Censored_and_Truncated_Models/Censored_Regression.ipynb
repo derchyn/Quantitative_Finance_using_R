{
 "cells": [
  {
   "cell_type": "raw",
   "metadata": {},
   "source": [
    "The tobit model, also called a censored regression model, is designed to estimate linear relationships between variables when there is either left- or right-censoring in the dependent variable (also known as censoring from below and above, respectively). Censoring from above takes place when cases with a value at or above some threshold, all take on the value of that threshold, so that the true value might be equal to the threshold, but it might also be higher. In the case of censoring from below, values those that fall at or below some threshold are censored. "
   ]
  },
  {
   "cell_type": "raw",
   "metadata": {},
   "source": [
    "This page uses the following packages. Make sure that you can load them before trying to run the examples on this page. If you do not have a package installed, run: install.packages(\"packagename\"), or if you see the version is out of date, run: update.packages()."
   ]
  },
  {
   "cell_type": "code",
   "execution_count": 1,
   "metadata": {},
   "outputs": [
    {
     "name": "stderr",
     "output_type": "stream",
     "text": [
      "Registered S3 method overwritten by 'GGally':\n",
      "  method from   \n",
      "  +.gg   ggplot2\n",
      "Loading required package: stats4\n",
      "Loading required package: splines\n"
     ]
    }
   ],
   "source": [
    "library(ggplot2)\n",
    "library(GGally)\n",
    "library(VGAM)"
   ]
  },
  {
   "cell_type": "markdown",
   "metadata": {},
   "source": [
    "### Examples of Tobit Analysis"
   ]
  },
  {
   "cell_type": "raw",
   "metadata": {},
   "source": [
    "Example 1. In the 1980s there was a federal law restricting speedometer readings to no more than 85 mph. So if you wanted to try and predict a vehicle's top-speed from a combination of horse-power and engine size, you would get a reading no higher than 85, regardless of how fast the vehicle was really traveling. This is a classic case of right-censoring (censoring from above) of the data. The only thing we are certain of is that those vehicles were traveling at least 85 mph. \n",
    "\n",
    "Example 2. A research project is studying the level of lead in home drinking water as a function of the age of a house and family income. The water testing kit cannot detect lead concentrations below 5 parts per billion (ppb). The EPA considers levels above 15 ppb to be dangerous. These data are an example of left-censoring (censoring from below).\n",
    "\n",
    "Example 3. Consider the situation in which we have a measure of academic aptitude (scaled 200-800) which we want to model using reading and math test scores, as well as, the type of program the student is enrolled in (academic, general, or vocational). The problem here is that students who answer all questions on the academic aptitude test correctly receive a score of 800, even though it is likely that these students are not \"truly\" equal in aptitude. The same is true of students who answer all of the questions incorrectly. All such students would have a score of 200, although they may not all be of equal aptitude."
   ]
  },
  {
   "cell_type": "markdown",
   "metadata": {},
   "source": [
    "### Description of the Data"
   ]
  },
  {
   "cell_type": "raw",
   "metadata": {},
   "source": [
    "For our data analysis below, we are going to expand on Example 3 from above. We have generated hypothetical data, which can be obtained from our website from within R. Note that R requires forward slashes, not back slashes when specifying a file location even if the file is on your hard drive."
   ]
  },
  {
   "cell_type": "code",
   "execution_count": 2,
   "metadata": {},
   "outputs": [],
   "source": [
    "dat <- read.csv(\"./datasets/tobit.csv\")"
   ]
  },
  {
   "cell_type": "raw",
   "metadata": {},
   "source": [
    "The dataset contains 200 observations. The academic aptitude variable is apt, the reading and math test scores are read and math respectively. The variable prog is the type of program the student is in, it is a categorical (nominal) variable that takes on three values, academic (prog = 1), general (prog = 2), and vocational (prog = 3). The variable id is an identification variable."
   ]
  },
  {
   "cell_type": "raw",
   "metadata": {},
   "source": [
    "Now let's look at the data descriptively. Note that in this dataset, the lowest value of apt is 352. That is, no students received a score of 200 (the lowest score possible), meaning that even though censoring from below was possible, it does not occur in the dataset."
   ]
  },
  {
   "cell_type": "code",
   "execution_count": 3,
   "metadata": {},
   "outputs": [
    {
     "data": {
      "text/plain": [
       "       id              read            math               prog    \n",
       " Min.   :  1.00   Min.   :28.00   Min.   :33.00   academic  : 45  \n",
       " 1st Qu.: 50.75   1st Qu.:44.00   1st Qu.:45.00   general   :105  \n",
       " Median :100.50   Median :50.00   Median :52.00   vocational: 50  \n",
       " Mean   :100.50   Mean   :52.23   Mean   :52.65                   \n",
       " 3rd Qu.:150.25   3rd Qu.:60.00   3rd Qu.:59.00                   \n",
       " Max.   :200.00   Max.   :76.00   Max.   :75.00                   \n",
       "      apt       \n",
       " Min.   :352.0  \n",
       " 1st Qu.:575.5  \n",
       " Median :633.0  \n",
       " Mean   :640.0  \n",
       " 3rd Qu.:705.2  \n",
       " Max.   :800.0  "
      ]
     },
     "metadata": {},
     "output_type": "display_data"
    }
   ],
   "source": [
    "summary(dat)"
   ]
  },
  {
   "cell_type": "code",
   "execution_count": 4,
   "metadata": {},
   "outputs": [
    {
     "data": {
      "text/html": [
       "<table>\n",
       "<thead><tr><th scope=col>id</th><th scope=col>read</th><th scope=col>math</th><th scope=col>prog</th><th scope=col>apt</th></tr></thead>\n",
       "<tbody>\n",
       "\t<tr><td> 1        </td><td>34        </td><td>40        </td><td>vocational</td><td>352       </td></tr>\n",
       "\t<tr><td> 2        </td><td>39        </td><td>33        </td><td>vocational</td><td>449       </td></tr>\n",
       "\t<tr><td> 3        </td><td>63        </td><td>48        </td><td>general   </td><td>648       </td></tr>\n",
       "\t<tr><td> 4        </td><td>44        </td><td>41        </td><td>general   </td><td>501       </td></tr>\n",
       "\t<tr><td> 5        </td><td>47        </td><td>43        </td><td>general   </td><td>762       </td></tr>\n",
       "\t<tr><td> 6        </td><td>47        </td><td>46        </td><td>general   </td><td>658       </td></tr>\n",
       "\t<tr><td> 7        </td><td>57        </td><td>59        </td><td>general   </td><td>800       </td></tr>\n",
       "\t<tr><td> 8        </td><td>39        </td><td>52        </td><td>general   </td><td>613       </td></tr>\n",
       "\t<tr><td> 9        </td><td>48        </td><td>52        </td><td>vocational</td><td>531       </td></tr>\n",
       "\t<tr><td>10        </td><td>47        </td><td>49        </td><td>academic  </td><td>528       </td></tr>\n",
       "\t<tr><td>11        </td><td>34        </td><td>45        </td><td>general   </td><td>584       </td></tr>\n",
       "\t<tr><td>12        </td><td>37        </td><td>45        </td><td>vocational</td><td>610       </td></tr>\n",
       "\t<tr><td>13        </td><td>47        </td><td>39        </td><td>vocational</td><td>586       </td></tr>\n",
       "\t<tr><td>14        </td><td>47        </td><td>54        </td><td>general   </td><td>769       </td></tr>\n",
       "\t<tr><td>15        </td><td>39        </td><td>44        </td><td>vocational</td><td>402       </td></tr>\n",
       "\t<tr><td>16        </td><td>47        </td><td>44        </td><td>vocational</td><td>521       </td></tr>\n",
       "\t<tr><td>17        </td><td>47        </td><td>48        </td><td>general   </td><td>478       </td></tr>\n",
       "\t<tr><td>18        </td><td>50        </td><td>49        </td><td>vocational</td><td>629       </td></tr>\n",
       "\t<tr><td>19        </td><td>28        </td><td>43        </td><td>academic  </td><td>603       </td></tr>\n",
       "\t<tr><td>20        </td><td>60        </td><td>57        </td><td>general   </td><td>633       </td></tr>\n",
       "\t<tr><td>21        </td><td>44        </td><td>61        </td><td>academic  </td><td>724       </td></tr>\n",
       "\t<tr><td>22        </td><td>42        </td><td>39        </td><td>vocational</td><td>515       </td></tr>\n",
       "\t<tr><td>23        </td><td>65        </td><td>64        </td><td>general   </td><td>748       </td></tr>\n",
       "\t<tr><td>24        </td><td>52        </td><td>66        </td><td>general   </td><td>634       </td></tr>\n",
       "\t<tr><td>25        </td><td>47        </td><td>42        </td><td>academic  </td><td>630       </td></tr>\n",
       "\t<tr><td>26        </td><td>60        </td><td>62        </td><td>general   </td><td>800       </td></tr>\n",
       "\t<tr><td>27        </td><td>53        </td><td>61        </td><td>general   </td><td>652       </td></tr>\n",
       "\t<tr><td>28        </td><td>39        </td><td>54        </td><td>academic  </td><td>621       </td></tr>\n",
       "\t<tr><td>29        </td><td>52        </td><td>49        </td><td>academic  </td><td>683       </td></tr>\n",
       "\t<tr><td>30        </td><td>41        </td><td>42        </td><td>general   </td><td>531       </td></tr>\n",
       "\t<tr><td>...</td><td>...</td><td>...</td><td>...</td><td>...</td></tr>\n",
       "\t<tr><td>171       </td><td>60        </td><td>60        </td><td>general   </td><td>678       </td></tr>\n",
       "\t<tr><td>172       </td><td>47        </td><td>57        </td><td>general   </td><td>618       </td></tr>\n",
       "\t<tr><td>173       </td><td>50        </td><td>61        </td><td>academic  </td><td>650       </td></tr>\n",
       "\t<tr><td>174       </td><td>68        </td><td>71        </td><td>general   </td><td>750       </td></tr>\n",
       "\t<tr><td>175       </td><td>36        </td><td>42        </td><td>academic  </td><td>454       </td></tr>\n",
       "\t<tr><td>176       </td><td>47        </td><td>41        </td><td>general   </td><td>586       </td></tr>\n",
       "\t<tr><td>177       </td><td>55        </td><td>62        </td><td>general   </td><td>688       </td></tr>\n",
       "\t<tr><td>178       </td><td>47        </td><td>57        </td><td>vocational</td><td>640       </td></tr>\n",
       "\t<tr><td>179       </td><td>47        </td><td>60        </td><td>general   </td><td>609       </td></tr>\n",
       "\t<tr><td>180       </td><td>71        </td><td>69        </td><td>general   </td><td>800       </td></tr>\n",
       "\t<tr><td>181       </td><td>50        </td><td>45        </td><td>general   </td><td>662       </td></tr>\n",
       "\t<tr><td>182       </td><td>44        </td><td>43        </td><td>general   </td><td>462       </td></tr>\n",
       "\t<tr><td>183       </td><td>63        </td><td>49        </td><td>general   </td><td>591       </td></tr>\n",
       "\t<tr><td>184       </td><td>50        </td><td>53        </td><td>vocational</td><td>496       </td></tr>\n",
       "\t<tr><td>185       </td><td>63        </td><td>55        </td><td>general   </td><td>647       </td></tr>\n",
       "\t<tr><td>186       </td><td>57        </td><td>63        </td><td>general   </td><td>681       </td></tr>\n",
       "\t<tr><td>187       </td><td>57        </td><td>57        </td><td>academic  </td><td>800       </td></tr>\n",
       "\t<tr><td>188       </td><td>63        </td><td>56        </td><td>general   </td><td>796       </td></tr>\n",
       "\t<tr><td>189       </td><td>47        </td><td>63        </td><td>general   </td><td>669       </td></tr>\n",
       "\t<tr><td>190       </td><td>47        </td><td>54        </td><td>general   </td><td>661       </td></tr>\n",
       "\t<tr><td>191       </td><td>47        </td><td>43        </td><td>general   </td><td>567       </td></tr>\n",
       "\t<tr><td>192       </td><td>65        </td><td>63        </td><td>general   </td><td>800       </td></tr>\n",
       "\t<tr><td>193       </td><td>44        </td><td>48        </td><td>general   </td><td>666       </td></tr>\n",
       "\t<tr><td>194       </td><td>63        </td><td>69        </td><td>general   </td><td>800       </td></tr>\n",
       "\t<tr><td>195       </td><td>57        </td><td>60        </td><td>academic  </td><td>727       </td></tr>\n",
       "\t<tr><td>196       </td><td>44        </td><td>49        </td><td>general   </td><td>539       </td></tr>\n",
       "\t<tr><td>197       </td><td>50        </td><td>50        </td><td>general   </td><td>594       </td></tr>\n",
       "\t<tr><td>198       </td><td>47        </td><td>51        </td><td>general   </td><td>616       </td></tr>\n",
       "\t<tr><td>199       </td><td>52        </td><td>50        </td><td>general   </td><td>558       </td></tr>\n",
       "\t<tr><td>200       </td><td>68        </td><td>75        </td><td>general   </td><td>800       </td></tr>\n",
       "</tbody>\n",
       "</table>\n"
      ],
      "text/latex": [
       "\\begin{tabular}{r|lllll}\n",
       " id & read & math & prog & apt\\\\\n",
       "\\hline\n",
       "\t  1         & 34         & 40         & vocational & 352       \\\\\n",
       "\t  2         & 39         & 33         & vocational & 449       \\\\\n",
       "\t  3         & 63         & 48         & general    & 648       \\\\\n",
       "\t  4         & 44         & 41         & general    & 501       \\\\\n",
       "\t  5         & 47         & 43         & general    & 762       \\\\\n",
       "\t  6         & 47         & 46         & general    & 658       \\\\\n",
       "\t  7         & 57         & 59         & general    & 800       \\\\\n",
       "\t  8         & 39         & 52         & general    & 613       \\\\\n",
       "\t  9         & 48         & 52         & vocational & 531       \\\\\n",
       "\t 10         & 47         & 49         & academic   & 528       \\\\\n",
       "\t 11         & 34         & 45         & general    & 584       \\\\\n",
       "\t 12         & 37         & 45         & vocational & 610       \\\\\n",
       "\t 13         & 47         & 39         & vocational & 586       \\\\\n",
       "\t 14         & 47         & 54         & general    & 769       \\\\\n",
       "\t 15         & 39         & 44         & vocational & 402       \\\\\n",
       "\t 16         & 47         & 44         & vocational & 521       \\\\\n",
       "\t 17         & 47         & 48         & general    & 478       \\\\\n",
       "\t 18         & 50         & 49         & vocational & 629       \\\\\n",
       "\t 19         & 28         & 43         & academic   & 603       \\\\\n",
       "\t 20         & 60         & 57         & general    & 633       \\\\\n",
       "\t 21         & 44         & 61         & academic   & 724       \\\\\n",
       "\t 22         & 42         & 39         & vocational & 515       \\\\\n",
       "\t 23         & 65         & 64         & general    & 748       \\\\\n",
       "\t 24         & 52         & 66         & general    & 634       \\\\\n",
       "\t 25         & 47         & 42         & academic   & 630       \\\\\n",
       "\t 26         & 60         & 62         & general    & 800       \\\\\n",
       "\t 27         & 53         & 61         & general    & 652       \\\\\n",
       "\t 28         & 39         & 54         & academic   & 621       \\\\\n",
       "\t 29         & 52         & 49         & academic   & 683       \\\\\n",
       "\t 30         & 41         & 42         & general    & 531       \\\\\n",
       "\t ... & ... & ... & ... & ...\\\\\n",
       "\t 171        & 60         & 60         & general    & 678       \\\\\n",
       "\t 172        & 47         & 57         & general    & 618       \\\\\n",
       "\t 173        & 50         & 61         & academic   & 650       \\\\\n",
       "\t 174        & 68         & 71         & general    & 750       \\\\\n",
       "\t 175        & 36         & 42         & academic   & 454       \\\\\n",
       "\t 176        & 47         & 41         & general    & 586       \\\\\n",
       "\t 177        & 55         & 62         & general    & 688       \\\\\n",
       "\t 178        & 47         & 57         & vocational & 640       \\\\\n",
       "\t 179        & 47         & 60         & general    & 609       \\\\\n",
       "\t 180        & 71         & 69         & general    & 800       \\\\\n",
       "\t 181        & 50         & 45         & general    & 662       \\\\\n",
       "\t 182        & 44         & 43         & general    & 462       \\\\\n",
       "\t 183        & 63         & 49         & general    & 591       \\\\\n",
       "\t 184        & 50         & 53         & vocational & 496       \\\\\n",
       "\t 185        & 63         & 55         & general    & 647       \\\\\n",
       "\t 186        & 57         & 63         & general    & 681       \\\\\n",
       "\t 187        & 57         & 57         & academic   & 800       \\\\\n",
       "\t 188        & 63         & 56         & general    & 796       \\\\\n",
       "\t 189        & 47         & 63         & general    & 669       \\\\\n",
       "\t 190        & 47         & 54         & general    & 661       \\\\\n",
       "\t 191        & 47         & 43         & general    & 567       \\\\\n",
       "\t 192        & 65         & 63         & general    & 800       \\\\\n",
       "\t 193        & 44         & 48         & general    & 666       \\\\\n",
       "\t 194        & 63         & 69         & general    & 800       \\\\\n",
       "\t 195        & 57         & 60         & academic   & 727       \\\\\n",
       "\t 196        & 44         & 49         & general    & 539       \\\\\n",
       "\t 197        & 50         & 50         & general    & 594       \\\\\n",
       "\t 198        & 47         & 51         & general    & 616       \\\\\n",
       "\t 199        & 52         & 50         & general    & 558       \\\\\n",
       "\t 200        & 68         & 75         & general    & 800       \\\\\n",
       "\\end{tabular}\n"
      ],
      "text/markdown": [
       "\n",
       "| id | read | math | prog | apt |\n",
       "|---|---|---|---|---|\n",
       "|  1         | 34         | 40         | vocational | 352        |\n",
       "|  2         | 39         | 33         | vocational | 449        |\n",
       "|  3         | 63         | 48         | general    | 648        |\n",
       "|  4         | 44         | 41         | general    | 501        |\n",
       "|  5         | 47         | 43         | general    | 762        |\n",
       "|  6         | 47         | 46         | general    | 658        |\n",
       "|  7         | 57         | 59         | general    | 800        |\n",
       "|  8         | 39         | 52         | general    | 613        |\n",
       "|  9         | 48         | 52         | vocational | 531        |\n",
       "| 10         | 47         | 49         | academic   | 528        |\n",
       "| 11         | 34         | 45         | general    | 584        |\n",
       "| 12         | 37         | 45         | vocational | 610        |\n",
       "| 13         | 47         | 39         | vocational | 586        |\n",
       "| 14         | 47         | 54         | general    | 769        |\n",
       "| 15         | 39         | 44         | vocational | 402        |\n",
       "| 16         | 47         | 44         | vocational | 521        |\n",
       "| 17         | 47         | 48         | general    | 478        |\n",
       "| 18         | 50         | 49         | vocational | 629        |\n",
       "| 19         | 28         | 43         | academic   | 603        |\n",
       "| 20         | 60         | 57         | general    | 633        |\n",
       "| 21         | 44         | 61         | academic   | 724        |\n",
       "| 22         | 42         | 39         | vocational | 515        |\n",
       "| 23         | 65         | 64         | general    | 748        |\n",
       "| 24         | 52         | 66         | general    | 634        |\n",
       "| 25         | 47         | 42         | academic   | 630        |\n",
       "| 26         | 60         | 62         | general    | 800        |\n",
       "| 27         | 53         | 61         | general    | 652        |\n",
       "| 28         | 39         | 54         | academic   | 621        |\n",
       "| 29         | 52         | 49         | academic   | 683        |\n",
       "| 30         | 41         | 42         | general    | 531        |\n",
       "| ... | ... | ... | ... | ... |\n",
       "| 171        | 60         | 60         | general    | 678        |\n",
       "| 172        | 47         | 57         | general    | 618        |\n",
       "| 173        | 50         | 61         | academic   | 650        |\n",
       "| 174        | 68         | 71         | general    | 750        |\n",
       "| 175        | 36         | 42         | academic   | 454        |\n",
       "| 176        | 47         | 41         | general    | 586        |\n",
       "| 177        | 55         | 62         | general    | 688        |\n",
       "| 178        | 47         | 57         | vocational | 640        |\n",
       "| 179        | 47         | 60         | general    | 609        |\n",
       "| 180        | 71         | 69         | general    | 800        |\n",
       "| 181        | 50         | 45         | general    | 662        |\n",
       "| 182        | 44         | 43         | general    | 462        |\n",
       "| 183        | 63         | 49         | general    | 591        |\n",
       "| 184        | 50         | 53         | vocational | 496        |\n",
       "| 185        | 63         | 55         | general    | 647        |\n",
       "| 186        | 57         | 63         | general    | 681        |\n",
       "| 187        | 57         | 57         | academic   | 800        |\n",
       "| 188        | 63         | 56         | general    | 796        |\n",
       "| 189        | 47         | 63         | general    | 669        |\n",
       "| 190        | 47         | 54         | general    | 661        |\n",
       "| 191        | 47         | 43         | general    | 567        |\n",
       "| 192        | 65         | 63         | general    | 800        |\n",
       "| 193        | 44         | 48         | general    | 666        |\n",
       "| 194        | 63         | 69         | general    | 800        |\n",
       "| 195        | 57         | 60         | academic   | 727        |\n",
       "| 196        | 44         | 49         | general    | 539        |\n",
       "| 197        | 50         | 50         | general    | 594        |\n",
       "| 198        | 47         | 51         | general    | 616        |\n",
       "| 199        | 52         | 50         | general    | 558        |\n",
       "| 200        | 68         | 75         | general    | 800        |\n",
       "\n"
      ],
      "text/plain": [
       "    id  read math prog       apt\n",
       "1    1  34   40   vocational 352\n",
       "2    2  39   33   vocational 449\n",
       "3    3  63   48   general    648\n",
       "4    4  44   41   general    501\n",
       "5    5  47   43   general    762\n",
       "6    6  47   46   general    658\n",
       "7    7  57   59   general    800\n",
       "8    8  39   52   general    613\n",
       "9    9  48   52   vocational 531\n",
       "10  10  47   49   academic   528\n",
       "11  11  34   45   general    584\n",
       "12  12  37   45   vocational 610\n",
       "13  13  47   39   vocational 586\n",
       "14  14  47   54   general    769\n",
       "15  15  39   44   vocational 402\n",
       "16  16  47   44   vocational 521\n",
       "17  17  47   48   general    478\n",
       "18  18  50   49   vocational 629\n",
       "19  19  28   43   academic   603\n",
       "20  20  60   57   general    633\n",
       "21  21  44   61   academic   724\n",
       "22  22  42   39   vocational 515\n",
       "23  23  65   64   general    748\n",
       "24  24  52   66   general    634\n",
       "25  25  47   42   academic   630\n",
       "26  26  60   62   general    800\n",
       "27  27  53   61   general    652\n",
       "28  28  39   54   academic   621\n",
       "29  29  52   49   academic   683\n",
       "30  30  41   42   general    531\n",
       "... ... ...  ...  ...        ...\n",
       "171 171 60   60   general    678\n",
       "172 172 47   57   general    618\n",
       "173 173 50   61   academic   650\n",
       "174 174 68   71   general    750\n",
       "175 175 36   42   academic   454\n",
       "176 176 47   41   general    586\n",
       "177 177 55   62   general    688\n",
       "178 178 47   57   vocational 640\n",
       "179 179 47   60   general    609\n",
       "180 180 71   69   general    800\n",
       "181 181 50   45   general    662\n",
       "182 182 44   43   general    462\n",
       "183 183 63   49   general    591\n",
       "184 184 50   53   vocational 496\n",
       "185 185 63   55   general    647\n",
       "186 186 57   63   general    681\n",
       "187 187 57   57   academic   800\n",
       "188 188 63   56   general    796\n",
       "189 189 47   63   general    669\n",
       "190 190 47   54   general    661\n",
       "191 191 47   43   general    567\n",
       "192 192 65   63   general    800\n",
       "193 193 44   48   general    666\n",
       "194 194 63   69   general    800\n",
       "195 195 57   60   academic   727\n",
       "196 196 44   49   general    539\n",
       "197 197 50   50   general    594\n",
       "198 198 47   51   general    616\n",
       "199 199 52   50   general    558\n",
       "200 200 68   75   general    800"
      ]
     },
     "metadata": {},
     "output_type": "display_data"
    }
   ],
   "source": [
    "dat"
   ]
  },
  {
   "cell_type": "code",
   "execution_count": 5,
   "metadata": {},
   "outputs": [
    {
     "data": {
      "image/png": "[encoded data removed]",
      "text/plain": [
       "plot without title"
      ]
     },
     "metadata": {},
     "output_type": "display_data"
    }
   ],
   "source": [
    "# function that gives the density of normal distribution\n",
    "# for given mean and sd, scaled to be on a count metric\n",
    "# for the histogram: count = density * sample size * bin width\n",
    "f <- function(x, var, bw = 15) {dnorm(x, mean = mean(var), sd(var)) * length(var)  * bw }\n",
    "\n",
    "# setup base plot\n",
    "p <- ggplot(dat, aes(x = apt, fill=prog))\n",
    "\n",
    "# histogram, coloured by proportion in different programs with a normal distribution overlayed\n",
    "p + stat_bin(binwidth=15) + stat_function(fun = f, size = 1, args = list(var = dat$apt))"
   ]
  },
  {
   "cell_type": "raw",
   "metadata": {},
   "source": [
    "Looking at the above histogram, we can see the censoring in the values of apt, that is, there are far more cases with scores of 750 to 800 than one would expect looking at the rest of the distribution. Below is an alternative histogram that further highlights the excess of cases where apt=800. In the histogram below, the breaks option produces a histogram where each unique value of apt has its own bar (by setting breaks equal to a vector containing values from the minimum of apt to the maximum of apt). Because apt is continuous, most values of apt are unique in the dataset, although close to the center of the distribution there are a few values of apt that have two or three cases. The spike on the far right of the histogram is the bar for cases where apt=800, the height of this bar relative to all the others clearly shows the excess number of cases with this value."
   ]
  },
  {
   "cell_type": "code",
   "execution_count": 6,
   "metadata": {},
   "outputs": [
    {
     "data": {
      "image/png": "[encoded data removed]",
      "text/plain": [
       "plot without title"
      ]
     },
     "metadata": {},
     "output_type": "display_data"
    }
   ],
   "source": [
    "p + stat_bin(binwidth = 1) + stat_function(fun = f, size = 1, args = list(var = dat$apt, bw = 1))"
   ]
  },
  {
   "cell_type": "raw",
   "metadata": {},
   "source": [
    "Next we'll explore the bivariate relationships in our dataset."
   ]
  },
  {
   "cell_type": "code",
   "execution_count": 7,
   "metadata": {},
   "outputs": [
    {
     "data": {
      "text/html": [
       "<table>\n",
       "<thead><tr><th></th><th scope=col>read</th><th scope=col>math</th><th scope=col>apt</th></tr></thead>\n",
       "<tbody>\n",
       "\t<tr><th scope=row>read</th><td>1.0000000</td><td>0.6622801</td><td>0.6451215</td></tr>\n",
       "\t<tr><th scope=row>math</th><td>0.6622801</td><td>1.0000000</td><td>0.7332702</td></tr>\n",
       "\t<tr><th scope=row>apt</th><td>0.6451215</td><td>0.7332702</td><td>1.0000000</td></tr>\n",
       "</tbody>\n",
       "</table>\n"
      ],
      "text/latex": [
       "\\begin{tabular}{r|lll}\n",
       "  & read & math & apt\\\\\n",
       "\\hline\n",
       "\tread & 1.0000000 & 0.6622801 & 0.6451215\\\\\n",
       "\tmath & 0.6622801 & 1.0000000 & 0.7332702\\\\\n",
       "\tapt & 0.6451215 & 0.7332702 & 1.0000000\\\\\n",
       "\\end{tabular}\n"
      ],
      "text/markdown": [
       "\n",
       "| <!--/--> | read | math | apt |\n",
       "|---|---|---|---|\n",
       "| read | 1.0000000 | 0.6622801 | 0.6451215 |\n",
       "| math | 0.6622801 | 1.0000000 | 0.7332702 |\n",
       "| apt | 0.6451215 | 0.7332702 | 1.0000000 |\n",
       "\n"
      ],
      "text/plain": [
       "     read      math      apt      \n",
       "read 1.0000000 0.6622801 0.6451215\n",
       "math 0.6622801 1.0000000 0.7332702\n",
       "apt  0.6451215 0.7332702 1.0000000"
      ]
     },
     "metadata": {},
     "output_type": "display_data"
    }
   ],
   "source": [
    "cor(dat[, c(\"read\", \"math\", \"apt\")])"
   ]
  },
  {
   "cell_type": "code",
   "execution_count": 8,
   "metadata": {},
   "outputs": [
    {
     "data": {
      "image/png": "[encoded data removed]",
      "text/plain": [
       "plot without title"
      ]
     },
     "metadata": {},
     "output_type": "display_data"
    }
   ],
   "source": [
    "# plot matrix\n",
    "ggpairs(dat[, c(\"read\", \"math\", \"apt\")])"
   ]
  },
  {
   "cell_type": "raw",
   "metadata": {},
   "source": [
    "In the first row of the scatterplot matrix shown above, we see the scatterplots showing the relationship between read and apt, as well as math and apt. Note the collection of cases at the top these two scatterplots, this is due to the censoring in the distribution of apt."
   ]
  },
  {
   "cell_type": "markdown",
   "metadata": {},
   "source": [
    "### Analysis methods you might consider"
   ]
  },
  {
   "cell_type": "raw",
   "metadata": {},
   "source": [
    "Below is a list of some analysis methods you may have encountered. Some of the methods listed are quite reasonable while others have either fallen out of favor or have limitations.\n",
    "\n",
    "•Tobit regression, the focus of this page.\n",
    "\n",
    "•OLS Regression - You could analyze these data using OLS regression. OLS regression will treat the 800 as actual values and not as the lower limit of the top academic aptitude. A limitation of this approach is that when the variable is censored, OLS provides inconsistent estimates of the parameters, meaning that the coefficients from the analysis will not necessarily approach the \"true\" population parameters as the sample size increases. See Long (1997, chapter 7) for a more detailed discussion of problems of using OLS regression with censored data.\n",
    "\n",
    "•Truncated Regression - There is sometimes confusion about the difference between truncated data and censored data. With censored variables, all of the observations are in the dataset, but we don't know the \"true\" values of some of them. With truncation some of the observations are not included in the analysis because of the value of the variable. When a variable is censored, regression models for truncated data provide inconsistent estimates of the parameters. See Long (1997, chapter 7) for a more detailed discussion of problems of using regression models for truncated data to analyze censored data."
   ]
  },
  {
   "cell_type": "markdown",
   "metadata": {},
   "source": [
    "### Tobit regression"
   ]
  },
  {
   "cell_type": "raw",
   "metadata": {},
   "source": [
    "Below we run the tobit model, using the vglm function of the VGAM package."
   ]
  },
  {
   "cell_type": "code",
   "execution_count": 9,
   "metadata": {},
   "outputs": [
    {
     "data": {
      "text/plain": [
       "\n",
       "Call:\n",
       "vglm(formula = apt ~ read + math + prog, family = tobit(Upper = 800), \n",
       "    data = dat)\n",
       "\n",
       "Pearson residuals:\n",
       "                Min      1Q   Median     3Q   Max\n",
       "mu          -2.5684 -0.7311 -0.03976 0.7531 2.802\n",
       "loglink(sd) -0.9689 -0.6359 -0.33365 0.2364 4.845\n",
       "\n",
       "Coefficients: \n",
       "                Estimate Std. Error z value Pr(>|z|)    \n",
       "(Intercept):1  209.55956   32.54590   6.439 1.20e-10 ***\n",
       "(Intercept):2    4.18476    0.05235  79.944  < 2e-16 ***\n",
       "read             2.69796    0.61928   4.357 1.32e-05 ***\n",
       "math             5.91460    0.70539   8.385  < 2e-16 ***\n",
       "proggeneral    -12.71458   12.40857  -1.025 0.305523    \n",
       "progvocational -46.14327   13.70667  -3.366 0.000761 ***\n",
       "---\n",
       "Signif. codes:  0 '***' 0.001 '**' 0.01 '*' 0.05 '.' 0.1 ' ' 1\n",
       "\n",
       "Names of linear predictors: mu, loglink(sd)\n",
       "\n",
       "Log-likelihood: -1041.063 on 394 degrees of freedom\n",
       "\n",
       "Number of Fisher scoring iterations: 5 \n",
       "\n",
       "No Hauck-Donner effect found in any of the estimates\n"
      ]
     },
     "metadata": {},
     "output_type": "display_data"
    }
   ],
   "source": [
    "summary(m <- vglm(apt ~ read + math + prog, tobit(Upper = 800), data = dat))"
   ]
  },
  {
   "cell_type": "raw",
   "metadata": {},
   "source": [
    "•In the output above, the first thing we see is the call, this is R reminding us what the model we ran was, what options we specified, etc.\n",
    "\n",
    "•The table labeled coefficients gives the coefficients, their standard errors, and the z-statistic. No p-values are included in the summary table, but we show how to calculate them below. Tobit regression coefficients are interpreted in the similar manner to OLS regression coefficients; however, the linear effect is on the uncensored latent variable, not the observed outcome. See McDonald and Moffitt (1980) for more details. ◦For a one unit increase in read, there is a 2.6981 point increase in the predicted value of apt.\n",
    "\n",
    "◦A one unit increase in math is associated with a 5.9146 unit increase in the predicted value of apt.\n",
    "◦The terms for prog have a slightly different interpretation. The predicted value of apt is -46.1419 points lower for students in a vocational program than for students in an academic program.\n",
    "◦The coefficient labeled \"(Intercept):1\" is the intercept or constant for the model.\n",
    "◦The coefficient labeled \"(Intercept):2\" is an ancillary statistic. If we exponentiate this value, we get a statistic that is analogous to the square root of the residual variance in OLS regression. The value of 65.6773 can compared to the standard deviation of academic aptitude which was 99.21, a substantial reduction.\n",
    "\n",
    "•The final log likelihood, -1041.0629, is shown toward the bottom of the output, it can be used in comparisons of nested models."
   ]
  },
  {
   "cell_type": "raw",
   "metadata": {},
   "source": [
    "Below we calculate the p-values for each of the coefficients in the model. We calculate the p-value for each coefficient using the z values and then display in a table with the coefficients. The coefficients for read, math, and prog = 3 (vocational) are statistically significant."
   ]
  },
  {
   "cell_type": "code",
   "execution_count": 10,
   "metadata": {},
   "outputs": [
    {
     "data": {
      "text/html": [
       "<table>\n",
       "<thead><tr><th></th><th scope=col>Estimate</th><th scope=col>Std. Error</th><th scope=col>z value</th><th scope=col>Pr(&gt;|z|)</th><th scope=col>pvals</th></tr></thead>\n",
       "<tbody>\n",
       "\t<tr><th scope=row>(Intercept):1</th><td>209.559557   </td><td>32.54589921  </td><td> 6.438893    </td><td>1.203481e-10 </td><td> 3.505839e-10</td></tr>\n",
       "\t<tr><th scope=row>(Intercept):2</th><td>  4.184759   </td><td> 0.05234618  </td><td>79.943922    </td><td>0.000000e+00 </td><td>1.299833e-245</td></tr>\n",
       "\t<tr><th scope=row>read</th><td>  2.697959   </td><td> 0.61927743  </td><td> 4.356625    </td><td>1.320835e-05 </td><td> 1.686815e-05</td></tr>\n",
       "\t<tr><th scope=row>math</th><td>  5.914596   </td><td> 0.70538721  </td><td> 8.384892    </td><td>5.077232e-17 </td><td> 9.122434e-16</td></tr>\n",
       "\t<tr><th scope=row>proggeneral</th><td>-12.714581   </td><td>12.40856959  </td><td>-1.024661    </td><td>3.055230e-01 </td><td> 3.061517e-01</td></tr>\n",
       "\t<tr><th scope=row>progvocational</th><td>-46.143271   </td><td>13.70667208  </td><td>-3.366482    </td><td>7.613343e-04 </td><td> 8.361912e-04</td></tr>\n",
       "</tbody>\n",
       "</table>\n"
      ],
      "text/latex": [
       "\\begin{tabular}{r|lllll}\n",
       "  & Estimate & Std. Error & z value & Pr(>\\textbar{}z\\textbar{}) & pvals\\\\\n",
       "\\hline\n",
       "\t(Intercept):1 & 209.559557    & 32.54589921   &  6.438893     & 1.203481e-10  &  3.505839e-10\\\\\n",
       "\t(Intercept):2 &   4.184759    &  0.05234618   & 79.943922     & 0.000000e+00  & 1.299833e-245\\\\\n",
       "\tread &   2.697959    &  0.61927743   &  4.356625     & 1.320835e-05  &  1.686815e-05\\\\\n",
       "\tmath &   5.914596    &  0.70538721   &  8.384892     & 5.077232e-17  &  9.122434e-16\\\\\n",
       "\tproggeneral & -12.714581    & 12.40856959   & -1.024661     & 3.055230e-01  &  3.061517e-01\\\\\n",
       "\tprogvocational & -46.143271    & 13.70667208   & -3.366482     & 7.613343e-04  &  8.361912e-04\\\\\n",
       "\\end{tabular}\n"
      ],
      "text/markdown": [
       "\n",
       "| <!--/--> | Estimate | Std. Error | z value | Pr(>|z|) | pvals |\n",
       "|---|---|---|---|---|---|\n",
       "| (Intercept):1 | 209.559557    | 32.54589921   |  6.438893     | 1.203481e-10  |  3.505839e-10 |\n",
       "| (Intercept):2 |   4.184759    |  0.05234618   | 79.943922     | 0.000000e+00  | 1.299833e-245 |\n",
       "| read |   2.697959    |  0.61927743   |  4.356625     | 1.320835e-05  |  1.686815e-05 |\n",
       "| math |   5.914596    |  0.70538721   |  8.384892     | 5.077232e-17  |  9.122434e-16 |\n",
       "| proggeneral | -12.714581    | 12.40856959   | -1.024661     | 3.055230e-01  |  3.061517e-01 |\n",
       "| progvocational | -46.143271    | 13.70667208   | -3.366482     | 7.613343e-04  |  8.361912e-04 |\n",
       "\n"
      ],
      "text/plain": [
       "               Estimate   Std. Error  z value   Pr(>|z|)     pvals        \n",
       "(Intercept):1  209.559557 32.54589921  6.438893 1.203481e-10  3.505839e-10\n",
       "(Intercept):2    4.184759  0.05234618 79.943922 0.000000e+00 1.299833e-245\n",
       "read             2.697959  0.61927743  4.356625 1.320835e-05  1.686815e-05\n",
       "math             5.914596  0.70538721  8.384892 5.077232e-17  9.122434e-16\n",
       "proggeneral    -12.714581 12.40856959 -1.024661 3.055230e-01  3.061517e-01\n",
       "progvocational -46.143271 13.70667208 -3.366482 7.613343e-04  8.361912e-04"
      ]
     },
     "metadata": {},
     "output_type": "display_data"
    }
   ],
   "source": [
    "ctable <- coef(summary(m))\n",
    "pvals <- 2 * pt(abs(ctable[, \"z value\"]), df.residual(m), lower.tail = FALSE)\n",
    "cbind(ctable, pvals)"
   ]
  },
  {
   "cell_type": "raw",
   "metadata": {},
   "source": [
    "We can test the significant of program type overall by fitting a model without program in it and using a likelihood ratio test."
   ]
  },
  {
   "cell_type": "code",
   "execution_count": 11,
   "metadata": {},
   "outputs": [
    {
     "data": {
      "text/html": [
       "0.00315517616999276"
      ],
      "text/latex": [
       "0.00315517616999276"
      ],
      "text/markdown": [
       "0.00315517616999276"
      ],
      "text/plain": [
       "[1] 0.003155176"
      ]
     },
     "metadata": {},
     "output_type": "display_data"
    }
   ],
   "source": [
    "m2 <- vglm(apt ~ read + math, tobit(Upper = 800), data = dat)\n",
    "(p <- pchisq(2 * (logLik(m) - logLik(m2)), df = 2, lower.tail = FALSE))"
   ]
  },
  {
   "cell_type": "raw",
   "metadata": {},
   "source": [
    "The LRT with two degrees of freedom is associated with a p-value of 0.0032, indicating that the overall effect of prog is statistically significant."
   ]
  },
  {
   "cell_type": "raw",
   "metadata": {},
   "source": [
    "Below we calculate the upper and lower 95% confidence intervals for the coefficients."
   ]
  },
  {
   "cell_type": "code",
   "execution_count": 12,
   "metadata": {},
   "outputs": [
    {
     "data": {
      "text/html": [
       "<table>\n",
       "<thead><tr><th></th><th scope=col>LL</th><th scope=col>UL</th></tr></thead>\n",
       "<tbody>\n",
       "\t<tr><th scope=row>(Intercept):1</th><td>145.770767</td><td>273.348348</td></tr>\n",
       "\t<tr><th scope=row>(Intercept):2</th><td>  4.082163</td><td>  4.287356</td></tr>\n",
       "\t<tr><th scope=row>read</th><td>  1.484198</td><td>  3.911721</td></tr>\n",
       "\t<tr><th scope=row>math</th><td>  4.532062</td><td>  7.297129</td></tr>\n",
       "\t<tr><th scope=row>proggeneral</th><td>-37.034931</td><td> 11.605768</td></tr>\n",
       "\t<tr><th scope=row>progvocational</th><td>-73.007854</td><td>-19.278687</td></tr>\n",
       "</tbody>\n",
       "</table>\n"
      ],
      "text/latex": [
       "\\begin{tabular}{r|ll}\n",
       "  & LL & UL\\\\\n",
       "\\hline\n",
       "\t(Intercept):1 & 145.770767 & 273.348348\\\\\n",
       "\t(Intercept):2 &   4.082163 &   4.287356\\\\\n",
       "\tread &   1.484198 &   3.911721\\\\\n",
       "\tmath &   4.532062 &   7.297129\\\\\n",
       "\tproggeneral & -37.034931 &  11.605768\\\\\n",
       "\tprogvocational & -73.007854 & -19.278687\\\\\n",
       "\\end{tabular}\n"
      ],
      "text/markdown": [
       "\n",
       "| <!--/--> | LL | UL |\n",
       "|---|---|---|\n",
       "| (Intercept):1 | 145.770767 | 273.348348 |\n",
       "| (Intercept):2 |   4.082163 |   4.287356 |\n",
       "| read |   1.484198 |   3.911721 |\n",
       "| math |   4.532062 |   7.297129 |\n",
       "| proggeneral | -37.034931 |  11.605768 |\n",
       "| progvocational | -73.007854 | -19.278687 |\n",
       "\n"
      ],
      "text/plain": [
       "               LL         UL        \n",
       "(Intercept):1  145.770767 273.348348\n",
       "(Intercept):2    4.082163   4.287356\n",
       "read             1.484198   3.911721\n",
       "math             4.532062   7.297129\n",
       "proggeneral    -37.034931  11.605768\n",
       "progvocational -73.007854 -19.278687"
      ]
     },
     "metadata": {},
     "output_type": "display_data"
    }
   ],
   "source": [
    "b <- coef(m)\n",
    "se <- sqrt(diag(vcov(m)))\n",
    "cbind(LL = b - qnorm(0.975) * se, UL = b + qnorm(0.975) * se)"
   ]
  },
  {
   "cell_type": "raw",
   "metadata": {},
   "source": [
    "We may also wish to examine how well our model fits the data. One way to start is with plots of the residuals to assess their absolute as well as relative (pearson) values and assumptions such as normality and homogeneity of variance."
   ]
  },
  {
   "cell_type": "code",
   "execution_count": 13,
   "metadata": {},
   "outputs": [
    {
     "data": {
      "image/png": "[encoded data removed]",
      "text/plain": [
       "Plot with title \"Actual vs Fitted\""
      ]
     },
     "metadata": {},
     "output_type": "display_data"
    }
   ],
   "source": [
    "dat$yhat <- fitted(m)[,1]\n",
    "dat$rr <- resid(m, type = \"response\")\n",
    "dat$rp <- resid(m, type = \"pearson\")[,1]\n",
    "\n",
    "par(mfcol = c(2, 3))\n",
    "\n",
    "with(dat, {\n",
    "    plot(yhat, rr, main = \"Fitted vs Residuals\")\n",
    "    qqnorm(rr)\n",
    "    plot(yhat, rp, main = \"Fitted vs Pearson Residuals\")\n",
    "    qqnorm(rp)\n",
    "    plot(apt, rp, main = \"Actual vs Pearson Residuals\")\n",
    "    plot(apt, yhat, main = \"Actual vs Fitted\")  })"
   ]
  },
  {
   "cell_type": "raw",
   "metadata": {},
   "source": [
    "The graph in the bottom right was the predicted, or fitted, values plotted against the actual. This can be particularly useful when comparing competing models. We can calculate the correlation between these two as well as the squared correlation, to get a sense of how accurate our model predicts the data and how much of the variance in the outcome is accounted for by the model."
   ]
  },
  {
   "cell_type": "code",
   "execution_count": 14,
   "metadata": {},
   "outputs": [
    {
     "data": {
      "text/html": [
       "0.782470835851908"
      ],
      "text/latex": [
       "0.782470835851908"
      ],
      "text/markdown": [
       "0.782470835851908"
      ],
      "text/plain": [
       "[1] 0.7824708"
      ]
     },
     "metadata": {},
     "output_type": "display_data"
    }
   ],
   "source": [
    "# correlation\n",
    "(r <- with(dat, cor(yhat, apt)))"
   ]
  },
  {
   "cell_type": "code",
   "execution_count": 15,
   "metadata": {},
   "outputs": [
    {
     "data": {
      "text/html": [
       "0.612260608958783"
      ],
      "text/latex": [
       "0.612260608958783"
      ],
      "text/markdown": [
       "0.612260608958783"
      ],
      "text/plain": [
       "[1] 0.6122606"
      ]
     },
     "metadata": {},
     "output_type": "display_data"
    }
   ],
   "source": [
    "# variance accounted for\n",
    "r^2"
   ]
  },
  {
   "cell_type": "raw",
   "metadata": {},
   "source": [
    "The correlation between the predicted and observed values of apt is 0.7825. If we square this value, we get the multiple squared correlation, this indicates predicted values share 61.23% of their variance with apt."
   ]
  }
 ],
 "metadata": {
  "kernelspec": {
   "display_name": "R",
   "language": "R",
   "name": "ir"
  },
  "language_info": {
   "codemirror_mode": "r",
   "file_extension": ".r",
   "mimetype": "text/x-r-source",
   "name": "R",
   "pygments_lexer": "r",
   "version": "3.6.1"
  }
 },
 "nbformat": 4,
 "nbformat_minor": 2
}
