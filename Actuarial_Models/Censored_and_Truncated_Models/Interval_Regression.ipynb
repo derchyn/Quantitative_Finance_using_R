{
 "cells": [
  {
   "cell_type": "raw",
   "metadata": {},
   "source": [
    "Interval regression is used to model outcomes that have interval censoring. In other words, you know the ordered category into which each observation falls, but you do not know the exact value of the observation. Interval regression is a generalization of censored regression."
   ]
  },
  {
   "cell_type": "raw",
   "metadata": {},
   "source": [
    "This page uses the following packages. Make sure that you can load them before trying to run the examples on this page. If you do not have a package installed, run: install.packages(\"packagename\"), or if you see the version is out of date, run: update.packages()."
   ]
  },
  {
   "cell_type": "code",
   "execution_count": 1,
   "metadata": {},
   "outputs": [
    {
     "name": "stderr",
     "output_type": "stream",
     "text": [
      "Registered S3 method overwritten by 'GGally':\n",
      "  method from   \n",
      "  +.gg   ggplot2\n"
     ]
    }
   ],
   "source": [
    "library(foreign)\n",
    "library(ggplot2)\n",
    "library(GGally)\n",
    "library(survival)\n",
    "library(rgl)"
   ]
  },
  {
   "cell_type": "markdown",
   "metadata": {},
   "source": [
    "### Examples of interval regression"
   ]
  },
  {
   "cell_type": "raw",
   "metadata": {},
   "source": [
    "Example 1. We wish to model annual income using years of education and marital status. However, we do not have access to the precise values for income. Rather, we only have data on the income ranges:< $15,000, $15,000-$25,000, $25,000-$50,000, $50,000-$75,000, $75,000-$100,000, and > $100,000. Note that the extreme values of the categories on either end of the range are either left-censored or right-censored. The other categories are interval censored, that is, each interval is both left- and right-censored. Analyses of this type require a generalization of censored regression known as interval regression."
   ]
  },
  {
   "cell_type": "raw",
   "metadata": {},
   "source": [
    "Example 2. We wish to predict GPA from teacher ratings of effort and from reading and writing test scores. The measure of GPA is a self-report response to the following item:\n",
    "\n",
    "Select the category that best represents your overall GPA.\n",
    "  less than 2.0\n",
    "  2.0 to 2.5\n",
    "  2.5 to 3.0\n",
    "  3.0 to 3.4\n",
    "  3.4 to 3.8\n",
    "  3.8 to 3.9\n",
    "  4.0 or greater\n",
    "\n",
    "Again, we have a situation with both interval censoring and left- and right-censoring. We do not know the exact value of GPA for each student; we only know the interval in which their GPA falls."
   ]
  },
  {
   "cell_type": "raw",
   "metadata": {},
   "source": [
    "Example 3. We wish to predict GPA from teacher ratings of effort, writing test scores and the type of program in which the student was enrolled (vocational, general or academic). The measure of GPA is a self-report response to the following item:\n",
    "\n",
    "Select the category that best represents your overall GPA.\n",
    "  0.0 to 2.0\n",
    "  2.0 to 2.5\n",
    "  2.5 to 3.0\n",
    "  3.0 to 3.4\n",
    "  3.4 to 3.8\n",
    "  3.8 to 4.0\n",
    "\n",
    "This is a slight variation of Example 2. In this example, there is only interval censoring."
   ]
  },
  {
   "cell_type": "markdown",
   "metadata": {},
   "source": [
    "### Description of the data"
   ]
  },
  {
   "cell_type": "raw",
   "metadata": {},
   "source": [
    "Let's pursue Example 3 from above. We have a hypothetical data file, intreg_data.dta with 30 observations. The GPA score is represented by two values, the lower interval score (lgpa) and the upper interval score (ugpa). The writing test scores, the teacher rating and the type of program (a nominal variable which has three levels) are write, rating and type, respectively. Let's look at the data. It is always a good idea to start with descriptive statistics."
   ]
  },
  {
   "cell_type": "code",
   "execution_count": 2,
   "metadata": {},
   "outputs": [],
   "source": [
    "dat <- read.dta(\"./datasets/intreg_data.dta\")"
   ]
  },
  {
   "cell_type": "code",
   "execution_count": 3,
   "metadata": {},
   "outputs": [
    {
     "data": {
      "text/plain": [
       "       id             lgpa          ugpa           write           rating     \n",
       " Min.   : 1.00   Min.   :0.0   Min.   :2.000   Min.   : 50.0   Min.   :48.00  \n",
       " 1st Qu.: 8.25   1st Qu.:2.0   1st Qu.:2.500   1st Qu.: 70.0   1st Qu.:51.62  \n",
       " Median :15.50   Median :2.5   Median :3.000   Median :105.0   Median :54.00  \n",
       " Mean   :15.50   Mean   :2.6   Mean   :3.097   Mean   :113.8   Mean   :57.53  \n",
       " 3rd Qu.:22.75   3rd Qu.:3.3   3rd Qu.:3.700   3rd Qu.:153.8   3rd Qu.:66.25  \n",
       " Max.   :30.00   Max.   :3.8   Max.   :4.000   Max.   :205.0   Max.   :72.00  \n",
       "         type   \n",
       " vocational: 8  \n",
       " general   :10  \n",
       " academic  :12  \n",
       "                \n",
       "                \n",
       "                "
      ]
     },
     "metadata": {},
     "output_type": "display_data"
    }
   ],
   "source": [
    "# summary of the variables\n",
    "summary(dat)"
   ]
  },
  {
   "cell_type": "code",
   "execution_count": 4,
   "metadata": {},
   "outputs": [
    {
     "data": {
      "image/png": "[encoded data removed]",
      "text/plain": [
       "plot without title"
      ]
     },
     "metadata": {},
     "output_type": "display_data"
    }
   ],
   "source": [
    "# bivariate plots\n",
    "ggpairs(dat[, -1], lower = list(combo = \"box\"), upper = list(combo = \"blank\"))"
   ]
  },
  {
   "cell_type": "raw",
   "metadata": {},
   "source": [
    "Note that there are two GPA responses for each observation, lgpa for the lower end of the interval and ugpa for the upper end. We can compare the means of the variables by each type of program using by."
   ]
  },
  {
   "cell_type": "code",
   "execution_count": 5,
   "metadata": {},
   "outputs": [
    {
     "data": {
      "text/plain": [
       "dat$type: vocational\n",
       "   lgpa    ugpa   write  rating \n",
       " 1.7500  2.4375 71.8750 52.5000 \n",
       "------------------------------------------------------------ \n",
       "dat$type: general\n",
       "  lgpa   ugpa  write rating \n",
       "  2.78   3.24 148.00  56.80 \n",
       "------------------------------------------------------------ \n",
       "dat$type: academic\n",
       "      lgpa       ugpa      write     rating \n",
       "  3.016667   3.416667 113.333333  61.500000 "
      ]
     },
     "metadata": {},
     "output_type": "display_data"
    }
   ],
   "source": [
    "by(dat[, 2:5], dat$type, colMeans, na.rm = TRUE)"
   ]
  },
  {
   "cell_type": "markdown",
   "metadata": {},
   "source": [
    "### Analysis methods you might consider"
   ]
  },
  {
   "cell_type": "raw",
   "metadata": {},
   "source": [
    "Below is a list of some analysis methods you may have encountered. Some of the methods listed are quite reasonable, while others have either fallen out of favor or have limitations.\n",
    "\n",
    "•Interval regression - This method is appropriate when you know into what interval each observation of the outcome variable falls, but you do not know the exact value of the observation.\n",
    "\n",
    "•Ordered probit - It is possible to conceptualize this model as an ordered probit regression with six ordered categories: 0 (0.0-2.0), 1 (2.0-2.5), 2 (2.5-3.0), 3 (3.0-3.4), 4 (3.4-3.8), and 5 (3.8-4.0).\n",
    "\n",
    "•Ordinal logistic regression - The results would be very similar in terms of which predictors are significant; however, the predicted values would be in terms of probabilities of membership in each of the categories. It would be necessary that the data meet the proportional odds assumption which, in fact, these data do not meet when converted into ordinal categories. \n",
    "\n",
    "•OLS regression - You could analyze these data using OLS regression on the midpoints of the intervals. However, that analysis would not reflect our uncertainty concerning the nature of the exact values within each interval, nor would it deal adequately with the left- and right-censoring issues in the tails."
   ]
  },
  {
   "cell_type": "markdown",
   "metadata": {},
   "source": [
    "### Interval regression"
   ]
  },
  {
   "cell_type": "raw",
   "metadata": {},
   "source": [
    "We will use the survival package to run the interval regression. First we setup a survival object that contains the censored intervals using the Surv function. Note the special event status code, 3, used for all observations indicating that all had interval censoring. Then we estimate the model using the survreg function."
   ]
  },
  {
   "cell_type": "code",
   "execution_count": 6,
   "metadata": {},
   "outputs": [
    {
     "data": {
      "text/plain": [
       " [1] [2.5, 3.0] [3.4, 3.8] [2.5, 3.0] [0.0, 2.0] [3.0, 3.4] [3.4, 3.8]\n",
       " [7] [3.8, 4.0] [2.0, 2.5] [3.0, 3.4] [3.4, 3.8] [2.0, 2.5] [2.0, 2.5]\n",
       "[13] [2.0, 2.5] [2.5, 3.0] [2.5, 3.0] [2.5, 3.0] [3.4, 3.8] [2.5, 3.0]\n",
       "[19] [2.0, 2.5] [3.0, 3.4] [3.4, 3.8] [3.8, 4.0] [2.0, 2.5] [3.0, 3.4]\n",
       "[25] [3.4, 3.8] [2.0, 2.5] [2.0, 2.5] [2.0, 2.5] [2.5, 3.0] [2.5, 3.0]"
      ]
     },
     "metadata": {},
     "output_type": "display_data"
    }
   ],
   "source": [
    "# setup the survival object with interval censoring\n",
    "(Y <- with(dat, Surv(lgpa, ugpa, event = rep(3, nrow(dat)), type = \"interval\")))"
   ]
  },
  {
   "cell_type": "code",
   "execution_count": 7,
   "metadata": {},
   "outputs": [
    {
     "data": {
      "text/plain": [
       "\n",
       "Call:\n",
       "survreg(formula = Y ~ write + rating + type, data = dat, dist = \"gaussian\")\n",
       "                Value Std. Error     z       p\n",
       "(Intercept)   1.10386    0.44529  2.48  0.0132\n",
       "write         0.00528    0.00169  3.12  0.0018\n",
       "rating        0.01331    0.00912  1.46  0.1443\n",
       "typegeneral   0.37485    0.19275  1.94  0.0518\n",
       "typeacademic  0.70975    0.16684  4.25 2.1e-05\n",
       "Log(scale)   -1.23726    0.15964 -7.75 9.2e-15\n",
       "\n",
       "Scale= 0.29 \n",
       "\n",
       "Gaussian distribution\n",
       "Loglik(model)= -33.1   Loglik(intercept only)= -51.7\n",
       "\tChisq= 37.24 on 4 degrees of freedom, p= 1.6e-07 \n",
       "Number of Newton-Raphson Iterations: 5 \n",
       "n= 30 \n"
      ]
     },
     "metadata": {},
     "output_type": "display_data"
    }
   ],
   "source": [
    "m <- survreg(Y ~ write + rating + type, data = dat, dist = \"gaussian\")\n",
    "summary(m)"
   ]
  },
  {
   "cell_type": "raw",
   "metadata": {},
   "source": [
    "•At the top, the call that careated the model is echoed, followed by the table of coefficients containing the interval regression coefficients, their standard errors, z-values, and p-values. The coefficients for write and academic are statistically significant; the coefficient for rating and general are not (at the .05 level of significance).\n",
    "\n",
    "•At the end, it indicates the distribution assumed, here Gaussian, followed by the log likelihood of the model and an intercept only model, as well as a likelihood ratio chi square test of the overall model. The test on four degrees of freedom is statistically significant indicating the overall model is significant. \n",
    "\n",
    "•The variable write is statistically significant. A one unit increase in writing score leads to a .005 increase in predicted GPA. One of the indicator variables for type, academic, is also statistically significant. Compared to vocational programs, the predicted achievement for academic programs is about .71 higher. To determine if type itself is statistically significant, we can examine an analysis of deviance table, which is shown below.\n",
    "\n",
    "•The ancillary statistic Scale (and Log(scale), the natural logarithm of Scale) is equivalent to the standard error of the estimate in OLS regression. The value of 0.29 can be compared to the standard deviations for lgpa and ugpa of 0.78 and 0.57, respectively. This shows a substantial reduction. The output also contains an estimate of the standard error of the Log(scale)."
   ]
  },
  {
   "cell_type": "raw",
   "metadata": {},
   "source": [
    "We can get a test of the overall effect of type by examining an analysis of deviance table, which reports the sequential deviances (-2*LL) adding one term at a time."
   ]
  },
  {
   "cell_type": "code",
   "execution_count": 8,
   "metadata": {},
   "outputs": [
    {
     "data": {
      "text/html": [
       "<table>\n",
       "<thead><tr><th></th><th scope=col>Df</th><th scope=col>Deviance</th><th scope=col>Resid. Df</th><th scope=col>-2*LL</th><th scope=col>Pr(&gt;Chi)</th></tr></thead>\n",
       "<tbody>\n",
       "\t<tr><th scope=row>NULL</th><td>NA          </td><td>      NA    </td><td>28          </td><td>103.49458   </td><td>          NA</td></tr>\n",
       "\t<tr><th scope=row>write</th><td> 1          </td><td>16.68911    </td><td>27          </td><td> 86.80546   </td><td>0.0000440330</td></tr>\n",
       "\t<tr><th scope=row>rating</th><td> 1          </td><td> 6.09718    </td><td>26          </td><td> 80.70828   </td><td>0.0135397767</td></tr>\n",
       "\t<tr><th scope=row>type</th><td> 2          </td><td>14.45047    </td><td>24          </td><td> 66.25781   </td><td>0.0007279805</td></tr>\n",
       "</tbody>\n",
       "</table>\n"
      ],
      "text/latex": [
       "\\begin{tabular}{r|lllll}\n",
       "  & Df & Deviance & Resid. Df & -2*LL & Pr(>Chi)\\\\\n",
       "\\hline\n",
       "\tNULL & NA           &       NA     & 28           & 103.49458    &           NA\\\\\n",
       "\twrite &  1           & 16.68911     & 27           &  86.80546    & 0.0000440330\\\\\n",
       "\trating &  1           &  6.09718     & 26           &  80.70828    & 0.0135397767\\\\\n",
       "\ttype &  2           & 14.45047     & 24           &  66.25781    & 0.0007279805\\\\\n",
       "\\end{tabular}\n"
      ],
      "text/markdown": [
       "\n",
       "| <!--/--> | Df | Deviance | Resid. Df | -2*LL | Pr(>Chi) |\n",
       "|---|---|---|---|---|---|\n",
       "| NULL | NA           |       NA     | 28           | 103.49458    |           NA |\n",
       "| write |  1           | 16.68911     | 27           |  86.80546    | 0.0000440330 |\n",
       "| rating |  1           |  6.09718     | 26           |  80.70828    | 0.0135397767 |\n",
       "| type |  2           | 14.45047     | 24           |  66.25781    | 0.0007279805 |\n",
       "\n"
      ],
      "text/plain": [
       "       Df Deviance Resid. Df -2*LL     Pr(>Chi)    \n",
       "NULL   NA       NA 28        103.49458           NA\n",
       "write   1 16.68911 27         86.80546 0.0000440330\n",
       "rating  1  6.09718 26         80.70828 0.0135397767\n",
       "type    2 14.45047 24         66.25781 0.0007279805"
      ]
     },
     "metadata": {},
     "output_type": "display_data"
    }
   ],
   "source": [
    "# analysis of deviance table\n",
    "anova(m)"
   ]
  },
  {
   "cell_type": "raw",
   "metadata": {},
   "source": [
    "The two degree of freedom test for type indicates that it is statistically significant."
   ]
  },
  {
   "cell_type": "raw",
   "metadata": {},
   "source": [
    "Now let's make a 3d plot of the data and the predicted regression planes. We will put the two continuous predictors on the X and Y axis, and the outcome on the Z axis. Then we will use different colours to code the program type. To do this, we will use the rgl package. Finally because it is difficult to see a 3d image in two dimensions, let's make it an animated image so we can see it from different angles. For the final part, the free software, ImageMagick is used by the rgl package behind the scenes."
   ]
  },
  {
   "cell_type": "code",
   "execution_count": 9,
   "metadata": {},
   "outputs": [
    {
     "data": {
      "text/html": [
       "<strong>wgl:</strong> 1"
      ],
      "text/latex": [
       "\\textbf{wgl:} 1"
      ],
      "text/markdown": [
       "**wgl:** 1"
      ],
      "text/plain": [
       "wgl \n",
       "  1 "
      ]
     },
     "metadata": {},
     "output_type": "display_data"
    }
   ],
   "source": [
    "# for the regression surface\n",
    "f <- function(x, y, type = \"vocational\") {\n",
    "      newdat <- data.frame(write = x, rating = y, type = factor(type, levels = levels(dat$type)))\n",
    "      predict(m, newdata = newdat)  }\n",
    "\n",
    "# Create X, Y, and Z grids\n",
    "X <- with(dat, seq(from = min(write), to = max(write), length.out = 10))\n",
    "Y <- with(dat, seq(from = min(rating), to = max(rating), length.out = 10))\n",
    "Z <- outer(X, Y, f)\n",
    "\n",
    "# Create 3d scatter plot and add the regression surface\n",
    "open3d(windowRect = c(100, 100, 700, 700))"
   ]
  },
  {
   "cell_type": "code",
   "execution_count": 10,
   "metadata": {},
   "outputs": [],
   "source": [
    "with(dat, plot3d(x = write, y = rating, z = ugpa, xlab = \"write\", ylab = \"rating\", \n",
    "     zlab = \"ugpa\", xlim = range(write), ylim = range(rating), zlim = range(ugpa)))\n",
    "par3d(ignoreExtent = TRUE)\n",
    "\n",
    "# add regression surface for each type of program in a different colour\n",
    "# with 50 percent transparency (alpha = .5)\n",
    "surface3d(X, Y, outer(X, Y, f, type = \"vocational\"), col = \"blue\", alpha = 0.5)\n",
    "surface3d(X, Y, outer(X, Y, f, type = \"general\"), col = \"red\", alpha = 0.5)\n",
    "surface3d(X, Y, outer(X, Y, f, type = \"academic\"), col = \"green\", alpha = 0.5)\n",
    "\n",
    "# create an animated movie movie3d(spin3d(axis=c(.5,.5,.5), rpm=5), duration=6, dir = 'intreg_fig')"
   ]
  },
  {
   "cell_type": "raw",
   "metadata": {},
   "source": [
    "It is not a true R2, but we can get a rough idea by computing the correlation between the expected values from the model and the lower and upper bounds of gpa, lgpa and ugpa. Then the squared correlation is something like an R2."
   ]
  },
  {
   "cell_type": "code",
   "execution_count": 11,
   "metadata": {},
   "outputs": [
    {
     "data": {
      "text/html": [
       "<table>\n",
       "<thead><tr><th></th><th scope=col>yhat</th><th scope=col>lgpa</th><th scope=col>ugpa</th></tr></thead>\n",
       "<tbody>\n",
       "\t<tr><th scope=row>yhat</th><td>1.0000000</td><td>0.7945804</td><td>0.8430154</td></tr>\n",
       "\t<tr><th scope=row>lgpa</th><td>0.7945804</td><td>1.0000000</td><td>0.9487806</td></tr>\n",
       "\t<tr><th scope=row>ugpa</th><td>0.8430154</td><td>0.9487806</td><td>1.0000000</td></tr>\n",
       "</tbody>\n",
       "</table>\n"
      ],
      "text/latex": [
       "\\begin{tabular}{r|lll}\n",
       "  & yhat & lgpa & ugpa\\\\\n",
       "\\hline\n",
       "\tyhat & 1.0000000 & 0.7945804 & 0.8430154\\\\\n",
       "\tlgpa & 0.7945804 & 1.0000000 & 0.9487806\\\\\n",
       "\tugpa & 0.8430154 & 0.9487806 & 1.0000000\\\\\n",
       "\\end{tabular}\n"
      ],
      "text/markdown": [
       "\n",
       "| <!--/--> | yhat | lgpa | ugpa |\n",
       "|---|---|---|---|\n",
       "| yhat | 1.0000000 | 0.7945804 | 0.8430154 |\n",
       "| lgpa | 0.7945804 | 1.0000000 | 0.9487806 |\n",
       "| ugpa | 0.8430154 | 0.9487806 | 1.0000000 |\n",
       "\n"
      ],
      "text/plain": [
       "     yhat      lgpa      ugpa     \n",
       "yhat 1.0000000 0.7945804 0.8430154\n",
       "lgpa 0.7945804 1.0000000 0.9487806\n",
       "ugpa 0.8430154 0.9487806 1.0000000"
      ]
     },
     "metadata": {},
     "output_type": "display_data"
    }
   ],
   "source": [
    "(r <- with(dat, cor(cbind(yhat = predict(m), lgpa, ugpa))))"
   ]
  },
  {
   "cell_type": "code",
   "execution_count": 12,
   "metadata": {},
   "outputs": [
    {
     "data": {
      "text/html": [
       "<table>\n",
       "<thead><tr><th></th><th scope=col>yhat</th><th scope=col>lgpa</th><th scope=col>ugpa</th></tr></thead>\n",
       "<tbody>\n",
       "\t<tr><th scope=row>yhat</th><td>1.0000000</td><td>0.6313580</td><td>0.7106749</td></tr>\n",
       "\t<tr><th scope=row>lgpa</th><td>0.6313580</td><td>1.0000000</td><td>0.9001847</td></tr>\n",
       "\t<tr><th scope=row>ugpa</th><td>0.7106749</td><td>0.9001847</td><td>1.0000000</td></tr>\n",
       "</tbody>\n",
       "</table>\n"
      ],
      "text/latex": [
       "\\begin{tabular}{r|lll}\n",
       "  & yhat & lgpa & ugpa\\\\\n",
       "\\hline\n",
       "\tyhat & 1.0000000 & 0.6313580 & 0.7106749\\\\\n",
       "\tlgpa & 0.6313580 & 1.0000000 & 0.9001847\\\\\n",
       "\tugpa & 0.7106749 & 0.9001847 & 1.0000000\\\\\n",
       "\\end{tabular}\n"
      ],
      "text/markdown": [
       "\n",
       "| <!--/--> | yhat | lgpa | ugpa |\n",
       "|---|---|---|---|\n",
       "| yhat | 1.0000000 | 0.6313580 | 0.7106749 |\n",
       "| lgpa | 0.6313580 | 1.0000000 | 0.9001847 |\n",
       "| ugpa | 0.7106749 | 0.9001847 | 1.0000000 |\n",
       "\n"
      ],
      "text/plain": [
       "     yhat      lgpa      ugpa     \n",
       "yhat 1.0000000 0.6313580 0.7106749\n",
       "lgpa 0.6313580 1.0000000 0.9001847\n",
       "ugpa 0.7106749 0.9001847 1.0000000"
      ]
     },
     "metadata": {},
     "output_type": "display_data"
    }
   ],
   "source": [
    "# pseudo R2\n",
    "r^2"
   ]
  }
 ],
 "metadata": {
  "kernelspec": {
   "display_name": "R",
   "language": "R",
   "name": "ir"
  },
  "language_info": {
   "codemirror_mode": "r",
   "file_extension": ".r",
   "mimetype": "text/x-r-source",
   "name": "R",
   "pygments_lexer": "r",
   "version": "3.6.1"
  }
 },
 "nbformat": 4,
 "nbformat_minor": 2
}
