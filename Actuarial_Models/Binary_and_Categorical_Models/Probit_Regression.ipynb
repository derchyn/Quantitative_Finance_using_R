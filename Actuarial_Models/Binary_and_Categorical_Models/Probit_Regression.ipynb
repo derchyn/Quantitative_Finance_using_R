{
 "cells": [
  {
   "cell_type": "raw",
   "metadata": {},
   "source": [
    "Probit regression, also called a probit model, is used to model dichotomous or binary outcome variables. In the probit model, the inverse standard normal distribution of the probability is modeled as a linear combination of the predictors."
   ]
  },
  {
   "cell_type": "raw",
   "metadata": {},
   "source": [
    "This page uses the following packages. Make sure that you can load them before trying to run the examples on this page. If you do not have a package installed, run: install.packages(\"packagename\"), or if you see the version is out of date, run: update.packages()."
   ]
  },
  {
   "cell_type": "code",
   "execution_count": 1,
   "metadata": {},
   "outputs": [
    {
     "name": "stderr",
     "output_type": "stream",
     "text": [
      "Loading required package: aod\n",
      "Loading required package: ggplot2\n"
     ]
    }
   ],
   "source": [
    "library(aod)\n",
    "library(ggplot2)"
   ]
  },
  {
   "cell_type": "markdown",
   "metadata": {},
   "source": [
    "### Examples"
   ]
  },
  {
   "cell_type": "raw",
   "metadata": {},
   "source": [
    "Example 1: Suppose that we are interested in the factors that influence whether a political candidate wins an election. The outcome (response) variable is binary (0/1); win or lose. The predictor variables of interest are the amount of money spent on the campaign, the amount of time spent campaigning negatively and whether the candidate is an incumbent.\n",
    "\n",
    "Example 2: A researcher is interested in how variables, such as GRE (Graduate Record Exam scores), GPA (grade point average) and prestige of the undergraduate institution, effect admission into graduate school. The response variable, admit/don't admit, is a binary variable."
   ]
  },
  {
   "cell_type": "markdown",
   "metadata": {},
   "source": [
    "### Description of the Data"
   ]
  },
  {
   "cell_type": "raw",
   "metadata": {},
   "source": [
    "For our data analysis below, we are going to expand on Example 2 about getting into graduate school. We have generated hypothetical data, which can be obtained from our website in R. Note that R requires forward slashes (/) not back slashes (\\) when specifying a file location even if the file is on your hard drive."
   ]
  },
  {
   "cell_type": "code",
   "execution_count": 2,
   "metadata": {},
   "outputs": [
    {
     "data": {
      "text/html": [
       "<table>\n",
       "<thead><tr><th scope=col>admit</th><th scope=col>gre</th><th scope=col>gpa</th><th scope=col>rank</th></tr></thead>\n",
       "<tbody>\n",
       "\t<tr><td>0   </td><td>380 </td><td>3.61</td><td>3   </td></tr>\n",
       "\t<tr><td>1   </td><td>660 </td><td>3.67</td><td>3   </td></tr>\n",
       "\t<tr><td>1   </td><td>800 </td><td>4.00</td><td>1   </td></tr>\n",
       "\t<tr><td>1   </td><td>640 </td><td>3.19</td><td>4   </td></tr>\n",
       "\t<tr><td>0   </td><td>520 </td><td>2.93</td><td>4   </td></tr>\n",
       "\t<tr><td>1   </td><td>760 </td><td>3.00</td><td>2   </td></tr>\n",
       "</tbody>\n",
       "</table>\n"
      ],
      "text/latex": [
       "\\begin{tabular}{r|llll}\n",
       " admit & gre & gpa & rank\\\\\n",
       "\\hline\n",
       "\t 0    & 380  & 3.61 & 3   \\\\\n",
       "\t 1    & 660  & 3.67 & 3   \\\\\n",
       "\t 1    & 800  & 4.00 & 1   \\\\\n",
       "\t 1    & 640  & 3.19 & 4   \\\\\n",
       "\t 0    & 520  & 2.93 & 4   \\\\\n",
       "\t 1    & 760  & 3.00 & 2   \\\\\n",
       "\\end{tabular}\n"
      ],
      "text/markdown": [
       "\n",
       "| admit | gre | gpa | rank |\n",
       "|---|---|---|---|\n",
       "| 0    | 380  | 3.61 | 3    |\n",
       "| 1    | 660  | 3.67 | 3    |\n",
       "| 1    | 800  | 4.00 | 1    |\n",
       "| 1    | 640  | 3.19 | 4    |\n",
       "| 0    | 520  | 2.93 | 4    |\n",
       "| 1    | 760  | 3.00 | 2    |\n",
       "\n"
      ],
      "text/plain": [
       "  admit gre gpa  rank\n",
       "1 0     380 3.61 3   \n",
       "2 1     660 3.67 3   \n",
       "3 1     800 4.00 1   \n",
       "4 1     640 3.19 4   \n",
       "5 0     520 2.93 4   \n",
       "6 1     760 3.00 2   "
      ]
     },
     "metadata": {},
     "output_type": "display_data"
    }
   ],
   "source": [
    "mydata <- read.csv(\"./datasets/binary.csv\")\n",
    "\n",
    "## convert rank to a factor (categorical variable)\n",
    "mydata$rank <- factor(mydata$rank)\n",
    "\n",
    "## view first few rows\n",
    "head(mydata)"
   ]
  },
  {
   "cell_type": "raw",
   "metadata": {},
   "source": [
    "This data set has a binary response (outcome, dependent) variable called admit. There are three predictor variables: gre, gpa and rank. We will treat the variables gre and gpa as continuous. The variable rank takes on the values 1 through 4. Institutions with a rank of 1 have the highest prestige, while those with a rank of 4 have the lowest."
   ]
  },
  {
   "cell_type": "code",
   "execution_count": 3,
   "metadata": {},
   "outputs": [
    {
     "data": {
      "text/plain": [
       "     admit             gre             gpa        rank   \n",
       " Min.   :0.0000   Min.   :220.0   Min.   :2.260   1: 61  \n",
       " 1st Qu.:0.0000   1st Qu.:520.0   1st Qu.:3.130   2:151  \n",
       " Median :0.0000   Median :580.0   Median :3.395   3:121  \n",
       " Mean   :0.3175   Mean   :587.7   Mean   :3.390   4: 67  \n",
       " 3rd Qu.:1.0000   3rd Qu.:660.0   3rd Qu.:3.670          \n",
       " Max.   :1.0000   Max.   :800.0   Max.   :4.000          "
      ]
     },
     "metadata": {},
     "output_type": "display_data"
    }
   ],
   "source": [
    "summary(mydata)"
   ]
  },
  {
   "cell_type": "code",
   "execution_count": 4,
   "metadata": {},
   "outputs": [
    {
     "data": {
      "text/plain": [
       "    admit\n",
       "rank  0  1\n",
       "   1 28 33\n",
       "   2 97 54\n",
       "   3 93 28\n",
       "   4 55 12"
      ]
     },
     "metadata": {},
     "output_type": "display_data"
    }
   ],
   "source": [
    "xtabs(~rank + admit, data = mydata)"
   ]
  },
  {
   "cell_type": "markdown",
   "metadata": {},
   "source": [
    "### Analysis methods you might consider"
   ]
  },
  {
   "cell_type": "raw",
   "metadata": {},
   "source": [
    "Below is a list of some analysis methods you may have encountered. Some of the methods listed are quite reasonable while others have either fallen out of favor or have limitations."
   ]
  },
  {
   "cell_type": "raw",
   "metadata": {},
   "source": [
    "•Probit regression, the focus of this page.\n",
    "\n",
    "•Logistic regression. A logit model will produce results similar probit regression. The choice of probit versus logit depends largely on individual preferences. \n",
    "\n",
    "•OLS regression. When used with a binary response variable, this model is known as a linear probability model and can be used as a way to describe conditional probabilities. However, the errors (i.e., residuals) from the linear probability model violate the homoskedasticity and normality of errors assumptions of OLS regression, resulting in invalid standard errors and hypothesis tests. For a more thorough discussion of these and other problems with the linear probability model, see Long (1997, p. 38-40).\n",
    "\n",
    "•Two-group discriminant function analysis. A multivariate method for dichotomous outcome variables.\n",
    "\n",
    "•Hotelling's T2. The 0/1 outcome is turned into the grouping variable, and the former predictors are turned into outcome variables. This will produce an overall test of significance but will not give individual coefficients for each variable, and it is unclear the extent to which each \"predictor\" is adjusted for the impact of the other \"predictors\"."
   ]
  },
  {
   "cell_type": "markdown",
   "metadata": {},
   "source": [
    "### Using the Probit Model"
   ]
  },
  {
   "cell_type": "raw",
   "metadata": {},
   "source": [
    "The code below estimates a probit regression model using the glm (generalized linear model) function. Since we stored our model output in the object \"myprobit\", R will not print anything to the console. We can use the summary function to get a summary of the model and all the estimates."
   ]
  },
  {
   "cell_type": "code",
   "execution_count": 5,
   "metadata": {},
   "outputs": [
    {
     "data": {
      "text/plain": [
       "\n",
       "Call:\n",
       "glm(formula = admit ~ gre + gpa + rank, family = binomial(link = \"probit\"), \n",
       "    data = mydata)\n",
       "\n",
       "Deviance Residuals: \n",
       "    Min       1Q   Median       3Q      Max  \n",
       "-1.6163  -0.8710  -0.6389   1.1560   2.1035  \n",
       "\n",
       "Coefficients:\n",
       "             Estimate Std. Error z value Pr(>|z|)    \n",
       "(Intercept) -2.386836   0.673946  -3.542 0.000398 ***\n",
       "gre          0.001376   0.000650   2.116 0.034329 *  \n",
       "gpa          0.477730   0.197197   2.423 0.015410 *  \n",
       "rank2       -0.415399   0.194977  -2.131 0.033130 *  \n",
       "rank3       -0.812138   0.208358  -3.898 9.71e-05 ***\n",
       "rank4       -0.935899   0.245272  -3.816 0.000136 ***\n",
       "---\n",
       "Signif. codes:  0 '***' 0.001 '**' 0.01 '*' 0.05 '.' 0.1 ' ' 1\n",
       "\n",
       "(Dispersion parameter for binomial family taken to be 1)\n",
       "\n",
       "    Null deviance: 499.98  on 399  degrees of freedom\n",
       "Residual deviance: 458.41  on 394  degrees of freedom\n",
       "AIC: 470.41\n",
       "\n",
       "Number of Fisher Scoring iterations: 4\n"
      ]
     },
     "metadata": {},
     "output_type": "display_data"
    }
   ],
   "source": [
    "myprobit <- glm(admit ~ gre + gpa + rank, family = binomial(link = \"probit\"), data = mydata)\n",
    "\n",
    "## model summary\n",
    "summary(myprobit)"
   ]
  },
  {
   "cell_type": "raw",
   "metadata": {},
   "source": [
    "•In the output above, the first thing we see is the call, this is R reminding us what the model we ran was, what options we specified, etc.\n",
    "\n",
    "•Next we see the deviance residuals, which are a measure of model fit. This part of output shows the distribution of the deviance residuals for individual cases used in the model. Below we discuss how to use summaries of the deviance statistic to asses model fit.\n",
    "\n",
    "•The next part of the output shows the coefficients, their standard errors, the z-statistic (sometimes called a Wald z-statistic), and the associated p-values. Both gre, gpa, and the three terms for rank are statistically significant. The probit regression coefficients give the change in the z-score or probit index for a one unit change in the predictor. ◦For a one unit increase in gre, the z-score increases by 0.001.\n",
    "\n",
    "◦For each one unit increase in gpa, the z-score increases by 0.478.\n",
    "◦The indicator variables for rank have a slightly different interpretation. For example, having attended an undergraduate institution of rank of 2, versus an institution with a rank of 1 (the reference group), decreases the z-score by 0.415.\n",
    "\n",
    "•Below the table of coefficients are fit indices, including the null and deviance residuals and the AIC. Later we show an example of how you can use these values to help assess model fit."
   ]
  },
  {
   "cell_type": "raw",
   "metadata": {},
   "source": [
    "We can use the confint function to obtain confidence intervals for the coefficient estimates. These will be profiled confidence intervals by default, created by profiling the likelihood function. As such, they are not necessarily symmetric."
   ]
  },
  {
   "cell_type": "code",
   "execution_count": 6,
   "metadata": {},
   "outputs": [
    {
     "name": "stderr",
     "output_type": "stream",
     "text": [
      "Waiting for profiling to be done...\n"
     ]
    },
    {
     "data": {
      "text/html": [
       "<table>\n",
       "<thead><tr><th></th><th scope=col>2.5 %</th><th scope=col>97.5 %</th></tr></thead>\n",
       "<tbody>\n",
       "\t<tr><th scope=row>(Intercept)</th><td>-3.7201050682</td><td>-1.076327713 </td></tr>\n",
       "\t<tr><th scope=row>gre</th><td> 0.0001104101</td><td> 0.002655157 </td></tr>\n",
       "\t<tr><th scope=row>gpa</th><td> 0.0960654793</td><td> 0.862610221 </td></tr>\n",
       "\t<tr><th scope=row>rank2</th><td>-0.7992113929</td><td>-0.032995019 </td></tr>\n",
       "\t<tr><th scope=row>rank3</th><td>-1.2230955861</td><td>-0.405008112 </td></tr>\n",
       "\t<tr><th scope=row>rank4</th><td>-1.4234218227</td><td>-0.459538829 </td></tr>\n",
       "</tbody>\n",
       "</table>\n"
      ],
      "text/latex": [
       "\\begin{tabular}{r|ll}\n",
       "  & 2.5 \\% & 97.5 \\%\\\\\n",
       "\\hline\n",
       "\t(Intercept) & -3.7201050682 & -1.076327713 \\\\\n",
       "\tgre &  0.0001104101 &  0.002655157 \\\\\n",
       "\tgpa &  0.0960654793 &  0.862610221 \\\\\n",
       "\trank2 & -0.7992113929 & -0.032995019 \\\\\n",
       "\trank3 & -1.2230955861 & -0.405008112 \\\\\n",
       "\trank4 & -1.4234218227 & -0.459538829 \\\\\n",
       "\\end{tabular}\n"
      ],
      "text/markdown": [
       "\n",
       "| <!--/--> | 2.5 % | 97.5 % |\n",
       "|---|---|---|\n",
       "| (Intercept) | -3.7201050682 | -1.076327713  |\n",
       "| gre |  0.0001104101 |  0.002655157  |\n",
       "| gpa |  0.0960654793 |  0.862610221  |\n",
       "| rank2 | -0.7992113929 | -0.032995019  |\n",
       "| rank3 | -1.2230955861 | -0.405008112  |\n",
       "| rank4 | -1.4234218227 | -0.459538829  |\n",
       "\n"
      ],
      "text/plain": [
       "            2.5 %         97.5 %      \n",
       "(Intercept) -3.7201050682 -1.076327713\n",
       "gre          0.0001104101  0.002655157\n",
       "gpa          0.0960654793  0.862610221\n",
       "rank2       -0.7992113929 -0.032995019\n",
       "rank3       -1.2230955861 -0.405008112\n",
       "rank4       -1.4234218227 -0.459538829"
      ]
     },
     "metadata": {},
     "output_type": "display_data"
    }
   ],
   "source": [
    "confint(myprobit)"
   ]
  },
  {
   "cell_type": "raw",
   "metadata": {},
   "source": [
    "We can test for an overall effect of rank using the wald.test function of the aod library. The order in which the coefficients are given in the table of coefficients is the same as the order of the terms in the model. This is important because the  wald.test function refers to the coefficients by their order in the model. We use the wald.test function. b supplies the coefficients, while Sigma supplies the variance covariance matrix of the error terms, finally Terms tells R which terms in the model are to be tested, in this case, terms 4, 5, and 6, are the three terms for the levels of rank."
   ]
  },
  {
   "cell_type": "code",
   "execution_count": 7,
   "metadata": {},
   "outputs": [
    {
     "data": {
      "text/plain": [
       "Wald test:\n",
       "----------\n",
       "\n",
       "Chi-squared test:\n",
       "X2 = 21.4, df = 3, P(> X2) = 8.9e-05"
      ]
     },
     "metadata": {},
     "output_type": "display_data"
    }
   ],
   "source": [
    "wald.test(b = coef(myprobit), Sigma = vcov(myprobit), Terms = 4:6)"
   ]
  },
  {
   "cell_type": "raw",
   "metadata": {},
   "source": [
    "The chi-squared test statistic of 21.4 with three degrees of freedom is associated with a p-value of less than 0.001 indicating that the overall effect of rank is statistically significant."
   ]
  },
  {
   "cell_type": "raw",
   "metadata": {},
   "source": [
    "We can also test additional hypotheses about the differences in the coefficients for different levels of rank. Below we test that the coefficient for rank=2 is equal to the coefficient for rank=3. The first line of code below creates a vector l that defines the test we want to perform. In this case, we want to test the difference (subtraction) of the terms for rank=2 and rank=3 (i.e. the 4th and 5th terms in the model). To contrast these two terms, we multiply one of them by 1, and the other by -1. The other terms in the model are not involved in the test, so they are multiplied by 0. The second line of code below uses L=l to tell R that we wish to base the test on the vector l (rather than using the Terms option as we did above)."
   ]
  },
  {
   "cell_type": "code",
   "execution_count": 8,
   "metadata": {},
   "outputs": [
    {
     "data": {
      "text/plain": [
       "Wald test:\n",
       "----------\n",
       "\n",
       "Chi-squared test:\n",
       "X2 = 5.6, df = 1, P(> X2) = 0.018"
      ]
     },
     "metadata": {},
     "output_type": "display_data"
    }
   ],
   "source": [
    "l <- cbind(0, 0, 0, 1, -1, 0)\n",
    "wald.test(b = coef(myprobit), Sigma = vcov(myprobit), L = l)"
   ]
  },
  {
   "cell_type": "raw",
   "metadata": {},
   "source": [
    "The chi-squared test statistic of 5.5 with 1 degree of freedom is associated with a p-value of 0.019, indicating that the difference between the coefficient for rank=2 and the coefficient for rank=3 is statistically significant."
   ]
  },
  {
   "cell_type": "raw",
   "metadata": {},
   "source": [
    "You can also use predicted probabilities to help you understand the model. To do this, we first create a data frame containing the values we want for the independent variables."
   ]
  },
  {
   "cell_type": "code",
   "execution_count": 9,
   "metadata": {},
   "outputs": [
    {
     "data": {
      "text/html": [
       "<table>\n",
       "<thead><tr><th scope=col>gre</th><th scope=col>gpa</th><th scope=col>rank</th></tr></thead>\n",
       "<tbody>\n",
       "\t<tr><td>200.0000</td><td>2.5     </td><td>1       </td></tr>\n",
       "\t<tr><td>206.0606</td><td>2.5     </td><td>1       </td></tr>\n",
       "\t<tr><td>212.1212</td><td>2.5     </td><td>1       </td></tr>\n",
       "\t<tr><td>218.1818</td><td>2.5     </td><td>1       </td></tr>\n",
       "\t<tr><td>224.2424</td><td>2.5     </td><td>1       </td></tr>\n",
       "\t<tr><td>230.3030</td><td>2.5     </td><td>1       </td></tr>\n",
       "</tbody>\n",
       "</table>\n"
      ],
      "text/latex": [
       "\\begin{tabular}{r|lll}\n",
       " gre & gpa & rank\\\\\n",
       "\\hline\n",
       "\t 200.0000 & 2.5      & 1       \\\\\n",
       "\t 206.0606 & 2.5      & 1       \\\\\n",
       "\t 212.1212 & 2.5      & 1       \\\\\n",
       "\t 218.1818 & 2.5      & 1       \\\\\n",
       "\t 224.2424 & 2.5      & 1       \\\\\n",
       "\t 230.3030 & 2.5      & 1       \\\\\n",
       "\\end{tabular}\n"
      ],
      "text/markdown": [
       "\n",
       "| gre | gpa | rank |\n",
       "|---|---|---|\n",
       "| 200.0000 | 2.5      | 1        |\n",
       "| 206.0606 | 2.5      | 1        |\n",
       "| 212.1212 | 2.5      | 1        |\n",
       "| 218.1818 | 2.5      | 1        |\n",
       "| 224.2424 | 2.5      | 1        |\n",
       "| 230.3030 | 2.5      | 1        |\n",
       "\n"
      ],
      "text/plain": [
       "  gre      gpa rank\n",
       "1 200.0000 2.5 1   \n",
       "2 206.0606 2.5 1   \n",
       "3 212.1212 2.5 1   \n",
       "4 218.1818 2.5 1   \n",
       "5 224.2424 2.5 1   \n",
       "6 230.3030 2.5 1   "
      ]
     },
     "metadata": {},
     "output_type": "display_data"
    }
   ],
   "source": [
    "newdata <- data.frame(gre = rep(seq(from = 200, to = 800, length.out = 100), 4 * 4), \n",
    "                      gpa = rep(c(2.5, 3, 3.5, 4), each = 100 * 4), rank = factor(rep(rep(1:4, each = 100), 4)))\n",
    "\n",
    "head(newdata)"
   ]
  },
  {
   "cell_type": "raw",
   "metadata": {},
   "source": [
    "Now we can predict the probabilities for our input data as well as their standard errors. These are stored as new variable in the data frame with the original data, so we can plot the predicted probabilities for different gre scores. We create four plots, one for each level of gpa we used (2.5, 3, 3.5, 4) with the colour of the lines indicating the rank the predicted probabilities were for."
   ]
  },
  {
   "cell_type": "code",
   "execution_count": 10,
   "metadata": {},
   "outputs": [
    {
     "data": {
      "image/png": "[encoded data removed]",
      "text/plain": [
       "plot without title"
      ]
     },
     "metadata": {},
     "output_type": "display_data"
    }
   ],
   "source": [
    "newdata[, c(\"p\", \"se\")] <- predict(myprobit, newdata, type = \"response\", se.fit = TRUE)[-3]\n",
    "ggplot(newdata, aes(x = gre, y = p, colour = rank)) + geom_line() + facet_wrap(~gpa)"
   ]
  },
  {
   "cell_type": "raw",
   "metadata": {},
   "source": [
    "We may also wish to see measures of how well our model fits. This can be particularly useful when comparing competing models. The output produced by summary(mylogit) included indices of fit (shown below the coefficients), including the null and deviance residuals and the AIC. One measure of model fit is the significance of the overall model. This test asks whether the model with predictors fits significantly better than a model with just an intercept (i.e. a null model). The test statistic is the difference between the residual deviance for the model with predictors and the null model. The test statistic is distributed chi-squared with degrees of freedom equal to the differences in degrees of freedom between the current and the null model (i.e. the number of predictor variables in the model). To find the difference in deviance for the two models (i.e. the test statistic) we can compute the change in deviance, and test it using a chi square test---the change in deviance distributed as chi square on the change in degrees of freedom."
   ]
  },
  {
   "cell_type": "code",
   "execution_count": 11,
   "metadata": {},
   "outputs": [
    {
     "data": {
      "text/html": [
       "41.5633461847304"
      ],
      "text/latex": [
       "41.5633461847304"
      ],
      "text/markdown": [
       "41.5633461847304"
      ],
      "text/plain": [
       "[1] 41.56335"
      ]
     },
     "metadata": {},
     "output_type": "display_data"
    }
   ],
   "source": [
    "## change in deviance\n",
    "with(myprobit, null.deviance - deviance)"
   ]
  },
  {
   "cell_type": "code",
   "execution_count": 12,
   "metadata": {},
   "outputs": [
    {
     "data": {
      "text/html": [
       "5"
      ],
      "text/latex": [
       "5"
      ],
      "text/markdown": [
       "5"
      ],
      "text/plain": [
       "[1] 5"
      ]
     },
     "metadata": {},
     "output_type": "display_data"
    }
   ],
   "source": [
    "## change in degrees of freedom\n",
    "with(myprobit, df.null - df.residual)"
   ]
  },
  {
   "cell_type": "code",
   "execution_count": 13,
   "metadata": {},
   "outputs": [
    {
     "data": {
      "text/html": [
       "7.21893207520256e-08"
      ],
      "text/latex": [
       "7.21893207520256e-08"
      ],
      "text/markdown": [
       "7.21893207520256e-08"
      ],
      "text/plain": [
       "[1] 7.218932e-08"
      ]
     },
     "metadata": {},
     "output_type": "display_data"
    }
   ],
   "source": [
    "## chi square test p-value\n",
    "with(myprobit, pchisq(null.deviance - deviance, df.null - df.residual, lower.tail = FALSE))"
   ]
  },
  {
   "cell_type": "raw",
   "metadata": {},
   "source": [
    "The chi-square of 41.56 with 5 degrees of freedom and an associated p-value of less than 0.001 tells us that our model as a whole fits significantly better than an empty model. This is sometimes called a likelihood ratio test (the deviance residual is -2*log likelihood). To see the model's log likelihood, we type:"
   ]
  },
  {
   "cell_type": "code",
   "execution_count": 14,
   "metadata": {},
   "outputs": [
    {
     "data": {
      "text/plain": [
       "'log Lik.' -229.2066 (df=6)"
      ]
     },
     "metadata": {},
     "output_type": "display_data"
    }
   ],
   "source": [
    "logLik(myprobit)"
   ]
  },
  {
   "cell_type": "markdown",
   "metadata": {},
   "source": [
    "### Things to consider"
   ]
  },
  {
   "cell_type": "raw",
   "metadata": {},
   "source": [
    "•Empty cells or small cells: You should check for empty or small cells by doing a crosstab between categorical predictors and the outcome variable. If a cell has very few cases (a small cell), the model may become unstable or it might not run at all. \n",
    "\n",
    "•Separation or quasi-separation (also called perfect prediction), a condition in which the outcome does not vary at some levels of the independent variables. See our page  FAQ: What is complete or quasi-complete separation in logistic/probit regression and how do we deal with them? for information on models with perfect prediction.\n",
    "\n",
    "•Sample size: Both probit and logit models require more cases than OLS regression because they use maximum likelihood estimation techniques. It is sometimes possible to estimate models for binary outcomes in datasets with only a small number of cases using exact logistic regression. It is also important to keep in mind that when the outcome is rare, even if the overall dataset is large, it can be difficult to estimate a probit model.\n",
    "\n",
    "•Pseudo-R-squared: Many different measures of psuedo-R-squared exist. They all attempt to provide information similar to that provided by R-squared in OLS regression; however, none of them can be interpreted exactly as R-squared in OLS regression is interpreted. For a discussion of various pseudo-R-squareds see Long and Freese (2006) or our FAQ page What are pseudo R-squareds?\n",
    "\n",
    "•Diagnostics: The diagnostics for probit regression are different from those for OLS regression. The diagnostics for probit models are similar to those for logit models. For a discussion of model diagnostics for logistic regression, see Hosmer and Lemeshow (2000, Chapter 5)."
   ]
  }
 ],
 "metadata": {
  "kernelspec": {
   "display_name": "R",
   "language": "R",
   "name": "ir"
  },
  "language_info": {
   "codemirror_mode": "r",
   "file_extension": ".r",
   "mimetype": "text/x-r-source",
   "name": "R",
   "pygments_lexer": "r",
   "version": "3.6.1"
  }
 },
 "nbformat": 4,
 "nbformat_minor": 2
}
