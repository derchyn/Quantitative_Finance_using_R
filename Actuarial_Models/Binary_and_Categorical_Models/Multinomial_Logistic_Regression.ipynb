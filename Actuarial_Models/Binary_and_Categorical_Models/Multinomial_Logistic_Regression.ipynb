{
 "cells": [
  {
   "cell_type": "raw",
   "metadata": {},
   "source": [
    "Multinomial logistic regression is used to model nominal outcome variables, in which the log odds of the outcomes are modeled as a linear combination of the predictor variables."
   ]
  },
  {
   "cell_type": "raw",
   "metadata": {},
   "source": [
    "This page uses the following packages. Make sure that you can load them before trying to run the examples on this page. If you do not have a package installed, run: install.packages(\"packagename\"), or if you see the version is out of date, run: update.packages()."
   ]
  },
  {
   "cell_type": "code",
   "execution_count": 1,
   "metadata": {},
   "outputs": [],
   "source": [
    "library(foreign)\n",
    "library(nnet)\n",
    "library(ggplot2)\n",
    "library(reshape2)"
   ]
  },
  {
   "cell_type": "markdown",
   "metadata": {},
   "source": [
    "### Examples of multinomial logistic regression"
   ]
  },
  {
   "cell_type": "raw",
   "metadata": {},
   "source": [
    "Example 1. People's occupational choices might be influenced by their parents' occupations and their own education level. We can study the relationship of one's occupation choice with education level and father's occupation. The occupational choices will be the outcome variable which consists of categories of occupations. \n",
    "\n",
    "Example 2. A biologist may be interested in food choices that alligators make. Adult alligators might have different preferences from young ones. The outcome variable here will be the types of food, and the predictor variables might be size of the alligators and other environmental variables.\n",
    "\n",
    "Example 3. Entering high school students make program choices among general program, vocational program and academic program. Their choice might be modeled using their writing score and their social economic status."
   ]
  },
  {
   "cell_type": "markdown",
   "metadata": {},
   "source": [
    "### Description of the data"
   ]
  },
  {
   "cell_type": "raw",
   "metadata": {},
   "source": [
    "For our data analysis example, we will expand the third example using the hsbdemo data set. Let's first read in the data."
   ]
  },
  {
   "cell_type": "code",
   "execution_count": 2,
   "metadata": {},
   "outputs": [],
   "source": [
    "ml <- read.dta(\"./datasets/hsbdemo.dta\")"
   ]
  },
  {
   "cell_type": "raw",
   "metadata": {},
   "source": [
    "The data set contains variables on 200 students. The outcome variable is prog, program type. The predictor variables are social economic status, ses, a three-level categorical variable and writing score, write, a continuous variable. Let's start with getting some descriptive statistics of the variables of interest."
   ]
  },
  {
   "cell_type": "code",
   "execution_count": 3,
   "metadata": {},
   "outputs": [
    {
     "data": {
      "text/plain": [
       "        prog\n",
       "ses      general academic vocation\n",
       "  low         16       19       12\n",
       "  middle      20       44       31\n",
       "  high         9       42        7"
      ]
     },
     "metadata": {},
     "output_type": "display_data"
    }
   ],
   "source": [
    "with(ml, table(ses, prog))"
   ]
  },
  {
   "cell_type": "code",
   "execution_count": 4,
   "metadata": {},
   "outputs": [
    {
     "data": {
      "text/html": [
       "<table>\n",
       "<thead><tr><th></th><th scope=col>M</th><th scope=col>SD</th></tr></thead>\n",
       "<tbody>\n",
       "\t<tr><th scope=row>general</th><td>51.33333</td><td>9.397775</td></tr>\n",
       "\t<tr><th scope=row>academic</th><td>56.25714</td><td>7.943343</td></tr>\n",
       "\t<tr><th scope=row>vocation</th><td>46.76000</td><td>9.318754</td></tr>\n",
       "</tbody>\n",
       "</table>\n"
      ],
      "text/latex": [
       "\\begin{tabular}{r|ll}\n",
       "  & M & SD\\\\\n",
       "\\hline\n",
       "\tgeneral & 51.33333 & 9.397775\\\\\n",
       "\tacademic & 56.25714 & 7.943343\\\\\n",
       "\tvocation & 46.76000 & 9.318754\\\\\n",
       "\\end{tabular}\n"
      ],
      "text/markdown": [
       "\n",
       "| <!--/--> | M | SD |\n",
       "|---|---|---|\n",
       "| general | 51.33333 | 9.397775 |\n",
       "| academic | 56.25714 | 7.943343 |\n",
       "| vocation | 46.76000 | 9.318754 |\n",
       "\n"
      ],
      "text/plain": [
       "         M        SD      \n",
       "general  51.33333 9.397775\n",
       "academic 56.25714 7.943343\n",
       "vocation 46.76000 9.318754"
      ]
     },
     "metadata": {},
     "output_type": "display_data"
    }
   ],
   "source": [
    "with(ml, do.call(rbind, tapply(write, prog, function(x) c(M = mean(x), SD = sd(x)))))"
   ]
  },
  {
   "cell_type": "markdown",
   "metadata": {},
   "source": [
    "### Analysis methods you might consider"
   ]
  },
  {
   "cell_type": "raw",
   "metadata": {},
   "source": [
    "•Multinomial logistic regression, the focus of this page. \n",
    "\n",
    "•Multinomial probit regression, similar to multinomial logistic regression with independent normal error terms.\n",
    "\n",
    "•Multiple-group discriminant function analysis. A multivariate method for multinomial outcome variables\n",
    "\n",
    "•Multiple logistic regression analyses, one for each pair of outcomes: One problem with this approach is that each analysis is potentially run on a different sample. The other problem is that without constraining the logistic models, we can end up with the probability of choosing all possible outcome categories greater than 1.\n",
    "\n",
    "•Collapsing number of categories to two and then doing a logistic regression: This approach suffers from loss of information and changes the original research questions to very different ones. \n",
    "\n",
    "•Ordinal logistic regression: If the outcome variable is truly ordered and if it also satisfies the assumption of proportional odds, then switching to ordinal logistic regression will make the model more parsimonious.\n",
    "\n",
    "•Alternative-specific multinomial probit regression, which allows different error structures therefore allows to relax the IIA assumption. This requires that the data structure be choice-specific.\n",
    "\n",
    "•Nested logit model, another way to relax the IIA assumption, also requires the data structure be choice-specific. "
   ]
  },
  {
   "cell_type": "markdown",
   "metadata": {},
   "source": [
    "### Multinomial logistic regression"
   ]
  },
  {
   "cell_type": "raw",
   "metadata": {},
   "source": [
    "Below we use the multinom function from the nnet package to estimate a multinomial logistic regression model. There are other functions in other R packages capable of multinomial regression. We chose the multinom function because it does not require the data to be reshaped (as the mlogit package does) and to mirror the example code found in Hilbe's Logistic Regression Models."
   ]
  },
  {
   "cell_type": "raw",
   "metadata": {},
   "source": [
    "Before running our model. We then choose the level of our outcome that we wish to use as our baseline and specify this in the relevel function. Then, we run our model using multinom. The multinom package does not include p-value calculation for the regression coefficients, so we calculate p-values using Wald tests (here z-tests)."
   ]
  },
  {
   "cell_type": "code",
   "execution_count": 5,
   "metadata": {},
   "outputs": [
    {
     "name": "stdout",
     "output_type": "stream",
     "text": [
      "# weights:  15 (8 variable)\n",
      "initial  value 219.722458 \n",
      "iter  10 value 179.982880\n",
      "final  value 179.981726 \n",
      "converged\n"
     ]
    }
   ],
   "source": [
    "ml$prog2 <- relevel(ml$prog, ref = \"academic\")\n",
    "test <- multinom(prog2 ~ ses + write, data = ml)"
   ]
  },
  {
   "cell_type": "code",
   "execution_count": 6,
   "metadata": {},
   "outputs": [
    {
     "data": {
      "text/plain": [
       "Call:\n",
       "multinom(formula = prog2 ~ ses + write, data = ml)\n",
       "\n",
       "Coefficients:\n",
       "         (Intercept)  sesmiddle    seshigh      write\n",
       "general     2.852198 -0.5332810 -1.1628226 -0.0579287\n",
       "vocation    5.218260  0.2913859 -0.9826649 -0.1136037\n",
       "\n",
       "Std. Errors:\n",
       "         (Intercept) sesmiddle   seshigh      write\n",
       "general     1.166441 0.4437323 0.5142196 0.02141097\n",
       "vocation    1.163552 0.4763739 0.5955665 0.02221996\n",
       "\n",
       "Residual Deviance: 359.9635 \n",
       "AIC: 375.9635 "
      ]
     },
     "metadata": {},
     "output_type": "display_data"
    }
   ],
   "source": [
    "summary(test)"
   ]
  },
  {
   "cell_type": "code",
   "execution_count": 7,
   "metadata": {},
   "outputs": [
    {
     "data": {
      "text/html": [
       "<table>\n",
       "<thead><tr><th></th><th scope=col>(Intercept)</th><th scope=col>sesmiddle</th><th scope=col>seshigh</th><th scope=col>write</th></tr></thead>\n",
       "<tbody>\n",
       "\t<tr><th scope=row>general</th><td>2.445214  </td><td>-1.2018081</td><td>-2.261334 </td><td>-2.705562 </td></tr>\n",
       "\t<tr><th scope=row>vocation</th><td>4.484769  </td><td> 0.6116747</td><td>-1.649967 </td><td>-5.112689 </td></tr>\n",
       "</tbody>\n",
       "</table>\n"
      ],
      "text/latex": [
       "\\begin{tabular}{r|llll}\n",
       "  & (Intercept) & sesmiddle & seshigh & write\\\\\n",
       "\\hline\n",
       "\tgeneral & 2.445214   & -1.2018081 & -2.261334  & -2.705562 \\\\\n",
       "\tvocation & 4.484769   &  0.6116747 & -1.649967  & -5.112689 \\\\\n",
       "\\end{tabular}\n"
      ],
      "text/markdown": [
       "\n",
       "| <!--/--> | (Intercept) | sesmiddle | seshigh | write |\n",
       "|---|---|---|---|---|\n",
       "| general | 2.445214   | -1.2018081 | -2.261334  | -2.705562  |\n",
       "| vocation | 4.484769   |  0.6116747 | -1.649967  | -5.112689  |\n",
       "\n"
      ],
      "text/plain": [
       "         (Intercept) sesmiddle  seshigh   write    \n",
       "general  2.445214    -1.2018081 -2.261334 -2.705562\n",
       "vocation 4.484769     0.6116747 -1.649967 -5.112689"
      ]
     },
     "metadata": {},
     "output_type": "display_data"
    }
   ],
   "source": [
    "z <- summary(test)$coefficients/summary(test)$standard.errors\n",
    "z"
   ]
  },
  {
   "cell_type": "code",
   "execution_count": 8,
   "metadata": {},
   "outputs": [
    {
     "data": {
      "text/html": [
       "<table>\n",
       "<thead><tr><th></th><th scope=col>(Intercept)</th><th scope=col>sesmiddle</th><th scope=col>seshigh</th><th scope=col>write</th></tr></thead>\n",
       "<tbody>\n",
       "\t<tr><th scope=row>general</th><td>0.0144766100</td><td>0.2294379   </td><td>0.02373856  </td><td>6.818902e-03</td></tr>\n",
       "\t<tr><th scope=row>vocation</th><td>0.0000072993</td><td>0.5407530   </td><td>0.09894976  </td><td>3.176045e-07</td></tr>\n",
       "</tbody>\n",
       "</table>\n"
      ],
      "text/latex": [
       "\\begin{tabular}{r|llll}\n",
       "  & (Intercept) & sesmiddle & seshigh & write\\\\\n",
       "\\hline\n",
       "\tgeneral & 0.0144766100 & 0.2294379    & 0.02373856   & 6.818902e-03\\\\\n",
       "\tvocation & 0.0000072993 & 0.5407530    & 0.09894976   & 3.176045e-07\\\\\n",
       "\\end{tabular}\n"
      ],
      "text/markdown": [
       "\n",
       "| <!--/--> | (Intercept) | sesmiddle | seshigh | write |\n",
       "|---|---|---|---|---|\n",
       "| general | 0.0144766100 | 0.2294379    | 0.02373856   | 6.818902e-03 |\n",
       "| vocation | 0.0000072993 | 0.5407530    | 0.09894976   | 3.176045e-07 |\n",
       "\n"
      ],
      "text/plain": [
       "         (Intercept)  sesmiddle seshigh    write       \n",
       "general  0.0144766100 0.2294379 0.02373856 6.818902e-03\n",
       "vocation 0.0000072993 0.5407530 0.09894976 3.176045e-07"
      ]
     },
     "metadata": {},
     "output_type": "display_data"
    }
   ],
   "source": [
    "# 2-tailed z test\n",
    "p <- (1 - pnorm(abs(z), 0, 1)) * 2\n",
    "p"
   ]
  },
  {
   "cell_type": "raw",
   "metadata": {},
   "source": [
    "•We first see that some output is generated by running the model, even though we are assigning the model to a new R object. This model-running output includes some iteration history and includes the final negative log-likelihood 179.981726. This value multiplied by two is then seen in the model summary as the Residual Deviance and it can be used in comparisons of nested models, but we won't show an example of comparing models on this page.\n",
    "\n",
    "•The model summary output has a block of coefficients and a block of standard errors. Each of these blocks has one row of values corresponding to a model equation. Focusing on the block of coefficients, we can look at the first row comparing prog = \"general\" to our baseline prog = \"academic\" and the second row comparing prog = \"vocation\" to our baseline prog = \"academic\". If we consider our coefficients from the first row to be b_1 and our coefficients from the second row to be b_2, we can write our model equations: \\[ln\\left(\\frac{P(prog=general)}{P(prog=academic)}\\right) = b_{10} + b_{11}(ses=2) + b_{12}(ses=3) + b_{13}write\\] \\[ln\\left(\\frac{P(prog=vocation)}{P(prog=academic)}\\right) = b_{20} + b_{21}(ses=2) + b_{22}(ses=3) + b_{23}write\\] ◦A one-unit increase in the variable write is associated with the decrease in the log odds of being in general program vs. academic program in the amount of .058 (b_13).\n",
    "\n",
    "◦A one-unit increase in the variable write is associated with the decrease in the log odds of being in vocation program vs. academic program. in the amount of .1136 (b_23).\n",
    "\n",
    "◦The log odds of being in general program vs. in academic program will decrease by 1.163 if moving from ses=\"low\" to ses=\"high\"(b_12).\n",
    "\n",
    "◦The log odds of being in general program vs. in academic program will decrease by 0.533 if moving from ses=\"low\"to ses=\"middle\"(b_11), although this coefficient is not significant.\n",
    "\n",
    "◦The log odds of being in vocation program vs. in academic program will decrease by 0.983 if moving from ses=\"low\" to ses=\"high\"(b_22).\n",
    "\n",
    "◦The log odds of being in vocation program vs. in academic program will increase by 0.291 if moving from ses=\"low\" to ses=\"middle\"(b_21), although this coefficient is not signficant."
   ]
  },
  {
   "cell_type": "raw",
   "metadata": {},
   "source": [
    "The ratio of the probability of choosing one outcome category over the probability of choosing the baseline category is often referred as relative risk (and it is also sometimes referred as odds as we have just used to described the regression parameters above). The relative risk is the right-hand side linear equation exponentiated, leading to the fact that the exponentiated regression coefficients are relative risk ratios for a unit change in the predictor variable. We can exponentiate the coefficients from our model to see these risk ratios. "
   ]
  },
  {
   "cell_type": "code",
   "execution_count": 9,
   "metadata": {},
   "outputs": [
    {
     "data": {
      "text/html": [
       "<table>\n",
       "<thead><tr><th></th><th scope=col>(Intercept)</th><th scope=col>sesmiddle</th><th scope=col>seshigh</th><th scope=col>write</th></tr></thead>\n",
       "<tbody>\n",
       "\t<tr><th scope=row>general</th><td> 17.32582</td><td>0.5866769</td><td>0.3126026</td><td>0.9437172</td></tr>\n",
       "\t<tr><th scope=row>vocation</th><td>184.61262</td><td>1.3382809</td><td>0.3743123</td><td>0.8926116</td></tr>\n",
       "</tbody>\n",
       "</table>\n"
      ],
      "text/latex": [
       "\\begin{tabular}{r|llll}\n",
       "  & (Intercept) & sesmiddle & seshigh & write\\\\\n",
       "\\hline\n",
       "\tgeneral &  17.32582 & 0.5866769 & 0.3126026 & 0.9437172\\\\\n",
       "\tvocation & 184.61262 & 1.3382809 & 0.3743123 & 0.8926116\\\\\n",
       "\\end{tabular}\n"
      ],
      "text/markdown": [
       "\n",
       "| <!--/--> | (Intercept) | sesmiddle | seshigh | write |\n",
       "|---|---|---|---|---|\n",
       "| general |  17.32582 | 0.5866769 | 0.3126026 | 0.9437172 |\n",
       "| vocation | 184.61262 | 1.3382809 | 0.3743123 | 0.8926116 |\n",
       "\n"
      ],
      "text/plain": [
       "         (Intercept) sesmiddle seshigh   write    \n",
       "general   17.32582   0.5866769 0.3126026 0.9437172\n",
       "vocation 184.61262   1.3382809 0.3743123 0.8926116"
      ]
     },
     "metadata": {},
     "output_type": "display_data"
    }
   ],
   "source": [
    "## extract the coefficients from the model and exponentiate\n",
    "exp(coef(test))"
   ]
  },
  {
   "cell_type": "raw",
   "metadata": {},
   "source": [
    "•The relative risk ratio for a one-unit increase in the variable write\tis .9437 for being in general program vs. academic program. \n",
    "\n",
    "•The relative risk ratio switching from ses = 1 to 3 is .3126 for being in general program vs. academic program. "
   ]
  },
  {
   "cell_type": "raw",
   "metadata": {},
   "source": [
    "You can also use predicted probabilities to help you understand the model. You can calculate predicted probabilities for each of our outcome levels using the fitted function. We can start by generating the predicted probabilities for the observations in our dataset and viewing the first few rows"
   ]
  },
  {
   "cell_type": "code",
   "execution_count": 10,
   "metadata": {},
   "outputs": [
    {
     "data": {
      "text/html": [
       "<table>\n",
       "<thead><tr><th scope=col>academic</th><th scope=col>general</th><th scope=col>vocation</th></tr></thead>\n",
       "<tbody>\n",
       "\t<tr><td>0.1482764</td><td>0.3382454</td><td>0.5134781</td></tr>\n",
       "\t<tr><td>0.1202017</td><td>0.1806283</td><td>0.6991700</td></tr>\n",
       "\t<tr><td>0.4186747</td><td>0.2368082</td><td>0.3445171</td></tr>\n",
       "\t<tr><td>0.1726885</td><td>0.3508384</td><td>0.4764731</td></tr>\n",
       "\t<tr><td>0.1001231</td><td>0.1689374</td><td>0.7309395</td></tr>\n",
       "\t<tr><td>0.3533566</td><td>0.2377976</td><td>0.4088458</td></tr>\n",
       "</tbody>\n",
       "</table>\n"
      ],
      "text/latex": [
       "\\begin{tabular}{r|lll}\n",
       " academic & general & vocation\\\\\n",
       "\\hline\n",
       "\t 0.1482764 & 0.3382454 & 0.5134781\\\\\n",
       "\t 0.1202017 & 0.1806283 & 0.6991700\\\\\n",
       "\t 0.4186747 & 0.2368082 & 0.3445171\\\\\n",
       "\t 0.1726885 & 0.3508384 & 0.4764731\\\\\n",
       "\t 0.1001231 & 0.1689374 & 0.7309395\\\\\n",
       "\t 0.3533566 & 0.2377976 & 0.4088458\\\\\n",
       "\\end{tabular}\n"
      ],
      "text/markdown": [
       "\n",
       "| academic | general | vocation |\n",
       "|---|---|---|\n",
       "| 0.1482764 | 0.3382454 | 0.5134781 |\n",
       "| 0.1202017 | 0.1806283 | 0.6991700 |\n",
       "| 0.4186747 | 0.2368082 | 0.3445171 |\n",
       "| 0.1726885 | 0.3508384 | 0.4764731 |\n",
       "| 0.1001231 | 0.1689374 | 0.7309395 |\n",
       "| 0.3533566 | 0.2377976 | 0.4088458 |\n",
       "\n"
      ],
      "text/plain": [
       "  academic  general   vocation \n",
       "1 0.1482764 0.3382454 0.5134781\n",
       "2 0.1202017 0.1806283 0.6991700\n",
       "3 0.4186747 0.2368082 0.3445171\n",
       "4 0.1726885 0.3508384 0.4764731\n",
       "5 0.1001231 0.1689374 0.7309395\n",
       "6 0.3533566 0.2377976 0.4088458"
      ]
     },
     "metadata": {},
     "output_type": "display_data"
    }
   ],
   "source": [
    "head(pp <- fitted(test))"
   ]
  },
  {
   "cell_type": "raw",
   "metadata": {},
   "source": [
    "Next, if we want to examine the changes in predicted probability associated with one of our two variables, we can create small datasets varying one variable while holding the other constant. We will first do this holding write at its mean and examining the predicted probabilities for each level of ses."
   ]
  },
  {
   "cell_type": "code",
   "execution_count": 11,
   "metadata": {},
   "outputs": [
    {
     "data": {
      "text/html": [
       "<table>\n",
       "<thead><tr><th scope=col>academic</th><th scope=col>general</th><th scope=col>vocation</th></tr></thead>\n",
       "<tbody>\n",
       "\t<tr><td>0.4396845</td><td>0.3581917</td><td>0.2021238</td></tr>\n",
       "\t<tr><td>0.4777488</td><td>0.2283353</td><td>0.2939159</td></tr>\n",
       "\t<tr><td>0.7009007</td><td>0.1784939</td><td>0.1206054</td></tr>\n",
       "</tbody>\n",
       "</table>\n"
      ],
      "text/latex": [
       "\\begin{tabular}{r|lll}\n",
       " academic & general & vocation\\\\\n",
       "\\hline\n",
       "\t 0.4396845 & 0.3581917 & 0.2021238\\\\\n",
       "\t 0.4777488 & 0.2283353 & 0.2939159\\\\\n",
       "\t 0.7009007 & 0.1784939 & 0.1206054\\\\\n",
       "\\end{tabular}\n"
      ],
      "text/markdown": [
       "\n",
       "| academic | general | vocation |\n",
       "|---|---|---|\n",
       "| 0.4396845 | 0.3581917 | 0.2021238 |\n",
       "| 0.4777488 | 0.2283353 | 0.2939159 |\n",
       "| 0.7009007 | 0.1784939 | 0.1206054 |\n",
       "\n"
      ],
      "text/plain": [
       "  academic  general   vocation \n",
       "1 0.4396845 0.3581917 0.2021238\n",
       "2 0.4777488 0.2283353 0.2939159\n",
       "3 0.7009007 0.1784939 0.1206054"
      ]
     },
     "metadata": {},
     "output_type": "display_data"
    }
   ],
   "source": [
    "dses <- data.frame(ses = c(\"low\", \"middle\", \"high\"), write = mean(ml$write))\n",
    "predict(test, newdata = dses, \"probs\")"
   ]
  },
  {
   "cell_type": "raw",
   "metadata": {},
   "source": [
    "Another way to understand the model using the predicted probabilities is to look at the averaged predicted probabilities for different values of the continuous predictor variable write within each level of ses. "
   ]
  },
  {
   "cell_type": "code",
   "execution_count": 12,
   "metadata": {},
   "outputs": [
    {
     "data": {
      "text/plain": [
       "pp.write$ses: high\n",
       " academic   general  vocation \n",
       "0.6164315 0.1808037 0.2027648 \n",
       "------------------------------------------------------------ \n",
       "pp.write$ses: low\n",
       " academic   general  vocation \n",
       "0.3972977 0.3278174 0.2748849 \n",
       "------------------------------------------------------------ \n",
       "pp.write$ses: middle\n",
       " academic   general  vocation \n",
       "0.4256198 0.2010864 0.3732938 "
      ]
     },
     "metadata": {},
     "output_type": "display_data"
    }
   ],
   "source": [
    "dwrite <- data.frame(ses = rep(c(\"low\", \"middle\", \"high\"), each = 41), write = rep(c(30:70), 3))\n",
    "\n",
    "## store the predicted probabilities for each value of ses and write\n",
    "pp.write <- cbind(dwrite, predict(test, newdata = dwrite, type = \"probs\", se = TRUE))\n",
    "\n",
    "## calculate the mean probabilities within each level of ses\n",
    "by(pp.write[, 3:5], pp.write$ses, colMeans)"
   ]
  },
  {
   "cell_type": "raw",
   "metadata": {},
   "source": [
    "Sometimes, a couple of plots can convey a good deal amount of information. Using the predictions we generated for the pp.write object above, we can plot the predicted probabilities against the writing score by the level of ses for different levels of the outcome variable."
   ]
  },
  {
   "cell_type": "code",
   "execution_count": 13,
   "metadata": {},
   "outputs": [
    {
     "data": {
      "text/html": [
       "<table>\n",
       "<thead><tr><th scope=col>ses</th><th scope=col>write</th><th scope=col>variable</th><th scope=col>probability</th></tr></thead>\n",
       "<tbody>\n",
       "\t<tr><td>low       </td><td>30        </td><td>academic  </td><td>0.09843588</td></tr>\n",
       "\t<tr><td>low       </td><td>31        </td><td>academic  </td><td>0.10716868</td></tr>\n",
       "\t<tr><td>low       </td><td>32        </td><td>academic  </td><td>0.11650390</td></tr>\n",
       "\t<tr><td>low       </td><td>33        </td><td>academic  </td><td>0.12645834</td></tr>\n",
       "\t<tr><td>low       </td><td>34        </td><td>academic  </td><td>0.13704576</td></tr>\n",
       "\t<tr><td>low       </td><td>35        </td><td>academic  </td><td>0.14827643</td></tr>\n",
       "</tbody>\n",
       "</table>\n"
      ],
      "text/latex": [
       "\\begin{tabular}{r|llll}\n",
       " ses & write & variable & probability\\\\\n",
       "\\hline\n",
       "\t low        & 30         & academic   & 0.09843588\\\\\n",
       "\t low        & 31         & academic   & 0.10716868\\\\\n",
       "\t low        & 32         & academic   & 0.11650390\\\\\n",
       "\t low        & 33         & academic   & 0.12645834\\\\\n",
       "\t low        & 34         & academic   & 0.13704576\\\\\n",
       "\t low        & 35         & academic   & 0.14827643\\\\\n",
       "\\end{tabular}\n"
      ],
      "text/markdown": [
       "\n",
       "| ses | write | variable | probability |\n",
       "|---|---|---|---|\n",
       "| low        | 30         | academic   | 0.09843588 |\n",
       "| low        | 31         | academic   | 0.10716868 |\n",
       "| low        | 32         | academic   | 0.11650390 |\n",
       "| low        | 33         | academic   | 0.12645834 |\n",
       "| low        | 34         | academic   | 0.13704576 |\n",
       "| low        | 35         | academic   | 0.14827643 |\n",
       "\n"
      ],
      "text/plain": [
       "  ses write variable probability\n",
       "1 low 30    academic 0.09843588 \n",
       "2 low 31    academic 0.10716868 \n",
       "3 low 32    academic 0.11650390 \n",
       "4 low 33    academic 0.12645834 \n",
       "5 low 34    academic 0.13704576 \n",
       "6 low 35    academic 0.14827643 "
      ]
     },
     "metadata": {},
     "output_type": "display_data"
    }
   ],
   "source": [
    "## melt data set to long for ggplot2\n",
    "lpp <- melt(pp.write, id.vars = c(\"ses\", \"write\"), value.name = \"probability\")\n",
    "head(lpp)  # view first few rows"
   ]
  },
  {
   "cell_type": "code",
   "execution_count": 14,
   "metadata": {},
   "outputs": [
    {
     "data": {
      "image/png": "[encoded data removed]",
      "text/plain": [
       "plot without title"
      ]
     },
     "metadata": {},
     "output_type": "display_data"
    }
   ],
   "source": [
    "## plot predicted probabilities across write values for each level of ses\n",
    "## facetted by program type\n",
    "ggplot(lpp, aes(x = write, y = probability, colour = ses)) + geom_line() + facet_grid(variable ~ ., scales = \"free\")"
   ]
  },
  {
   "cell_type": "markdown",
   "metadata": {},
   "source": [
    "### Things to consider"
   ]
  },
  {
   "cell_type": "raw",
   "metadata": {},
   "source": [
    "•The Independence of Irrelevant Alternatives (IIA) assumption: Roughly, the IIA assumption means that adding or deleting alternative outcome categories does not affect the odds among the remaining outcomes. There are alternative modeling methods, such as alternative-specific multinomial probit model, or nested logit model to relax the IIA assumption.\n",
    "\n",
    "•Diagnostics and model fit: Unlike logistic regression where there are many statistics for performing model diagnostics, it is not as straightforward to do diagnostics with multinomial logistic regression models. For the purpose of detecting outliers or influential data points, one can run separate logit models and use the diagnostics tools on each model. \n",
    "\n",
    "•Sample size: Multinomial regression uses a maximum likelihood estimation method, it requires a large sample size. It also uses multiple equations. This implies that it requires an even larger sample size than ordinal or binary logistic regression.\n",
    "\n",
    "•Complete or quasi-complete separation: Complete separation means that the outcome variable separate a predictor variable completely, leading perfect prediction by the predictor variable.\n",
    "\n",
    "•Perfect prediction means that only one value of a predictor variable is associated with only one value of the response variable. But you can tell from the output of the regression coefficients that something is wrong. You can then do a two-way tabulation of the outcome variable with the problematic variable to confirm this and then rerun the model without the problematic variable.\n",
    "\n",
    "•Empty cells or small cells: You should check for empty or small cells by doing a cross-tabulation between categorical predictors and the outcome variable. If a cell has very few cases (a small cell), the model may become unstable or it might not even run at all."
   ]
  }
 ],
 "metadata": {
  "kernelspec": {
   "display_name": "R",
   "language": "R",
   "name": "ir"
  },
  "language_info": {
   "codemirror_mode": "r",
   "file_extension": ".r",
   "mimetype": "text/x-r-source",
   "name": "R",
   "pygments_lexer": "r",
   "version": "3.6.1"
  }
 },
 "nbformat": 4,
 "nbformat_minor": 2
}
