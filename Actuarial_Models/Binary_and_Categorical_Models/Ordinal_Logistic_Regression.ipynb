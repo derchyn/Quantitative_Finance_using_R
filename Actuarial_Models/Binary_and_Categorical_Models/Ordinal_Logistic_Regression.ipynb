{
 "cells": [
  {
   "cell_type": "raw",
   "metadata": {},
   "source": [
    "This page uses the following packages. Make sure that you can load them before trying to run the examples on this page. If you do not have a package installed, run: install.packages(\"packagename\"), or if you see the version is out of date, run: update.packages()."
   ]
  },
  {
   "cell_type": "code",
   "execution_count": 1,
   "metadata": {},
   "outputs": [
    {
     "name": "stderr",
     "output_type": "stream",
     "text": [
      "Loading required package: lattice\n",
      "Loading required package: survival\n",
      "Loading required package: Formula\n",
      "\n",
      "Attaching package: 'Hmisc'\n",
      "\n",
      "The following objects are masked from 'package:base':\n",
      "\n",
      "    format.pval, units\n",
      "\n"
     ]
    }
   ],
   "source": [
    "library(foreign)\n",
    "library(ggplot2)\n",
    "library(MASS)\n",
    "library(Hmisc)\n",
    "library(reshape2)"
   ]
  },
  {
   "cell_type": "markdown",
   "metadata": {},
   "source": [
    "### Examples of ordered logistic regression"
   ]
  },
  {
   "cell_type": "raw",
   "metadata": {},
   "source": [
    "Example 1: A marketing research firm wants to investigate what factors influence the size of soda (small, medium, large or extra large) that people order at a fast-food chain. These factors may include what type of sandwich is ordered (burger or chicken), whether or not fries are also ordered, and age of the consumer. While the outcome variable, size of soda, is obviously ordered, the difference between the various sizes is not consistent. The differece between small and medium is 10 ounces, between medium and large 8, and between large and extra large 12.\n",
    "\n",
    "Example 2: A researcher is interested in what factors influence medaling in Olympic swimming. Relevant predictors include at training hours, diet, age, and popularity of swimming in the athlete's home country. The researcher believes that the distance between gold and silver is larger than the distance between silver and bronze.\n",
    "\n",
    "Example 3: A study looks at factors that influence the decision of whether to apply to graduate school. College juniors are asked if they are unlikely, somewhat likely, or very likely to apply to graduate school. Hence, our outcome variable has three categories. Data on parental educational status, whether the undergraduate institution is public or private, and current GPA is also collected. The researchers have reason to believe that the \"distances\" between these three points are not equal. For example, the \"distance\" between \"unlikely\" and \"somewhat likely\" may be shorter than the distance between \"somewhat likely\" and \"very likely\"."
   ]
  },
  {
   "cell_type": "markdown",
   "metadata": {},
   "source": [
    "### Description of the Data"
   ]
  },
  {
   "cell_type": "raw",
   "metadata": {},
   "source": [
    "For our data analysis below, we are going to expand on Example 3 about applying to graduate school. We have simulated some data for this example and it can be obtained from our website:"
   ]
  },
  {
   "cell_type": "code",
   "execution_count": 2,
   "metadata": {},
   "outputs": [
    {
     "data": {
      "text/html": [
       "<table>\n",
       "<thead><tr><th scope=col>apply</th><th scope=col>pared</th><th scope=col>public</th><th scope=col>gpa</th></tr></thead>\n",
       "<tbody>\n",
       "\t<tr><td>very likely    </td><td>0              </td><td>0              </td><td>3.26           </td></tr>\n",
       "\t<tr><td>somewhat likely</td><td>1              </td><td>0              </td><td>3.21           </td></tr>\n",
       "\t<tr><td>unlikely       </td><td>1              </td><td>1              </td><td>3.94           </td></tr>\n",
       "\t<tr><td>somewhat likely</td><td>0              </td><td>0              </td><td>2.81           </td></tr>\n",
       "\t<tr><td>somewhat likely</td><td>0              </td><td>0              </td><td>2.53           </td></tr>\n",
       "\t<tr><td>unlikely       </td><td>0              </td><td>1              </td><td>2.59           </td></tr>\n",
       "</tbody>\n",
       "</table>\n"
      ],
      "text/latex": [
       "\\begin{tabular}{r|llll}\n",
       " apply & pared & public & gpa\\\\\n",
       "\\hline\n",
       "\t very likely     & 0               & 0               & 3.26           \\\\\n",
       "\t somewhat likely & 1               & 0               & 3.21           \\\\\n",
       "\t unlikely        & 1               & 1               & 3.94           \\\\\n",
       "\t somewhat likely & 0               & 0               & 2.81           \\\\\n",
       "\t somewhat likely & 0               & 0               & 2.53           \\\\\n",
       "\t unlikely        & 0               & 1               & 2.59           \\\\\n",
       "\\end{tabular}\n"
      ],
      "text/markdown": [
       "\n",
       "| apply | pared | public | gpa |\n",
       "|---|---|---|---|\n",
       "| very likely     | 0               | 0               | 3.26            |\n",
       "| somewhat likely | 1               | 0               | 3.21            |\n",
       "| unlikely        | 1               | 1               | 3.94            |\n",
       "| somewhat likely | 0               | 0               | 2.81            |\n",
       "| somewhat likely | 0               | 0               | 2.53            |\n",
       "| unlikely        | 0               | 1               | 2.59            |\n",
       "\n"
      ],
      "text/plain": [
       "  apply           pared public gpa \n",
       "1 very likely     0     0      3.26\n",
       "2 somewhat likely 1     0      3.21\n",
       "3 unlikely        1     1      3.94\n",
       "4 somewhat likely 0     0      2.81\n",
       "5 somewhat likely 0     0      2.53\n",
       "6 unlikely        0     1      2.59"
      ]
     },
     "metadata": {},
     "output_type": "display_data"
    }
   ],
   "source": [
    "dat <- read.dta(\"./datasets/ologit.dta\")\n",
    "head(dat)"
   ]
  },
  {
   "cell_type": "raw",
   "metadata": {},
   "source": [
    "This hypothetical data set has a three level variable called apply, with levels \"unlikely\", \"somewhat likely\", and \"very likely\", coded 1, 2, and 3, respectively, that we will use as our outcome variable. We also have three variables that we will use as predictors: pared, which is a 0/1 variable indicating whether at least one parent has a graduate degree; public, which is a 0/1 variable where 1 indicates that the undergraduate institution is public and 0 private, and gpa, which is the student's grade point average. Let's start with the descriptive statistics of these variables."
   ]
  },
  {
   "cell_type": "code",
   "execution_count": 3,
   "metadata": {},
   "outputs": [
    {
     "data": {
      "text/plain": [
       "$apply\n",
       "\n",
       "       unlikely somewhat likely     very likely \n",
       "            220             140              40 \n",
       "\n",
       "$pared\n",
       "\n",
       "  0   1 \n",
       "337  63 \n",
       "\n",
       "$public\n",
       "\n",
       "  0   1 \n",
       "343  57 \n"
      ]
     },
     "metadata": {},
     "output_type": "display_data"
    }
   ],
   "source": [
    "## one at a time, table apply, pared, and public\n",
    "lapply(dat[, c(\"apply\", \"pared\", \"public\")], table)"
   ]
  },
  {
   "cell_type": "code",
   "execution_count": 4,
   "metadata": {},
   "outputs": [
    {
     "data": {
      "text/plain": [
       "                       pared   0   1\n",
       "public apply                        \n",
       "0      unlikely              175  14\n",
       "       somewhat likely        98  26\n",
       "       very likely            20  10\n",
       "1      unlikely               25   6\n",
       "       somewhat likely        12   4\n",
       "       very likely             7   3"
      ]
     },
     "metadata": {},
     "output_type": "display_data"
    }
   ],
   "source": [
    "## three way cross tabs (xtabs) and flatten the table\n",
    "ftable(xtabs(~ public + apply + pared, data = dat))"
   ]
  },
  {
   "cell_type": "code",
   "execution_count": 5,
   "metadata": {},
   "outputs": [
    {
     "data": {
      "text/plain": [
       "   Min. 1st Qu.  Median    Mean 3rd Qu.    Max. \n",
       "  1.900   2.720   2.990   2.999   3.270   4.000 "
      ]
     },
     "metadata": {},
     "output_type": "display_data"
    }
   ],
   "source": [
    "summary(dat$gpa)"
   ]
  },
  {
   "cell_type": "code",
   "execution_count": 6,
   "metadata": {},
   "outputs": [
    {
     "data": {
      "text/html": [
       "0.397940932093251"
      ],
      "text/latex": [
       "0.397940932093251"
      ],
      "text/markdown": [
       "0.397940932093251"
      ],
      "text/plain": [
       "[1] 0.3979409"
      ]
     },
     "metadata": {},
     "output_type": "display_data"
    }
   ],
   "source": [
    "sd(dat$gpa)"
   ]
  },
  {
   "cell_type": "raw",
   "metadata": {},
   "source": [
    "We can also examine the distribution of gpa at every level of apply and broken down by public and pared. This creates a 2 x 2 grid with a boxplot of gpa for every level of apply, for particular values of pared and public. To better see the data, we also add the raw data points on top of the box plots, with a small amount of noise (often called \"jitter\") and 50% transparency so they do not overwhelm the boxplots. Finally, in addition to the cells, we plot all of the marginal relationships. The margins make the final plot a 3 x 3 grid. In the lower right hand corner, is the overall relationship between apply and gpa which appears slightly positive. To do this, we use the ggplot2 package."
   ]
  },
  {
   "cell_type": "code",
   "execution_count": 7,
   "metadata": {},
   "outputs": [
    {
     "data": {
      "image/png": "[encoded data removed]",
      "text/plain": [
       "plot without title"
      ]
     },
     "metadata": {},
     "output_type": "display_data"
    }
   ],
   "source": [
    "ggplot(dat, aes(x = apply, y = gpa)) +\n",
    "    geom_boxplot(size = .75) + geom_jitter(alpha = .5) + facet_grid(pared ~ public, margins = TRUE) + \n",
    "    theme(axis.text.x = element_text(angle = 45, hjust = 1, vjust = 1))"
   ]
  },
  {
   "cell_type": "markdown",
   "metadata": {},
   "source": [
    "### Analysis methods you might consider"
   ]
  },
  {
   "cell_type": "raw",
   "metadata": {},
   "source": [
    "Below is a list of some analysis methods you may have encountered. Some of the methods listed are quite reasonable while others have either fallen out of favor or have limitations.\n",
    "\n",
    "•Ordered logistic regression: the focus of this page.\n",
    "\n",
    "•OLS regression: This analysis is problematic because the assumptions of OLS are violated when it is used with a non-interval outcome variable.\n",
    "\n",
    "•ANOVA: If you use only one continuous predictor, you could \"flip\" the model around so that, say, gpa was the outcome variable and apply was the predictor variable. Then you could run a one-way ANOVA. This isn't a bad thing to do if you only have one predictor variable (from the logistic model), and it is continuous.\n",
    "\n",
    "•Multinomial logistic regression: This is similar to doing ordered logistic regression, except that it is assumed that there is no order to the categories of the outcome variable (i.e., the categories are nominal). The downside of this approach is that the information contained in the ordering is lost.\n",
    "\n",
    "•Ordered probit regression: This is very, very similar to running an ordered logistic regression. The main difference is in the interpretation of the coefficients."
   ]
  },
  {
   "cell_type": "markdown",
   "metadata": {},
   "source": [
    "### Ordered logistic regression"
   ]
  },
  {
   "cell_type": "raw",
   "metadata": {},
   "source": [
    "Below we use the polr command from the MASS package to estimate an ordered logistic regression model. The command name comes from proportional odds logistic regression, highlighting the proportional odds assumption in our model. polr uses the standard formula interface in R for specifying a regression model with outcome followed by predictors. We also specify Hess=TRUE to have the model return the observed information matrix from optimization (called the Hessian) which is used to get standard errors."
   ]
  },
  {
   "cell_type": "code",
   "execution_count": 8,
   "metadata": {},
   "outputs": [
    {
     "data": {
      "text/plain": [
       "Call:\n",
       "polr(formula = apply ~ pared + public + gpa, data = dat, Hess = TRUE)\n",
       "\n",
       "Coefficients:\n",
       "          Value Std. Error t value\n",
       "pared   1.04769     0.2658  3.9418\n",
       "public -0.05879     0.2979 -0.1974\n",
       "gpa     0.61594     0.2606  2.3632\n",
       "\n",
       "Intercepts:\n",
       "                            Value   Std. Error t value\n",
       "unlikely|somewhat likely     2.2039  0.7795     2.8272\n",
       "somewhat likely|very likely  4.2994  0.8043     5.3453\n",
       "\n",
       "Residual Deviance: 717.0249 \n",
       "AIC: 727.0249 "
      ]
     },
     "metadata": {},
     "output_type": "display_data"
    }
   ],
   "source": [
    "## fit ordered logit model and store results 'm'\n",
    "m <- polr(apply ~ pared + public + gpa, data = dat, Hess=TRUE)\n",
    "\n",
    "## view a summary of the model\n",
    "summary(m)"
   ]
  },
  {
   "cell_type": "raw",
   "metadata": {},
   "source": [
    "In the output above, we see\n",
    "\n",
    "•Call, this is R reminding us what type of model we ran, what options we specified, etc.\n",
    "\n",
    "•Next we see the usual regression output coefficient table including the value of each coefficient, standard errors, and t value, which is simply the ratio of the coefficient to its standard error. There is no significance test by default.\n",
    "\n",
    "•Next we see the estimates for the two intercepts, which are sometimes called cutpoints. The intercepts indicate where the latent variable is cut to make the three groups that we observe in our data. Note that this latent variable is continuous. In general, these are not used in the interpretation of the results. The cutpoints are closely related to thresholds, which are reported by other statistical packages.\n",
    "\n",
    "•Finally, we see the residual deviance, -2 * Log Likelihood of the model as well as the AIC. Both the deviance and AIC are useful for model comparison."
   ]
  },
  {
   "cell_type": "raw",
   "metadata": {},
   "source": [
    "Some people are not satisfied without a p value. One way to calculate a p-value in this case is by comparing the t-value against the standard normal distribution, like a z test. Of course this is only true with infinite degrees of freedom, but is reasonably approximated by large samples, becoming increasingly biased as sample size decreases. This approach is used in other software packages such as Stata and is trivial to do. First we store the coefficient table, then calculate the pvalues and combine back with the table."
   ]
  },
  {
   "cell_type": "code",
   "execution_count": 9,
   "metadata": {},
   "outputs": [
    {
     "data": {
      "text/html": [
       "<table>\n",
       "<thead><tr><th></th><th scope=col>Value</th><th scope=col>Std. Error</th><th scope=col>t value</th></tr></thead>\n",
       "<tbody>\n",
       "\t<tr><th scope=row>pared</th><td> 1.04769010</td><td>0.2657894  </td><td> 3.9418050 </td></tr>\n",
       "\t<tr><th scope=row>public</th><td>-0.05878572</td><td>0.2978614  </td><td>-0.1973593 </td></tr>\n",
       "\t<tr><th scope=row>gpa</th><td> 0.61594057</td><td>0.2606340  </td><td> 2.3632399 </td></tr>\n",
       "\t<tr><th scope=row>unlikely|somewhat likely</th><td> 2.20391473</td><td>0.7795455  </td><td> 2.8271792 </td></tr>\n",
       "\t<tr><th scope=row>somewhat likely|very likely</th><td> 4.29936315</td><td>0.8043267  </td><td> 5.3452947 </td></tr>\n",
       "</tbody>\n",
       "</table>\n"
      ],
      "text/latex": [
       "\\begin{tabular}{r|lll}\n",
       "  & Value & Std. Error & t value\\\\\n",
       "\\hline\n",
       "\tpared &  1.04769010 & 0.2657894   &  3.9418050 \\\\\n",
       "\tpublic & -0.05878572 & 0.2978614   & -0.1973593 \\\\\n",
       "\tgpa &  0.61594057 & 0.2606340   &  2.3632399 \\\\\n",
       "\tunlikely\\textbar{}somewhat likely &  2.20391473 & 0.7795455   &  2.8271792 \\\\\n",
       "\tsomewhat likely\\textbar{}very likely &  4.29936315 & 0.8043267   &  5.3452947 \\\\\n",
       "\\end{tabular}\n"
      ],
      "text/markdown": [
       "\n",
       "| <!--/--> | Value | Std. Error | t value |\n",
       "|---|---|---|---|\n",
       "| pared |  1.04769010 | 0.2657894   |  3.9418050  |\n",
       "| public | -0.05878572 | 0.2978614   | -0.1973593  |\n",
       "| gpa |  0.61594057 | 0.2606340   |  2.3632399  |\n",
       "| unlikely|somewhat likely |  2.20391473 | 0.7795455   |  2.8271792  |\n",
       "| somewhat likely|very likely |  4.29936315 | 0.8043267   |  5.3452947  |\n",
       "\n"
      ],
      "text/plain": [
       "                            Value       Std. Error t value   \n",
       "pared                        1.04769010 0.2657894   3.9418050\n",
       "public                      -0.05878572 0.2978614  -0.1973593\n",
       "gpa                          0.61594057 0.2606340   2.3632399\n",
       "unlikely|somewhat likely     2.20391473 0.7795455   2.8271792\n",
       "somewhat likely|very likely  4.29936315 0.8043267   5.3452947"
      ]
     },
     "metadata": {},
     "output_type": "display_data"
    }
   ],
   "source": [
    "## store table\n",
    "(ctable <- coef(summary(m)))"
   ]
  },
  {
   "cell_type": "code",
   "execution_count": 10,
   "metadata": {},
   "outputs": [],
   "source": [
    "## calculate and store p values\n",
    "p <- pnorm(abs(ctable[, \"t value\"]), lower.tail = FALSE) * 2"
   ]
  },
  {
   "cell_type": "code",
   "execution_count": 11,
   "metadata": {},
   "outputs": [
    {
     "data": {
      "text/html": [
       "<table>\n",
       "<thead><tr><th></th><th scope=col>Value</th><th scope=col>Std. Error</th><th scope=col>t value</th><th scope=col>p value</th></tr></thead>\n",
       "<tbody>\n",
       "\t<tr><th scope=row>pared</th><td> 1.04769010 </td><td>0.2657894   </td><td> 3.9418050  </td><td>8.087072e-05</td></tr>\n",
       "\t<tr><th scope=row>public</th><td>-0.05878572 </td><td>0.2978614   </td><td>-0.1973593  </td><td>8.435464e-01</td></tr>\n",
       "\t<tr><th scope=row>gpa</th><td> 0.61594057 </td><td>0.2606340   </td><td> 2.3632399  </td><td>1.811594e-02</td></tr>\n",
       "\t<tr><th scope=row>unlikely|somewhat likely</th><td> 2.20391473 </td><td>0.7795455   </td><td> 2.8271792  </td><td>4.696004e-03</td></tr>\n",
       "\t<tr><th scope=row>somewhat likely|very likely</th><td> 4.29936315 </td><td>0.8043267   </td><td> 5.3452947  </td><td>9.027008e-08</td></tr>\n",
       "</tbody>\n",
       "</table>\n"
      ],
      "text/latex": [
       "\\begin{tabular}{r|llll}\n",
       "  & Value & Std. Error & t value & p value\\\\\n",
       "\\hline\n",
       "\tpared &  1.04769010  & 0.2657894    &  3.9418050   & 8.087072e-05\\\\\n",
       "\tpublic & -0.05878572  & 0.2978614    & -0.1973593   & 8.435464e-01\\\\\n",
       "\tgpa &  0.61594057  & 0.2606340    &  2.3632399   & 1.811594e-02\\\\\n",
       "\tunlikely\\textbar{}somewhat likely &  2.20391473  & 0.7795455    &  2.8271792   & 4.696004e-03\\\\\n",
       "\tsomewhat likely\\textbar{}very likely &  4.29936315  & 0.8043267    &  5.3452947   & 9.027008e-08\\\\\n",
       "\\end{tabular}\n"
      ],
      "text/markdown": [
       "\n",
       "| <!--/--> | Value | Std. Error | t value | p value |\n",
       "|---|---|---|---|---|\n",
       "| pared |  1.04769010  | 0.2657894    |  3.9418050   | 8.087072e-05 |\n",
       "| public | -0.05878572  | 0.2978614    | -0.1973593   | 8.435464e-01 |\n",
       "| gpa |  0.61594057  | 0.2606340    |  2.3632399   | 1.811594e-02 |\n",
       "| unlikely|somewhat likely |  2.20391473  | 0.7795455    |  2.8271792   | 4.696004e-03 |\n",
       "| somewhat likely|very likely |  4.29936315  | 0.8043267    |  5.3452947   | 9.027008e-08 |\n",
       "\n"
      ],
      "text/plain": [
       "                            Value       Std. Error t value    p value     \n",
       "pared                        1.04769010 0.2657894   3.9418050 8.087072e-05\n",
       "public                      -0.05878572 0.2978614  -0.1973593 8.435464e-01\n",
       "gpa                          0.61594057 0.2606340   2.3632399 1.811594e-02\n",
       "unlikely|somewhat likely     2.20391473 0.7795455   2.8271792 4.696004e-03\n",
       "somewhat likely|very likely  4.29936315 0.8043267   5.3452947 9.027008e-08"
      ]
     },
     "metadata": {},
     "output_type": "display_data"
    }
   ],
   "source": [
    "## combined table\n",
    "(ctable <- cbind(ctable, \"p value\" = p))"
   ]
  },
  {
   "cell_type": "raw",
   "metadata": {},
   "source": [
    "We can also get confidence intervals for the parameter estimates. These can be obtained either by profiling the likelihood function or by using the standard errors and assuming a normal distribution. Note that profiled CIs are not symmetric (although they are usually close to symmetric). If the 95% CI does not cross 0, the parameter estimate is statistically significant."
   ]
  },
  {
   "cell_type": "code",
   "execution_count": 12,
   "metadata": {},
   "outputs": [
    {
     "name": "stderr",
     "output_type": "stream",
     "text": [
      "Waiting for profiling to be done...\n"
     ]
    },
    {
     "data": {
      "text/html": [
       "<table>\n",
       "<thead><tr><th></th><th scope=col>2.5 %</th><th scope=col>97.5 %</th></tr></thead>\n",
       "<tbody>\n",
       "\t<tr><th scope=row>pared</th><td> 0.5281768</td><td>1.5721750 </td></tr>\n",
       "\t<tr><th scope=row>public</th><td>-0.6522060</td><td>0.5191384 </td></tr>\n",
       "\t<tr><th scope=row>gpa</th><td> 0.1076202</td><td>1.1309148 </td></tr>\n",
       "</tbody>\n",
       "</table>\n"
      ],
      "text/latex": [
       "\\begin{tabular}{r|ll}\n",
       "  & 2.5 \\% & 97.5 \\%\\\\\n",
       "\\hline\n",
       "\tpared &  0.5281768 & 1.5721750 \\\\\n",
       "\tpublic & -0.6522060 & 0.5191384 \\\\\n",
       "\tgpa &  0.1076202 & 1.1309148 \\\\\n",
       "\\end{tabular}\n"
      ],
      "text/markdown": [
       "\n",
       "| <!--/--> | 2.5 % | 97.5 % |\n",
       "|---|---|---|\n",
       "| pared |  0.5281768 | 1.5721750  |\n",
       "| public | -0.6522060 | 0.5191384  |\n",
       "| gpa |  0.1076202 | 1.1309148  |\n",
       "\n"
      ],
      "text/plain": [
       "       2.5 %      97.5 %   \n",
       "pared   0.5281768 1.5721750\n",
       "public -0.6522060 0.5191384\n",
       "gpa     0.1076202 1.1309148"
      ]
     },
     "metadata": {},
     "output_type": "display_data"
    }
   ],
   "source": [
    "(ci <- confint(m)) # default method gives profiled CIs"
   ]
  },
  {
   "cell_type": "code",
   "execution_count": 13,
   "metadata": {},
   "outputs": [
    {
     "data": {
      "text/html": [
       "<table>\n",
       "<thead><tr><th></th><th scope=col>2.5 %</th><th scope=col>97.5 %</th></tr></thead>\n",
       "<tbody>\n",
       "\t<tr><th scope=row>pared</th><td> 0.5267524</td><td>1.5686278 </td></tr>\n",
       "\t<tr><th scope=row>public</th><td>-0.6425833</td><td>0.5250119 </td></tr>\n",
       "\t<tr><th scope=row>gpa</th><td> 0.1051074</td><td>1.1267737 </td></tr>\n",
       "</tbody>\n",
       "</table>\n"
      ],
      "text/latex": [
       "\\begin{tabular}{r|ll}\n",
       "  & 2.5 \\% & 97.5 \\%\\\\\n",
       "\\hline\n",
       "\tpared &  0.5267524 & 1.5686278 \\\\\n",
       "\tpublic & -0.6425833 & 0.5250119 \\\\\n",
       "\tgpa &  0.1051074 & 1.1267737 \\\\\n",
       "\\end{tabular}\n"
      ],
      "text/markdown": [
       "\n",
       "| <!--/--> | 2.5 % | 97.5 % |\n",
       "|---|---|---|\n",
       "| pared |  0.5267524 | 1.5686278  |\n",
       "| public | -0.6425833 | 0.5250119  |\n",
       "| gpa |  0.1051074 | 1.1267737  |\n",
       "\n"
      ],
      "text/plain": [
       "       2.5 %      97.5 %   \n",
       "pared   0.5267524 1.5686278\n",
       "public -0.6425833 0.5250119\n",
       "gpa     0.1051074 1.1267737"
      ]
     },
     "metadata": {},
     "output_type": "display_data"
    }
   ],
   "source": [
    "confint.default(m) # CIs assuming normality"
   ]
  },
  {
   "cell_type": "raw",
   "metadata": {},
   "source": [
    "The CIs for both pared and gpa do not include 0; public does. The estimates in the output are given in units of ordered logits, or ordered log odds. So for pared, we would say that for a one unit increase in pared (i.e., going from 0 to 1), we expect a 1.05 increase in the expect value of apply on the log odds scale, given all of the other variables in the model are held constant. For gpa, we would say that for a one unit increase in gpa, we would expect a 0.62 increase in the expected value of apply in the log odds scale, given that all of the other variables in the model are held constant."
   ]
  },
  {
   "cell_type": "raw",
   "metadata": {},
   "source": [
    "The coefficients from the model can be somewhat difficult to interpret because they are scaled in terms of logs. Another way to interpret logistic regression models is to convert the coefficients into odds ratios. To get the OR and confidence intervals, we just exponentiate the estimates and confidence intervals."
   ]
  },
  {
   "cell_type": "code",
   "execution_count": 14,
   "metadata": {},
   "outputs": [
    {
     "data": {
      "text/html": [
       "<dl class=dl-horizontal>\n",
       "\t<dt>pared</dt>\n",
       "\t\t<dd>2.85105785107626</dd>\n",
       "\t<dt>public</dt>\n",
       "\t\t<dd>0.942908791581474</dd>\n",
       "\t<dt>gpa</dt>\n",
       "\t\t<dd>1.85139715064877</dd>\n",
       "</dl>\n"
      ],
      "text/latex": [
       "\\begin{description*}\n",
       "\\item[pared] 2.85105785107626\n",
       "\\item[public] 0.942908791581474\n",
       "\\item[gpa] 1.85139715064877\n",
       "\\end{description*}\n"
      ],
      "text/markdown": [
       "pared\n",
       ":   2.85105785107626public\n",
       ":   0.942908791581474gpa\n",
       ":   1.85139715064877\n",
       "\n"
      ],
      "text/plain": [
       "    pared    public       gpa \n",
       "2.8510579 0.9429088 1.8513972 "
      ]
     },
     "metadata": {},
     "output_type": "display_data"
    }
   ],
   "source": [
    "## odds ratios\n",
    "exp(coef(m))"
   ]
  },
  {
   "cell_type": "code",
   "execution_count": 15,
   "metadata": {},
   "outputs": [
    {
     "data": {
      "text/html": [
       "<table>\n",
       "<thead><tr><th></th><th scope=col>OR</th><th scope=col>2.5 %</th><th scope=col>97.5 %</th></tr></thead>\n",
       "<tbody>\n",
       "\t<tr><th scope=row>pared</th><td>2.8510579</td><td>1.6958376</td><td>4.817114 </td></tr>\n",
       "\t<tr><th scope=row>public</th><td>0.9429088</td><td>0.5208954</td><td>1.680579 </td></tr>\n",
       "\t<tr><th scope=row>gpa</th><td>1.8513972</td><td>1.1136247</td><td>3.098490 </td></tr>\n",
       "</tbody>\n",
       "</table>\n"
      ],
      "text/latex": [
       "\\begin{tabular}{r|lll}\n",
       "  & OR & 2.5 \\% & 97.5 \\%\\\\\n",
       "\\hline\n",
       "\tpared & 2.8510579 & 1.6958376 & 4.817114 \\\\\n",
       "\tpublic & 0.9429088 & 0.5208954 & 1.680579 \\\\\n",
       "\tgpa & 1.8513972 & 1.1136247 & 3.098490 \\\\\n",
       "\\end{tabular}\n"
      ],
      "text/markdown": [
       "\n",
       "| <!--/--> | OR | 2.5 % | 97.5 % |\n",
       "|---|---|---|---|\n",
       "| pared | 2.8510579 | 1.6958376 | 4.817114  |\n",
       "| public | 0.9429088 | 0.5208954 | 1.680579  |\n",
       "| gpa | 1.8513972 | 1.1136247 | 3.098490  |\n",
       "\n"
      ],
      "text/plain": [
       "       OR        2.5 %     97.5 %  \n",
       "pared  2.8510579 1.6958376 4.817114\n",
       "public 0.9429088 0.5208954 1.680579\n",
       "gpa    1.8513972 1.1136247 3.098490"
      ]
     },
     "metadata": {},
     "output_type": "display_data"
    }
   ],
   "source": [
    "## OR and CI\n",
    "exp(cbind(OR = coef(m), ci))"
   ]
  },
  {
   "cell_type": "raw",
   "metadata": {},
   "source": [
    "These coefficients are called proportional odds ratios and we would interpret these pretty much as we would odds ratios from a binary logistic regression. For pared, we would say that for a one unit increase in parental education, i.e., going from 0 (Low) to 1 (High), the odds of \"very likely\" applying versus \"somewhat likely\" or \"unlikely\" applying combined are 2.85 greater, given that all of the other variables in the model are held constant. Likewise, the odds \"very likely\" or \"somewhat likely\" applying versus \"unlikely\" applying is 2.85 times greater, given that all of the other variables in the model are held constant. For gpa (and other continuous variables), the interpretation is that when a student's gpa moves 1 unit, the odds of moving from \"unlikely\" applying to \"somewhat likely\" or \"very likley\" applying (or from the lower and middle categories to the high category) are multiplied by 1.85."
   ]
  },
  {
   "cell_type": "raw",
   "metadata": {},
   "source": [
    "One of the assumptions underlying ordinal logistic (and ordinal probit) regression is that the relationship between each pair of outcome groups is the same. In other words, ordinal logistic regression assumes that the coefficients that describe the relationship between, say, the lowest versus all higher categories of the response variable are the same as those that describe the relationship between the next lowest category and all higher categories, etc. This is called the proportional odds assumption or the parallel regression assumption. Because the relationship between all pairs of groups is the same, there is only one set of coefficients. If this was not the case, we would need different sets of coefficients in the model to describe the relationship between each pair of outcome groups. Thus, in order to asses the appropriateness of our model, we need to evaluate whether the proportional odds assumption is tenable. Statistical tests to do this are available in some software packages. However, these tests have been criticized for having a tendency to reject the null hypothesis (that the sets of coefficients are the same), and hence, indicate that there the parallel slopes assumption does not hold, in cases where the assumption does hold (see Harrell 2001 p. 335). We were unable to locate a facility in R to perform any of the tests commonly used to test the parallel slopes assumption. However, Harrell does recommend a graphical method for assessing the parallel slopes assumption. The values displayed in this graph are essentially (linear) predictions from a logit model, used to model the probability that y is greater than or equal to a given value (for each level of y), using one predictor (x) variable at a time. In order create this graph, you will need the Hmisc library."
   ]
  },
  {
   "cell_type": "raw",
   "metadata": {},
   "source": [
    "The code below contains two commands (the first command falls on multiple lines) and is used to create this graph to test the proportional odds assumption. Basically, we will graph predicted logits from individual logistic regressions with a single predictor where the outcome groups are defined by either apply >= 2 and apply >= 3. If the difference between predicted logits for varying levels of a predictor, say pared, are the same whether the outcome is defined by apply >= 2 or apply >=3, then we can be confident that the proportional odds assumption holds. In other words, if the difference between logits for pared = 0 and pared = 1 is the same when the outcome is apply >= 2 as the difference when the outcome is apply >= 3, then the proportional odds assumption likely holds."
   ]
  },
  {
   "cell_type": "raw",
   "metadata": {},
   "source": [
    "The first command creates the function that estimates the values that will be graphed. The first line of this command tells R that sf is a function, and that this function takes one argument, which we label y. The sf function will calculate the log odds of being greater than or equal to each value of the target variable. For our purposes, we would like the log odds of apply being greater than or equal to 2, and then greater than or equal to 3. Depending on the number of categories in your dependent variable, and the coding of your variables, you may have to edit this function. Below the function is configured for a y variable with three levels, 1, 2, 3. If your dependent variable has 4 levels, labeled 1, 2, 3, 4 you would need to add 'Y>=4'=qlogis(mean(y >= 4)) (minus the quotation marks) inside the first set of parentheses. If your dependent variable were coded 0, 1, 2 instead of 1, 2, 3, you would need to edit the code, replacing each instance of 1 with 0, 2 with 1, and so on. Inside the sf function we find the qlogis function, which transforms a probability to a logit. So, we will basically feed probabilities of apply being greater than 2 or 3 to qlogis, and it will return the logit transformations of these probabilites. Inside the qlogis function we see that we want the log odds of the mean of y >= 2. When we supply a y argument, such as apply, to function sf, y >= 2 will evaluate to a 0/1 (FALSE/TRUE) vector, and taking the mean of that vector will give you the proportion of or probability that apply >= 2."
   ]
  },
  {
   "cell_type": "raw",
   "metadata": {},
   "source": [
    "The second command below calls the function sf on several subsets of the data defined by the predictors. In this statement we see the summary function with a formula supplied as the first argument. When R sees a call to summary with a formula argument, it will calculate descriptive statistics for the variable on the left side of the formula by groups on the right side of the formula and will return the results in a nice table. By default, summary will calculate the mean of the left side variable. So, if we had used the code summary(as.numeric(apply) ~ pared + public + gpa) without the fun argument, we would get means on apply by pared, then by public, and finally by gpa broken up into 4 equal groups. However, we can override calculation of the mean by supplying our own function, namely sf to the fun= argument. The final command asks R to return the contents to the object s, which is a table."
   ]
  },
  {
   "cell_type": "code",
   "execution_count": 16,
   "metadata": {},
   "outputs": [
    {
     "data": {
      "text/plain": [
       "as.numeric(apply)     N= 400 \n",
       "\n",
       "+-------+-----------+---+----+-----------+---------+\n",
       "|       |           |N  |Y>=1|Y>=2       |Y>=3     |\n",
       "+-------+-----------+---+----+-----------+---------+\n",
       "|pared  |No         |337|Inf |-0.37833644|-2.440735|\n",
       "|       |Yes        | 63|Inf | 0.76546784|-1.347074|\n",
       "+-------+-----------+---+----+-----------+---------+\n",
       "|public |No         |343|Inf |-0.20479441|-2.345006|\n",
       "|       |Yes        | 57|Inf |-0.17589067|-1.547563|\n",
       "+-------+-----------+---+----+-----------+---------+\n",
       "|gpa    |[1.90,2.73)|102|Inf |-0.39730180|-2.772589|\n",
       "|       |[2.73,3.00)| 99|Inf |-0.26415158|-2.302585|\n",
       "|       |[3.00,3.28)|100|Inf |-0.20067070|-2.090741|\n",
       "|       |[3.28,4.00]| 99|Inf | 0.06062462|-1.803594|\n",
       "+-------+-----------+---+----+-----------+---------+\n",
       "|Overall|           |400|Inf |-0.20067070|-2.197225|\n",
       "+-------+-----------+---+----+-----------+---------+"
      ]
     },
     "metadata": {},
     "output_type": "display_data"
    }
   ],
   "source": [
    "sf <- function(y) {\n",
    "      c('Y>=1' = qlogis(mean(y >= 1)),\n",
    "        'Y>=2' = qlogis(mean(y >= 2)),\n",
    "        'Y>=3' = qlogis(mean(y >= 3)))   }\n",
    "\n",
    "(s <- with(dat, summary(as.numeric(apply) ~ pared + public + gpa, fun=sf)))"
   ]
  },
  {
   "cell_type": "raw",
   "metadata": {},
   "source": [
    "The table above displays the (linear) predicted values we would get if we regressed our dependent variable on our predictor variables one at a time, without the parallel slopes assumption. We can evaluate the parallel slopes assumption by running a series of binary logistic regressions with varying cutpoints on the dependent variable and checking the equality of coefficients across cutpoints. We thus relax the parallel slopes assumption to checks its tenability. To accomplish this, we transform the original, ordinal, dependent variable into a new, binary, dependent variable which is equal to zero if the original, ordinal dependent variable (here apply) is less than some value a, and 1 if the ordinal variable is greater than or equal to a (note, this is what the ordinal regression model coefficients represent as well). This is done for k-1 levels of the ordinal variable and is executed by the as.numeric(apply) >= a coding below. The first line of code estimates the effect of pared on choosing \"unlikely\" applying versus \"somewhat likely\" or \"very likely\". The second line of code estimates the effect of pared on choosing \"unlikely\" or \"somewhat likely\" applying versus \"very likely\" applying. Looking at the intercept for this model (-0.3783), we see that it matches the predicted value in the cell for pared equal to \"no\" in the column for Y>=1, the value below it, for pared equals \"yes\" is equal to the intercept plus the coefficient for pared (i.e. -0.3783 + 1.1438 = 0.765)."
   ]
  },
  {
   "cell_type": "code",
   "execution_count": 17,
   "metadata": {},
   "outputs": [
    {
     "data": {
      "text/plain": [
       "\n",
       "Call:  glm(formula = I(as.numeric(apply) >= 2) ~ pared, family = \"binomial\", \n",
       "    data = dat)\n",
       "\n",
       "Coefficients:\n",
       "(Intercept)        pared  \n",
       "    -0.3783       1.1438  \n",
       "\n",
       "Degrees of Freedom: 399 Total (i.e. Null);  398 Residual\n",
       "Null Deviance:\t    550.5 \n",
       "Residual Deviance: 534.1 \tAIC: 538.1"
      ]
     },
     "metadata": {},
     "output_type": "display_data"
    }
   ],
   "source": [
    "glm(I(as.numeric(apply) >= 2) ~ pared, family=\"binomial\", data = dat)"
   ]
  },
  {
   "cell_type": "code",
   "execution_count": 18,
   "metadata": {},
   "outputs": [
    {
     "data": {
      "text/plain": [
       "\n",
       "Call:  glm(formula = I(as.numeric(apply) >= 3) ~ pared, family = \"binomial\", \n",
       "    data = dat)\n",
       "\n",
       "Coefficients:\n",
       "(Intercept)        pared  \n",
       "     -2.441        1.094  \n",
       "\n",
       "Degrees of Freedom: 399 Total (i.e. Null);  398 Residual\n",
       "Null Deviance:\t    260.1 \n",
       "Residual Deviance: 252.2 \tAIC: 256.2"
      ]
     },
     "metadata": {},
     "output_type": "display_data"
    }
   ],
   "source": [
    "glm(I(as.numeric(apply) >= 3) ~ pared, family=\"binomial\", data = dat)"
   ]
  },
  {
   "cell_type": "raw",
   "metadata": {},
   "source": [
    "We can use the values in this table to help us assess whether the proportional odds assumption is reasonable for our model. (Note, the table is reproduced below, as well as above.) For example, when pared is equal to \"no\" the difference between the predicted value for apply greater than or equal to two and apply greater than or equal to three is roughly 2 (-0.378 - -2.440 = 2.062). For pared equal to \"yes\" the difference in predicted values for apply greater than or equal to two and apply greater than or equal to three is also roughly 2 (0.765 - -1.347 = 2.112). This suggests that the parallel slopes assumption is reasonable (these differences are what graph below are plotting). Turning our attention to the predictions with public as a predictor variable, we see that when public is set to \"no\" the difference in predictions for apply greater than or equal to two, versus apply greater than or equal to three is about 2.14 (-0.204 - -2.345 = 2.141). When public is set to \"yes\" the difference between the coefficients is about 1.37 (-0.175 - -1.547 = 1.372). The differences in the distance between the two sets of coefficients (2.14 vs. 1.37) may suggest that the parallel slopes assumption does not hold for the predictor public. That would indicate that the effect of attending a public versus private school is different for the transition from \"unlikely\" to \"somewhat likely\" and \"somewhat likely\" to \"very likely.\""
   ]
  },
  {
   "cell_type": "raw",
   "metadata": {},
   "source": [
    "The plot command below tells R that the object we wish to plot is s. The command which=1:3 is a list of values indicating levels of y should be included in the plot. If your dependent variable had more than three levels you would need to change the 3 to the number of categories (e.g. 4 for a four category variable, even if it is numbered 0, 1, 2, 3). The command pch=1:3 selects the markers to use, and is optional, as are xlab='logit' which labels the x-axis, and main=' ' which sets the main label for the graph to blank. If the proportional odds assumption holds, for each predictor variable, distance between the symbols for each set of categories of the dependent variable, should remain similar. To help demonstrate this, we normalized all the first set of coefficients to be zero so there is a common reference point. Looking at the coefficients for the variable pared we see that the distance between the two sets of coefficients is similar. In contrast, the distances between the estimates for public are different (i.e. the markers are much further apart on the second line than on the first), suggesting that the proportional odds assumption may not hold."
   ]
  },
  {
   "cell_type": "code",
   "execution_count": 19,
   "metadata": {},
   "outputs": [
    {
     "data": {
      "text/plain": [
       "as.numeric(apply)     N= 400 \n",
       "\n",
       "+-------+-----------+---+----+----+---------+\n",
       "|       |           |N  |Y>=1|Y>=2|Y>=3     |\n",
       "+-------+-----------+---+----+----+---------+\n",
       "|pared  |No         |337|Inf |0   |-2.062399|\n",
       "|       |Yes        | 63|Inf |0   |-2.112541|\n",
       "+-------+-----------+---+----+----+---------+\n",
       "|public |No         |343|Inf |0   |-2.140211|\n",
       "|       |Yes        | 57|Inf |0   |-1.371672|\n",
       "+-------+-----------+---+----+----+---------+\n",
       "|gpa    |[1.90,2.73)|102|Inf |0   |-2.375287|\n",
       "|       |[2.73,3.00)| 99|Inf |0   |-2.038434|\n",
       "|       |[3.00,3.28)|100|Inf |0   |-1.890070|\n",
       "|       |[3.28,4.00]| 99|Inf |0   |-1.864219|\n",
       "+-------+-----------+---+----+----+---------+\n",
       "|Overall|           |400|Inf |0   |-1.996554|\n",
       "+-------+-----------+---+----+----+---------+"
      ]
     },
     "metadata": {},
     "output_type": "display_data"
    }
   ],
   "source": [
    "s[, 4] <- s[, 4] - s[, 3]\n",
    "s[, 3] <- s[, 3] - s[, 3]\n",
    "\n",
    "# print\n",
    "s"
   ]
  },
  {
   "cell_type": "code",
   "execution_count": 20,
   "metadata": {},
   "outputs": [
    {
     "data": {
      "image/png": "[encoded data removed]",
      "text/plain": [
       "Plot with title \" \""
      ]
     },
     "metadata": {},
     "output_type": "display_data"
    }
   ],
   "source": [
    "plot(s, which=1:3, pch=1:3, xlab='logit', main=' ', xlim=range(s[,3:4]))"
   ]
  },
  {
   "cell_type": "raw",
   "metadata": {},
   "source": [
    "Once we are done assessing whether the assumptions of our model hold, we can obtain predicted probabilities, which are usually easier to understand than either the coefficients or the odds ratios. For example, we can vary gpa for each level of pared and public and calculate the probability of being in each category of apply. We do this by creating a new dataset of all the values to use for prediction."
   ]
  },
  {
   "cell_type": "code",
   "execution_count": 21,
   "metadata": {},
   "outputs": [
    {
     "data": {
      "text/html": [
       "<table>\n",
       "<thead><tr><th scope=col>pared</th><th scope=col>public</th><th scope=col>gpa</th><th scope=col>unlikely</th><th scope=col>somewhat likely</th><th scope=col>very likely</th></tr></thead>\n",
       "<tbody>\n",
       "\t<tr><td>0         </td><td>0         </td><td>1.900000  </td><td>0.7376186 </td><td>0.2204577 </td><td>0.04192370</td></tr>\n",
       "\t<tr><td>1         </td><td>0         </td><td>1.921212  </td><td>0.4932185 </td><td>0.3945673 </td><td>0.11221424</td></tr>\n",
       "\t<tr><td>0         </td><td>0         </td><td>1.942424  </td><td>0.7325300 </td><td>0.2244841 </td><td>0.04298593</td></tr>\n",
       "\t<tr><td>1         </td><td>0         </td><td>1.963636  </td><td>0.4866885 </td><td>0.3984676 </td><td>0.11484395</td></tr>\n",
       "\t<tr><td>0         </td><td>0         </td><td>1.984848  </td><td>0.7273792 </td><td>0.2285470 </td><td>0.04407383</td></tr>\n",
       "\t<tr><td>1         </td><td>0         </td><td>2.006061  </td><td>0.4801630 </td><td>0.4023098 </td><td>0.11752712</td></tr>\n",
       "</tbody>\n",
       "</table>\n"
      ],
      "text/latex": [
       "\\begin{tabular}{r|llllll}\n",
       " pared & public & gpa & unlikely & somewhat likely & very likely\\\\\n",
       "\\hline\n",
       "\t 0          & 0          & 1.900000   & 0.7376186  & 0.2204577  & 0.04192370\\\\\n",
       "\t 1          & 0          & 1.921212   & 0.4932185  & 0.3945673  & 0.11221424\\\\\n",
       "\t 0          & 0          & 1.942424   & 0.7325300  & 0.2244841  & 0.04298593\\\\\n",
       "\t 1          & 0          & 1.963636   & 0.4866885  & 0.3984676  & 0.11484395\\\\\n",
       "\t 0          & 0          & 1.984848   & 0.7273792  & 0.2285470  & 0.04407383\\\\\n",
       "\t 1          & 0          & 2.006061   & 0.4801630  & 0.4023098  & 0.11752712\\\\\n",
       "\\end{tabular}\n"
      ],
      "text/markdown": [
       "\n",
       "| pared | public | gpa | unlikely | somewhat likely | very likely |\n",
       "|---|---|---|---|---|---|\n",
       "| 0          | 0          | 1.900000   | 0.7376186  | 0.2204577  | 0.04192370 |\n",
       "| 1          | 0          | 1.921212   | 0.4932185  | 0.3945673  | 0.11221424 |\n",
       "| 0          | 0          | 1.942424   | 0.7325300  | 0.2244841  | 0.04298593 |\n",
       "| 1          | 0          | 1.963636   | 0.4866885  | 0.3984676  | 0.11484395 |\n",
       "| 0          | 0          | 1.984848   | 0.7273792  | 0.2285470  | 0.04407383 |\n",
       "| 1          | 0          | 2.006061   | 0.4801630  | 0.4023098  | 0.11752712 |\n",
       "\n"
      ],
      "text/plain": [
       "  pared public gpa      unlikely  somewhat likely very likely\n",
       "1 0     0      1.900000 0.7376186 0.2204577       0.04192370 \n",
       "2 1     0      1.921212 0.4932185 0.3945673       0.11221424 \n",
       "3 0     0      1.942424 0.7325300 0.2244841       0.04298593 \n",
       "4 1     0      1.963636 0.4866885 0.3984676       0.11484395 \n",
       "5 0     0      1.984848 0.7273792 0.2285470       0.04407383 \n",
       "6 1     0      2.006061 0.4801630 0.4023098       0.11752712 "
      ]
     },
     "metadata": {},
     "output_type": "display_data"
    }
   ],
   "source": [
    "newdat <- data.frame(\n",
    "          pared = rep(0:1, 200),\n",
    "          public = rep(0:1, each = 200),\n",
    "          gpa = rep(seq(from = 1.9, to = 4, length.out = 100), 4))\n",
    "newdat <- cbind(newdat, predict(m, newdat, type = \"probs\"))\n",
    "\n",
    "##show first few rows\n",
    "head(newdat)"
   ]
  },
  {
   "cell_type": "raw",
   "metadata": {},
   "source": [
    "Now we can reshape the data long with the reshape2 package and plot all of the predicted probabilities for the different conditions. We plot the predicted probilities, connected with a line, coloured by level of the outcome, apply, and facetted by level of pared and public. We also use a custom label function, to add clearer labels showing what each column and row of the plot represent."
   ]
  },
  {
   "cell_type": "code",
   "execution_count": 22,
   "metadata": {},
   "outputs": [
    {
     "data": {
      "text/html": [
       "<table>\n",
       "<thead><tr><th scope=col>pared</th><th scope=col>public</th><th scope=col>gpa</th><th scope=col>Level</th><th scope=col>Probability</th></tr></thead>\n",
       "<tbody>\n",
       "\t<tr><td>0        </td><td>0        </td><td>1.900000 </td><td>unlikely </td><td>0.7376186</td></tr>\n",
       "\t<tr><td>1        </td><td>0        </td><td>1.921212 </td><td>unlikely </td><td>0.4932185</td></tr>\n",
       "\t<tr><td>0        </td><td>0        </td><td>1.942424 </td><td>unlikely </td><td>0.7325300</td></tr>\n",
       "\t<tr><td>1        </td><td>0        </td><td>1.963636 </td><td>unlikely </td><td>0.4866885</td></tr>\n",
       "\t<tr><td>0        </td><td>0        </td><td>1.984848 </td><td>unlikely </td><td>0.7273792</td></tr>\n",
       "\t<tr><td>1        </td><td>0        </td><td>2.006061 </td><td>unlikely </td><td>0.4801630</td></tr>\n",
       "</tbody>\n",
       "</table>\n"
      ],
      "text/latex": [
       "\\begin{tabular}{r|lllll}\n",
       " pared & public & gpa & Level & Probability\\\\\n",
       "\\hline\n",
       "\t 0         & 0         & 1.900000  & unlikely  & 0.7376186\\\\\n",
       "\t 1         & 0         & 1.921212  & unlikely  & 0.4932185\\\\\n",
       "\t 0         & 0         & 1.942424  & unlikely  & 0.7325300\\\\\n",
       "\t 1         & 0         & 1.963636  & unlikely  & 0.4866885\\\\\n",
       "\t 0         & 0         & 1.984848  & unlikely  & 0.7273792\\\\\n",
       "\t 1         & 0         & 2.006061  & unlikely  & 0.4801630\\\\\n",
       "\\end{tabular}\n"
      ],
      "text/markdown": [
       "\n",
       "| pared | public | gpa | Level | Probability |\n",
       "|---|---|---|---|---|\n",
       "| 0         | 0         | 1.900000  | unlikely  | 0.7376186 |\n",
       "| 1         | 0         | 1.921212  | unlikely  | 0.4932185 |\n",
       "| 0         | 0         | 1.942424  | unlikely  | 0.7325300 |\n",
       "| 1         | 0         | 1.963636  | unlikely  | 0.4866885 |\n",
       "| 0         | 0         | 1.984848  | unlikely  | 0.7273792 |\n",
       "| 1         | 0         | 2.006061  | unlikely  | 0.4801630 |\n",
       "\n"
      ],
      "text/plain": [
       "  pared public gpa      Level    Probability\n",
       "1 0     0      1.900000 unlikely 0.7376186  \n",
       "2 1     0      1.921212 unlikely 0.4932185  \n",
       "3 0     0      1.942424 unlikely 0.7325300  \n",
       "4 1     0      1.963636 unlikely 0.4866885  \n",
       "5 0     0      1.984848 unlikely 0.7273792  \n",
       "6 1     0      2.006061 unlikely 0.4801630  "
      ]
     },
     "metadata": {},
     "output_type": "display_data"
    }
   ],
   "source": [
    "lnewdat <- melt(newdat, id.vars = c(\"pared\", \"public\", \"gpa\"), variable.name = \"Level\", value.name=\"Probability\")\n",
    "\n",
    "## view first few rows\n",
    "head(lnewdat)"
   ]
  },
  {
   "cell_type": "code",
   "execution_count": 23,
   "metadata": {},
   "outputs": [
    {
     "data": {
      "image/png": "[encoded data removed]",
      "text/plain": [
       "plot without title"
      ]
     },
     "metadata": {},
     "output_type": "display_data"
    }
   ],
   "source": [
    "ggplot(lnewdat, aes(x = gpa, y = Probability, colour = Level)) +\n",
    "    geom_line() + facet_grid(pared ~ public, scales=\"free\")"
   ]
  },
  {
   "cell_type": "markdown",
   "metadata": {},
   "source": [
    "### Things to consider"
   ]
  },
  {
   "cell_type": "raw",
   "metadata": {},
   "source": [
    "•Perfect prediction: Perfect prediction means that one value of a predictor variable is associated with only one value of the response variable. If this happens, Stata will usually issue a note at the top of the output and will drop the cases so that the model can run.\n",
    "\n",
    "•Sample size: Both ordered logistic and ordered probit, using maximum likelihood estimates, require sufficient sample size. How big is big is a topic of some debate, but they almost always require more cases than OLS regression.\n",
    "\n",
    "•Empty cells or small cells: You should check for empty or small cells by doing a crosstab between categorical predictors and the outcome variable. If a cell has very few cases, the model may become unstable or it might not run at all.\n",
    "\n",
    "•Pseudo-R-squared: There is no exact analog of the R-squared found in OLS. There are many versions of pseudo-R-squares. Please see Long and Freese 2005 for more details and explanations of various pseudo-R-squares.\n",
    "\n",
    "•Diagnostics: Doing diagnostics for non-linear models is difficult, and ordered logit/probit models are even more difficult than binary models."
   ]
  }
 ],
 "metadata": {
  "kernelspec": {
   "display_name": "R",
   "language": "R",
   "name": "ir"
  },
  "language_info": {
   "codemirror_mode": "r",
   "file_extension": ".r",
   "mimetype": "text/x-r-source",
   "name": "R",
   "pygments_lexer": "r",
   "version": "3.6.1"
  }
 },
 "nbformat": 4,
 "nbformat_minor": 2
}
