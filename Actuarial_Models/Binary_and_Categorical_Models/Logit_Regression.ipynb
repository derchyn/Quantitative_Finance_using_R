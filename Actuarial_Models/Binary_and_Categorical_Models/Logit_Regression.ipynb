{
 "cells": [
  {
   "cell_type": "raw",
   "metadata": {},
   "source": [
    "Logistic regression, also called a logit model, is used to model dichotomous outcome variables. In the logit model the log odds of the outcome is modeled as a linear combination of the predictor variables."
   ]
  },
  {
   "cell_type": "raw",
   "metadata": {},
   "source": [
    "This page uses the following packages. Make sure that you can load them before trying to run the examples on this page. If you do not have a package installed, run: install.packages(\"packagename\"), or if you see the version is out of date, run: update.packages()."
   ]
  },
  {
   "cell_type": "code",
   "execution_count": 1,
   "metadata": {},
   "outputs": [],
   "source": [
    "library(aod)\n",
    "library(ggplot2)"
   ]
  },
  {
   "cell_type": "markdown",
   "metadata": {},
   "source": [
    "### Examples"
   ]
  },
  {
   "cell_type": "raw",
   "metadata": {},
   "source": [
    "Example 1. Suppose that we are interested in the factors that influence whether a political candidate wins an election. The outcome (response) variable is binary (0/1); win or lose. The predictor variables of interest are the amount of money spent on the campaign, the amount of time spent campaigning negatively and whether or not the candidate is an incumbent.\n",
    "\n",
    "Example 2. A researcher is interested in how variables, such as GRE (Graduate Record Exam scores), GPA (grade point average) and prestige of the undergraduate institution, effect admission into graduate school. The response variable, admit/don't admit, is a binary variable."
   ]
  },
  {
   "cell_type": "markdown",
   "metadata": {},
   "source": [
    "### Description of the data"
   ]
  },
  {
   "cell_type": "raw",
   "metadata": {},
   "source": [
    "For our data analysis below, we are going to expand on Example 2 about getting into graduate school. We have generated hypothetical data, which can be obtained from our website from within R. Note that R requires forward slashes (/) not back slashes (\\) when specifying a file location even if the file is on your hard drive."
   ]
  },
  {
   "cell_type": "code",
   "execution_count": 2,
   "metadata": {},
   "outputs": [
    {
     "data": {
      "text/html": [
       "<table>\n",
       "<thead><tr><th scope=col>admit</th><th scope=col>gre</th><th scope=col>gpa</th><th scope=col>rank</th></tr></thead>\n",
       "<tbody>\n",
       "\t<tr><td>0   </td><td>380 </td><td>3.61</td><td>3   </td></tr>\n",
       "\t<tr><td>1   </td><td>660 </td><td>3.67</td><td>3   </td></tr>\n",
       "\t<tr><td>1   </td><td>800 </td><td>4.00</td><td>1   </td></tr>\n",
       "\t<tr><td>1   </td><td>640 </td><td>3.19</td><td>4   </td></tr>\n",
       "\t<tr><td>0   </td><td>520 </td><td>2.93</td><td>4   </td></tr>\n",
       "\t<tr><td>1   </td><td>760 </td><td>3.00</td><td>2   </td></tr>\n",
       "</tbody>\n",
       "</table>\n"
      ],
      "text/latex": [
       "\\begin{tabular}{r|llll}\n",
       " admit & gre & gpa & rank\\\\\n",
       "\\hline\n",
       "\t 0    & 380  & 3.61 & 3   \\\\\n",
       "\t 1    & 660  & 3.67 & 3   \\\\\n",
       "\t 1    & 800  & 4.00 & 1   \\\\\n",
       "\t 1    & 640  & 3.19 & 4   \\\\\n",
       "\t 0    & 520  & 2.93 & 4   \\\\\n",
       "\t 1    & 760  & 3.00 & 2   \\\\\n",
       "\\end{tabular}\n"
      ],
      "text/markdown": [
       "\n",
       "| admit | gre | gpa | rank |\n",
       "|---|---|---|---|\n",
       "| 0    | 380  | 3.61 | 3    |\n",
       "| 1    | 660  | 3.67 | 3    |\n",
       "| 1    | 800  | 4.00 | 1    |\n",
       "| 1    | 640  | 3.19 | 4    |\n",
       "| 0    | 520  | 2.93 | 4    |\n",
       "| 1    | 760  | 3.00 | 2    |\n",
       "\n"
      ],
      "text/plain": [
       "  admit gre gpa  rank\n",
       "1 0     380 3.61 3   \n",
       "2 1     660 3.67 3   \n",
       "3 1     800 4.00 1   \n",
       "4 1     640 3.19 4   \n",
       "5 0     520 2.93 4   \n",
       "6 1     760 3.00 2   "
      ]
     },
     "metadata": {},
     "output_type": "display_data"
    }
   ],
   "source": [
    "mydata <- read.csv(\"./datasets/binary.csv\")\n",
    "\n",
    "## view the first few rows of the data\n",
    "head(mydata)"
   ]
  },
  {
   "cell_type": "raw",
   "metadata": {},
   "source": [
    "This dataset has a binary response (outcome, dependent) variable called admit. There are three predictor variables: gre, gpa and rank. We will treat the variables gre and gpa as continuous. The variable rank takes on the values 1 through 4. Institutions with a rank of 1 have the highest prestige, while those with a rank of 4 have the lowest. We can get basic descriptives for the entire data set by using summary. To get the standard deviations, we use sapply to apply the sd function to each variable in the dataset."
   ]
  },
  {
   "cell_type": "code",
   "execution_count": 3,
   "metadata": {},
   "outputs": [
    {
     "data": {
      "text/plain": [
       "     admit             gre             gpa             rank      \n",
       " Min.   :0.0000   Min.   :220.0   Min.   :2.260   Min.   :1.000  \n",
       " 1st Qu.:0.0000   1st Qu.:520.0   1st Qu.:3.130   1st Qu.:2.000  \n",
       " Median :0.0000   Median :580.0   Median :3.395   Median :2.000  \n",
       " Mean   :0.3175   Mean   :587.7   Mean   :3.390   Mean   :2.485  \n",
       " 3rd Qu.:1.0000   3rd Qu.:660.0   3rd Qu.:3.670   3rd Qu.:3.000  \n",
       " Max.   :1.0000   Max.   :800.0   Max.   :4.000   Max.   :4.000  "
      ]
     },
     "metadata": {},
     "output_type": "display_data"
    }
   ],
   "source": [
    "summary(mydata)"
   ]
  },
  {
   "cell_type": "code",
   "execution_count": 4,
   "metadata": {},
   "outputs": [
    {
     "data": {
      "text/html": [
       "<dl class=dl-horizontal>\n",
       "\t<dt>admit</dt>\n",
       "\t\t<dd>0.466086732384932</dd>\n",
       "\t<dt>gre</dt>\n",
       "\t\t<dd>115.516536372238</dd>\n",
       "\t<dt>gpa</dt>\n",
       "\t\t<dd>0.380566771630384</dd>\n",
       "\t<dt>rank</dt>\n",
       "\t\t<dd>0.944460169902007</dd>\n",
       "</dl>\n"
      ],
      "text/latex": [
       "\\begin{description*}\n",
       "\\item[admit] 0.466086732384932\n",
       "\\item[gre] 115.516536372238\n",
       "\\item[gpa] 0.380566771630384\n",
       "\\item[rank] 0.944460169902007\n",
       "\\end{description*}\n"
      ],
      "text/markdown": [
       "admit\n",
       ":   0.466086732384932gre\n",
       ":   115.516536372238gpa\n",
       ":   0.380566771630384rank\n",
       ":   0.944460169902007\n",
       "\n"
      ],
      "text/plain": [
       "      admit         gre         gpa        rank \n",
       "  0.4660867 115.5165364   0.3805668   0.9444602 "
      ]
     },
     "metadata": {},
     "output_type": "display_data"
    }
   ],
   "source": [
    "sapply(mydata, sd)"
   ]
  },
  {
   "cell_type": "code",
   "execution_count": 5,
   "metadata": {},
   "outputs": [
    {
     "data": {
      "text/plain": [
       "     rank\n",
       "admit  1  2  3  4\n",
       "    0 28 97 93 55\n",
       "    1 33 54 28 12"
      ]
     },
     "metadata": {},
     "output_type": "display_data"
    }
   ],
   "source": [
    "## two-way contingency table of categorical outcome and predictors we want\n",
    "## to make sure there are not 0 cells\n",
    "xtabs(~admit + rank, data = mydata)"
   ]
  },
  {
   "cell_type": "markdown",
   "metadata": {},
   "source": [
    "### Analysis methods you might consider"
   ]
  },
  {
   "cell_type": "raw",
   "metadata": {},
   "source": [
    "Below is a list of some analysis methods you may have encountered. Some of the methods listed are quite reasonable while others have either fallen out of favor or have limitations.\n",
    "\n",
    "•Logistic regression, the focus of this page.\n",
    "\n",
    "•Probit regression. Probit analysis will produce results similar logistic regression. The choice of probit versus logit depends largely on individual preferences. \n",
    "\n",
    "•OLS regression. When used with a binary response variable, this model is known as a linear probability model and can be used as a way to describe conditional probabilities. However, the errors (i.e., residuals) from the linear probability model violate the homoskedasticity and normality of errors assumptions of OLS regression, resulting in invalid standard errors and hypothesis tests. For a more thorough discussion of these and other problems with the linear probability model, see Long (1997, p. 38-40).\n",
    "\n",
    "•Two-group discriminant function analysis. A multivariate method for dichotomous outcome variables.\n",
    "\n",
    "•Hotelling's T2. The 0/1 outcome is turned into the grouping variable, and the former predictors are turned into outcome variables. This will produce an overall test of significance but will not give individual coefficients for each variable, and it is unclear the extent to which each \"predictor\" is adjusted for the impact of the other \"predictors.\""
   ]
  },
  {
   "cell_type": "markdown",
   "metadata": {},
   "source": [
    "### Using the logit model"
   ]
  },
  {
   "cell_type": "raw",
   "metadata": {},
   "source": [
    "The code below estimates a logistic regression model using the glm (generalized linear model) function. First, we convert rank to a factor to indicate that rank should be treated as a categorical variable."
   ]
  },
  {
   "cell_type": "code",
   "execution_count": 6,
   "metadata": {},
   "outputs": [],
   "source": [
    "mydata$rank <- factor(mydata$rank)\n",
    "mylogit <- glm(admit ~ gre + gpa + rank, data = mydata, family = \"binomial\")"
   ]
  },
  {
   "cell_type": "raw",
   "metadata": {},
   "source": [
    "Since we gave our model a name (mylogit), R will not produce any output from our regression. In order to get the results we use the summary command:"
   ]
  },
  {
   "cell_type": "code",
   "execution_count": 7,
   "metadata": {},
   "outputs": [
    {
     "data": {
      "text/plain": [
       "\n",
       "Call:\n",
       "glm(formula = admit ~ gre + gpa + rank, family = \"binomial\", \n",
       "    data = mydata)\n",
       "\n",
       "Deviance Residuals: \n",
       "    Min       1Q   Median       3Q      Max  \n",
       "-1.6268  -0.8662  -0.6388   1.1490   2.0790  \n",
       "\n",
       "Coefficients:\n",
       "             Estimate Std. Error z value Pr(>|z|)    \n",
       "(Intercept) -3.989979   1.139951  -3.500 0.000465 ***\n",
       "gre          0.002264   0.001094   2.070 0.038465 *  \n",
       "gpa          0.804038   0.331819   2.423 0.015388 *  \n",
       "rank2       -0.675443   0.316490  -2.134 0.032829 *  \n",
       "rank3       -1.340204   0.345306  -3.881 0.000104 ***\n",
       "rank4       -1.551464   0.417832  -3.713 0.000205 ***\n",
       "---\n",
       "Signif. codes:  0 '***' 0.001 '**' 0.01 '*' 0.05 '.' 0.1 ' ' 1\n",
       "\n",
       "(Dispersion parameter for binomial family taken to be 1)\n",
       "\n",
       "    Null deviance: 499.98  on 399  degrees of freedom\n",
       "Residual deviance: 458.52  on 394  degrees of freedom\n",
       "AIC: 470.52\n",
       "\n",
       "Number of Fisher Scoring iterations: 4\n"
      ]
     },
     "metadata": {},
     "output_type": "display_data"
    }
   ],
   "source": [
    "summary(mylogit)"
   ]
  },
  {
   "cell_type": "raw",
   "metadata": {},
   "source": [
    "•In the output above, the first thing we see is the call, this is R reminding us what the model we ran was, what options we specified, etc.\n",
    "\n",
    "• Next we see the deviance residuals, which are a measure of model fit. This part of output shows the distribution of the deviance residuals for individual cases used in the model. Below we discuss how to use summaries of the deviance statistic to assess model fit.\n",
    "\n",
    "•The next part of the output shows the coefficients, their standard errors, the z-statistic (sometimes called a Wald z-statistic), and the associated p-values. Both gre and gpa are statistically significant, as are the three terms for rank. The logistic regression coefficients give the change in the log odds of the outcome for a one unit increase in the predictor variable. ◦For every one unit change in gre, the log odds of admission (versus non-admission) increases by 0.002.\n",
    "\n",
    "◦For a one unit increase in gpa, the log odds of being admitted to graduate school increases by 0.804.\n",
    "◦The indicator variables for rank have a slightly different interpretation. For example, having attended an undergraduate institution with rank of 2, versus an institution with a rank of 1, changes the log odds of admission by -0.675.\n",
    "\n",
    "•Below the table of coefficients are fit indices, including the null and deviance residuals and the AIC. Later we show an example of how you can use these values to help assess model fit."
   ]
  },
  {
   "cell_type": "raw",
   "metadata": {},
   "source": [
    "We can use the confint function to obtain confidence intervals for the coefficient estimates. Note that for logistic models, confidence intervals are based on the profiled log-likelihood function. We can also get CIs based on just the standard errors by using the default method."
   ]
  },
  {
   "cell_type": "code",
   "execution_count": 8,
   "metadata": {},
   "outputs": [
    {
     "name": "stderr",
     "output_type": "stream",
     "text": [
      "Waiting for profiling to be done...\n"
     ]
    },
    {
     "data": {
      "text/html": [
       "<table>\n",
       "<thead><tr><th></th><th scope=col>2.5 %</th><th scope=col>97.5 %</th></tr></thead>\n",
       "<tbody>\n",
       "\t<tr><th scope=row>(Intercept)</th><td>-6.2716202334</td><td>-1.792547080 </td></tr>\n",
       "\t<tr><th scope=row>gre</th><td> 0.0001375921</td><td> 0.004435874 </td></tr>\n",
       "\t<tr><th scope=row>gpa</th><td> 0.1602959439</td><td> 1.464142727 </td></tr>\n",
       "\t<tr><th scope=row>rank2</th><td>-1.3008888002</td><td>-0.056745722 </td></tr>\n",
       "\t<tr><th scope=row>rank3</th><td>-2.0276713127</td><td>-0.670372346 </td></tr>\n",
       "\t<tr><th scope=row>rank4</th><td>-2.4000265384</td><td>-0.753542605 </td></tr>\n",
       "</tbody>\n",
       "</table>\n"
      ],
      "text/latex": [
       "\\begin{tabular}{r|ll}\n",
       "  & 2.5 \\% & 97.5 \\%\\\\\n",
       "\\hline\n",
       "\t(Intercept) & -6.2716202334 & -1.792547080 \\\\\n",
       "\tgre &  0.0001375921 &  0.004435874 \\\\\n",
       "\tgpa &  0.1602959439 &  1.464142727 \\\\\n",
       "\trank2 & -1.3008888002 & -0.056745722 \\\\\n",
       "\trank3 & -2.0276713127 & -0.670372346 \\\\\n",
       "\trank4 & -2.4000265384 & -0.753542605 \\\\\n",
       "\\end{tabular}\n"
      ],
      "text/markdown": [
       "\n",
       "| <!--/--> | 2.5 % | 97.5 % |\n",
       "|---|---|---|\n",
       "| (Intercept) | -6.2716202334 | -1.792547080  |\n",
       "| gre |  0.0001375921 |  0.004435874  |\n",
       "| gpa |  0.1602959439 |  1.464142727  |\n",
       "| rank2 | -1.3008888002 | -0.056745722  |\n",
       "| rank3 | -2.0276713127 | -0.670372346  |\n",
       "| rank4 | -2.4000265384 | -0.753542605  |\n",
       "\n"
      ],
      "text/plain": [
       "            2.5 %         97.5 %      \n",
       "(Intercept) -6.2716202334 -1.792547080\n",
       "gre          0.0001375921  0.004435874\n",
       "gpa          0.1602959439  1.464142727\n",
       "rank2       -1.3008888002 -0.056745722\n",
       "rank3       -2.0276713127 -0.670372346\n",
       "rank4       -2.4000265384 -0.753542605"
      ]
     },
     "metadata": {},
     "output_type": "display_data"
    }
   ],
   "source": [
    "## CIs using profiled log-likelihood\n",
    "confint(mylogit)"
   ]
  },
  {
   "cell_type": "code",
   "execution_count": 9,
   "metadata": {},
   "outputs": [
    {
     "data": {
      "text/html": [
       "<table>\n",
       "<thead><tr><th></th><th scope=col>2.5 %</th><th scope=col>97.5 %</th></tr></thead>\n",
       "<tbody>\n",
       "\t<tr><th scope=row>(Intercept)</th><td>-6.2242418514</td><td>-1.755716295 </td></tr>\n",
       "\t<tr><th scope=row>gre</th><td> 0.0001202298</td><td> 0.004408622 </td></tr>\n",
       "\t<tr><th scope=row>gpa</th><td> 0.1536836760</td><td> 1.454391423 </td></tr>\n",
       "\t<tr><th scope=row>rank2</th><td>-1.2957512650</td><td>-0.055134591 </td></tr>\n",
       "\t<tr><th scope=row>rank3</th><td>-2.0169920597</td><td>-0.663415773 </td></tr>\n",
       "\t<tr><th scope=row>rank4</th><td>-2.3703986294</td><td>-0.732528724 </td></tr>\n",
       "</tbody>\n",
       "</table>\n"
      ],
      "text/latex": [
       "\\begin{tabular}{r|ll}\n",
       "  & 2.5 \\% & 97.5 \\%\\\\\n",
       "\\hline\n",
       "\t(Intercept) & -6.2242418514 & -1.755716295 \\\\\n",
       "\tgre &  0.0001202298 &  0.004408622 \\\\\n",
       "\tgpa &  0.1536836760 &  1.454391423 \\\\\n",
       "\trank2 & -1.2957512650 & -0.055134591 \\\\\n",
       "\trank3 & -2.0169920597 & -0.663415773 \\\\\n",
       "\trank4 & -2.3703986294 & -0.732528724 \\\\\n",
       "\\end{tabular}\n"
      ],
      "text/markdown": [
       "\n",
       "| <!--/--> | 2.5 % | 97.5 % |\n",
       "|---|---|---|\n",
       "| (Intercept) | -6.2242418514 | -1.755716295  |\n",
       "| gre |  0.0001202298 |  0.004408622  |\n",
       "| gpa |  0.1536836760 |  1.454391423  |\n",
       "| rank2 | -1.2957512650 | -0.055134591  |\n",
       "| rank3 | -2.0169920597 | -0.663415773  |\n",
       "| rank4 | -2.3703986294 | -0.732528724  |\n",
       "\n"
      ],
      "text/plain": [
       "            2.5 %         97.5 %      \n",
       "(Intercept) -6.2242418514 -1.755716295\n",
       "gre          0.0001202298  0.004408622\n",
       "gpa          0.1536836760  1.454391423\n",
       "rank2       -1.2957512650 -0.055134591\n",
       "rank3       -2.0169920597 -0.663415773\n",
       "rank4       -2.3703986294 -0.732528724"
      ]
     },
     "metadata": {},
     "output_type": "display_data"
    }
   ],
   "source": [
    "## CIs using standard errors\n",
    "confint.default(mylogit)"
   ]
  },
  {
   "cell_type": "raw",
   "metadata": {},
   "source": [
    "We can test for an overall effect of rank using the wald.test function of the aod library. The order in which the coefficients are given in the table of coefficients is the same as the order of the terms in the model. This is important because the  wald.test function refers to the coefficients by their order in the model. We use the wald.test function. b supplies the coefficients, while Sigma supplies the variance covariance matrix of the error terms, finally Terms tells R which terms in the model are to be tested, in this case, terms 4, 5, and 6, are the three terms for the levels of rank."
   ]
  },
  {
   "cell_type": "code",
   "execution_count": 10,
   "metadata": {},
   "outputs": [
    {
     "data": {
      "text/plain": [
       "Wald test:\n",
       "----------\n",
       "\n",
       "Chi-squared test:\n",
       "X2 = 20.9, df = 3, P(> X2) = 0.00011"
      ]
     },
     "metadata": {},
     "output_type": "display_data"
    }
   ],
   "source": [
    "wald.test(b = coef(mylogit), Sigma = vcov(mylogit), Terms = 4:6)"
   ]
  },
  {
   "cell_type": "raw",
   "metadata": {},
   "source": [
    "The chi-squared test statistic of 20.9, with three degrees of freedom is associated with a p-value of 0.00011 indicating that the overall effect of rank is statistically significant."
   ]
  },
  {
   "cell_type": "raw",
   "metadata": {},
   "source": [
    "We can also test additional hypotheses about the differences in the coefficients for the different levels of rank. Below we test that the coefficient for rank=2 is equal to the coefficient for rank=3. The first line of code below creates a vector l that defines the test we want to perform. In this case, we want to test the difference (subtraction) of the terms for rank=2 and rank=3 (i.e., the 4th and 5th terms in the model). To contrast these two terms, we multiply one of them by 1, and the other by -1. The other terms in the model are not involved in the test, so they are multiplied by 0. The second line of code below uses L=l to tell R that we wish to base the test on the vector l (rather than using the Terms option as we did above)."
   ]
  },
  {
   "cell_type": "code",
   "execution_count": 11,
   "metadata": {},
   "outputs": [
    {
     "data": {
      "text/plain": [
       "Wald test:\n",
       "----------\n",
       "\n",
       "Chi-squared test:\n",
       "X2 = 5.5, df = 1, P(> X2) = 0.019"
      ]
     },
     "metadata": {},
     "output_type": "display_data"
    }
   ],
   "source": [
    "l <- cbind(0, 0, 0, 1, -1, 0)\n",
    "wald.test(b = coef(mylogit), Sigma = vcov(mylogit), L = l)"
   ]
  },
  {
   "cell_type": "raw",
   "metadata": {},
   "source": [
    "The chi-squared test statistic of 5.5 with 1 degree of freedom is associated with a p-value of 0.019, indicating that the difference between the coefficient for rank=2 and the coefficient for rank=3 is statistically significant."
   ]
  },
  {
   "cell_type": "raw",
   "metadata": {},
   "source": [
    "You can also exponentiate the coefficients and interpret them as odds-ratios. R will do this computation for you. To get the exponentiated coefficients, you tell R that you want to exponentiate (exp), and that the object you want to exponentiate is called coefficients and it is part of mylogit (coef(mylogit)). We can use the same logic to get odds ratios and their confidence intervals, by exponentiating the confidence intervals from before. To put it all in one table, we use cbind to bind the coefficients and confidence intervals column-wise."
   ]
  },
  {
   "cell_type": "code",
   "execution_count": 12,
   "metadata": {},
   "outputs": [
    {
     "data": {
      "text/html": [
       "<dl class=dl-horizontal>\n",
       "\t<dt>(Intercept)</dt>\n",
       "\t\t<dd>0.0185001012612634</dd>\n",
       "\t<dt>gre</dt>\n",
       "\t\t<dd>1.00226699153453</dd>\n",
       "\t<dt>gpa</dt>\n",
       "\t\t<dd>2.23454482427122</dd>\n",
       "\t<dt>rank2</dt>\n",
       "\t\t<dd>0.508930950928135</dd>\n",
       "\t<dt>rank3</dt>\n",
       "\t\t<dd>0.261792279380111</dd>\n",
       "\t<dt>rank4</dt>\n",
       "\t\t<dd>0.211937538610398</dd>\n",
       "</dl>\n"
      ],
      "text/latex": [
       "\\begin{description*}\n",
       "\\item[(Intercept)] 0.0185001012612634\n",
       "\\item[gre] 1.00226699153453\n",
       "\\item[gpa] 2.23454482427122\n",
       "\\item[rank2] 0.508930950928135\n",
       "\\item[rank3] 0.261792279380111\n",
       "\\item[rank4] 0.211937538610398\n",
       "\\end{description*}\n"
      ],
      "text/markdown": [
       "(Intercept)\n",
       ":   0.0185001012612634gre\n",
       ":   1.00226699153453gpa\n",
       ":   2.23454482427122rank2\n",
       ":   0.508930950928135rank3\n",
       ":   0.261792279380111rank4\n",
       ":   0.211937538610398\n",
       "\n"
      ],
      "text/plain": [
       "(Intercept)         gre         gpa       rank2       rank3       rank4 \n",
       "  0.0185001   1.0022670   2.2345448   0.5089310   0.2617923   0.2119375 "
      ]
     },
     "metadata": {},
     "output_type": "display_data"
    }
   ],
   "source": [
    "## odds ratios only\n",
    "exp(coef(mylogit))"
   ]
  },
  {
   "cell_type": "code",
   "execution_count": 13,
   "metadata": {},
   "outputs": [
    {
     "name": "stderr",
     "output_type": "stream",
     "text": [
      "Waiting for profiling to be done...\n"
     ]
    },
    {
     "data": {
      "text/html": [
       "<table>\n",
       "<thead><tr><th></th><th scope=col>OR</th><th scope=col>2.5 %</th><th scope=col>97.5 %</th></tr></thead>\n",
       "<tbody>\n",
       "\t<tr><th scope=row>(Intercept)</th><td>0.0185001  </td><td>0.001889165</td><td>0.1665354  </td></tr>\n",
       "\t<tr><th scope=row>gre</th><td>1.0022670  </td><td>1.000137602</td><td>1.0044457  </td></tr>\n",
       "\t<tr><th scope=row>gpa</th><td>2.2345448  </td><td>1.173858216</td><td>4.3238349  </td></tr>\n",
       "\t<tr><th scope=row>rank2</th><td>0.5089310  </td><td>0.272289674</td><td>0.9448343  </td></tr>\n",
       "\t<tr><th scope=row>rank3</th><td>0.2617923  </td><td>0.131641717</td><td>0.5115181  </td></tr>\n",
       "\t<tr><th scope=row>rank4</th><td>0.2119375  </td><td>0.090715546</td><td>0.4706961  </td></tr>\n",
       "</tbody>\n",
       "</table>\n"
      ],
      "text/latex": [
       "\\begin{tabular}{r|lll}\n",
       "  & OR & 2.5 \\% & 97.5 \\%\\\\\n",
       "\\hline\n",
       "\t(Intercept) & 0.0185001   & 0.001889165 & 0.1665354  \\\\\n",
       "\tgre & 1.0022670   & 1.000137602 & 1.0044457  \\\\\n",
       "\tgpa & 2.2345448   & 1.173858216 & 4.3238349  \\\\\n",
       "\trank2 & 0.5089310   & 0.272289674 & 0.9448343  \\\\\n",
       "\trank3 & 0.2617923   & 0.131641717 & 0.5115181  \\\\\n",
       "\trank4 & 0.2119375   & 0.090715546 & 0.4706961  \\\\\n",
       "\\end{tabular}\n"
      ],
      "text/markdown": [
       "\n",
       "| <!--/--> | OR | 2.5 % | 97.5 % |\n",
       "|---|---|---|---|\n",
       "| (Intercept) | 0.0185001   | 0.001889165 | 0.1665354   |\n",
       "| gre | 1.0022670   | 1.000137602 | 1.0044457   |\n",
       "| gpa | 2.2345448   | 1.173858216 | 4.3238349   |\n",
       "| rank2 | 0.5089310   | 0.272289674 | 0.9448343   |\n",
       "| rank3 | 0.2617923   | 0.131641717 | 0.5115181   |\n",
       "| rank4 | 0.2119375   | 0.090715546 | 0.4706961   |\n",
       "\n"
      ],
      "text/plain": [
       "            OR        2.5 %       97.5 %   \n",
       "(Intercept) 0.0185001 0.001889165 0.1665354\n",
       "gre         1.0022670 1.000137602 1.0044457\n",
       "gpa         2.2345448 1.173858216 4.3238349\n",
       "rank2       0.5089310 0.272289674 0.9448343\n",
       "rank3       0.2617923 0.131641717 0.5115181\n",
       "rank4       0.2119375 0.090715546 0.4706961"
      ]
     },
     "metadata": {},
     "output_type": "display_data"
    }
   ],
   "source": [
    "## odds ratios and 95% CI\n",
    "exp(cbind(OR = coef(mylogit), confint(mylogit)))"
   ]
  },
  {
   "cell_type": "raw",
   "metadata": {},
   "source": [
    "Now we can say that for a one unit increase in gpa, the odds of being admitted to graduate school (versus not being admitted) increase by a factor of 2.23. For more information on interpreting odds ratios see our FAQ page How do I interpret odds ratios in logistic regression? . Note that while R produces it, the odds ratio for the intercept is not generally interpreted."
   ]
  },
  {
   "cell_type": "raw",
   "metadata": {},
   "source": [
    "You can also use predicted probabilities to help you understand the model. Predicted probabilities can be computed for both categorical and continuous predictor variables. In order to create predicted probabilities we first need to create a new data frame with the values we want the independent variables to take on to create our predictions. "
   ]
  },
  {
   "cell_type": "raw",
   "metadata": {},
   "source": [
    "We will start by calculating the predicted probability of admission at each value of rank, holding gre and gpa at their means. First we create and view the data frame."
   ]
  },
  {
   "cell_type": "code",
   "execution_count": 14,
   "metadata": {},
   "outputs": [
    {
     "data": {
      "text/html": [
       "<table>\n",
       "<thead><tr><th scope=col>gre</th><th scope=col>gpa</th><th scope=col>rank</th></tr></thead>\n",
       "<tbody>\n",
       "\t<tr><td>587.7 </td><td>3.3899</td><td>1     </td></tr>\n",
       "\t<tr><td>587.7 </td><td>3.3899</td><td>2     </td></tr>\n",
       "\t<tr><td>587.7 </td><td>3.3899</td><td>3     </td></tr>\n",
       "\t<tr><td>587.7 </td><td>3.3899</td><td>4     </td></tr>\n",
       "</tbody>\n",
       "</table>\n"
      ],
      "text/latex": [
       "\\begin{tabular}{r|lll}\n",
       " gre & gpa & rank\\\\\n",
       "\\hline\n",
       "\t 587.7  & 3.3899 & 1     \\\\\n",
       "\t 587.7  & 3.3899 & 2     \\\\\n",
       "\t 587.7  & 3.3899 & 3     \\\\\n",
       "\t 587.7  & 3.3899 & 4     \\\\\n",
       "\\end{tabular}\n"
      ],
      "text/markdown": [
       "\n",
       "| gre | gpa | rank |\n",
       "|---|---|---|\n",
       "| 587.7  | 3.3899 | 1      |\n",
       "| 587.7  | 3.3899 | 2      |\n",
       "| 587.7  | 3.3899 | 3      |\n",
       "| 587.7  | 3.3899 | 4      |\n",
       "\n"
      ],
      "text/plain": [
       "  gre   gpa    rank\n",
       "1 587.7 3.3899 1   \n",
       "2 587.7 3.3899 2   \n",
       "3 587.7 3.3899 3   \n",
       "4 587.7 3.3899 4   "
      ]
     },
     "metadata": {},
     "output_type": "display_data"
    }
   ],
   "source": [
    "newdata1 <- with(mydata, data.frame(gre = mean(gre), gpa = mean(gpa), rank = factor(1:4)))\n",
    "\n",
    "## view data frame\n",
    "newdata1"
   ]
  },
  {
   "cell_type": "raw",
   "metadata": {},
   "source": [
    "These objects must have the same names as the variables in your logistic regression above (e.g. in this example the mean for gre must be named gre). Now that we have the data frame we want to use to calculate the predicted probabilities, we can tell R to create the predicted probabilities. The first line of code below is quite compact, we will break it apart to discuss what various components do. The newdata1$rankP tells R that we want to create a new variable in the dataset (data frame) newdata1 called rankP, the rest of the command tells R that the values of rankP should be predictions made using the predict( ) function. The options within the parentheses tell R that the predictions should be based on the analysis mylogit with values of the predictor variables coming from newdata1 and that the type of prediction is a predicted probability (type=\"response\"). The second line of the code lists the values in the data frame newdata1. Although not particularly pretty, this is a table of predicted probabilities."
   ]
  },
  {
   "cell_type": "code",
   "execution_count": 15,
   "metadata": {},
   "outputs": [
    {
     "data": {
      "text/html": [
       "<table>\n",
       "<thead><tr><th scope=col>gre</th><th scope=col>gpa</th><th scope=col>rank</th><th scope=col>rankP</th></tr></thead>\n",
       "<tbody>\n",
       "\t<tr><td>587.7    </td><td>3.3899   </td><td>1        </td><td>0.5166016</td></tr>\n",
       "\t<tr><td>587.7    </td><td>3.3899   </td><td>2        </td><td>0.3522846</td></tr>\n",
       "\t<tr><td>587.7    </td><td>3.3899   </td><td>3        </td><td>0.2186120</td></tr>\n",
       "\t<tr><td>587.7    </td><td>3.3899   </td><td>4        </td><td>0.1846684</td></tr>\n",
       "</tbody>\n",
       "</table>\n"
      ],
      "text/latex": [
       "\\begin{tabular}{r|llll}\n",
       " gre & gpa & rank & rankP\\\\\n",
       "\\hline\n",
       "\t 587.7     & 3.3899    & 1         & 0.5166016\\\\\n",
       "\t 587.7     & 3.3899    & 2         & 0.3522846\\\\\n",
       "\t 587.7     & 3.3899    & 3         & 0.2186120\\\\\n",
       "\t 587.7     & 3.3899    & 4         & 0.1846684\\\\\n",
       "\\end{tabular}\n"
      ],
      "text/markdown": [
       "\n",
       "| gre | gpa | rank | rankP |\n",
       "|---|---|---|---|\n",
       "| 587.7     | 3.3899    | 1         | 0.5166016 |\n",
       "| 587.7     | 3.3899    | 2         | 0.3522846 |\n",
       "| 587.7     | 3.3899    | 3         | 0.2186120 |\n",
       "| 587.7     | 3.3899    | 4         | 0.1846684 |\n",
       "\n"
      ],
      "text/plain": [
       "  gre   gpa    rank rankP    \n",
       "1 587.7 3.3899 1    0.5166016\n",
       "2 587.7 3.3899 2    0.3522846\n",
       "3 587.7 3.3899 3    0.2186120\n",
       "4 587.7 3.3899 4    0.1846684"
      ]
     },
     "metadata": {},
     "output_type": "display_data"
    }
   ],
   "source": [
    "newdata1$rankP <- predict(mylogit, newdata = newdata1, type = \"response\")\n",
    "newdata1"
   ]
  },
  {
   "cell_type": "raw",
   "metadata": {},
   "source": [
    "In the above output we see that the predicted probability of being accepted into a graduate program is 0.52 for students from the highest prestige undergraduate institutions (rank=1), and 0.18 for students from the lowest ranked institutions (rank=4), holding gre and gpa at their means. We can do something very similar to create a table of predicted probabilities varying the value of gre and rank. We are going to plot these, so we will create 100 values of gre between 200 and 800, at each value of rank (i.e., 1, 2, 3, and 4)."
   ]
  },
  {
   "cell_type": "code",
   "execution_count": 16,
   "metadata": {},
   "outputs": [],
   "source": [
    "newdata2 <- with(mydata, data.frame(gre = rep(seq(from = 200, to = 800, length.out = 100),4), \n",
    "                                    gpa = mean(gpa), rank = factor(rep(1:4, each = 100))))"
   ]
  },
  {
   "cell_type": "raw",
   "metadata": {},
   "source": [
    "The code to generate the predicted probabilities (the first line below) is the same as before, except we are also going to ask for standard errors so we can plot a confidence interval. We get the estimates on the link scale and back transform both the predicted values and confidence limits into probabilities."
   ]
  },
  {
   "cell_type": "code",
   "execution_count": 17,
   "metadata": {},
   "outputs": [
    {
     "data": {
      "text/html": [
       "<table>\n",
       "<thead><tr><th scope=col>gre</th><th scope=col>gpa</th><th scope=col>rank</th><th scope=col>fit</th><th scope=col>se.fit</th><th scope=col>residual.scale</th><th scope=col>UL</th><th scope=col>LL</th><th scope=col>PredictedProb</th></tr></thead>\n",
       "<tbody>\n",
       "\t<tr><td>200.0000  </td><td>3.3899    </td><td>1         </td><td>-0.8114870</td><td>0.5147714 </td><td>1         </td><td>0.5492064 </td><td>0.1393812 </td><td>0.3075737 </td></tr>\n",
       "\t<tr><td>206.0606  </td><td>3.3899    </td><td>1         </td><td>-0.7977632</td><td>0.5090986 </td><td>1         </td><td>0.5498513 </td><td>0.1423880 </td><td>0.3105042 </td></tr>\n",
       "\t<tr><td>212.1212  </td><td>3.3899    </td><td>1         </td><td>-0.7840394</td><td>0.5034491 </td><td>1         </td><td>0.5505074 </td><td>0.1454429 </td><td>0.3134499 </td></tr>\n",
       "\t<tr><td>218.1818  </td><td>3.3899    </td><td>1         </td><td>-0.7703156</td><td>0.4978239 </td><td>1         </td><td>0.5511750 </td><td>0.1485460 </td><td>0.3164108 </td></tr>\n",
       "\t<tr><td>224.2424  </td><td>3.3899    </td><td>1         </td><td>-0.7565919</td><td>0.4922237 </td><td>1         </td><td>0.5518545 </td><td>0.1516973 </td><td>0.3193867 </td></tr>\n",
       "\t<tr><td>230.3030  </td><td>3.3899    </td><td>1         </td><td>-0.7428681</td><td>0.4866494 </td><td>1         </td><td>0.5525464 </td><td>0.1548966 </td><td>0.3223773 </td></tr>\n",
       "</tbody>\n",
       "</table>\n"
      ],
      "text/latex": [
       "\\begin{tabular}{r|lllllllll}\n",
       " gre & gpa & rank & fit & se.fit & residual.scale & UL & LL & PredictedProb\\\\\n",
       "\\hline\n",
       "\t 200.0000   & 3.3899     & 1          & -0.8114870 & 0.5147714  & 1          & 0.5492064  & 0.1393812  & 0.3075737 \\\\\n",
       "\t 206.0606   & 3.3899     & 1          & -0.7977632 & 0.5090986  & 1          & 0.5498513  & 0.1423880  & 0.3105042 \\\\\n",
       "\t 212.1212   & 3.3899     & 1          & -0.7840394 & 0.5034491  & 1          & 0.5505074  & 0.1454429  & 0.3134499 \\\\\n",
       "\t 218.1818   & 3.3899     & 1          & -0.7703156 & 0.4978239  & 1          & 0.5511750  & 0.1485460  & 0.3164108 \\\\\n",
       "\t 224.2424   & 3.3899     & 1          & -0.7565919 & 0.4922237  & 1          & 0.5518545  & 0.1516973  & 0.3193867 \\\\\n",
       "\t 230.3030   & 3.3899     & 1          & -0.7428681 & 0.4866494  & 1          & 0.5525464  & 0.1548966  & 0.3223773 \\\\\n",
       "\\end{tabular}\n"
      ],
      "text/markdown": [
       "\n",
       "| gre | gpa | rank | fit | se.fit | residual.scale | UL | LL | PredictedProb |\n",
       "|---|---|---|---|---|---|---|---|---|\n",
       "| 200.0000   | 3.3899     | 1          | -0.8114870 | 0.5147714  | 1          | 0.5492064  | 0.1393812  | 0.3075737  |\n",
       "| 206.0606   | 3.3899     | 1          | -0.7977632 | 0.5090986  | 1          | 0.5498513  | 0.1423880  | 0.3105042  |\n",
       "| 212.1212   | 3.3899     | 1          | -0.7840394 | 0.5034491  | 1          | 0.5505074  | 0.1454429  | 0.3134499  |\n",
       "| 218.1818   | 3.3899     | 1          | -0.7703156 | 0.4978239  | 1          | 0.5511750  | 0.1485460  | 0.3164108  |\n",
       "| 224.2424   | 3.3899     | 1          | -0.7565919 | 0.4922237  | 1          | 0.5518545  | 0.1516973  | 0.3193867  |\n",
       "| 230.3030   | 3.3899     | 1          | -0.7428681 | 0.4866494  | 1          | 0.5525464  | 0.1548966  | 0.3223773  |\n",
       "\n"
      ],
      "text/plain": [
       "  gre      gpa    rank fit        se.fit    residual.scale UL        LL       \n",
       "1 200.0000 3.3899 1    -0.8114870 0.5147714 1              0.5492064 0.1393812\n",
       "2 206.0606 3.3899 1    -0.7977632 0.5090986 1              0.5498513 0.1423880\n",
       "3 212.1212 3.3899 1    -0.7840394 0.5034491 1              0.5505074 0.1454429\n",
       "4 218.1818 3.3899 1    -0.7703156 0.4978239 1              0.5511750 0.1485460\n",
       "5 224.2424 3.3899 1    -0.7565919 0.4922237 1              0.5518545 0.1516973\n",
       "6 230.3030 3.3899 1    -0.7428681 0.4866494 1              0.5525464 0.1548966\n",
       "  PredictedProb\n",
       "1 0.3075737    \n",
       "2 0.3105042    \n",
       "3 0.3134499    \n",
       "4 0.3164108    \n",
       "5 0.3193867    \n",
       "6 0.3223773    "
      ]
     },
     "metadata": {},
     "output_type": "display_data"
    }
   ],
   "source": [
    "newdata3 <- cbind(newdata2, predict(mylogit, newdata = newdata2, type = \"link\", se = TRUE))\n",
    "\n",
    "newdata3 <- within(newdata3, {\n",
    "            PredictedProb <- plogis(fit)\n",
    "            LL <- plogis(fit - (1.96 * se.fit))\n",
    "            UL <- plogis(fit + (1.96 * se.fit))  })\n",
    "\n",
    "## view first few rows of final dataset\n",
    "head(newdata3)"
   ]
  },
  {
   "cell_type": "raw",
   "metadata": {},
   "source": [
    "It can also be helpful to use graphs of predicted probabilities to understand and/or present the model. We will use the ggplot2 package for graphing. Below we make a plot with the predicted probabilities, and 95% confidence intervals."
   ]
  },
  {
   "cell_type": "code",
   "execution_count": 18,
   "metadata": {},
   "outputs": [
    {
     "data": {
      "image/png": "[encoded data removed]",
      "text/plain": [
       "plot without title"
      ]
     },
     "metadata": {},
     "output_type": "display_data"
    }
   ],
   "source": [
    "ggplot(newdata3, aes(x = gre, y = PredictedProb)) + \n",
    "    geom_ribbon(aes(ymin = LL, ymax = UL, fill = rank), alpha = 0.2) + geom_line(aes(colour = rank), size = 1)"
   ]
  },
  {
   "cell_type": "raw",
   "metadata": {},
   "source": [
    "We may also wish to see measures of how well our model fits. This can be particularly useful when comparing competing models. The output produced by summary(mylogit) included indices of fit (shown below the coefficients), including the null and deviance residuals and the AIC. One measure of model fit is the significance of the overall model. This test asks whether the model with predictors fits significantly better than a model with just an intercept (i.e., a null model). The test statistic is the difference between the residual deviance for the model with predictors and the null model. The test statistic is distributed chi-squared with degrees of freedom equal to the differences in degrees of freedom between the current and the null model (i.e., the number of predictor variables in the model). To find the difference in deviance for the two models (i.e., the test statistic) we can use the command: "
   ]
  },
  {
   "cell_type": "code",
   "execution_count": 19,
   "metadata": {},
   "outputs": [
    {
     "data": {
      "text/html": [
       "41.4590250790164"
      ],
      "text/latex": [
       "41.4590250790164"
      ],
      "text/markdown": [
       "41.4590250790164"
      ],
      "text/plain": [
       "[1] 41.45903"
      ]
     },
     "metadata": {},
     "output_type": "display_data"
    }
   ],
   "source": [
    "with(mylogit, null.deviance - deviance)"
   ]
  },
  {
   "cell_type": "raw",
   "metadata": {},
   "source": [
    "The degrees of freedom for the difference between the two models is equal to the number of predictor variables in the mode, and can be obtained using:"
   ]
  },
  {
   "cell_type": "code",
   "execution_count": 20,
   "metadata": {},
   "outputs": [
    {
     "data": {
      "text/html": [
       "5"
      ],
      "text/latex": [
       "5"
      ],
      "text/markdown": [
       "5"
      ],
      "text/plain": [
       "[1] 5"
      ]
     },
     "metadata": {},
     "output_type": "display_data"
    }
   ],
   "source": [
    "with(mylogit, df.null - df.residual)"
   ]
  },
  {
   "cell_type": "raw",
   "metadata": {},
   "source": [
    "Finally, the p-value can be obtained using:"
   ]
  },
  {
   "cell_type": "code",
   "execution_count": 21,
   "metadata": {},
   "outputs": [
    {
     "data": {
      "text/html": [
       "7.57819423181525e-08"
      ],
      "text/latex": [
       "7.57819423181525e-08"
      ],
      "text/markdown": [
       "7.57819423181525e-08"
      ],
      "text/plain": [
       "[1] 7.578194e-08"
      ]
     },
     "metadata": {},
     "output_type": "display_data"
    }
   ],
   "source": [
    "with(mylogit, pchisq(null.deviance - deviance, df.null - df.residual, lower.tail = FALSE))"
   ]
  },
  {
   "cell_type": "raw",
   "metadata": {},
   "source": [
    "The chi-square of 41.46 with 5 degrees of freedom and an associated p-value of less than 0.001 tells us that our model as a whole fits significantly better than an empty model. This is sometimes called a likelihood ratio test (the deviance residual is -2*log likelihood). To see the model's log likelihood, we type:"
   ]
  },
  {
   "cell_type": "code",
   "execution_count": 22,
   "metadata": {},
   "outputs": [
    {
     "data": {
      "text/plain": [
       "'log Lik.' -229.2587 (df=6)"
      ]
     },
     "metadata": {},
     "output_type": "display_data"
    }
   ],
   "source": [
    "logLik(mylogit)"
   ]
  },
  {
   "cell_type": "markdown",
   "metadata": {},
   "source": [
    "### Things to consider"
   ]
  },
  {
   "cell_type": "raw",
   "metadata": {},
   "source": [
    "•Empty cells or small cells: You should check for empty or small cells by doing a crosstab between categorical predictors and the outcome variable. If a cell has very few cases (a small cell), the model may become unstable or it might not run at all. \n",
    "\n",
    "•Separation or quasi-separation (also called perfect prediction), a condition in which the outcome does not vary at some levels of the independent variables. See our page  FAQ: What is complete or quasi-complete separation in logistic/probit regression and how do we deal with them? for information on models with perfect prediction.\n",
    "\n",
    "•Sample size: Both logit and probit models require more cases than OLS regression because they use maximum likelihood estimation techniques. It is sometimes possible to estimate models for binary outcomes in datasets with only a small number of cases using exact logistic regression. It is also important to keep in mind that when the outcome is rare, even if the overall dataset is large, it can be difficult to estimate a logit model.\n",
    "\n",
    "•Pseudo-R-squared: Many different measures of psuedo-R-squared exist. They all attempt to provide information similar to that provided by R-squared in OLS regression; however, none of them can be interpreted exactly as R-squared in OLS regression is interpreted. For a discussion of various pseudo-R-squareds see Long and Freese (2006) or our FAQ page What are pseudo R-squareds?\n",
    "\n",
    "•Diagnostics: The diagnostics for logistic regression are different from those for OLS regression. For a discussion of model diagnostics for logistic regression, see Hosmer and Lemeshow (2000, Chapter 5). Note that diagnostics done for logistic regression are similar to those done for probit regression."
   ]
  }
 ],
 "metadata": {
  "kernelspec": {
   "display_name": "R",
   "language": "R",
   "name": "ir"
  },
  "language_info": {
   "codemirror_mode": "r",
   "file_extension": ".r",
   "mimetype": "text/x-r-source",
   "name": "R",
   "pygments_lexer": "r",
   "version": "3.6.1"
  }
 },
 "nbformat": 4,
 "nbformat_minor": 2
}
