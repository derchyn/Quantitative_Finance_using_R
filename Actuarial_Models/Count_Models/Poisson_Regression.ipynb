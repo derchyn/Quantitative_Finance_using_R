{
 "cells": [
  {
   "cell_type": "raw",
   "metadata": {},
   "source": [
    "Poisson regression is used to model count variables."
   ]
  },
  {
   "cell_type": "raw",
   "metadata": {},
   "source": [
    "This page uses the following packages. Make sure that you can load them before trying to run the examples on this page. If you do not have a package installed, run: install.packages(\"packagename\"), or if you see the version is out of date, run: update.packages()."
   ]
  },
  {
   "cell_type": "code",
   "execution_count": 1,
   "metadata": {},
   "outputs": [],
   "source": [
    "library('msm')\n",
    "library(ggplot2)\n",
    "library(sandwich)\n",
    "library(msm)"
   ]
  },
  {
   "cell_type": "markdown",
   "metadata": {},
   "source": [
    "### Examples of Poisson regression"
   ]
  },
  {
   "cell_type": "raw",
   "metadata": {},
   "source": [
    "Example 1. The number of persons killed by mule or horse kicks in the Prussian army per year. Ladislaus Bortkiewicz collected data from 20 volumes of Preussischen Statistik. These data were collected on 10 corps of the Prussian army in the late 1800s over the course of 20 years.\n",
    "\n",
    "Example 2. The number of people in line in front of you at the grocery store. Predictors may include the number of items currently offered at a special discounted price and whether a special event (e.g., a holiday, a big sporting event) is three or fewer days away.\n",
    "\n",
    "Example 3. The number of awards earned by students at one high school. Predictors of the number of awards earned include the type of program in which the student was enrolled (e.g., vocational, general or academic) and the score on their final exam in math."
   ]
  },
  {
   "cell_type": "markdown",
   "metadata": {},
   "source": [
    "### Description of the data"
   ]
  },
  {
   "cell_type": "raw",
   "metadata": {},
   "source": [
    "For the purpose of illustration, we have simulated a data set for Example 3 above. In this example, num_awards is the outcome variable and indicates the number of awards earned by students at a high school in a year, math is a continuous predictor variable and represents students' scores on their math final exam, and prog is a categorical predictor variable with three levels indicating the type of program in which the students were enrolled. It is coded as 1 = \"General\", 2 = \"Academic\" and 3 = \"Vocational\". Let's start with loading the data and looking at some descriptive statistics."
   ]
  },
  {
   "cell_type": "code",
   "execution_count": 2,
   "metadata": {},
   "outputs": [
    {
     "data": {
      "text/plain": [
       "       id        num_awards           prog          math      \n",
       " 1      :  1   Min.   :0.00   General   : 45   Min.   :33.00  \n",
       " 2      :  1   1st Qu.:0.00   Academic  :105   1st Qu.:45.00  \n",
       " 3      :  1   Median :0.00   Vocational: 50   Median :52.00  \n",
       " 4      :  1   Mean   :0.63                    Mean   :52.65  \n",
       " 5      :  1   3rd Qu.:1.00                    3rd Qu.:59.00  \n",
       " 6      :  1   Max.   :6.00                    Max.   :75.00  \n",
       " (Other):194                                                  "
      ]
     },
     "metadata": {},
     "output_type": "display_data"
    }
   ],
   "source": [
    "p <- read.csv(\"./datasets/poisson_sim.csv\")\n",
    "p <- within(p, {\n",
    "     prog <- factor(prog, levels=1:3, labels=c(\"General\", \"Academic\", \"Vocational\"))\n",
    "     id <- factor(id)})\n",
    "summary(p)"
   ]
  },
  {
   "cell_type": "raw",
   "metadata": {},
   "source": [
    "Each variable has 200 valid observations and their distributions seem quite reasonable. The unconditional mean and variance of our outcome variable are not extremely different. Our model assumes that these values, conditioned on the predictor variables, will be equal (or at least roughly so)."
   ]
  },
  {
   "cell_type": "raw",
   "metadata": {},
   "source": [
    "We can use the tapply function to display the summary statistics by program type. The table below shows the average numbers of awards by program type and seems to suggest that program type is a good candidate for predicting the number of awards, our outcome variable, because the mean value of the outcome appears to vary by prog. Additionally, the means and variances within each level of prog--the conditional means and variances--are similar. A conditional histogram separated out by program type is plotted to show the distribution."
   ]
  },
  {
   "cell_type": "code",
   "execution_count": 3,
   "metadata": {},
   "outputs": [
    {
     "data": {
      "text/html": [
       "<dl class=dl-horizontal>\n",
       "\t<dt>General</dt>\n",
       "\t\t<dd>'M (SD) = 0.20 (0.40)'</dd>\n",
       "\t<dt>Academic</dt>\n",
       "\t\t<dd>'M (SD) = 1.00 (1.28)'</dd>\n",
       "\t<dt>Vocational</dt>\n",
       "\t\t<dd>'M (SD) = 0.24 (0.52)'</dd>\n",
       "</dl>\n"
      ],
      "text/latex": [
       "\\begin{description*}\n",
       "\\item[General] 'M (SD) = 0.20 (0.40)'\n",
       "\\item[Academic] 'M (SD) = 1.00 (1.28)'\n",
       "\\item[Vocational] 'M (SD) = 0.24 (0.52)'\n",
       "\\end{description*}\n"
      ],
      "text/markdown": [
       "General\n",
       ":   'M (SD) = 0.20 (0.40)'Academic\n",
       ":   'M (SD) = 1.00 (1.28)'Vocational\n",
       ":   'M (SD) = 0.24 (0.52)'\n",
       "\n"
      ],
      "text/plain": [
       "               General               Academic             Vocational \n",
       "\"M (SD) = 0.20 (0.40)\" \"M (SD) = 1.00 (1.28)\" \"M (SD) = 0.24 (0.52)\" "
      ]
     },
     "metadata": {},
     "output_type": "display_data"
    }
   ],
   "source": [
    "with(p, tapply(num_awards, prog, function(x) {\n",
    "    sprintf(\"M (SD) = %1.2f (%1.2f)\", mean(x), sd(x))}))"
   ]
  },
  {
   "cell_type": "code",
   "execution_count": 4,
   "metadata": {},
   "outputs": [
    {
     "data": {
      "image/png": "[encoded data removed]",
      "text/plain": [
       "plot without title"
      ]
     },
     "metadata": {},
     "output_type": "display_data"
    }
   ],
   "source": [
    "ggplot(p, aes(num_awards, fill = prog)) +\n",
    "    geom_histogram(binwidth=.5, position=\"dodge\")"
   ]
  },
  {
   "cell_type": "markdown",
   "metadata": {},
   "source": [
    "### Analysis methods you might consider"
   ]
  },
  {
   "cell_type": "raw",
   "metadata": {},
   "source": [
    "Below is a list of some analysis methods you may have encountered. Some of the methods listed are quite reasonable, while others have either fallen out of favor or have limitations.\n",
    "\n",
    "•Poisson regression - Poisson regression is often used for modeling count data. Poisson regression has a number of extensions useful for count models.\n",
    "\n",
    "•Negative binomial regression - Negative binomial regression can be used for over-dispersed count data, that is when the conditional variance exceeds the conditional mean. It can be considered as a generalization of Poisson regression since it has the same mean structure as Poisson regression and it has an extra parameter to model the over-dispersion. If the conditional distribution of the outcome variable is over-dispersed, the confidence intervals for Negative binomial regression are likely to be narrower as compared to those from a Poisson regression.\n",
    "\n",
    "•Zero-inflated regression model - Zero-inflated models attempt to account for excess zeros. In other words, two kinds of zeros are thought to exist in the data, \"true zeros\" and \"excess zeros\". Zero-inflated models estimate two equations simultaneously, one for the count model and one for the excess zeros.\n",
    "\n",
    "•OLS regression - Count outcome variables are sometimes log-transformed and analyzed using OLS regression. Many issues arise with this approach, including loss of data due to undefined values generated by taking the log of zero (which is undefined) and biased estimates."
   ]
  },
  {
   "cell_type": "markdown",
   "metadata": {},
   "source": [
    "### Poisson regression"
   ]
  },
  {
   "cell_type": "raw",
   "metadata": {},
   "source": [
    "At this point, we are ready to perform our Poisson model analysis using the glm function. We fit the model and store it in the object m1 and get a summary of the model at the same time."
   ]
  },
  {
   "cell_type": "code",
   "execution_count": 5,
   "metadata": {},
   "outputs": [
    {
     "data": {
      "text/plain": [
       "\n",
       "Call:\n",
       "glm(formula = num_awards ~ prog + math, family = \"poisson\", data = p)\n",
       "\n",
       "Deviance Residuals: \n",
       "    Min       1Q   Median       3Q      Max  \n",
       "-2.2043  -0.8436  -0.5106   0.2558   2.6796  \n",
       "\n",
       "Coefficients:\n",
       "               Estimate Std. Error z value Pr(>|z|)    \n",
       "(Intercept)    -5.24712    0.65845  -7.969 1.60e-15 ***\n",
       "progAcademic    1.08386    0.35825   3.025  0.00248 ** \n",
       "progVocational  0.36981    0.44107   0.838  0.40179    \n",
       "math            0.07015    0.01060   6.619 3.63e-11 ***\n",
       "---\n",
       "Signif. codes:  0 '***' 0.001 '**' 0.01 '*' 0.05 '.' 0.1 ' ' 1\n",
       "\n",
       "(Dispersion parameter for poisson family taken to be 1)\n",
       "\n",
       "    Null deviance: 287.67  on 199  degrees of freedom\n",
       "Residual deviance: 189.45  on 196  degrees of freedom\n",
       "AIC: 373.5\n",
       "\n",
       "Number of Fisher Scoring iterations: 6\n"
      ]
     },
     "metadata": {},
     "output_type": "display_data"
    }
   ],
   "source": [
    "summary(m1 <- glm(num_awards ~ prog + math, family=\"poisson\", data=p))"
   ]
  },
  {
   "cell_type": "raw",
   "metadata": {},
   "source": [
    "Cameron and Trivedi (2009) recommended using robust standard errors for the parameter estimates to control for mild violation of the distribution assumption that the variance equals the mean. We use R package sandwich below to obtain the robust standard errors and calculated the p-values accordingly. Together with the p-values, we have also calculated the 95% confidence interval using the parameter estimates and their robust standard errors. "
   ]
  },
  {
   "cell_type": "code",
   "execution_count": 6,
   "metadata": {},
   "outputs": [
    {
     "data": {
      "text/html": [
       "<table>\n",
       "<thead><tr><th></th><th scope=col>Estimate</th><th scope=col>Robust SE</th><th scope=col>Pr(&gt;|z|)</th><th scope=col>LL</th><th scope=col>UL</th></tr></thead>\n",
       "<tbody>\n",
       "\t<tr><th scope=row>(Intercept)</th><td>-5.2471244  </td><td>0.64599839  </td><td>4.566630e-16</td><td>-6.51328124 </td><td>-3.98096756 </td></tr>\n",
       "\t<tr><th scope=row>progAcademic</th><td> 1.0838591  </td><td>0.32104816  </td><td>7.354745e-04</td><td> 0.45460476 </td><td> 1.71311353 </td></tr>\n",
       "\t<tr><th scope=row>progVocational</th><td> 0.3698092  </td><td>0.40041731  </td><td>3.557157e-01</td><td>-0.41500870 </td><td> 1.15462716 </td></tr>\n",
       "\t<tr><th scope=row>math</th><td> 0.0701524  </td><td>0.01043516  </td><td>1.783975e-11</td><td> 0.04969947 </td><td> 0.09060532 </td></tr>\n",
       "</tbody>\n",
       "</table>\n"
      ],
      "text/latex": [
       "\\begin{tabular}{r|lllll}\n",
       "  & Estimate & Robust SE & Pr(>\\textbar{}z\\textbar{}) & LL & UL\\\\\n",
       "\\hline\n",
       "\t(Intercept) & -5.2471244   & 0.64599839   & 4.566630e-16 & -6.51328124  & -3.98096756 \\\\\n",
       "\tprogAcademic &  1.0838591   & 0.32104816   & 7.354745e-04 &  0.45460476  &  1.71311353 \\\\\n",
       "\tprogVocational &  0.3698092   & 0.40041731   & 3.557157e-01 & -0.41500870  &  1.15462716 \\\\\n",
       "\tmath &  0.0701524   & 0.01043516   & 1.783975e-11 &  0.04969947  &  0.09060532 \\\\\n",
       "\\end{tabular}\n"
      ],
      "text/markdown": [
       "\n",
       "| <!--/--> | Estimate | Robust SE | Pr(>|z|) | LL | UL |\n",
       "|---|---|---|---|---|---|\n",
       "| (Intercept) | -5.2471244   | 0.64599839   | 4.566630e-16 | -6.51328124  | -3.98096756  |\n",
       "| progAcademic |  1.0838591   | 0.32104816   | 7.354745e-04 |  0.45460476  |  1.71311353  |\n",
       "| progVocational |  0.3698092   | 0.40041731   | 3.557157e-01 | -0.41500870  |  1.15462716  |\n",
       "| math |  0.0701524   | 0.01043516   | 1.783975e-11 |  0.04969947  |  0.09060532  |\n",
       "\n"
      ],
      "text/plain": [
       "               Estimate   Robust SE  Pr(>|z|)     LL          UL         \n",
       "(Intercept)    -5.2471244 0.64599839 4.566630e-16 -6.51328124 -3.98096756\n",
       "progAcademic    1.0838591 0.32104816 7.354745e-04  0.45460476  1.71311353\n",
       "progVocational  0.3698092 0.40041731 3.557157e-01 -0.41500870  1.15462716\n",
       "math            0.0701524 0.01043516 1.783975e-11  0.04969947  0.09060532"
      ]
     },
     "metadata": {},
     "output_type": "display_data"
    }
   ],
   "source": [
    "cov.m1 <- vcovHC(m1, type=\"HC0\")\n",
    "std.err <- sqrt(diag(cov.m1))\n",
    "r.est <- cbind(Estimate= coef(m1), \"Robust SE\" = std.err,\n",
    "         \"Pr(>|z|)\" = 2 * pnorm(abs(coef(m1)/std.err), lower.tail=FALSE),\n",
    "         LL = coef(m1) - 1.96 * std.err,\n",
    "         UL = coef(m1) + 1.96 * std.err)\n",
    "r.est"
   ]
  },
  {
   "cell_type": "raw",
   "metadata": {},
   "source": [
    "Now let's look at the output of function glm more closely.\n",
    "\n",
    "•The output begins with echoing the function call. The information on deviance residuals is displayed next. Deviance residuals are approximately normally distributed if the model is specified correctly.In our example, it shows a little bit of skeweness since median is not quite zero. \n",
    "\n",
    "•Next come the Poisson regression coefficients for each of the variables along with the standard errors, z-scores, p-values and 95% confidence intervals for the coefficients. The coefficient for math is .07.This means that the expected log count for a one-unit increase in math is .07. The indicator variable progAcademic compares between prog = \"Academic\"\tand prog = \"General\", the expected log count for prog = \"Academic\" increases by about 1.1. The indicator variable prog.Vocational is the expected difference in log count (\\(\\approx .37\\)) between prog = \"Vocational\" and the reference group (prog = \"General\").\n",
    "\n",
    "•The information on deviance is also provided. We can use the residual deviance to perform a goodness of fit test for the overall model. The residual deviance is the difference between the deviance of the current model and the maximum deviance of the ideal model where the predicted values are identical to the observed. Therefore, if the residual difference is small enough, the goodness of fit test will not be significant, indicating that the model fits the data. We conclude that the model fits reasonably well because the goodness-of-fit chi-squared test is not statistically significant. If the test had been statistically significant, it would indicate that the data do not fit the model well. In that situation, we may try to determine if there are omitted predictor variables, if our linearity assumption holds and/or if there is an issue of over-dispersion. "
   ]
  },
  {
   "cell_type": "code",
   "execution_count": 7,
   "metadata": {},
   "outputs": [
    {
     "data": {
      "text/html": [
       "<table>\n",
       "<thead><tr><th scope=col>res.deviance</th><th scope=col>df</th><th scope=col>p</th></tr></thead>\n",
       "<tbody>\n",
       "\t<tr><td>189.4496 </td><td>196      </td><td>0.6182274</td></tr>\n",
       "</tbody>\n",
       "</table>\n"
      ],
      "text/latex": [
       "\\begin{tabular}{lll}\n",
       " res.deviance & df & p\\\\\n",
       "\\hline\n",
       "\t 189.4496  & 196       & 0.6182274\\\\\n",
       "\\end{tabular}\n"
      ],
      "text/markdown": [
       "\n",
       "| res.deviance | df | p |\n",
       "|---|---|---|\n",
       "| 189.4496  | 196       | 0.6182274 |\n",
       "\n"
      ],
      "text/plain": [
       "     res.deviance df  p        \n",
       "[1,] 189.4496     196 0.6182274"
      ]
     },
     "metadata": {},
     "output_type": "display_data"
    }
   ],
   "source": [
    "with(m1, cbind(res.deviance = deviance, df = df.residual,\n",
    "    p = pchisq(deviance, df.residual, lower.tail=FALSE)))"
   ]
  },
  {
   "cell_type": "raw",
   "metadata": {},
   "source": [
    "We can also test the overall effect of prog by comparing the deviance of the full model with the deviance of the model excluding prog. The two degree-of-freedom chi-square test indicates that prog, taken together, is a statistically significant predictor of num_awards. "
   ]
  },
  {
   "cell_type": "code",
   "execution_count": 8,
   "metadata": {},
   "outputs": [
    {
     "data": {
      "text/html": [
       "<table>\n",
       "<thead><tr><th scope=col>Resid. Df</th><th scope=col>Resid. Dev</th><th scope=col>Df</th><th scope=col>Deviance</th><th scope=col>Pr(&gt;Chi)</th></tr></thead>\n",
       "<tbody>\n",
       "\t<tr><td>198         </td><td>204.0213    </td><td>NA          </td><td>      NA    </td><td>          NA</td></tr>\n",
       "\t<tr><td>196         </td><td>189.4496    </td><td> 2          </td><td>14.57168    </td><td>0.0006851718</td></tr>\n",
       "</tbody>\n",
       "</table>\n"
      ],
      "text/latex": [
       "\\begin{tabular}{r|lllll}\n",
       " Resid. Df & Resid. Dev & Df & Deviance & Pr(>Chi)\\\\\n",
       "\\hline\n",
       "\t 198          & 204.0213     & NA           &       NA     &           NA\\\\\n",
       "\t 196          & 189.4496     &  2           & 14.57168     & 0.0006851718\\\\\n",
       "\\end{tabular}\n"
      ],
      "text/markdown": [
       "\n",
       "| Resid. Df | Resid. Dev | Df | Deviance | Pr(>Chi) |\n",
       "|---|---|---|---|---|\n",
       "| 198          | 204.0213     | NA           |       NA     |           NA |\n",
       "| 196          | 189.4496     |  2           | 14.57168     | 0.0006851718 |\n",
       "\n"
      ],
      "text/plain": [
       "  Resid. Df Resid. Dev Df Deviance Pr(>Chi)    \n",
       "1 198       204.0213   NA       NA           NA\n",
       "2 196       189.4496    2 14.57168 0.0006851718"
      ]
     },
     "metadata": {},
     "output_type": "display_data"
    }
   ],
   "source": [
    "## update m1 model dropping prog\n",
    "m2 <- update(m1, . ~ . - prog)\n",
    "\n",
    "## test model differences with chi square test\n",
    "anova(m2, m1, test=\"Chisq\")"
   ]
  },
  {
   "cell_type": "raw",
   "metadata": {},
   "source": [
    "Sometimes, we might want to present the regression results as incident rate ratios and their standard errors, together with the confidence interval. To compute the standard error for the incident rate ratios, we will use the Delta method. To this end, we make use the function deltamethod implemented in R package msm."
   ]
  },
  {
   "cell_type": "code",
   "execution_count": 9,
   "metadata": {},
   "outputs": [
    {
     "data": {
      "text/html": [
       "<table>\n",
       "<thead><tr><th></th><th scope=col>Estimate</th><th scope=col>Robust SE</th><th scope=col>LL</th><th scope=col>UL</th></tr></thead>\n",
       "<tbody>\n",
       "\t<tr><th scope=row>(Intercept)</th><td>0.00526263 </td><td>0.00339965 </td><td>0.001483604</td><td>0.01866757 </td></tr>\n",
       "\t<tr><th scope=row>progAcademic</th><td>2.95606545 </td><td>0.94903937 </td><td>1.575550534</td><td>5.54620292 </td></tr>\n",
       "\t<tr><th scope=row>progVocational</th><td>1.44745846 </td><td>0.57958742 </td><td>0.660334536</td><td>3.17284023 </td></tr>\n",
       "\t<tr><th scope=row>math</th><td>1.07267164 </td><td>0.01119351 </td><td>1.050955210</td><td>1.09483681 </td></tr>\n",
       "</tbody>\n",
       "</table>\n"
      ],
      "text/latex": [
       "\\begin{tabular}{r|llll}\n",
       "  & Estimate & Robust SE & LL & UL\\\\\n",
       "\\hline\n",
       "\t(Intercept) & 0.00526263  & 0.00339965  & 0.001483604 & 0.01866757 \\\\\n",
       "\tprogAcademic & 2.95606545  & 0.94903937  & 1.575550534 & 5.54620292 \\\\\n",
       "\tprogVocational & 1.44745846  & 0.57958742  & 0.660334536 & 3.17284023 \\\\\n",
       "\tmath & 1.07267164  & 0.01119351  & 1.050955210 & 1.09483681 \\\\\n",
       "\\end{tabular}\n"
      ],
      "text/markdown": [
       "\n",
       "| <!--/--> | Estimate | Robust SE | LL | UL |\n",
       "|---|---|---|---|---|\n",
       "| (Intercept) | 0.00526263  | 0.00339965  | 0.001483604 | 0.01866757  |\n",
       "| progAcademic | 2.95606545  | 0.94903937  | 1.575550534 | 5.54620292  |\n",
       "| progVocational | 1.44745846  | 0.57958742  | 0.660334536 | 3.17284023  |\n",
       "| math | 1.07267164  | 0.01119351  | 1.050955210 | 1.09483681  |\n",
       "\n"
      ],
      "text/plain": [
       "               Estimate   Robust SE  LL          UL        \n",
       "(Intercept)    0.00526263 0.00339965 0.001483604 0.01866757\n",
       "progAcademic   2.95606545 0.94903937 1.575550534 5.54620292\n",
       "progVocational 1.44745846 0.57958742 0.660334536 3.17284023\n",
       "math           1.07267164 0.01119351 1.050955210 1.09483681"
      ]
     },
     "metadata": {},
     "output_type": "display_data"
    }
   ],
   "source": [
    "s <- deltamethod(list(~ exp(x1), ~ exp(x2), ~ exp(x3), ~ exp(x4)), coef(m1), cov.m1)\n",
    "\n",
    "## exponentiate old estimates dropping the p values\n",
    "rexp.est <- exp(r.est[, -3])\n",
    "\n",
    "## replace SEs with estimates for exponentiated coefficients\n",
    "rexp.est[, \"Robust SE\"] <- s\n",
    "rexp.est"
   ]
  },
  {
   "cell_type": "raw",
   "metadata": {},
   "source": [
    "The output above indicates that the incident rate for prog = \"Academic\" is 2.96 times the incident rate for the reference group (prog = \"General\"). Likewise, the incident rate for prog = \"Vocational\" is 1.45 times the incident rate for the reference group holding the other variables at constant. The percent change in the incident rate of num_awards is by 7% for every unit increase in math. For additional information on the various metrics in which the results can be presented, and the interpretation of such, please see Regression Models for Categorical Dependent Variables Using Stata, Second Edition by J. Scott Long and Jeremy Freese (2006). "
   ]
  },
  {
   "cell_type": "raw",
   "metadata": {},
   "source": [
    "Sometimes, we might want to look at the expected marginal means. For example, what are the expected counts for each program type holding math score at its overall mean? To answer this question, we can make use of the predict function. First off, we will make a small data set to apply the predict function to it."
   ]
  },
  {
   "cell_type": "code",
   "execution_count": 10,
   "metadata": {},
   "outputs": [
    {
     "data": {
      "text/html": [
       "<table>\n",
       "<thead><tr><th scope=col>math</th><th scope=col>prog</th></tr></thead>\n",
       "<tbody>\n",
       "\t<tr><td>52.645    </td><td>General   </td></tr>\n",
       "\t<tr><td>52.645    </td><td>Academic  </td></tr>\n",
       "\t<tr><td>52.645    </td><td>Vocational</td></tr>\n",
       "</tbody>\n",
       "</table>\n"
      ],
      "text/latex": [
       "\\begin{tabular}{r|ll}\n",
       " math & prog\\\\\n",
       "\\hline\n",
       "\t 52.645     & General   \\\\\n",
       "\t 52.645     & Academic  \\\\\n",
       "\t 52.645     & Vocational\\\\\n",
       "\\end{tabular}\n"
      ],
      "text/markdown": [
       "\n",
       "| math | prog |\n",
       "|---|---|\n",
       "| 52.645     | General    |\n",
       "| 52.645     | Academic   |\n",
       "| 52.645     | Vocational |\n",
       "\n"
      ],
      "text/plain": [
       "  math   prog      \n",
       "1 52.645 General   \n",
       "2 52.645 Academic  \n",
       "3 52.645 Vocational"
      ]
     },
     "metadata": {},
     "output_type": "display_data"
    }
   ],
   "source": [
    "(s1 <- data.frame(math = mean(p$math),\n",
    "    prog = factor(1:3, levels = 1:3, labels = levels(p$prog))))"
   ]
  },
  {
   "cell_type": "code",
   "execution_count": 11,
   "metadata": {},
   "outputs": [
    {
     "data": {
      "text/html": [
       "<dl>\n",
       "\t<dt>$fit</dt>\n",
       "\t\t<dd><dl class=dl-horizontal>\n",
       "\t<dt>1</dt>\n",
       "\t\t<dd>0.211410945109086</dd>\n",
       "\t<dt>2</dt>\n",
       "\t\t<dd>0.624944591446636</dd>\n",
       "\t<dt>3</dt>\n",
       "\t\t<dd>0.30600856028318</dd>\n",
       "</dl>\n",
       "</dd>\n",
       "\t<dt>$se.fit</dt>\n",
       "\t\t<dd><dl class=dl-horizontal>\n",
       "\t<dt>1</dt>\n",
       "\t\t<dd>0.0705010813452649</dd>\n",
       "\t<dt>2</dt>\n",
       "\t\t<dd>0.0862811728182649</dd>\n",
       "\t<dt>3</dt>\n",
       "\t\t<dd>0.0883370633684093</dd>\n",
       "</dl>\n",
       "</dd>\n",
       "\t<dt>$residual.scale</dt>\n",
       "\t\t<dd>1</dd>\n",
       "</dl>\n"
      ],
      "text/latex": [
       "\\begin{description}\n",
       "\\item[\\$fit] \\begin{description*}\n",
       "\\item[1] 0.211410945109086\n",
       "\\item[2] 0.624944591446636\n",
       "\\item[3] 0.30600856028318\n",
       "\\end{description*}\n",
       "\n",
       "\\item[\\$se.fit] \\begin{description*}\n",
       "\\item[1] 0.0705010813452649\n",
       "\\item[2] 0.0862811728182649\n",
       "\\item[3] 0.0883370633684093\n",
       "\\end{description*}\n",
       "\n",
       "\\item[\\$residual.scale] 1\n",
       "\\end{description}\n"
      ],
      "text/markdown": [
       "$fit\n",
       ":   1\n",
       ":   0.2114109451090862\n",
       ":   0.6249445914466363\n",
       ":   0.30600856028318\n",
       "\n",
       "\n",
       "$se.fit\n",
       ":   1\n",
       ":   0.07050108134526492\n",
       ":   0.08628117281826493\n",
       ":   0.0883370633684093\n",
       "\n",
       "\n",
       "$residual.scale\n",
       ":   1\n",
       "\n",
       "\n"
      ],
      "text/plain": [
       "$fit\n",
       "        1         2         3 \n",
       "0.2114109 0.6249446 0.3060086 \n",
       "\n",
       "$se.fit\n",
       "         1          2          3 \n",
       "0.07050108 0.08628117 0.08833706 \n",
       "\n",
       "$residual.scale\n",
       "[1] 1\n"
      ]
     },
     "metadata": {},
     "output_type": "display_data"
    }
   ],
   "source": [
    "predict(m1, s1, type=\"response\", se.fit=TRUE)"
   ]
  },
  {
   "cell_type": "raw",
   "metadata": {},
   "source": [
    "In the output above, we see that the predicted number of events for level 1 of prog is about .21, holding math at its mean. The predicted number of events for level 2 of prog is higher at .62, and the predicted number of events for level 3 of prog is about .31. The ratios of these predicted counts (\\(\\frac{.625}{.211} = 2.96\\), \\(\\frac{.306}{.211} = 1.45\\)) match what we saw looking at the IRR."
   ]
  },
  {
   "cell_type": "raw",
   "metadata": {},
   "source": [
    "We can also graph the predicted number of events with the commands below. The graph indicates that the most awards are predicted for those in the academic program (prog = 2), especially if the student has a high math score. The lowest number of predicted awards is for those students in the general program (prog = 1). The graph overlays the lines of expected values onto the actual points, although a small amount of random noise was added vertically to lessen overplotting."
   ]
  },
  {
   "cell_type": "code",
   "execution_count": 12,
   "metadata": {},
   "outputs": [
    {
     "data": {
      "image/png": "[encoded data removed]",
      "text/plain": [
       "plot without title"
      ]
     },
     "metadata": {},
     "output_type": "display_data"
    }
   ],
   "source": [
    "## calculate and store predicted values\n",
    "p$phat <- predict(m1, type=\"response\")\n",
    "\n",
    "## order by program and then by math\n",
    "p <- p[with(p, order(prog, math)), ]\n",
    "\n",
    "## create the plot\n",
    "ggplot(p, aes(x = math, y = phat, colour = prog)) +\n",
    "    geom_point(aes(y = num_awards), alpha=.5, position=position_jitter(h=.2)) + \n",
    "    geom_line(size = 1) + labs(x = \"Math Score\", y = \"Expected number of awards\")"
   ]
  },
  {
   "cell_type": "markdown",
   "metadata": {},
   "source": [
    "### Things to consider"
   ]
  },
  {
   "cell_type": "raw",
   "metadata": {},
   "source": [
    "•When there seems to be an issue of dispersion, we should first check if our model is appropriately specified, such as omitted variables and functional forms. For example, if we omitted the predictor variable prog in the example above, our model would seem to have a problem with over-dispersion. In other words, a misspecified model could present a symptom like an over-dispersion problem. \n",
    "\n",
    "•Assuming that the model is correctly specified, the assumption that the conditional variance is equal to the conditional mean should be checked. There are several tests including the likelihood ratio test of over-dispersion parameter alpha by running the same model using negative binomial distribution. R package pscl (Political Science Computational Laboratory, Stanford University) provides many functions for binomial and count data including odTest\tfor testing over-dispersion. \n",
    "\n",
    "•One common cause of over-dispersion is excess zeros, which in turn are generated by an additional data generating process. In this situation, zero-inflated model should be considered.\n",
    "\n",
    "•If the data generating process does not allow for any 0s (such as the number of days spent in the hospital), then a zero-truncated model may be more appropriate.\n",
    "\n",
    "•Count data often have an exposure variable, which indicates the number of times the event could have happened. This variable should be incorporated into a Poisson model with the use of the offset option.\n",
    "\n",
    "•The outcome variable in a Poisson regression cannot have negative numbers, and the exposure cannot have 0s.\n",
    "\n",
    "•Many different measures of pseudo-R-squared exist. They all attempt to provide information similar to that provided by R-squared in OLS regression, even though none of them can be interpreted exactly as R-squared in OLS regression is interpreted. For a discussion of various pseudo-R-squares, see Long and Freese (2006) or our FAQ page What are pseudo R-squareds?.\n",
    "\n",
    "•Poisson regression is estimated via maximum likelihood estimation. It usually requires a large sample size. "
   ]
  }
 ],
 "metadata": {
  "kernelspec": {
   "display_name": "R",
   "language": "R",
   "name": "ir"
  },
  "language_info": {
   "codemirror_mode": "r",
   "file_extension": ".r",
   "mimetype": "text/x-r-source",
   "name": "R",
   "pygments_lexer": "r",
   "version": "3.6.1"
  }
 },
 "nbformat": 4,
 "nbformat_minor": 2
}
