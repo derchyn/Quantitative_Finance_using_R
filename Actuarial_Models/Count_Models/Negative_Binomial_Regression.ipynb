{
 "cells": [
  {
   "cell_type": "raw",
   "metadata": {},
   "source": [
    "Negative binomial regression is for modeling count variables, usually for over-dispersed count outcome variables."
   ]
  },
  {
   "cell_type": "raw",
   "metadata": {},
   "source": [
    "This page uses the following packages. Make sure that you can load them before trying to run the examples on this page. If you do not have a package installed, run: install.packages(\"packagename\"), or if you see the version is out of date, run: update.packages()."
   ]
  },
  {
   "cell_type": "code",
   "execution_count": 1,
   "metadata": {},
   "outputs": [],
   "source": [
    "library(foreign)\n",
    "library(ggplot2)\n",
    "library(MASS)"
   ]
  },
  {
   "cell_type": "markdown",
   "metadata": {},
   "source": [
    "### Examples of negative binomial regression"
   ]
  },
  {
   "cell_type": "raw",
   "metadata": {},
   "source": [
    "Example 1. School administrators study the attendance behavior of high school juniors at two schools. Predictors of the number of days of absence include the type of program in which the student is enrolled and a standardized test in math. \n",
    "\n",
    "Example 2. A health-related researcher is studying the number of hospital visits in past 12 months by senior citizens in a community based on the characteristics of the individuals and the types of health plans under which each one is covered."
   ]
  },
  {
   "cell_type": "markdown",
   "metadata": {},
   "source": [
    "### Description of the data"
   ]
  },
  {
   "cell_type": "raw",
   "metadata": {},
   "source": [
    "Let's pursue Example 1 from above."
   ]
  },
  {
   "cell_type": "raw",
   "metadata": {},
   "source": [
    "We have attendance data on 314 high school juniors from two urban high schools in the file nb_data. The response variable of interest is days absent, daysabs. The variable math gives the standardized math score for each student. The variable prog is a three-level nominal variable indicating the type of instructional program in which the student is enrolled."
   ]
  },
  {
   "cell_type": "raw",
   "metadata": {},
   "source": [
    "Let's look at the data. It is always a good idea to start with descriptive statistics and plots."
   ]
  },
  {
   "cell_type": "code",
   "execution_count": 2,
   "metadata": {},
   "outputs": [
    {
     "data": {
      "text/plain": [
       "       id         gender         math          daysabs               prog    \n",
       " 1001   :  1   female:160   Min.   : 1.00   Min.   : 0.000   General   : 40  \n",
       " 1002   :  1   male  :154   1st Qu.:28.00   1st Qu.: 1.000   Academic  :167  \n",
       " 1003   :  1                Median :48.00   Median : 4.000   Vocational:107  \n",
       " 1004   :  1                Mean   :48.27   Mean   : 5.955                   \n",
       " 1005   :  1                3rd Qu.:70.00   3rd Qu.: 8.000                   \n",
       " 1006   :  1                Max.   :99.00   Max.   :35.000                   \n",
       " (Other):308                                                                 "
      ]
     },
     "metadata": {},
     "output_type": "display_data"
    }
   ],
   "source": [
    "dat <- read.dta(\"./datasets/nb_data.dta\")\n",
    "dat <- within(dat, {\n",
    "       prog <- factor(prog, levels = 1:3, labels = c(\"General\", \"Academic\", \"Vocational\"))\n",
    "       id <- factor(id)})\n",
    "summary(dat)"
   ]
  },
  {
   "cell_type": "code",
   "execution_count": 3,
   "metadata": {},
   "outputs": [
    {
     "data": {
      "text/plain": [
       "<ggproto object: Class FacetGrid, Facet, gg>\n",
       "    compute_layout: function\n",
       "    draw_back: function\n",
       "    draw_front: function\n",
       "    draw_labels: function\n",
       "    draw_panels: function\n",
       "    finish_data: function\n",
       "    init_scales: function\n",
       "    map_data: function\n",
       "    params: list\n",
       "    setup_data: function\n",
       "    setup_params: function\n",
       "    shrink: TRUE\n",
       "    train_scales: function\n",
       "    vars: function\n",
       "    super:  <ggproto object: Class FacetGrid, Facet, gg>"
      ]
     },
     "metadata": {},
     "output_type": "display_data"
    },
    {
     "data": {
      "image/png": "[encoded data removed]",
      "text/plain": [
       "plot without title"
      ]
     },
     "metadata": {},
     "output_type": "display_data"
    }
   ],
   "source": [
    "ggplot(dat, aes(daysabs, fill = prog)) + geom_histogram(binwidth = 1)\n",
    "    facet_grid(prog ~ ., margins = TRUE, scales = \"free\")"
   ]
  },
  {
   "cell_type": "raw",
   "metadata": {},
   "source": [
    "Each variable has 314 valid observations and their distributions seem quite reasonable. The unconditional mean of our outcome variable is much lower than its variance."
   ]
  },
  {
   "cell_type": "raw",
   "metadata": {},
   "source": [
    "Let's continue with our description of the variables in this dataset. The table below shows the average numbers of days absent by program type and seems to suggest that program type is a good candidate for predicting the number of days absent, our outcome variable, because the mean value of the outcome appears to vary by prog. The variances within each level of prog are higher than the means within each level. These are the conditional means and variances. These differences suggest that over-dispersion is present and that a Negative Binomial model would be appropriate. "
   ]
  },
  {
   "cell_type": "code",
   "execution_count": 4,
   "metadata": {},
   "outputs": [
    {
     "data": {
      "text/html": [
       "<dl class=dl-horizontal>\n",
       "\t<dt>General</dt>\n",
       "\t\t<dd>'M (SD) = 10.65 (8.20)'</dd>\n",
       "\t<dt>Academic</dt>\n",
       "\t\t<dd>'M (SD) = 6.93 (7.45)'</dd>\n",
       "\t<dt>Vocational</dt>\n",
       "\t\t<dd>'M (SD) = 2.67 (3.73)'</dd>\n",
       "</dl>\n"
      ],
      "text/latex": [
       "\\begin{description*}\n",
       "\\item[General] 'M (SD) = 10.65 (8.20)'\n",
       "\\item[Academic] 'M (SD) = 6.93 (7.45)'\n",
       "\\item[Vocational] 'M (SD) = 2.67 (3.73)'\n",
       "\\end{description*}\n"
      ],
      "text/markdown": [
       "General\n",
       ":   'M (SD) = 10.65 (8.20)'Academic\n",
       ":   'M (SD) = 6.93 (7.45)'Vocational\n",
       ":   'M (SD) = 2.67 (3.73)'\n",
       "\n"
      ],
      "text/plain": [
       "                General                Academic              Vocational \n",
       "\"M (SD) = 10.65 (8.20)\"  \"M (SD) = 6.93 (7.45)\"  \"M (SD) = 2.67 (3.73)\" "
      ]
     },
     "metadata": {},
     "output_type": "display_data"
    }
   ],
   "source": [
    "with(dat, tapply(daysabs, prog, function(x) {sprintf(\"M (SD) = %1.2f (%1.2f)\", mean(x), sd(x))}))"
   ]
  },
  {
   "cell_type": "markdown",
   "metadata": {},
   "source": [
    "### Analysis methods you might consider"
   ]
  },
  {
   "cell_type": "raw",
   "metadata": {},
   "source": [
    "Below is a list of some analysis methods you may have encountered. Some of the methods listed are quite reasonable, while others have either fallen out of favor or have limitations. \n",
    "\n",
    "•Negative binomial regression -Negative binomial regression can be used for over-dispersed count data, that is when the conditional variance exceeds the conditional mean. It can be considered as a generalization of Poisson regression since it has the same mean structure as Poisson regression and it has an extra parameter to model the over-dispersion. If the conditional distribution of the outcome variable is over-dispersed, the confidence intervals for the Negative binomial regression are likely to be narrower as compared to those from a Poisson regression model.\n",
    "\n",
    "•Poisson regression - Poisson regression is often used for modeling count data. Poisson regression has a number of extensions useful for count models. \n",
    "\n",
    "•Zero-inflated regression model - Zero-inflated models attempt to account for excess zeros. In other words, two kinds of zeros are thought to exist in the data, \"true zeros\" and \"excess zeros\". Zero-inflated models estimate two equations simultaneously, one for the count model and one for the excess zeros.\n",
    "\n",
    "•OLS regression - Count outcome variables are sometimes log-transformed and analyzed using OLS regression. Many issues arise with this approach, including loss of data due to undefined values generated by taking the log of zero (which is undefined), as well as the lack of capacity to model the dispersion."
   ]
  },
  {
   "cell_type": "markdown",
   "metadata": {},
   "source": [
    "### Negative binomial regression analysis"
   ]
  },
  {
   "cell_type": "raw",
   "metadata": {},
   "source": [
    "Below we use the glm.nb function from the MASS package to estimate a negative binomial regression."
   ]
  },
  {
   "cell_type": "code",
   "execution_count": 5,
   "metadata": {},
   "outputs": [
    {
     "data": {
      "text/plain": [
       "\n",
       "Call:\n",
       "glm.nb(formula = daysabs ~ math + prog, data = dat, init.theta = 1.032713156, \n",
       "    link = log)\n",
       "\n",
       "Deviance Residuals: \n",
       "    Min       1Q   Median       3Q      Max  \n",
       "-2.1547  -1.0192  -0.3694   0.2285   2.5273  \n",
       "\n",
       "Coefficients:\n",
       "                Estimate Std. Error z value Pr(>|z|)    \n",
       "(Intercept)     2.615265   0.197460  13.245  < 2e-16 ***\n",
       "math           -0.005993   0.002505  -2.392   0.0167 *  \n",
       "progAcademic   -0.440760   0.182610  -2.414   0.0158 *  \n",
       "progVocational -1.278651   0.200720  -6.370 1.89e-10 ***\n",
       "---\n",
       "Signif. codes:  0 '***' 0.001 '**' 0.01 '*' 0.05 '.' 0.1 ' ' 1\n",
       "\n",
       "(Dispersion parameter for Negative Binomial(1.0327) family taken to be 1)\n",
       "\n",
       "    Null deviance: 427.54  on 313  degrees of freedom\n",
       "Residual deviance: 358.52  on 310  degrees of freedom\n",
       "AIC: 1741.3\n",
       "\n",
       "Number of Fisher Scoring iterations: 1\n",
       "\n",
       "\n",
       "              Theta:  1.033 \n",
       "          Std. Err.:  0.106 \n",
       "\n",
       " 2 x log-likelihood:  -1731.258 "
      ]
     },
     "metadata": {},
     "output_type": "display_data"
    }
   ],
   "source": [
    "summary(m1 <- glm.nb(daysabs ~ math + prog, data = dat))"
   ]
  },
  {
   "cell_type": "raw",
   "metadata": {},
   "source": [
    "R first displays the call and the deviance residuals. Next, we see the regression coefficients for each of the variables, along with standard errors, z-scores, and p-values. The variable math has a coefficient of -0.006, which is statistically significant. This means that for each one-unit increase in math, the expected log count of the number of days absent decreases by 0.006. The indicator variable shown as progAcademic\tis the expected difference in log count between group 2 and the reference group (prog=1). The expected log count for level 2 of prog is 0.44 lower than the expected log count for level 1. The indicator variable for progVocational is the expected difference in log count between group 3 and the reference group.The expected log count for level 3 of \tprog is 1.28 lower than the expected log count for level 1. To determine if prog itself, overall, is statistically significant, we can compare a model with and without prog. The reason it is important to fit separate models, is that unless we do, the overdispersion parameter is held constant."
   ]
  },
  {
   "cell_type": "code",
   "execution_count": 6,
   "metadata": {},
   "outputs": [
    {
     "data": {
      "text/html": [
       "<table>\n",
       "<thead><tr><th scope=col>Model</th><th scope=col>theta</th><th scope=col>Resid. df</th><th scope=col>   2 x log-lik.</th><th scope=col>Test</th><th scope=col>   df</th><th scope=col>LR stat.</th><th scope=col>Pr(Chi)</th></tr></thead>\n",
       "<tbody>\n",
       "\t<tr><td>math       </td><td>0.8558565  </td><td>312        </td><td>-1776.306  </td><td>           </td><td>NA         </td><td>      NA   </td><td>         NA</td></tr>\n",
       "\t<tr><td>math + prog</td><td>1.0327132  </td><td>310        </td><td>-1731.258  </td><td>1 vs 2     </td><td> 2         </td><td>45.04798   </td><td>1.65179e-10</td></tr>\n",
       "</tbody>\n",
       "</table>\n"
      ],
      "text/latex": [
       "\\begin{tabular}{r|llllllll}\n",
       " Model & theta & Resid. df &    2 x log-lik. & Test &    df & LR stat. & Pr(Chi)\\\\\n",
       "\\hline\n",
       "\t math        & 0.8558565   & 312         & -1776.306   &             & NA          &       NA    &          NA\\\\\n",
       "\t math + prog & 1.0327132   & 310         & -1731.258   & 1 vs 2      &  2          & 45.04798    & 1.65179e-10\\\\\n",
       "\\end{tabular}\n"
      ],
      "text/markdown": [
       "\n",
       "| Model | theta | Resid. df |    2 x log-lik. | Test |    df | LR stat. | Pr(Chi) |\n",
       "|---|---|---|---|---|---|---|---|\n",
       "| math        | 0.8558565   | 312         | -1776.306   |             | NA          |       NA    |          NA |\n",
       "| math + prog | 1.0327132   | 310         | -1731.258   | 1 vs 2      |  2          | 45.04798    | 1.65179e-10 |\n",
       "\n"
      ],
      "text/plain": [
       "  Model       theta     Resid. df    2 x log-lik. Test      df LR stat.\n",
       "1 math        0.8558565 312       -1776.306              NA          NA\n",
       "2 math + prog 1.0327132 310       -1731.258       1 vs 2  2    45.04798\n",
       "  Pr(Chi)    \n",
       "1          NA\n",
       "2 1.65179e-10"
      ]
     },
     "metadata": {},
     "output_type": "display_data"
    }
   ],
   "source": [
    "m2 <- update(m1, . ~ . - prog)\n",
    "anova(m1, m2)"
   ]
  },
  {
   "cell_type": "raw",
   "metadata": {},
   "source": [
    "•The two degree-of-freedom chi-square test indicates that prog is a statistically significant predictor of daysabs.\n",
    "\n",
    "•The null deviance is calculated from an intercept-only model with 313 degrees of freedom. Then we see the residual deviance, the deviance from the full model. We are also shown the AIC and 2*log likelihood. \n",
    "\n",
    "•The theta parameter shown is the dispersion parameter. Note that R parameterizes this differently from SAS, Stata, and SPSS. The R parameter (theta) is equal to the inverse of the dispersion parameter (alpha) estimated in these other software packages. Thus, the theta value of 1.033 seen here is equivalent to the 0.968 value seen in the Stata Negative Binomial Data Analysis Example because 1/0.968 = 1.033. "
   ]
  },
  {
   "cell_type": "markdown",
   "metadata": {},
   "source": [
    "### Checking model assumption"
   ]
  },
  {
   "cell_type": "raw",
   "metadata": {},
   "source": [
    "As we mentioned earlier, negative binomial models assume the conditional means are not equal to the conditional variances. This inequality is captured by estimating a dispersion parameter (not shown in the output) that is held constant in a Poisson model. Thus, the Poisson model is actually nested in the negative binomial model. We can then use a likelihood ratio test to compare these two and test this model assumption. To do this, we will run our model as a Poisson."
   ]
  },
  {
   "cell_type": "code",
   "execution_count": 7,
   "metadata": {},
   "outputs": [
    {
     "data": {
      "text/plain": [
       "'log Lik.' 2.157298e-203 (df=5)"
      ]
     },
     "metadata": {},
     "output_type": "display_data"
    }
   ],
   "source": [
    "m3 <- glm(daysabs ~ math + prog, family = \"poisson\", data = dat)\n",
    "pchisq(2 * (logLik(m1) - logLik(m3)), df = 1, lower.tail = FALSE)"
   ]
  },
  {
   "cell_type": "raw",
   "metadata": {},
   "source": [
    "In this example the associated chi-squared value is 926.03 with one degree of freedom. This strongly suggests the negative binomial model, estimating the dispersion parameter, is more appropriate than the Poisson model."
   ]
  },
  {
   "cell_type": "raw",
   "metadata": {},
   "source": [
    "We can get the confidence intervals for the coefficients by profiling the likelihood function."
   ]
  },
  {
   "cell_type": "code",
   "execution_count": 8,
   "metadata": {},
   "outputs": [
    {
     "name": "stderr",
     "output_type": "stream",
     "text": [
      "Waiting for profiling to be done...\n"
     ]
    },
    {
     "data": {
      "text/html": [
       "<table>\n",
       "<thead><tr><th></th><th scope=col>Estimate</th><th scope=col>2.5 %</th><th scope=col>97.5 %</th></tr></thead>\n",
       "<tbody>\n",
       "\t<tr><th scope=row>(Intercept)</th><td> 2.615265446</td><td> 2.24205576 </td><td> 3.012935926</td></tr>\n",
       "\t<tr><th scope=row>math</th><td>-0.005992988</td><td>-0.01090086 </td><td>-0.001066615</td></tr>\n",
       "\t<tr><th scope=row>progAcademic</th><td>-0.440760012</td><td>-0.81006586 </td><td>-0.092643481</td></tr>\n",
       "\t<tr><th scope=row>progVocational</th><td>-1.278650721</td><td>-1.68348970 </td><td>-0.890077623</td></tr>\n",
       "</tbody>\n",
       "</table>\n"
      ],
      "text/latex": [
       "\\begin{tabular}{r|lll}\n",
       "  & Estimate & 2.5 \\% & 97.5 \\%\\\\\n",
       "\\hline\n",
       "\t(Intercept) &  2.615265446 &  2.24205576  &  3.012935926\\\\\n",
       "\tmath & -0.005992988 & -0.01090086  & -0.001066615\\\\\n",
       "\tprogAcademic & -0.440760012 & -0.81006586  & -0.092643481\\\\\n",
       "\tprogVocational & -1.278650721 & -1.68348970  & -0.890077623\\\\\n",
       "\\end{tabular}\n"
      ],
      "text/markdown": [
       "\n",
       "| <!--/--> | Estimate | 2.5 % | 97.5 % |\n",
       "|---|---|---|---|\n",
       "| (Intercept) |  2.615265446 |  2.24205576  |  3.012935926 |\n",
       "| math | -0.005992988 | -0.01090086  | -0.001066615 |\n",
       "| progAcademic | -0.440760012 | -0.81006586  | -0.092643481 |\n",
       "| progVocational | -1.278650721 | -1.68348970  | -0.890077623 |\n",
       "\n"
      ],
      "text/plain": [
       "               Estimate     2.5 %       97.5 %      \n",
       "(Intercept)     2.615265446  2.24205576  3.012935926\n",
       "math           -0.005992988 -0.01090086 -0.001066615\n",
       "progAcademic   -0.440760012 -0.81006586 -0.092643481\n",
       "progVocational -1.278650721 -1.68348970 -0.890077623"
      ]
     },
     "metadata": {},
     "output_type": "display_data"
    }
   ],
   "source": [
    "(est <- cbind(Estimate = coef(m1), confint(m1)))"
   ]
  },
  {
   "cell_type": "raw",
   "metadata": {},
   "source": [
    "We might be interested in looking at incident rate ratios rather than coefficients. To do this, we can exponentiate our model coefficients. The same applies to the confidence intervals."
   ]
  },
  {
   "cell_type": "code",
   "execution_count": 9,
   "metadata": {},
   "outputs": [
    {
     "data": {
      "text/html": [
       "<table>\n",
       "<thead><tr><th></th><th scope=col>Estimate</th><th scope=col>2.5 %</th><th scope=col>97.5 %</th></tr></thead>\n",
       "<tbody>\n",
       "\t<tr><th scope=row>(Intercept)</th><td>13.6708448</td><td>9.4126616 </td><td>20.3470498</td></tr>\n",
       "\t<tr><th scope=row>math</th><td> 0.9940249</td><td>0.9891583 </td><td> 0.9989340</td></tr>\n",
       "\t<tr><th scope=row>progAcademic</th><td> 0.6435471</td><td>0.4448288 </td><td> 0.9115184</td></tr>\n",
       "\t<tr><th scope=row>progVocational</th><td> 0.2784127</td><td>0.1857247 </td><td> 0.4106239</td></tr>\n",
       "</tbody>\n",
       "</table>\n"
      ],
      "text/latex": [
       "\\begin{tabular}{r|lll}\n",
       "  & Estimate & 2.5 \\% & 97.5 \\%\\\\\n",
       "\\hline\n",
       "\t(Intercept) & 13.6708448 & 9.4126616  & 20.3470498\\\\\n",
       "\tmath &  0.9940249 & 0.9891583  &  0.9989340\\\\\n",
       "\tprogAcademic &  0.6435471 & 0.4448288  &  0.9115184\\\\\n",
       "\tprogVocational &  0.2784127 & 0.1857247  &  0.4106239\\\\\n",
       "\\end{tabular}\n"
      ],
      "text/markdown": [
       "\n",
       "| <!--/--> | Estimate | 2.5 % | 97.5 % |\n",
       "|---|---|---|---|\n",
       "| (Intercept) | 13.6708448 | 9.4126616  | 20.3470498 |\n",
       "| math |  0.9940249 | 0.9891583  |  0.9989340 |\n",
       "| progAcademic |  0.6435471 | 0.4448288  |  0.9115184 |\n",
       "| progVocational |  0.2784127 | 0.1857247  |  0.4106239 |\n",
       "\n"
      ],
      "text/plain": [
       "               Estimate   2.5 %     97.5 %    \n",
       "(Intercept)    13.6708448 9.4126616 20.3470498\n",
       "math            0.9940249 0.9891583  0.9989340\n",
       "progAcademic    0.6435471 0.4448288  0.9115184\n",
       "progVocational  0.2784127 0.1857247  0.4106239"
      ]
     },
     "metadata": {},
     "output_type": "display_data"
    }
   ],
   "source": [
    "exp(est)"
   ]
  },
  {
   "cell_type": "raw",
   "metadata": {},
   "source": [
    "The output above indicates that the incident rate for prog = 2 is 0.64 times the incident rate for the reference group (prog = 1). Likewise, the incident rate for prog = 3 is 0.28 times the incident rate for the reference group holding the other variables constant. The percent change in the incident rate of daysabs is a 1% decrease for every unit increase in math."
   ]
  },
  {
   "cell_type": "markdown",
   "metadata": {},
   "source": [
    "The form of the model equation for negative binomial regression is the same as that for Poisson regression. The log of the outcome is predicted with a linear combination of the predictors:\n",
    "\n",
    "$ ln(\\widehat{daysabs_i}) = Intercept + b_1(prog_i = 2) + b_2(prog_i = 3) + b_3math_i \\$\n",
    "\n",
    "therefore\n",
    "\n",
    "$ \\widehat{daysabs_i} = e^{Intercept + b_1(prog_i = 2) + b_2(prog_i = 3) + b_3math_i} = e^{Intercept}e^{b_1(prog_i = 2)}e^{b_2(prog_i = 3)}e^{b_3math_i} $"
   ]
  },
  {
   "cell_type": "raw",
   "metadata": {},
   "source": [
    "The coefficients have an additive effect in the \\(ln(y)\\) scale and the IRR have a multiplicative effect in the y scale. The dispersion parameter in negative binomial regression does not effect the expected counts, but it does effect the estimated variance of the expected counts. More details can be found in the Modern Applied Statistics with S by W.N. Venables and B.D. Ripley (the book companion of the MASS package)."
   ]
  },
  {
   "cell_type": "raw",
   "metadata": {},
   "source": [
    "For additional information on the various metrics in which the results can be presented, and the interpretation of such, please see Regression Models for Categorical Dependent Variables Using Stata, Second Edition by J. Scott Long and Jeremy Freese (2006)."
   ]
  },
  {
   "cell_type": "markdown",
   "metadata": {},
   "source": [
    "### Predicted values"
   ]
  },
  {
   "cell_type": "raw",
   "metadata": {},
   "source": [
    "For assistance in further understanding the model, we can look at predicted counts for various levels of our predictors. Below we create new datasets with values of math and prog and then use the predict command to calculate the predicted number of events."
   ]
  },
  {
   "cell_type": "raw",
   "metadata": {},
   "source": [
    "First, we can look at predicted counts for each value of prog while holding math at its mean. To do this, we create a new dataset with the combinations of prog and math for which we would like to find predicted values, then use the predict command."
   ]
  },
  {
   "cell_type": "code",
   "execution_count": 10,
   "metadata": {},
   "outputs": [
    {
     "data": {
      "text/html": [
       "<table>\n",
       "<thead><tr><th scope=col>math</th><th scope=col>prog</th><th scope=col>phat</th></tr></thead>\n",
       "<tbody>\n",
       "\t<tr><td>48.26752  </td><td>General   </td><td>10.236899 </td></tr>\n",
       "\t<tr><td>48.26752  </td><td>Academic  </td><td> 6.587927 </td></tr>\n",
       "\t<tr><td>48.26752  </td><td>Vocational</td><td> 2.850083 </td></tr>\n",
       "</tbody>\n",
       "</table>\n"
      ],
      "text/latex": [
       "\\begin{tabular}{r|lll}\n",
       " math & prog & phat\\\\\n",
       "\\hline\n",
       "\t 48.26752   & General    & 10.236899 \\\\\n",
       "\t 48.26752   & Academic   &  6.587927 \\\\\n",
       "\t 48.26752   & Vocational &  2.850083 \\\\\n",
       "\\end{tabular}\n"
      ],
      "text/markdown": [
       "\n",
       "| math | prog | phat |\n",
       "|---|---|---|\n",
       "| 48.26752   | General    | 10.236899  |\n",
       "| 48.26752   | Academic   |  6.587927  |\n",
       "| 48.26752   | Vocational |  2.850083  |\n",
       "\n"
      ],
      "text/plain": [
       "  math     prog       phat     \n",
       "1 48.26752 General    10.236899\n",
       "2 48.26752 Academic    6.587927\n",
       "3 48.26752 Vocational  2.850083"
      ]
     },
     "metadata": {},
     "output_type": "display_data"
    }
   ],
   "source": [
    "newdata1 <- data.frame(math = mean(dat$math), prog = factor(1:3, levels = 1:3, labels = levels(dat$prog)))\n",
    "newdata1$phat <- predict(m1, newdata1, type = \"response\")\n",
    "newdata1"
   ]
  },
  {
   "cell_type": "raw",
   "metadata": {},
   "source": [
    "In the output above, we see that the predicted number of events (e.g., days absent) for a general program is about 10.24, holding math at its mean. The predicted number of events for an academic program is lower at 6.59, and the predicted number of events for a vocational program is about 2.85."
   ]
  },
  {
   "cell_type": "raw",
   "metadata": {},
   "source": [
    "Below we will obtain the mean predicted number of events for values of math across its entire range for each level of prog and graph these."
   ]
  },
  {
   "cell_type": "code",
   "execution_count": 11,
   "metadata": {},
   "outputs": [],
   "source": [
    "newdata2 <- data.frame(\n",
    "            math = rep(seq(from = min(dat$math), to = max(dat$math), length.out = 100), 3),\n",
    "            prog = factor(rep(1:3, each = 100), levels = 1:3, labels =\n",
    "            levels(dat$prog)))\n",
    "\n",
    "newdata2 <- cbind(newdata2, predict(m1, newdata2, type = \"link\", se.fit=TRUE))\n",
    "\n",
    "newdata2 <- within(newdata2, {\n",
    "            DaysAbsent <- exp(fit)\n",
    "            LL <- exp(fit - 1.96 * se.fit)\n",
    "            UL <- exp(fit + 1.96 * se.fit)\n",
    "            })"
   ]
  },
  {
   "cell_type": "code",
   "execution_count": 12,
   "metadata": {},
   "outputs": [
    {
     "data": {
      "image/png": "[encoded data removed]",
      "text/plain": [
       "plot without title"
      ]
     },
     "metadata": {},
     "output_type": "display_data"
    }
   ],
   "source": [
    "ggplot(newdata2, aes(math, DaysAbsent)) +\n",
    "    geom_ribbon(aes(ymin = LL, ymax = UL, fill = prog), alpha = .25) + \n",
    "    geom_line(aes(colour = prog), size = 2) + labs(x = \"Math Score\", y = \"Predicted Days Absent\")"
   ]
  },
  {
   "cell_type": "raw",
   "metadata": {},
   "source": [
    "The graph shows the expected count across the range of math scores, for each type of program along with 95 percent confidence intervals. Note that the lines are not straight because this is a log linear model, and what is plotted are the expected values, not the log of the expected values."
   ]
  },
  {
   "cell_type": "markdown",
   "metadata": {},
   "source": [
    "### Things to consider"
   ]
  },
  {
   "cell_type": "raw",
   "metadata": {},
   "source": [
    "•It is not recommended that negative binomial models be applied to small samples. \n",
    "\n",
    "•One common cause of over-dispersion is excess zeros by an additional data generating process. In this situation, zero-inflated model should be considered.\n",
    "\n",
    "•If the data generating process does not allow for any 0s (such as the number of days spent in the hospital), then a zero-truncated model may be more appropriate.\n",
    "\n",
    "•Count data often have an exposure variable, which indicates the number of times the event could have happened. This variable should be incorporated into your negative binomial regression model with the use of the offset option. See the glm documentation for details.\n",
    "\n",
    "•The outcome variable in a negative binomial regression cannot have negative numbers.\n",
    "\n",
    "•You will need to use the m1$resid command to obtain the residuals from our model to check other assumptions of the negative binomial model (see Cameron and Trivedi (1998) and Dupont (2002) for more information)."
   ]
  }
 ],
 "metadata": {
  "kernelspec": {
   "display_name": "R",
   "language": "R",
   "name": "ir"
  },
  "language_info": {
   "codemirror_mode": "r",
   "file_extension": ".r",
   "mimetype": "text/x-r-source",
   "name": "R",
   "pygments_lexer": "r",
   "version": "3.6.1"
  }
 },
 "nbformat": 4,
 "nbformat_minor": 2
}
