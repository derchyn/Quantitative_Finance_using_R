{
 "cells": [
  {
   "cell_type": "markdown",
   "metadata": {},
   "source": [
    "### Install Packages"
   ]
  },
  {
   "cell_type": "markdown",
   "metadata": {},
   "source": [
    "First, we have to load packages used in R."
   ]
  },
  {
   "cell_type": "code",
   "execution_count": 1,
   "metadata": {},
   "outputs": [
    {
     "name": "stderr",
     "output_type": "stream",
     "text": [
      "Loading required package: carData\n"
     ]
    }
   ],
   "source": [
    "library(plyr)\n",
    "library(car)\n",
    "library(broom)\n",
    "library(ggplot2)\n",
    "library(gridExtra)"
   ]
  },
  {
   "cell_type": "markdown",
   "metadata": {},
   "source": [
    "Suppress warnings globally in an R Script!"
   ]
  },
  {
   "cell_type": "code",
   "execution_count": 2,
   "metadata": {},
   "outputs": [],
   "source": [
    "#options( warn = -1 )"
   ]
  },
  {
   "cell_type": "markdown",
   "metadata": {},
   "source": [
    "We then read the given dataset into R and check if the dataset have missing data or NA."
   ]
  },
  {
   "cell_type": "code",
   "execution_count": 3,
   "metadata": {},
   "outputs": [
    {
     "name": "stdout",
     "output_type": "stream",
     "text": [
      "0 0 0 0 0 0 0 0"
     ]
    }
   ],
   "source": [
    "AHPR <- read.csv(\"datasets/AHPR.csv\")\n",
    "NAs <- function(x) { as.vector(apply(x, 2, function(x) length(which(is.na(x)))))}\n",
    "cat(NAs(AHPR))"
   ]
  },
  {
   "cell_type": "markdown",
   "metadata": {},
   "source": [
    "### TASK 1: THE MINIMUM BIAS APPROACH\n",
    "#### * Use a GLM to obtain the same relatives as the minimum bias method, and display the relativities."
   ]
  },
  {
   "cell_type": "markdown",
   "metadata": {},
   "source": [
    "In this assignment, we are going to take the given dataset and write up a report to conduct some business activities using statistical models of general insurance data."
   ]
  },
  {
   "cell_type": "markdown",
   "metadata": {},
   "source": [
    "To check the GLM model with Poisson distribution and Logarithmic link function corresponds to the minimum bias producedure with multiplicative balance principle, we start with the quasi-Poisson model. (The reason we are not using Poisson model is because the response variable, PP, does not follow exponentials in the real word.)"
   ]
  },
  {
   "cell_type": "code",
   "execution_count": 4,
   "metadata": {},
   "outputs": [
    {
     "data": {
      "text/plain": [
       "\n",
       "Call:\n",
       "glm(formula = PP ~ factor(Kilometres) + factor(Zone), family = quasipoisson(link = \"log\"), \n",
       "    data = AHPR, weights = Insured)\n",
       "\n",
       "Deviance Residuals: \n",
       "     Min        1Q    Median        3Q       Max  \n",
       "-1382.87    -84.45    -23.22     98.25   2289.46  \n",
       "\n",
       "Coefficients:\n",
       "                    Estimate Std. Error t value Pr(>|t|)    \n",
       "(Intercept)          5.61346    0.03368 166.680  < 2e-16 ***\n",
       "factor(Kilometres)2  0.20921    0.03066   6.824 1.15e-11 ***\n",
       "factor(Kilometres)3  0.24873    0.03471   7.166 1.06e-12 ***\n",
       "factor(Kilometres)4  0.33511    0.04767   7.029 2.77e-12 ***\n",
       "factor(Kilometres)5  0.52333    0.05085  10.291  < 2e-16 ***\n",
       "factor(Zone)2       -0.23480    0.03986  -5.890 4.46e-09 ***\n",
       "factor(Zone)3       -0.37368    0.04027  -9.278  < 2e-16 ***\n",
       "factor(Zone)4       -0.50205    0.03549 -14.145  < 2e-16 ***\n",
       "factor(Zone)5       -0.29748    0.06000  -4.958 7.68e-07 ***\n",
       "factor(Zone)6       -0.41253    0.04756  -8.674  < 2e-16 ***\n",
       "factor(Zone)7       -0.75113    0.17005  -4.417 1.05e-05 ***\n",
       "---\n",
       "Signif. codes:  0 '***' 0.001 '**' 0.01 '*' 0.05 '.' 0.1 ' ' 1\n",
       "\n",
       "(Dispersion parameter for quasipoisson family taken to be 82317.25)\n",
       "\n",
       "    Null deviance: 161044633  on 2181  degrees of freedom\n",
       "Residual deviance: 132377411  on 2171  degrees of freedom\n",
       "AIC: NA\n",
       "\n",
       "Number of Fisher Scoring iterations: 5\n"
      ]
     },
     "metadata": {},
     "output_type": "display_data"
    }
   ],
   "source": [
    "glm1 <- glm(PP ~ factor(Kilometres) + factor(Zone), \n",
    "            data=AHPR, family=quasipoisson(link=\"log\"), weights=Insured)\n",
    "\n",
    "summary(glm1)"
   ]
  },
  {
   "cell_type": "markdown",
   "metadata": {},
   "source": [
    "Since the base class in the minimum bias producedure is Kilometres=1 and Zone=1, the pure premium for the base class is:"
   ]
  },
  {
   "cell_type": "code",
   "execution_count": 5,
   "metadata": {},
   "outputs": [
    {
     "name": "stdout",
     "output_type": "stream",
     "text": [
      "274.0901"
     ]
    }
   ],
   "source": [
    "fitted_avg_PP <- exp(glm1$coeff[1])\n",
    "cat(fitted_avg_PP)"
   ]
  },
  {
   "cell_type": "markdown",
   "metadata": {},
   "source": [
    "The overall average pure premium, which equal total amount of payment divided by total amount of insured, can be computed as follows:"
   ]
  },
  {
   "cell_type": "code",
   "execution_count": 6,
   "metadata": {},
   "outputs": [
    {
     "name": "stdout",
     "output_type": "stream",
     "text": [
      "235.3129"
     ]
    }
   ],
   "source": [
    "observed_avg_PP <- sum(AHPR$Payment)/sum(AHPR$Insured)\n",
    "cat(observed_avg_PP)"
   ]
  },
  {
   "cell_type": "markdown",
   "metadata": {},
   "source": [
    "The relatives for variables Kilometres and Zone are then:"
   ]
  },
  {
   "cell_type": "code",
   "execution_count": 7,
   "metadata": {},
   "outputs": [],
   "source": [
    "relatives <- exp(glm1$coeff ) * sqrt(fitted_avg_PP / observed_avg_PP)\n",
    "relatives[1] <- sqrt(fitted_avg_PP / observed_avg_PP)\n",
    "\n",
    "names(relatives) <- c(\"Base\",\"Kilometres 2\",\"Kilometres 3\", \"Kilometres 4\", \"Kilometres 5\", \n",
    "                      \"Zone 2\", \"Zone 3\",\"Zone 4\", \"Zone 5\", \"Zone 6\", \"Zone 7\")"
   ]
  },
  {
   "cell_type": "code",
   "execution_count": 8,
   "metadata": {},
   "outputs": [
    {
     "data": {
      "text/html": [
       "<dl class=dl-horizontal>\n",
       "\t<dt>Base</dt>\n",
       "\t\t<dd>1.07925442533423</dd>\n",
       "\t<dt>Kilometres 2</dt>\n",
       "\t\t<dd>1.33040620722896</dd>\n",
       "\t<dt>Kilometres 3</dt>\n",
       "\t\t<dd>1.38403762005353</dd>\n",
       "\t<dt>Kilometres 4</dt>\n",
       "\t\t<dd>1.50890435810305</dd>\n",
       "\t<dt>Kilometres 5</dt>\n",
       "\t\t<dd>1.82139852310764</dd>\n",
       "</dl>\n"
      ],
      "text/latex": [
       "\\begin{description*}\n",
       "\\item[Base] 1.07925442533423\n",
       "\\item[Kilometres 2] 1.33040620722896\n",
       "\\item[Kilometres 3] 1.38403762005353\n",
       "\\item[Kilometres 4] 1.50890435810305\n",
       "\\item[Kilometres 5] 1.82139852310764\n",
       "\\end{description*}\n"
      ],
      "text/markdown": [
       "Base\n",
       ":   1.07925442533423Kilometres 2\n",
       ":   1.33040620722896Kilometres 3\n",
       ":   1.38403762005353Kilometres 4\n",
       ":   1.50890435810305Kilometres 5\n",
       ":   1.82139852310764\n",
       "\n"
      ],
      "text/plain": [
       "        Base Kilometres 2 Kilometres 3 Kilometres 4 Kilometres 5 \n",
       "    1.079254     1.330406     1.384038     1.508904     1.821399 "
      ]
     },
     "metadata": {},
     "output_type": "display_data"
    }
   ],
   "source": [
    "relatives[1:5]"
   ]
  },
  {
   "cell_type": "code",
   "execution_count": 9,
   "metadata": {},
   "outputs": [
    {
     "data": {
      "text/html": [
       "<dl class=dl-horizontal>\n",
       "\t<dt>Base</dt>\n",
       "\t\t<dd>1.07925442533423</dd>\n",
       "\t<dt>Zone 2</dt>\n",
       "\t\t<dd>0.853394733076624</dd>\n",
       "\t<dt>Zone 3</dt>\n",
       "\t\t<dd>0.742740696914382</dd>\n",
       "\t<dt>Zone 4</dt>\n",
       "\t\t<dd>0.65326131490207</dd>\n",
       "\t<dt>Zone 5</dt>\n",
       "\t\t<dd>0.801546483501872</dd>\n",
       "\t<dt>Zone 6</dt>\n",
       "\t\t<dd>0.714435693642002</dd>\n",
       "\t<dt>Zone 7</dt>\n",
       "\t\t<dd>0.509229299135692</dd>\n",
       "</dl>\n"
      ],
      "text/latex": [
       "\\begin{description*}\n",
       "\\item[Base] 1.07925442533423\n",
       "\\item[Zone 2] 0.853394733076624\n",
       "\\item[Zone 3] 0.742740696914382\n",
       "\\item[Zone 4] 0.65326131490207\n",
       "\\item[Zone 5] 0.801546483501872\n",
       "\\item[Zone 6] 0.714435693642002\n",
       "\\item[Zone 7] 0.509229299135692\n",
       "\\end{description*}\n"
      ],
      "text/markdown": [
       "Base\n",
       ":   1.07925442533423Zone 2\n",
       ":   0.853394733076624Zone 3\n",
       ":   0.742740696914382Zone 4\n",
       ":   0.65326131490207Zone 5\n",
       ":   0.801546483501872Zone 6\n",
       ":   0.714435693642002Zone 7\n",
       ":   0.509229299135692\n",
       "\n"
      ],
      "text/plain": [
       "     Base    Zone 2    Zone 3    Zone 4    Zone 5    Zone 6    Zone 7 \n",
       "1.0792544 0.8533947 0.7427407 0.6532613 0.8015465 0.7144357 0.5092293 "
      ]
     },
     "metadata": {},
     "output_type": "display_data"
    }
   ],
   "source": [
    "relatives[c(1,6:11)]"
   ]
  },
  {
   "cell_type": "markdown",
   "metadata": {},
   "source": [
    "#### * Verify that your results are in balance (using exposures as weights) only for Zone 1."
   ]
  },
  {
   "cell_type": "markdown",
   "metadata": {},
   "source": [
    "Since the only variables currently being used are Kilometres and Zone in the minimum bias procedure, we have to sort the dataset by these two variables and then we have to compute the pure premium corresponding to each group."
   ]
  },
  {
   "cell_type": "code",
   "execution_count": 10,
   "metadata": {},
   "outputs": [
    {
     "data": {
      "text/html": [
       "<table>\n",
       "<thead><tr><th scope=col>Kilometres</th><th scope=col>Zone</th><th scope=col>Insured</th><th scope=col>Payment</th><th scope=col>observed_PP</th></tr></thead>\n",
       "<tbody>\n",
       "\t<tr><td>1        </td><td>1        </td><td>113842.13</td><td>30902212 </td><td>271.4479 </td></tr>\n",
       "\t<tr><td>1        </td><td>2        </td><td>130747.13</td><td>28896696 </td><td>221.0121 </td></tr>\n",
       "\t<tr><td>1        </td><td>3        </td><td>149560.59</td><td>28346933 </td><td>189.5348 </td></tr>\n",
       "\t<tr><td>1        </td><td>4        </td><td>279934.65</td><td>44563016 </td><td>159.1908 </td></tr>\n",
       "\t<tr><td>1        </td><td>5        </td><td> 43765.69</td><td> 9197220 </td><td>210.1468 </td></tr>\n",
       "</tbody>\n",
       "</table>\n"
      ],
      "text/latex": [
       "\\begin{tabular}{r|lllll}\n",
       " Kilometres & Zone & Insured & Payment & observed\\_PP\\\\\n",
       "\\hline\n",
       "\t 1         & 1         & 113842.13 & 30902212  & 271.4479 \\\\\n",
       "\t 1         & 2         & 130747.13 & 28896696  & 221.0121 \\\\\n",
       "\t 1         & 3         & 149560.59 & 28346933  & 189.5348 \\\\\n",
       "\t 1         & 4         & 279934.65 & 44563016  & 159.1908 \\\\\n",
       "\t 1         & 5         &  43765.69 &  9197220  & 210.1468 \\\\\n",
       "\\end{tabular}\n"
      ],
      "text/markdown": [
       "\n",
       "| Kilometres | Zone | Insured | Payment | observed_PP |\n",
       "|---|---|---|---|---|\n",
       "| 1         | 1         | 113842.13 | 30902212  | 271.4479  |\n",
       "| 1         | 2         | 130747.13 | 28896696  | 221.0121  |\n",
       "| 1         | 3         | 149560.59 | 28346933  | 189.5348  |\n",
       "| 1         | 4         | 279934.65 | 44563016  | 159.1908  |\n",
       "| 1         | 5         |  43765.69 |  9197220  | 210.1468  |\n",
       "\n"
      ],
      "text/plain": [
       "  Kilometres Zone Insured   Payment  observed_PP\n",
       "1 1          1    113842.13 30902212 271.4479   \n",
       "2 1          2    130747.13 28896696 221.0121   \n",
       "3 1          3    149560.59 28346933 189.5348   \n",
       "4 1          4    279934.65 44563016 159.1908   \n",
       "5 1          5     43765.69  9197220 210.1468   "
      ]
     },
     "metadata": {},
     "output_type": "display_data"
    }
   ],
   "source": [
    "AHPR1 <- AHPR\n",
    "\n",
    "groupColumns = c(\"Kilometres\",\"Zone\"); dataColumns = c(\"Insured\",\"Payment\")\n",
    "AHPR_sorted <- ddply(AHPR1, groupColumns, function(x) colSums(x[dataColumns]))\n",
    "\n",
    "observed_PP = AHPR_sorted$Payment/AHPR_sorted$Insured\n",
    "AHPR_observed <- cbind(AHPR_sorted, observed_PP)\n",
    "\n",
    "head(AHPR_observed,5)"
   ]
  },
  {
   "cell_type": "markdown",
   "metadata": {},
   "source": [
    "To verify our results are in balance for Zone 1, we need to subset our dataset, inclding fitted pure premium, by Zone = 1."
   ]
  },
  {
   "cell_type": "code",
   "execution_count": 11,
   "metadata": {},
   "outputs": [
    {
     "data": {
      "text/html": [
       "<table>\n",
       "<thead><tr><th></th><th scope=col>Kilometres</th><th scope=col>Zone</th><th scope=col>Insured</th><th scope=col>Payment</th><th scope=col>observed_PP</th><th scope=col>fitted_PP</th></tr></thead>\n",
       "<tbody>\n",
       "\t<tr><th scope=row>1</th><td>1        </td><td>1        </td><td>113842.13</td><td>30902212 </td><td>271.4479 </td><td>274.0901 </td></tr>\n",
       "\t<tr><th scope=row>8</th><td>2        </td><td>1        </td><td>112304.44</td><td>38692904 </td><td>344.5358 </td><td>337.8733 </td></tr>\n",
       "\t<tr><th scope=row>15</th><td>3        </td><td>1        </td><td> 65150.23</td><td>22244956 </td><td>341.4409 </td><td>351.4936 </td></tr>\n",
       "\t<tr><th scope=row>22</th><td>4        </td><td>1        </td><td> 20777.63</td><td> 7409238 </td><td>356.5969 </td><td>383.2051 </td></tr>\n",
       "\t<tr><th scope=row>29</th><td>5        </td><td>1        </td><td> 14319.67</td><td> 7384158 </td><td>515.6654 </td><td>462.5669 </td></tr>\n",
       "</tbody>\n",
       "</table>\n"
      ],
      "text/latex": [
       "\\begin{tabular}{r|llllll}\n",
       "  & Kilometres & Zone & Insured & Payment & observed\\_PP & fitted\\_PP\\\\\n",
       "\\hline\n",
       "\t1 & 1         & 1         & 113842.13 & 30902212  & 271.4479  & 274.0901 \\\\\n",
       "\t8 & 2         & 1         & 112304.44 & 38692904  & 344.5358  & 337.8733 \\\\\n",
       "\t15 & 3         & 1         &  65150.23 & 22244956  & 341.4409  & 351.4936 \\\\\n",
       "\t22 & 4         & 1         &  20777.63 &  7409238  & 356.5969  & 383.2051 \\\\\n",
       "\t29 & 5         & 1         &  14319.67 &  7384158  & 515.6654  & 462.5669 \\\\\n",
       "\\end{tabular}\n"
      ],
      "text/markdown": [
       "\n",
       "| <!--/--> | Kilometres | Zone | Insured | Payment | observed_PP | fitted_PP |\n",
       "|---|---|---|---|---|---|---|\n",
       "| 1 | 1         | 1         | 113842.13 | 30902212  | 271.4479  | 274.0901  |\n",
       "| 8 | 2         | 1         | 112304.44 | 38692904  | 344.5358  | 337.8733  |\n",
       "| 15 | 3         | 1         |  65150.23 | 22244956  | 341.4409  | 351.4936  |\n",
       "| 22 | 4         | 1         |  20777.63 |  7409238  | 356.5969  | 383.2051  |\n",
       "| 29 | 5         | 1         |  14319.67 |  7384158  | 515.6654  | 462.5669  |\n",
       "\n"
      ],
      "text/plain": [
       "   Kilometres Zone Insured   Payment  observed_PP fitted_PP\n",
       "1  1          1    113842.13 30902212 271.4479    274.0901 \n",
       "8  2          1    112304.44 38692904 344.5358    337.8733 \n",
       "15 3          1     65150.23 22244956 341.4409    351.4936 \n",
       "22 4          1     20777.63  7409238 356.5969    383.2051 \n",
       "29 5          1     14319.67  7384158 515.6654    462.5669 "
      ]
     },
     "metadata": {},
     "output_type": "display_data"
    }
   ],
   "source": [
    "glm2 <- glm(observed_PP ~ factor(Kilometres) + factor(Zone), \n",
    "            data=AHPR_observed, family=quasipoisson(link=\"log\"), weights=Insured)\n",
    "\n",
    "AHPR_fitted <- cbind(AHPR_observed, fitted_PP = glm2$fitted)\n",
    "AHPR_fitted_Zone1 <- subset(AHPR_fitted, AHPR_fitted$Zone == 1)\n",
    "\n",
    "head(AHPR_fitted_Zone1)"
   ]
  },
  {
   "cell_type": "markdown",
   "metadata": {},
   "source": [
    "Multiply insured by observed pure premiums for Zone 1, we obtain the following value:"
   ]
  },
  {
   "cell_type": "code",
   "execution_count": 12,
   "metadata": {},
   "outputs": [
    {
     "name": "stdout",
     "output_type": "stream",
     "text": [
      "106633468"
     ]
    }
   ],
   "source": [
    "cat(sum(AHPR_fitted_Zone1$Insured * AHPR_fitted_Zone1$observed_PP))"
   ]
  },
  {
   "cell_type": "markdown",
   "metadata": {},
   "source": [
    "Multiply insured by fitted pure premiums for Zone 1, we obtain the following value:"
   ]
  },
  {
   "cell_type": "code",
   "execution_count": 13,
   "metadata": {},
   "outputs": [
    {
     "name": "stdout",
     "output_type": "stream",
     "text": [
      "106633468"
     ]
    }
   ],
   "source": [
    "cat(sum(AHPR_fitted_Zone1$Insured * AHPR_fitted_Zone1$fitted_PP))"
   ]
  },
  {
   "cell_type": "markdown",
   "metadata": {},
   "source": [
    "Since both values are the same, 106633468, we conclude our results are in balance for Zone 1."
   ]
  },
  {
   "cell_type": "markdown",
   "metadata": {},
   "source": [
    "### TASK 2: SELECTING A GLM\n",
    "#### * Preparing the Data"
   ]
  },
  {
   "cell_type": "markdown",
   "metadata": {},
   "source": [
    "For this task, we first create a new dataset which has the same data as the original one."
   ]
  },
  {
   "cell_type": "code",
   "execution_count": 14,
   "metadata": {},
   "outputs": [],
   "source": [
    "AHPR2 <- AHPR"
   ]
  },
  {
   "cell_type": "markdown",
   "metadata": {},
   "source": [
    "One of the classes of each variable, Kilometres or Zone, should be assigned as the base class by counting the number of exposures corresponding to each level of the corresponding variable."
   ]
  },
  {
   "cell_type": "code",
   "execution_count": 15,
   "metadata": {},
   "outputs": [
    {
     "data": {
      "text/html": [
       "<table>\n",
       "<thead><tr><th scope=col>Kilometres</th><th scope=col>Insured</th></tr></thead>\n",
       "<tbody>\n",
       "\t<tr><td>1       </td><td>806801.3</td></tr>\n",
       "\t<tr><td>2       </td><td>804396.7</td></tr>\n",
       "\t<tr><td>3       </td><td>477149.4</td></tr>\n",
       "\t<tr><td>4       </td><td>173150.0</td></tr>\n",
       "\t<tr><td>5       </td><td>121672.6</td></tr>\n",
       "</tbody>\n",
       "</table>\n"
      ],
      "text/latex": [
       "\\begin{tabular}{r|ll}\n",
       " Kilometres & Insured\\\\\n",
       "\\hline\n",
       "\t 1        & 806801.3\\\\\n",
       "\t 2        & 804396.7\\\\\n",
       "\t 3        & 477149.4\\\\\n",
       "\t 4        & 173150.0\\\\\n",
       "\t 5        & 121672.6\\\\\n",
       "\\end{tabular}\n"
      ],
      "text/markdown": [
       "\n",
       "| Kilometres | Insured |\n",
       "|---|---|\n",
       "| 1        | 806801.3 |\n",
       "| 2        | 804396.7 |\n",
       "| 3        | 477149.4 |\n",
       "| 4        | 173150.0 |\n",
       "| 5        | 121672.6 |\n",
       "\n"
      ],
      "text/plain": [
       "  Kilometres Insured \n",
       "1 1          806801.3\n",
       "2 2          804396.7\n",
       "3 3          477149.4\n",
       "4 4          173150.0\n",
       "5 5          121672.6"
      ]
     },
     "metadata": {},
     "output_type": "display_data"
    }
   ],
   "source": [
    "groupColumns = c(\"Kilometres\");  dataColumns = c(\"Insured\")\n",
    "levels_Kilometres <- ddply(AHPR2,groupColumns,function(x) colSums(x[dataColumns]))\n",
    "levels_Kilometres "
   ]
  },
  {
   "cell_type": "code",
   "execution_count": 16,
   "metadata": {},
   "outputs": [
    {
     "data": {
      "text/html": [
       "<table>\n",
       "<thead><tr><th scope=col>Zone</th><th scope=col>Insured</th></tr></thead>\n",
       "<tbody>\n",
       "\t<tr><td>1        </td><td>326394.10</td></tr>\n",
       "\t<tr><td>2        </td><td>387916.78</td></tr>\n",
       "\t<tr><td>3        </td><td>429331.99</td></tr>\n",
       "\t<tr><td>4        </td><td>847154.83</td></tr>\n",
       "\t<tr><td>5        </td><td>120442.99</td></tr>\n",
       "\t<tr><td>6        </td><td>252845.64</td></tr>\n",
       "\t<tr><td>7        </td><td> 19083.75</td></tr>\n",
       "</tbody>\n",
       "</table>\n"
      ],
      "text/latex": [
       "\\begin{tabular}{r|ll}\n",
       " Zone & Insured\\\\\n",
       "\\hline\n",
       "\t 1         & 326394.10\\\\\n",
       "\t 2         & 387916.78\\\\\n",
       "\t 3         & 429331.99\\\\\n",
       "\t 4         & 847154.83\\\\\n",
       "\t 5         & 120442.99\\\\\n",
       "\t 6         & 252845.64\\\\\n",
       "\t 7         &  19083.75\\\\\n",
       "\\end{tabular}\n"
      ],
      "text/markdown": [
       "\n",
       "| Zone | Insured |\n",
       "|---|---|\n",
       "| 1         | 326394.10 |\n",
       "| 2         | 387916.78 |\n",
       "| 3         | 429331.99 |\n",
       "| 4         | 847154.83 |\n",
       "| 5         | 120442.99 |\n",
       "| 6         | 252845.64 |\n",
       "| 7         |  19083.75 |\n",
       "\n"
      ],
      "text/plain": [
       "  Zone Insured  \n",
       "1 1    326394.10\n",
       "2 2    387916.78\n",
       "3 3    429331.99\n",
       "4 4    847154.83\n",
       "5 5    120442.99\n",
       "6 6    252845.64\n",
       "7 7     19083.75"
      ]
     },
     "metadata": {},
     "output_type": "display_data"
    }
   ],
   "source": [
    "groupColumns = c(\"Zone\"); dataColumns = c(\"Insured\")\n",
    "levels_Zone <- ddply(AHPR2, groupColumns, function(x) colSums(x[dataColumns]))\n",
    "levels_Zone  "
   ]
  },
  {
   "cell_type": "markdown",
   "metadata": {},
   "source": [
    "After finding the base class for each variable, we can reset the base class of each variable. The base class for variable Kilometres is 1, and the base class for variable Zone is 4."
   ]
  },
  {
   "cell_type": "code",
   "execution_count": 17,
   "metadata": {},
   "outputs": [],
   "source": [
    "AHPR2$Zone <- as.factor(AHPR2$Zone)\n",
    "AHPR2$Zone <- relevel(AHPR2$Zone,c(\"4\"))"
   ]
  },
  {
   "cell_type": "markdown",
   "metadata": {},
   "source": [
    "To check the final dataset to be the one we intended to work on, run a linear regression analysis of PP on variables Kilometres and Zone."
   ]
  },
  {
   "cell_type": "code",
   "execution_count": 18,
   "metadata": {},
   "outputs": [
    {
     "data": {
      "text/html": [
       "<table>\n",
       "<thead><tr><th></th><th scope=col>Estimate</th><th scope=col>Std. Error</th><th scope=col>t value</th><th scope=col>Pr(&gt;|t|)</th></tr></thead>\n",
       "<tbody>\n",
       "\t<tr><th scope=row>(Intercept)</th><td>159.72462    </td><td> 6.467027    </td><td>24.698307    </td><td>6.687648e-119</td></tr>\n",
       "\t<tr><th scope=row>factor(Kilometres)2</th><td> 45.82133    </td><td> 7.167575    </td><td> 6.392863    </td><td> 1.986925e-10</td></tr>\n",
       "\t<tr><th scope=row>factor(Kilometres)3</th><td> 55.53831    </td><td> 8.309325    </td><td> 6.683854    </td><td> 2.949246e-11</td></tr>\n",
       "\t<tr><th scope=row>factor(Kilometres)4</th><td> 77.80709    </td><td>12.051988    </td><td> 6.455955    </td><td> 1.322616e-10</td></tr>\n",
       "\t<tr><th scope=row>factor(Kilometres)5</th><td>133.99112    </td><td>13.992906    </td><td> 9.575646    </td><td> 2.649770e-21</td></tr>\n",
       "\t<tr><th scope=row>factor(Zone)1</th><td>129.29360    </td><td> 9.374217    </td><td>13.792469    </td><td> 1.515014e-41</td></tr>\n",
       "\t<tr><th scope=row>factor(Zone)2</th><td> 61.06931    </td><td> 8.819307    </td><td> 6.924502    </td><td> 5.741203e-12</td></tr>\n",
       "\t<tr><th scope=row>factor(Zone)3</th><td> 27.40580    </td><td> 8.523011    </td><td> 3.215507    </td><td> 1.321272e-03</td></tr>\n",
       "\t<tr><th scope=row>factor(Zone)5</th><td> 45.19479    </td><td>14.011777    </td><td> 3.225486    </td><td> 1.276278e-03</td></tr>\n",
       "\t<tr><th scope=row>factor(Zone)6</th><td> 18.67742    </td><td>10.308266    </td><td> 1.811888    </td><td> 7.014167e-02</td></tr>\n",
       "\t<tr><th scope=row>factor(Zone)7</th><td>-42.79855    </td><td>33.298293    </td><td>-1.285307    </td><td> 1.988220e-01</td></tr>\n",
       "</tbody>\n",
       "</table>\n"
      ],
      "text/latex": [
       "\\begin{tabular}{r|llll}\n",
       "  & Estimate & Std. Error & t value & Pr(>\\textbar{}t\\textbar{})\\\\\n",
       "\\hline\n",
       "\t(Intercept) & 159.72462     &  6.467027     & 24.698307     & 6.687648e-119\\\\\n",
       "\tfactor(Kilometres)2 &  45.82133     &  7.167575     &  6.392863     &  1.986925e-10\\\\\n",
       "\tfactor(Kilometres)3 &  55.53831     &  8.309325     &  6.683854     &  2.949246e-11\\\\\n",
       "\tfactor(Kilometres)4 &  77.80709     & 12.051988     &  6.455955     &  1.322616e-10\\\\\n",
       "\tfactor(Kilometres)5 & 133.99112     & 13.992906     &  9.575646     &  2.649770e-21\\\\\n",
       "\tfactor(Zone)1 & 129.29360     &  9.374217     & 13.792469     &  1.515014e-41\\\\\n",
       "\tfactor(Zone)2 &  61.06931     &  8.819307     &  6.924502     &  5.741203e-12\\\\\n",
       "\tfactor(Zone)3 &  27.40580     &  8.523011     &  3.215507     &  1.321272e-03\\\\\n",
       "\tfactor(Zone)5 &  45.19479     & 14.011777     &  3.225486     &  1.276278e-03\\\\\n",
       "\tfactor(Zone)6 &  18.67742     & 10.308266     &  1.811888     &  7.014167e-02\\\\\n",
       "\tfactor(Zone)7 & -42.79855     & 33.298293     & -1.285307     &  1.988220e-01\\\\\n",
       "\\end{tabular}\n"
      ],
      "text/markdown": [
       "\n",
       "| <!--/--> | Estimate | Std. Error | t value | Pr(>|t|) |\n",
       "|---|---|---|---|---|\n",
       "| (Intercept) | 159.72462     |  6.467027     | 24.698307     | 6.687648e-119 |\n",
       "| factor(Kilometres)2 |  45.82133     |  7.167575     |  6.392863     |  1.986925e-10 |\n",
       "| factor(Kilometres)3 |  55.53831     |  8.309325     |  6.683854     |  2.949246e-11 |\n",
       "| factor(Kilometres)4 |  77.80709     | 12.051988     |  6.455955     |  1.322616e-10 |\n",
       "| factor(Kilometres)5 | 133.99112     | 13.992906     |  9.575646     |  2.649770e-21 |\n",
       "| factor(Zone)1 | 129.29360     |  9.374217     | 13.792469     |  1.515014e-41 |\n",
       "| factor(Zone)2 |  61.06931     |  8.819307     |  6.924502     |  5.741203e-12 |\n",
       "| factor(Zone)3 |  27.40580     |  8.523011     |  3.215507     |  1.321272e-03 |\n",
       "| factor(Zone)5 |  45.19479     | 14.011777     |  3.225486     |  1.276278e-03 |\n",
       "| factor(Zone)6 |  18.67742     | 10.308266     |  1.811888     |  7.014167e-02 |\n",
       "| factor(Zone)7 | -42.79855     | 33.298293     | -1.285307     |  1.988220e-01 |\n",
       "\n"
      ],
      "text/plain": [
       "                    Estimate  Std. Error t value   Pr(>|t|)     \n",
       "(Intercept)         159.72462  6.467027  24.698307 6.687648e-119\n",
       "factor(Kilometres)2  45.82133  7.167575   6.392863  1.986925e-10\n",
       "factor(Kilometres)3  55.53831  8.309325   6.683854  2.949246e-11\n",
       "factor(Kilometres)4  77.80709 12.051988   6.455955  1.322616e-10\n",
       "factor(Kilometres)5 133.99112 13.992906   9.575646  2.649770e-21\n",
       "factor(Zone)1       129.29360  9.374217  13.792469  1.515014e-41\n",
       "factor(Zone)2        61.06931  8.819307   6.924502  5.741203e-12\n",
       "factor(Zone)3        27.40580  8.523011   3.215507  1.321272e-03\n",
       "factor(Zone)5        45.19479 14.011777   3.225486  1.276278e-03\n",
       "factor(Zone)6        18.67742 10.308266   1.811888  7.014167e-02\n",
       "factor(Zone)7       -42.79855 33.298293  -1.285307  1.988220e-01"
      ]
     },
     "metadata": {},
     "output_type": "display_data"
    }
   ],
   "source": [
    "AHPRrep <- lm(PP~factor(Kilometres)+factor(Zone),weights=Insured,data=AHPR2)\n",
    "summary(AHPRrep)$coef"
   ]
  },
  {
   "cell_type": "markdown",
   "metadata": {},
   "source": [
    "#### * Residual plot, Normal Q-Q plot and Histogram"
   ]
  },
  {
   "cell_type": "markdown",
   "metadata": {},
   "source": [
    "To produce the residual plot, Normal Q-Q plot and histogram of deviance residuals of our quasi-Poisson model, we first define one function called my.glm.function for plotting purposes."
   ]
  },
  {
   "cell_type": "code",
   "execution_count": 19,
   "metadata": {},
   "outputs": [],
   "source": [
    "my.glm.function <- function(my.glm.model)\n",
    "{\n",
    "  dev <- residuals(my.glm.model, type = c(\"deviance\"))\n",
    "  df <- augment(my.glm.model)\n",
    "  plot1 <- ggplot(df, aes(x = .fitted, y = .resid)) + \n",
    "           geom_point() +\n",
    "           ggtitle(\"Plot of Deviance Residuals \\n vs. Predicted Values\") +\n",
    "           xlab(\"Predicted Value\") + ylab(\"Deviance Residual\") +\n",
    "           geom_smooth(method = \"lm\", se=FALSE, color=\"red\", formula = y ~ x) +\n",
    "           theme(plot.title = element_text(size = 8),aspect.ratio=1,\n",
    "             axis.title.x=element_text(size=8),axis.text.x=element_text(size=7),\n",
    "             axis.title.y=element_text(size=8),axis.text.y=element_text(size=7))\n",
    "  plot2 <- ggplot(data=as.data.frame(qqnorm(dev,plot=F)),mapping=aes(x=x,y=y)) +\n",
    "           geom_point() +\n",
    "           ggtitle(\"Normal Q-Q Plot \\n\") +\n",
    "           xlab(\"Theoretical Quantiles\") + ylab(\"Sample Quantiles\") +\n",
    "           geom_smooth(method = \"lm\", se=FALSE, color=\"red\", formula = y ~ x) +\n",
    "           theme(plot.title = element_text(size = 8),aspect.ratio=1,\n",
    "             axis.title.x=element_text(size=8),axis.text.x=element_text(size=7),\n",
    "             axis.title.y=element_text(size=8),axis.text.y=element_text(size=7))\n",
    "  plot3 <- ggplot(df, aes(x=dev)) + \n",
    "           geom_histogram(color=\"black\", fill=\"black\", binwidth = 15) +\n",
    "           geom_vline(aes(xintercept=mean(dev, na.rm=T)), color=\"red\", size=1) +\n",
    "           ggtitle(\"Histogram of \\n Deviance Residuals\") + xlab(\"Deviance Residuals\") +\n",
    "           theme(plot.title = element_text(size = 8),aspect.ratio=1,\n",
    "             axis.title.x=element_text(size=8),axis.text.x=element_text(size=7),\n",
    "             axis.title.y=element_text(size=8),axis.text.y=element_text(size=7))\n",
    "  grid.arrange(plot1, plot2, plot3, nrow=1, ncol=3)\n",
    "} "
   ]
  },
  {
   "cell_type": "markdown",
   "metadata": {},
   "source": [
    "#### * The Poisson-multiplicative Model"
   ]
  },
  {
   "cell_type": "markdown",
   "metadata": {},
   "source": [
    "We begin our GLM with Poisson distribution and Logarithmic link function.\n",
    "\n",
    "Usually we can use the Akaike information criterion (AIC) to assess model selection which penalized for adding more parameters. However, as we can see below, AIC doesn't work in our Poisson model. This is probabily because the variable, pure premium, takes on non-integer values."
   ]
  },
  {
   "cell_type": "markdown",
   "metadata": {},
   "source": [
    "Since the Poisson-multiplicative Model will produce the following messy messages:\n",
    "    \n",
    "    Warning message in dpois(y, mu, log = TRUE):\n",
    "        \"non-integer x = 862.371191\"Warning message in dpois(y, mu, log = TRUE):\n",
    "        ....\n",
    "\n",
    "If we want temporary turn off these warnings, the safest way is using:\n",
    "\n",
    "    oldw <- getOption(\"warn\")\n",
    "    options(warn = -1)\n",
    "    [your \"silenced\" code]\n",
    "    options(warn = oldw)"
   ]
  },
  {
   "cell_type": "code",
   "execution_count": 20,
   "metadata": {},
   "outputs": [],
   "source": [
    "oldw <- getOption(\"warn\")\n",
    "options(warn = -1)"
   ]
  },
  {
   "cell_type": "code",
   "execution_count": 21,
   "metadata": {},
   "outputs": [
    {
     "data": {
      "text/plain": [
       "\n",
       "Call:\n",
       "glm(formula = PP ~ factor(Kilometres) + factor(Zone), family = poisson(link = \"log\"), \n",
       "    data = AHPR2, weights = Insured)\n",
       "\n",
       "Deviance Residuals: \n",
       "     Min        1Q    Median        3Q       Max  \n",
       "-1382.87    -84.45    -23.22     98.25   2289.46  \n",
       "\n",
       "Coefficients:\n",
       "                      Estimate Std. Error z value Pr(>|z|)    \n",
       "(Intercept)          5.1114086  0.0001027 49792.5   <2e-16 ***\n",
       "factor(Kilometres)2  0.2092139  0.0001069  1957.8   <2e-16 ***\n",
       "factor(Kilometres)3  0.2487346  0.0001210  2055.9   <2e-16 ***\n",
       "factor(Kilometres)4  0.3351133  0.0001662  2016.8   <2e-16 ***\n",
       "factor(Kilometres)5  0.5233342  0.0001772  2952.6   <2e-16 ***\n",
       "factor(Zone)1        0.5020485  0.0001237  4058.4   <2e-16 ***\n",
       "factor(Zone)2        0.2672450  0.0001258  2123.5   <2e-16 ***\n",
       "factor(Zone)3        0.1283698  0.0001274  1007.4   <2e-16 ***\n",
       "factor(Zone)5        0.2045657  0.0002007  1019.2   <2e-16 ***\n",
       "factor(Zone)6        0.0895158  0.0001549   577.9   <2e-16 ***\n",
       "factor(Zone)7       -0.2490788  0.0005898  -422.3   <2e-16 ***\n",
       "---\n",
       "Signif. codes:  0 '***' 0.001 '**' 0.01 '*' 0.05 '.' 0.1 ' ' 1\n",
       "\n",
       "(Dispersion parameter for poisson family taken to be 1)\n",
       "\n",
       "    Null deviance: 161044633  on 2181  degrees of freedom\n",
       "Residual deviance: 132377411  on 2171  degrees of freedom\n",
       "AIC: Inf\n",
       "\n",
       "Number of Fisher Scoring iterations: 5\n"
      ]
     },
     "metadata": {},
     "output_type": "display_data"
    }
   ],
   "source": [
    "poiss <- glm(PP ~ factor(Kilometres) + factor(Zone), data=AHPR2, family=poisson(link=\"log\"), weights=Insured)\n",
    "\n",
    "summary(poiss)"
   ]
  },
  {
   "cell_type": "code",
   "execution_count": 22,
   "metadata": {},
   "outputs": [],
   "source": [
    "options(warn = oldw)"
   ]
  },
  {
   "cell_type": "markdown",
   "metadata": {},
   "source": [
    "If we change to use the quasi-Poisson model, AIC problem may also exist. Notice that the dispersion parameter for poisson family taken to be 1 but for quasi-poisson family taken to be greater than 1, even though both models have the same coefficients of estimate and deviances. This kind of overdispersion is due to the Poisson model has only one parameter and the variance equals the mean. The quasi-Poisson model, however, assume the variance is a linear function of the mean:"
   ]
  },
  {
   "cell_type": "code",
   "execution_count": 23,
   "metadata": {},
   "outputs": [
    {
     "data": {
      "text/plain": [
       "\n",
       "Call:\n",
       "glm(formula = PP ~ factor(Kilometres) + factor(Zone), family = quasipoisson(link = \"log\"), \n",
       "    data = AHPR2, weights = Insured)\n",
       "\n",
       "Deviance Residuals: \n",
       "     Min        1Q    Median        3Q       Max  \n",
       "-1382.87    -84.45    -23.22     98.25   2289.46  \n",
       "\n",
       "Coefficients:\n",
       "                    Estimate Std. Error t value Pr(>|t|)    \n",
       "(Intercept)          5.11141    0.02945 173.548  < 2e-16 ***\n",
       "factor(Kilometres)2  0.20921    0.03066   6.824 1.15e-11 ***\n",
       "factor(Kilometres)3  0.24873    0.03471   7.166 1.06e-12 ***\n",
       "factor(Kilometres)4  0.33511    0.04767   7.029 2.77e-12 ***\n",
       "factor(Kilometres)5  0.52333    0.05085  10.291  < 2e-16 ***\n",
       "factor(Zone)1        0.50205    0.03549  14.145  < 2e-16 ***\n",
       "factor(Zone)2        0.26724    0.03611   7.401 1.92e-13 ***\n",
       "factor(Zone)3        0.12837    0.03656   3.511 0.000455 ***\n",
       "factor(Zone)5        0.20457    0.05759   3.552 0.000390 ***\n",
       "factor(Zone)6        0.08952    0.04445   2.014 0.044126 *  \n",
       "factor(Zone)7       -0.24908    0.16921  -1.472 0.141173    \n",
       "---\n",
       "Signif. codes:  0 '***' 0.001 '**' 0.01 '*' 0.05 '.' 0.1 ' ' 1\n",
       "\n",
       "(Dispersion parameter for quasipoisson family taken to be 82317.25)\n",
       "\n",
       "    Null deviance: 161044633  on 2181  degrees of freedom\n",
       "Residual deviance: 132377411  on 2171  degrees of freedom\n",
       "AIC: NA\n",
       "\n",
       "Number of Fisher Scoring iterations: 5\n"
      ]
     },
     "metadata": {},
     "output_type": "display_data"
    }
   ],
   "source": [
    "qpoiss_mult <- glm(PP ~ factor(Kilometres) + factor(Zone), \n",
    "                   data=AHPR2, family=quasipoisson(link=\"log\"), weights=Insured)\n",
    "\n",
    "summary(qpoiss_mult)"
   ]
  },
  {
   "cell_type": "code",
   "execution_count": 24,
   "metadata": {},
   "outputs": [
    {
     "data": {
      "image/png": "[encoded data removed]",
      "text/plain": [
       "plot without title"
      ]
     },
     "metadata": {},
     "output_type": "display_data"
    }
   ],
   "source": [
    "my.glm.function(qpoiss_mult)"
   ]
  },
  {
   "cell_type": "markdown",
   "metadata": {},
   "source": [
    "#### * The Poisson-additive Model\n",
    "\n",
    "Add start values of coefficients to avoid the problem that the predicted mean might be negative."
   ]
  },
  {
   "cell_type": "code",
   "execution_count": 25,
   "metadata": {},
   "outputs": [
    {
     "data": {
      "text/plain": [
       "\n",
       "Call:\n",
       "glm(formula = PP ~ factor(Kilometres) + factor(Zone), family = quasipoisson(link = \"identity\"), \n",
       "    data = AHPR2, weights = Insured, start = c(5.11, 0.2, 0.24, \n",
       "        0.33, 0.52, 0.5, 0.26, 0.12, 0.2, 0.08, -0.24))\n",
       "\n",
       "Deviance Residuals: \n",
       "     Min        1Q    Median        3Q       Max  \n",
       "-1414.00    -83.74    -23.47     96.94   2318.55  \n",
       "\n",
       "Coefficients:\n",
       "                    Estimate Std. Error t value Pr(>|t|)    \n",
       "(Intercept)          160.492      5.525  29.047  < 2e-16 ***\n",
       "factor(Kilometres)2   44.517      6.599   6.746 1.94e-11 ***\n",
       "factor(Kilometres)3   54.807      7.860   6.973 4.11e-12 ***\n",
       "factor(Kilometres)4   77.398     12.091   6.401 1.88e-10 ***\n",
       "factor(Kilometres)5  129.896     15.361   8.456  < 2e-16 ***\n",
       "factor(Zone)1        127.614     10.009  12.750  < 2e-16 ***\n",
       "factor(Zone)2         60.986      8.556   7.128 1.39e-12 ***\n",
       "factor(Zone)3         27.768      7.835   3.544 0.000402 ***\n",
       "factor(Zone)5         45.526     13.480   3.377 0.000745 ***\n",
       "factor(Zone)6         20.704      9.447   2.192 0.028510 *  \n",
       "factor(Zone)7        -42.202     25.616  -1.648 0.099598 .  \n",
       "---\n",
       "Signif. codes:  0 '***' 0.001 '**' 0.01 '*' 0.05 '.' 0.1 ' ' 1\n",
       "\n",
       "(Dispersion parameter for quasipoisson family taken to be 82393.66)\n",
       "\n",
       "    Null deviance: 161044633  on 2181  degrees of freedom\n",
       "Residual deviance: 132596399  on 2171  degrees of freedom\n",
       "AIC: NA\n",
       "\n",
       "Number of Fisher Scoring iterations: 4\n"
      ]
     },
     "metadata": {},
     "output_type": "display_data"
    }
   ],
   "source": [
    "qpoiss_add <- glm(PP ~ factor(Kilometres) + factor(Zone), \n",
    "                  data=AHPR2, family=quasipoisson(link=\"identity\"), weights=Insured, \n",
    "                  start=c(5.11,0.20,0.24,0.33,0.52,0.50,0.26,0.12,0.20,0.08,-0.24))\n",
    "\n",
    "summary(qpoiss_add)"
   ]
  },
  {
   "cell_type": "markdown",
   "metadata": {},
   "source": [
    "Three graphs of our Poisson-additive model are:"
   ]
  },
  {
   "cell_type": "code",
   "execution_count": 26,
   "metadata": {},
   "outputs": [
    {
     "data": {
      "image/png": "[encoded data removed]",
      "text/plain": [
       "plot without title"
      ]
     },
     "metadata": {},
     "output_type": "display_data"
    }
   ],
   "source": [
    "my.glm.function(qpoiss_add)"
   ]
  },
  {
   "cell_type": "markdown",
   "metadata": {},
   "source": [
    "#### * The Gamma-multiplicative Model\n",
    "\n",
    "We begin the Gamma model analysis by cleanning and modifying our general insurance data, since non-positive values are not allowed for the gamma family and we have some zero's in the dataset."
   ]
  },
  {
   "cell_type": "code",
   "execution_count": 27,
   "metadata": {},
   "outputs": [
    {
     "data": {
      "text/plain": [
       "\n",
       "Call:\n",
       "glm(formula = PP_pos ~ factor(Kilometres) + factor(Zone), family = Gamma(link = \"log\"), \n",
       "    data = AHPR2, weights = Insured, start = c(5.11, 0.2, 0.24, \n",
       "        0.33, 0.52, 0.5, 0.26, 0.12, 0.2, 0.08, -0.24))\n",
       "\n",
       "Deviance Residuals: \n",
       "     Min        1Q    Median        3Q       Max  \n",
       "-103.643    -8.855    -2.171     5.782   134.081  \n",
       "\n",
       "Coefficients:\n",
       "                    Estimate Std. Error t value Pr(>|t|)    \n",
       "(Intercept)          5.10637    0.02653 192.483  < 2e-16 ***\n",
       "factor(Kilometres)2  0.20996    0.02940   7.141 1.26e-12 ***\n",
       "factor(Kilometres)3  0.25317    0.03409   7.427 1.58e-13 ***\n",
       "factor(Kilometres)4  0.34303    0.04944   6.938 5.22e-12 ***\n",
       "factor(Kilometres)5  0.51988    0.05740   9.057  < 2e-16 ***\n",
       "factor(Zone)1        0.50399    0.03845  13.106  < 2e-16 ***\n",
       "factor(Zone)2        0.27248    0.03618   7.532 7.31e-14 ***\n",
       "factor(Zone)3        0.13302    0.03496   3.805 0.000146 ***\n",
       "factor(Zone)5        0.21073    0.05748   3.666 0.000252 ***\n",
       "factor(Zone)6        0.10055    0.04229   2.378 0.017498 *  \n",
       "factor(Zone)7       -0.25250    0.13660  -1.849 0.064660 .  \n",
       "---\n",
       "Signif. codes:  0 '***' 0.001 '**' 0.01 '*' 0.05 '.' 0.1 ' ' 1\n",
       "\n",
       "(Dispersion parameter for Gamma family taken to be 348.1915)\n",
       "\n",
       "    Null deviance: 692476  on 2181  degrees of freedom\n",
       "Residual deviance: 573859  on 2171  degrees of freedom\n",
       "AIC: 28801574\n",
       "\n",
       "Number of Fisher Scoring iterations: 3\n"
      ]
     },
     "metadata": {},
     "output_type": "display_data"
    }
   ],
   "source": [
    "PP_pos <- AHPR2[,8] \n",
    "# Replacing 0 by 0.001 in PP_pos \n",
    "PP_pos[AHPR2[,7]==0] <- 0.001 \n",
    "# Adding the PP_pos column to the dataset AHPR2\n",
    "AHPR2$PP_pos <- PP_pos \n",
    "\n",
    "gamma_mult <- glm(PP_pos ~ factor(Kilometres) + factor(Zone), \n",
    "                  data=AHPR2, family=Gamma(link=\"log\"), weights=Insured, \n",
    "                  start=c(5.11,0.20,0.24,0.33,0.52,0.50,0.26,0.12,0.20,0.08,-0.24)) \n",
    "\n",
    "summary(gamma_mult)"
   ]
  },
  {
   "cell_type": "markdown",
   "metadata": {},
   "source": [
    "Three graphs of our Gamma-multiplicative model are:"
   ]
  },
  {
   "cell_type": "code",
   "execution_count": 28,
   "metadata": {},
   "outputs": [
    {
     "data": {
      "image/png": "[encoded data removed]",
      "text/plain": [
       "plot without title"
      ]
     },
     "metadata": {},
     "output_type": "display_data"
    }
   ],
   "source": [
    "my.glm.function(gamma_mult)"
   ]
  },
  {
   "cell_type": "markdown",
   "metadata": {},
   "source": [
    "#### * The Gamma-additive Model"
   ]
  },
  {
   "cell_type": "code",
   "execution_count": 29,
   "metadata": {},
   "outputs": [
    {
     "data": {
      "text/plain": [
       "\n",
       "Call:\n",
       "glm(formula = PP_pos ~ factor(Kilometres) + factor(Zone), family = Gamma(link = \"identity\"), \n",
       "    data = AHPR2, weights = Insured, start = c(5.11, 0.2, 0.24, \n",
       "        0.33, 0.52, 0.5, 0.26, 0.12, 0.2, 0.08, -0.24))\n",
       "\n",
       "Deviance Residuals: \n",
       "     Min        1Q    Median        3Q       Max  \n",
       "-101.710    -8.850    -2.150     5.632   133.409  \n",
       "\n",
       "Coefficients:\n",
       "                    Estimate Std. Error t value Pr(>|t|)    \n",
       "(Intercept)          160.738      4.793  33.539  < 2e-16 ***\n",
       "factor(Kilometres)2   43.730      6.202   7.051 2.38e-12 ***\n",
       "factor(Kilometres)3   54.424      7.618   7.144 1.23e-12 ***\n",
       "factor(Kilometres)4   77.326     12.468   6.202 6.66e-10 ***\n",
       "factor(Kilometres)5  126.909     17.285   7.342 2.95e-13 ***\n",
       "factor(Zone)1        126.257     11.107  11.367  < 2e-16 ***\n",
       "factor(Zone)2         61.033      8.528   7.157 1.13e-12 ***\n",
       "factor(Zone)3         28.127      7.351   3.826 0.000134 ***\n",
       "factor(Zone)5         45.941     13.271   3.462 0.000547 ***\n",
       "factor(Zone)6         22.655      8.881   2.551 0.010810 *  \n",
       "factor(Zone)7        -41.383     20.017  -2.067 0.038819 *  \n",
       "---\n",
       "Signif. codes:  0 '***' 0.001 '**' 0.01 '*' 0.05 '.' 0.1 ' ' 1\n",
       "\n",
       "(Dispersion parameter for Gamma family taken to be 347.2276)\n",
       "\n",
       "    Null deviance: 692476  on 2181  degrees of freedom\n",
       "Residual deviance: 574155  on 2171  degrees of freedom\n",
       "AIC: 28802851\n",
       "\n",
       "Number of Fisher Scoring iterations: 4\n"
      ]
     },
     "metadata": {},
     "output_type": "display_data"
    }
   ],
   "source": [
    "gamma_add <- glm(PP_pos ~ factor(Kilometres) + factor(Zone), \n",
    "                 data=AHPR2, family=Gamma(link=\"identity\"), weights=Insured, \n",
    "                 start=c(5.11,0.20,0.24,0.33,0.52,0.50,0.26,0.12,0.20,0.08,-0.24))\n",
    "\n",
    "summary(gamma_add)"
   ]
  },
  {
   "cell_type": "markdown",
   "metadata": {},
   "source": [
    "Three graphs of our Gamma-additive model are:"
   ]
  },
  {
   "cell_type": "code",
   "execution_count": 30,
   "metadata": {},
   "outputs": [
    {
     "data": {
      "image/png": "[encoded data removed]",
      "text/plain": [
       "plot without title"
      ]
     },
     "metadata": {},
     "output_type": "display_data"
    }
   ],
   "source": [
    "my.glm.function(gamma_add)"
   ]
  },
  {
   "cell_type": "markdown",
   "metadata": {},
   "source": [
    "#### * The Gaussian-multiplicative Model"
   ]
  },
  {
   "cell_type": "code",
   "execution_count": 31,
   "metadata": {},
   "outputs": [
    {
     "data": {
      "text/plain": [
       "\n",
       "Call:\n",
       "glm(formula = PP_pos ~ factor(Kilometres) + factor(Zone), family = gaussian(link = \"log\"), \n",
       "    data = AHPR2, weights = Insured)\n",
       "\n",
       "Deviance Residuals: \n",
       "   Min      1Q  Median      3Q     Max  \n",
       "-22654   -1118    -277    1704   51601  \n",
       "\n",
       "Coefficients:\n",
       "                    Estimate Std. Error t value Pr(>|t|)    \n",
       "(Intercept)          5.11524    0.03310 154.528  < 2e-16 ***\n",
       "factor(Kilometres)2  0.20974    0.03252   6.449 1.39e-10 ***\n",
       "factor(Kilometres)3  0.24473    0.03611   6.777 1.57e-11 ***\n",
       "factor(Kilometres)4  0.32730    0.04724   6.929 5.57e-12 ***\n",
       "factor(Kilometres)5  0.53016    0.04636  11.435  < 2e-16 ***\n",
       "factor(Zone)1        0.50139    0.03427  14.633  < 2e-16 ***\n",
       "factor(Zone)2        0.26259    0.03701   7.095 1.75e-12 ***\n",
       "factor(Zone)3        0.12375    0.03902   3.172 0.001538 ** \n",
       "factor(Zone)5        0.19872    0.05906   3.365 0.000779 ***\n",
       "factor(Zone)6        0.07905    0.04787   1.651 0.098821 .  \n",
       "factor(Zone)7       -0.24298    0.21194  -1.146 0.251733    \n",
       "---\n",
       "Signif. codes:  0 '***' 0.001 '**' 0.01 '*' 0.05 '.' 0.1 ' ' 1\n",
       "\n",
       "(Dispersion parameter for gaussian family taken to be 20643425)\n",
       "\n",
       "    Null deviance: 5.1948e+10  on 2181  degrees of freedom\n",
       "Residual deviance: 4.4817e+10  on 2171  degrees of freedom\n",
       "AIC: 33153\n",
       "\n",
       "Number of Fisher Scoring iterations: 7\n"
      ]
     },
     "metadata": {},
     "output_type": "display_data"
    }
   ],
   "source": [
    "gauss_mult <- glm(PP_pos ~ factor(Kilometres) + factor(Zone), \n",
    "                  data=AHPR2, family=gaussian(link=\"log\"), weights=Insured)\n",
    "\n",
    "summary(gauss_mult)"
   ]
  },
  {
   "cell_type": "markdown",
   "metadata": {},
   "source": [
    "Three graphs of our Gaussian-multiplicative model are:"
   ]
  },
  {
   "cell_type": "code",
   "execution_count": 32,
   "metadata": {},
   "outputs": [
    {
     "data": {
      "image/png": "[encoded data removed]",
      "text/plain": [
       "plot without title"
      ]
     },
     "metadata": {},
     "output_type": "display_data"
    }
   ],
   "source": [
    "my.glm.function(gauss_mult)"
   ]
  },
  {
   "cell_type": "markdown",
   "metadata": {},
   "source": [
    "#### * The Gaussian-additive Model"
   ]
  },
  {
   "cell_type": "code",
   "execution_count": 33,
   "metadata": {},
   "outputs": [
    {
     "data": {
      "text/plain": [
       "\n",
       "Call:\n",
       "glm(formula = PP_pos ~ factor(Kilometres) + factor(Zone), family = gaussian(link = \"identity\"), \n",
       "    data = AHPR2, weights = Insured)\n",
       "\n",
       "Deviance Residuals: \n",
       "   Min      1Q  Median      3Q     Max  \n",
       "-22631   -1119    -278    1705   51954  \n",
       "\n",
       "Coefficients:\n",
       "                    Estimate Std. Error t value Pr(>|t|)    \n",
       "(Intercept)          159.725      6.467  24.698  < 2e-16 ***\n",
       "factor(Kilometres)2   45.821      7.168   6.393 1.99e-10 ***\n",
       "factor(Kilometres)3   55.538      8.309   6.684 2.95e-11 ***\n",
       "factor(Kilometres)4   77.807     12.052   6.456 1.32e-10 ***\n",
       "factor(Kilometres)5  133.991     13.993   9.576  < 2e-16 ***\n",
       "factor(Zone)1        129.294      9.374  13.792  < 2e-16 ***\n",
       "factor(Zone)2         61.069      8.819   6.925 5.74e-12 ***\n",
       "factor(Zone)3         27.406      8.523   3.216  0.00132 ** \n",
       "factor(Zone)5         45.195     14.012   3.225  0.00128 ** \n",
       "factor(Zone)6         18.677     10.308   1.812  0.07014 .  \n",
       "factor(Zone)7        -42.798     33.298  -1.285  0.19882    \n",
       "---\n",
       "Signif. codes:  0 '***' 0.001 '**' 0.01 '*' 0.05 '.' 0.1 ' ' 1\n",
       "\n",
       "(Dispersion parameter for gaussian family taken to be 20691334)\n",
       "\n",
       "    Null deviance: 5.1948e+10  on 2181  degrees of freedom\n",
       "Residual deviance: 4.4921e+10  on 2171  degrees of freedom\n",
       "AIC: 33158\n",
       "\n",
       "Number of Fisher Scoring iterations: 2\n"
      ]
     },
     "metadata": {},
     "output_type": "display_data"
    }
   ],
   "source": [
    "gauss_add <- glm(PP_pos ~ factor(Kilometres) + factor(Zone), \n",
    "                 data=AHPR2, family=gaussian(link=\"identity\"), weights=Insured)\n",
    "\n",
    "summary(gauss_add)"
   ]
  },
  {
   "cell_type": "markdown",
   "metadata": {},
   "source": [
    "Three graphs of our Gaussian-additive model are:"
   ]
  },
  {
   "cell_type": "code",
   "execution_count": 34,
   "metadata": {},
   "outputs": [
    {
     "data": {
      "image/png": "[encoded data removed]",
      "text/plain": [
       "plot without title"
      ]
     },
     "metadata": {},
     "output_type": "display_data"
    }
   ],
   "source": [
    "my.glm.function(gauss_add)"
   ]
  },
  {
   "cell_type": "markdown",
   "metadata": {},
   "source": [
    "When comparing above residual plots, we see that all of these models are distributed evenly around the y-axis. It is very hard to see significant difference among these models. When comparing above Normal Q-Q plots and histogram of deviance residuals, however, Gamma-multiplicative model and Gamma-additive model are more symmetric."
   ]
  },
  {
   "cell_type": "markdown",
   "metadata": {},
   "source": [
    "We can also compute the ratio of residual deviance to dispersion parameter and the ratio of residual to null deviance for each model."
   ]
  },
  {
   "cell_type": "code",
   "execution_count": 35,
   "metadata": {},
   "outputs": [
    {
     "data": {
      "text/html": [
       "<table>\n",
       "<thead><tr><th scope=col>Models</th><th scope=col>Residual_deviance</th><th scope=col>Residual_vs_null_deviance</th></tr></thead>\n",
       "<tbody>\n",
       "\t<tr><td>Poisson-multiplicative </td><td>1608.137               </td><td>0.8219921              </td></tr>\n",
       "\t<tr><td>Poisson-additive       </td><td>1609.304               </td><td>0.8233519              </td></tr>\n",
       "\t<tr><td>Gamma-multiplicative   </td><td>1648.115               </td><td>0.8287071              </td></tr>\n",
       "\t<tr><td>Gamma-additive         </td><td>1653.541               </td><td>0.8291342              </td></tr>\n",
       "\t<tr><td>Gaussian-multiplicative</td><td>2170.997               </td><td>0.8627219              </td></tr>\n",
       "\t<tr><td>Gaussian-additive      </td><td>2171.000               </td><td>0.8647252              </td></tr>\n",
       "</tbody>\n",
       "</table>\n"
      ],
      "text/latex": [
       "\\begin{tabular}{r|lll}\n",
       " Models & Residual\\_deviance & Residual\\_vs\\_null\\_deviance\\\\\n",
       "\\hline\n",
       "\t Poisson-multiplicative  & 1608.137                & 0.8219921              \\\\\n",
       "\t Poisson-additive        & 1609.304                & 0.8233519              \\\\\n",
       "\t Gamma-multiplicative    & 1648.115                & 0.8287071              \\\\\n",
       "\t Gamma-additive          & 1653.541                & 0.8291342              \\\\\n",
       "\t Gaussian-multiplicative & 2170.997                & 0.8627219              \\\\\n",
       "\t Gaussian-additive       & 2171.000                & 0.8647252              \\\\\n",
       "\\end{tabular}\n"
      ],
      "text/markdown": [
       "\n",
       "| Models | Residual_deviance | Residual_vs_null_deviance |\n",
       "|---|---|---|\n",
       "| Poisson-multiplicative  | 1608.137                | 0.8219921               |\n",
       "| Poisson-additive        | 1609.304                | 0.8233519               |\n",
       "| Gamma-multiplicative    | 1648.115                | 0.8287071               |\n",
       "| Gamma-additive          | 1653.541                | 0.8291342               |\n",
       "| Gaussian-multiplicative | 2170.997                | 0.8627219               |\n",
       "| Gaussian-additive       | 2171.000                | 0.8647252               |\n",
       "\n"
      ],
      "text/plain": [
       "  Models                  Residual_deviance Residual_vs_null_deviance\n",
       "1 Poisson-multiplicative  1608.137          0.8219921                \n",
       "2 Poisson-additive        1609.304          0.8233519                \n",
       "3 Gamma-multiplicative    1648.115          0.8287071                \n",
       "4 Gamma-additive          1653.541          0.8291342                \n",
       "5 Gaussian-multiplicative 2170.997          0.8627219                \n",
       "6 Gaussian-additive       2171.000          0.8647252                "
      ]
     },
     "metadata": {},
     "output_type": "display_data"
    }
   ],
   "source": [
    "Models = c(\"Poisson-multiplicative\", \"Poisson-additive\", \"Gamma-multiplicative\", \n",
    "           \"Gamma-additive\", \"Gaussian-multiplicative\",\"Gaussian-additive\")\n",
    "\n",
    "Residual_deviance = c(anova(qpoiss_mult)[3,4] / summary(qpoiss_mult)$dispersion, \n",
    "                      anova(qpoiss_add)[3,4] / summary(qpoiss_add)$dispersion, \n",
    "                      anova(gamma_mult)[3,4] / summary(gamma_mult)$dispersion, \n",
    "                      anova(gamma_add)[3,4] / summary(gamma_add)$dispersion,\n",
    "                      anova(gauss_mult)[3,4] / summary(gauss_mult)$dispersion,\n",
    "                      anova(gauss_add)[3,4] / summary(gauss_add)$dispersion)\n",
    "\n",
    "Residual_vs_null_deviance = c(anova(qpoiss_mult)[3,4]/anova(qpoiss_mult)[1,4],\n",
    "                              anova(qpoiss_add)[3,4]/anova(qpoiss_add)[1,4],\n",
    "                              anova(gamma_mult)[3,4]/anova(gamma_mult)[1,4],\n",
    "                              anova(gamma_add)[3,4]/anova(gamma_add)[1,4],\n",
    "                              anova(gauss_mult)[3,4]/anova(gauss_mult)[1,4],\n",
    "                              anova(gauss_add)[3,4]/anova(gauss_add)[1,4,])\n",
    "\n",
    "data.frame(Models, Residual_deviance, Residual_vs_null_deviance)"
   ]
  },
  {
   "cell_type": "markdown",
   "metadata": {},
   "source": [
    "Since Gamma-multiplicative model has smaller computed values than Gamma-additive model, we choose Gamma-multiplicative model as our best model for the next task."
   ]
  },
  {
   "cell_type": "markdown",
   "metadata": {},
   "source": [
    "### TASK 3: SELECTING VARIABLES\n",
    "#### * Gamma-multiplicative Model"
   ]
  },
  {
   "cell_type": "markdown",
   "metadata": {},
   "source": [
    "In this task, we consider adding two more variables, Bonus and Make, into our Gamma-multiplicative model. Since there are too many classes in each rating variable, we need to reduce the number of classes by conducting linear regression analysis on them."
   ]
  },
  {
   "cell_type": "code",
   "execution_count": 36,
   "metadata": {},
   "outputs": [],
   "source": [
    "AHPR3 <- AHPR"
   ]
  },
  {
   "cell_type": "code",
   "execution_count": 37,
   "metadata": {},
   "outputs": [
    {
     "data": {
      "text/html": [
       "<table>\n",
       "<thead><tr><th></th><th scope=col>Estimate</th><th scope=col>Std. Error</th><th scope=col>t value</th><th scope=col>Pr(&gt;|t|)</th></tr></thead>\n",
       "<tbody>\n",
       "\t<tr><th scope=row>(Intercept)</th><td>196.91813    </td><td> 5.299926    </td><td>37.154881    </td><td>1.896000e-234</td></tr>\n",
       "\t<tr><th scope=row>factor(Kilometres)2</th><td> 45.68975    </td><td> 7.500827    </td><td> 6.091295    </td><td> 1.320503e-09</td></tr>\n",
       "\t<tr><th scope=row>factor(Kilometres)3</th><td> 54.48647    </td><td> 8.693944    </td><td> 6.267175    </td><td> 4.418870e-10</td></tr>\n",
       "\t<tr><th scope=row>factor(Kilometres)4</th><td> 74.31841    </td><td>12.608424    </td><td> 5.894346    </td><td> 4.348598e-09</td></tr>\n",
       "\t<tr><th scope=row>factor(Kilometres)5</th><td>130.53205    </td><td>14.640581    </td><td> 8.915770    </td><td> 1.001503e-18</td></tr>\n",
       "</tbody>\n",
       "</table>\n"
      ],
      "text/latex": [
       "\\begin{tabular}{r|llll}\n",
       "  & Estimate & Std. Error & t value & Pr(>\\textbar{}t\\textbar{})\\\\\n",
       "\\hline\n",
       "\t(Intercept) & 196.91813     &  5.299926     & 37.154881     & 1.896000e-234\\\\\n",
       "\tfactor(Kilometres)2 &  45.68975     &  7.500827     &  6.091295     &  1.320503e-09\\\\\n",
       "\tfactor(Kilometres)3 &  54.48647     &  8.693944     &  6.267175     &  4.418870e-10\\\\\n",
       "\tfactor(Kilometres)4 &  74.31841     & 12.608424     &  5.894346     &  4.348598e-09\\\\\n",
       "\tfactor(Kilometres)5 & 130.53205     & 14.640581     &  8.915770     &  1.001503e-18\\\\\n",
       "\\end{tabular}\n"
      ],
      "text/markdown": [
       "\n",
       "| <!--/--> | Estimate | Std. Error | t value | Pr(>|t|) |\n",
       "|---|---|---|---|---|\n",
       "| (Intercept) | 196.91813     |  5.299926     | 37.154881     | 1.896000e-234 |\n",
       "| factor(Kilometres)2 |  45.68975     |  7.500827     |  6.091295     |  1.320503e-09 |\n",
       "| factor(Kilometres)3 |  54.48647     |  8.693944     |  6.267175     |  4.418870e-10 |\n",
       "| factor(Kilometres)4 |  74.31841     | 12.608424     |  5.894346     |  4.348598e-09 |\n",
       "| factor(Kilometres)5 | 130.53205     | 14.640581     |  8.915770     |  1.001503e-18 |\n",
       "\n"
      ],
      "text/plain": [
       "                    Estimate  Std. Error t value   Pr(>|t|)     \n",
       "(Intercept)         196.91813  5.299926  37.154881 1.896000e-234\n",
       "factor(Kilometres)2  45.68975  7.500827   6.091295  1.320503e-09\n",
       "factor(Kilometres)3  54.48647  8.693944   6.267175  4.418870e-10\n",
       "factor(Kilometres)4  74.31841 12.608424   5.894346  4.348598e-09\n",
       "factor(Kilometres)5 130.53205 14.640581   8.915770  1.001503e-18"
      ]
     },
     "metadata": {},
     "output_type": "display_data"
    }
   ],
   "source": [
    "AHPR_Kilometres <- lm(PP ~ factor(Kilometres), weights = Insured, data = AHPR3)\n",
    "summary(AHPR_Kilometres)$coef"
   ]
  },
  {
   "cell_type": "code",
   "execution_count": 38,
   "metadata": {},
   "outputs": [
    {
     "data": {
      "text/html": [
       "<table>\n",
       "<thead><tr><th></th><th scope=col>Estimate</th><th scope=col>Std. Error</th><th scope=col>t value</th><th scope=col>Pr(&gt;|t|)</th></tr></thead>\n",
       "<tbody>\n",
       "\t<tr><th scope=row>(Intercept)</th><td> 326.70158   </td><td> 8.194660    </td><td> 39.867620   </td><td>2.160302e-261</td></tr>\n",
       "\t<tr><th scope=row>factor(Zone)2</th><td> -66.91576   </td><td>11.120012    </td><td> -6.017598   </td><td> 2.071655e-09</td></tr>\n",
       "\t<tr><th scope=row>factor(Zone)3</th><td>-101.05215   </td><td>10.872177    </td><td> -9.294565   </td><td> 3.476027e-20</td></tr>\n",
       "\t<tr><th scope=row>factor(Zone)4</th><td>-127.00065   </td><td> 9.644953    </td><td>-13.167576   </td><td> 3.731606e-38</td></tr>\n",
       "\t<tr><th scope=row>factor(Zone)5</th><td> -85.01398   </td><td>15.783916    </td><td> -5.386115   </td><td> 7.976172e-08</td></tr>\n",
       "\t<tr><th scope=row>factor(Zone)6</th><td>-108.02481   </td><td>12.403160    </td><td> -8.709458   </td><td> 5.927759e-18</td></tr>\n",
       "\t<tr><th scope=row>factor(Zone)7</th><td>-173.44197   </td><td>34.866565    </td><td> -4.974450   </td><td> 7.055928e-07</td></tr>\n",
       "</tbody>\n",
       "</table>\n"
      ],
      "text/latex": [
       "\\begin{tabular}{r|llll}\n",
       "  & Estimate & Std. Error & t value & Pr(>\\textbar{}t\\textbar{})\\\\\n",
       "\\hline\n",
       "\t(Intercept) &  326.70158    &  8.194660     &  39.867620    & 2.160302e-261\\\\\n",
       "\tfactor(Zone)2 &  -66.91576    & 11.120012     &  -6.017598    &  2.071655e-09\\\\\n",
       "\tfactor(Zone)3 & -101.05215    & 10.872177     &  -9.294565    &  3.476027e-20\\\\\n",
       "\tfactor(Zone)4 & -127.00065    &  9.644953     & -13.167576    &  3.731606e-38\\\\\n",
       "\tfactor(Zone)5 &  -85.01398    & 15.783916     &  -5.386115    &  7.976172e-08\\\\\n",
       "\tfactor(Zone)6 & -108.02481    & 12.403160     &  -8.709458    &  5.927759e-18\\\\\n",
       "\tfactor(Zone)7 & -173.44197    & 34.866565     &  -4.974450    &  7.055928e-07\\\\\n",
       "\\end{tabular}\n"
      ],
      "text/markdown": [
       "\n",
       "| <!--/--> | Estimate | Std. Error | t value | Pr(>|t|) |\n",
       "|---|---|---|---|---|\n",
       "| (Intercept) |  326.70158    |  8.194660     |  39.867620    | 2.160302e-261 |\n",
       "| factor(Zone)2 |  -66.91576    | 11.120012     |  -6.017598    |  2.071655e-09 |\n",
       "| factor(Zone)3 | -101.05215    | 10.872177     |  -9.294565    |  3.476027e-20 |\n",
       "| factor(Zone)4 | -127.00065    |  9.644953     | -13.167576    |  3.731606e-38 |\n",
       "| factor(Zone)5 |  -85.01398    | 15.783916     |  -5.386115    |  7.976172e-08 |\n",
       "| factor(Zone)6 | -108.02481    | 12.403160     |  -8.709458    |  5.927759e-18 |\n",
       "| factor(Zone)7 | -173.44197    | 34.866565     |  -4.974450    |  7.055928e-07 |\n",
       "\n"
      ],
      "text/plain": [
       "              Estimate   Std. Error t value    Pr(>|t|)     \n",
       "(Intercept)    326.70158  8.194660   39.867620 2.160302e-261\n",
       "factor(Zone)2  -66.91576 11.120012   -6.017598  2.071655e-09\n",
       "factor(Zone)3 -101.05215 10.872177   -9.294565  3.476027e-20\n",
       "factor(Zone)4 -127.00065  9.644953  -13.167576  3.731606e-38\n",
       "factor(Zone)5  -85.01398 15.783916   -5.386115  7.976172e-08\n",
       "factor(Zone)6 -108.02481 12.403160   -8.709458  5.927759e-18\n",
       "factor(Zone)7 -173.44197 34.866565   -4.974450  7.055928e-07"
      ]
     },
     "metadata": {},
     "output_type": "display_data"
    }
   ],
   "source": [
    "AHPR_Zone <- lm(PP ~ factor(Zone), weights = Insured, data = AHPR3)\n",
    "summary(AHPR_Zone)$coef"
   ]
  },
  {
   "cell_type": "code",
   "execution_count": 39,
   "metadata": {},
   "outputs": [
    {
     "data": {
      "text/html": [
       "<table>\n",
       "<thead><tr><th></th><th scope=col>Estimate</th><th scope=col>Std. Error</th><th scope=col>t value</th><th scope=col>Pr(&gt;|t|)</th></tr></thead>\n",
       "<tbody>\n",
       "\t<tr><th scope=row>(Intercept)</th><td> 538.3349    </td><td> 9.107150    </td><td> 59.11123    </td><td> 0.000000e+00</td></tr>\n",
       "\t<tr><th scope=row>factor(Bonus)2</th><td>-176.2743    </td><td>13.342623    </td><td>-13.21137    </td><td> 2.179222e-38</td></tr>\n",
       "\t<tr><th scope=row>factor(Bonus)3</th><td>-229.7455    </td><td>13.839964    </td><td>-16.60015    </td><td> 2.322966e-58</td></tr>\n",
       "\t<tr><th scope=row>factor(Bonus)4</th><td>-265.0226    </td><td>14.238011    </td><td>-18.61374    </td><td> 7.097932e-72</td></tr>\n",
       "\t<tr><th scope=row>factor(Bonus)5</th><td>-289.6104    </td><td>13.441971    </td><td>-21.54523    </td><td> 1.761892e-93</td></tr>\n",
       "\t<tr><th scope=row>factor(Bonus)6</th><td>-292.9642    </td><td>11.647301    </td><td>-25.15297    </td><td>9.255200e-123</td></tr>\n",
       "\t<tr><th scope=row>factor(Bonus)7</th><td>-361.0066    </td><td> 9.598684    </td><td>-37.61002    </td><td>6.619637e-239</td></tr>\n",
       "</tbody>\n",
       "</table>\n"
      ],
      "text/latex": [
       "\\begin{tabular}{r|llll}\n",
       "  & Estimate & Std. Error & t value & Pr(>\\textbar{}t\\textbar{})\\\\\n",
       "\\hline\n",
       "\t(Intercept) &  538.3349     &  9.107150     &  59.11123     &  0.000000e+00\\\\\n",
       "\tfactor(Bonus)2 & -176.2743     & 13.342623     & -13.21137     &  2.179222e-38\\\\\n",
       "\tfactor(Bonus)3 & -229.7455     & 13.839964     & -16.60015     &  2.322966e-58\\\\\n",
       "\tfactor(Bonus)4 & -265.0226     & 14.238011     & -18.61374     &  7.097932e-72\\\\\n",
       "\tfactor(Bonus)5 & -289.6104     & 13.441971     & -21.54523     &  1.761892e-93\\\\\n",
       "\tfactor(Bonus)6 & -292.9642     & 11.647301     & -25.15297     & 9.255200e-123\\\\\n",
       "\tfactor(Bonus)7 & -361.0066     &  9.598684     & -37.61002     & 6.619637e-239\\\\\n",
       "\\end{tabular}\n"
      ],
      "text/markdown": [
       "\n",
       "| <!--/--> | Estimate | Std. Error | t value | Pr(>|t|) |\n",
       "|---|---|---|---|---|\n",
       "| (Intercept) |  538.3349     |  9.107150     |  59.11123     |  0.000000e+00 |\n",
       "| factor(Bonus)2 | -176.2743     | 13.342623     | -13.21137     |  2.179222e-38 |\n",
       "| factor(Bonus)3 | -229.7455     | 13.839964     | -16.60015     |  2.322966e-58 |\n",
       "| factor(Bonus)4 | -265.0226     | 14.238011     | -18.61374     |  7.097932e-72 |\n",
       "| factor(Bonus)5 | -289.6104     | 13.441971     | -21.54523     |  1.761892e-93 |\n",
       "| factor(Bonus)6 | -292.9642     | 11.647301     | -25.15297     | 9.255200e-123 |\n",
       "| factor(Bonus)7 | -361.0066     |  9.598684     | -37.61002     | 6.619637e-239 |\n",
       "\n"
      ],
      "text/plain": [
       "               Estimate  Std. Error t value   Pr(>|t|)     \n",
       "(Intercept)     538.3349  9.107150   59.11123  0.000000e+00\n",
       "factor(Bonus)2 -176.2743 13.342623  -13.21137  2.179222e-38\n",
       "factor(Bonus)3 -229.7455 13.839964  -16.60015  2.322966e-58\n",
       "factor(Bonus)4 -265.0226 14.238011  -18.61374  7.097932e-72\n",
       "factor(Bonus)5 -289.6104 13.441971  -21.54523  1.761892e-93\n",
       "factor(Bonus)6 -292.9642 11.647301  -25.15297 9.255200e-123\n",
       "factor(Bonus)7 -361.0066  9.598684  -37.61002 6.619637e-239"
      ]
     },
     "metadata": {},
     "output_type": "display_data"
    }
   ],
   "source": [
    "AHPR_Bonus <- lm(PP ~ factor(Bonus), weights = Insured, data = AHPR3)\n",
    "summary(AHPR_Bonus)$coef"
   ]
  },
  {
   "cell_type": "code",
   "execution_count": 40,
   "metadata": {},
   "outputs": [
    {
     "data": {
      "text/html": [
       "<table>\n",
       "<thead><tr><th></th><th scope=col>Estimate</th><th scope=col>Std. Error</th><th scope=col>t value</th><th scope=col>Pr(&gt;|t|)</th></tr></thead>\n",
       "<tbody>\n",
       "\t<tr><th scope=row>(Intercept)</th><td> 254.61517   </td><td> 9.845385    </td><td>25.8613729   </td><td>8.533799e-129</td></tr>\n",
       "\t<tr><th scope=row>factor(Make)2</th><td>  16.78908   </td><td>23.455311    </td><td> 0.7157903   </td><td> 4.741978e-01</td></tr>\n",
       "\t<tr><th scope=row>factor(Make)3</th><td> -37.31384   </td><td>23.940779    </td><td>-1.5585891   </td><td> 1.192393e-01</td></tr>\n",
       "\t<tr><th scope=row>factor(Make)4</th><td>-123.07361   </td><td>21.123717    </td><td>-5.8263235   </td><td> 6.510270e-09</td></tr>\n",
       "\t<tr><th scope=row>factor(Make)5</th><td>  20.23276   </td><td>23.003404    </td><td> 0.8795550   </td><td> 3.791977e-01</td></tr>\n",
       "\t<tr><th scope=row>factor(Make)6</th><td> -71.77896   </td><td>16.666862    </td><td>-4.3066871   </td><td> 1.730897e-05</td></tr>\n",
       "\t<tr><th scope=row>factor(Make)7</th><td> -45.80034   </td><td>23.892710    </td><td>-1.9169169   </td><td> 5.537950e-02</td></tr>\n",
       "\t<tr><th scope=row>factor(Make)8</th><td>  47.38665   </td><td>32.401239    </td><td> 1.4624951   </td><td> 1.437502e-01</td></tr>\n",
       "\t<tr><th scope=row>factor(Make)9</th><td> -16.05450   </td><td>10.508105    </td><td>-1.5278207   </td><td> 1.267026e-01</td></tr>\n",
       "</tbody>\n",
       "</table>\n"
      ],
      "text/latex": [
       "\\begin{tabular}{r|llll}\n",
       "  & Estimate & Std. Error & t value & Pr(>\\textbar{}t\\textbar{})\\\\\n",
       "\\hline\n",
       "\t(Intercept) &  254.61517    &  9.845385     & 25.8613729    & 8.533799e-129\\\\\n",
       "\tfactor(Make)2 &   16.78908    & 23.455311     &  0.7157903    &  4.741978e-01\\\\\n",
       "\tfactor(Make)3 &  -37.31384    & 23.940779     & -1.5585891    &  1.192393e-01\\\\\n",
       "\tfactor(Make)4 & -123.07361    & 21.123717     & -5.8263235    &  6.510270e-09\\\\\n",
       "\tfactor(Make)5 &   20.23276    & 23.003404     &  0.8795550    &  3.791977e-01\\\\\n",
       "\tfactor(Make)6 &  -71.77896    & 16.666862     & -4.3066871    &  1.730897e-05\\\\\n",
       "\tfactor(Make)7 &  -45.80034    & 23.892710     & -1.9169169    &  5.537950e-02\\\\\n",
       "\tfactor(Make)8 &   47.38665    & 32.401239     &  1.4624951    &  1.437502e-01\\\\\n",
       "\tfactor(Make)9 &  -16.05450    & 10.508105     & -1.5278207    &  1.267026e-01\\\\\n",
       "\\end{tabular}\n"
      ],
      "text/markdown": [
       "\n",
       "| <!--/--> | Estimate | Std. Error | t value | Pr(>|t|) |\n",
       "|---|---|---|---|---|\n",
       "| (Intercept) |  254.61517    |  9.845385     | 25.8613729    | 8.533799e-129 |\n",
       "| factor(Make)2 |   16.78908    | 23.455311     |  0.7157903    |  4.741978e-01 |\n",
       "| factor(Make)3 |  -37.31384    | 23.940779     | -1.5585891    |  1.192393e-01 |\n",
       "| factor(Make)4 | -123.07361    | 21.123717     | -5.8263235    |  6.510270e-09 |\n",
       "| factor(Make)5 |   20.23276    | 23.003404     |  0.8795550    |  3.791977e-01 |\n",
       "| factor(Make)6 |  -71.77896    | 16.666862     | -4.3066871    |  1.730897e-05 |\n",
       "| factor(Make)7 |  -45.80034    | 23.892710     | -1.9169169    |  5.537950e-02 |\n",
       "| factor(Make)8 |   47.38665    | 32.401239     |  1.4624951    |  1.437502e-01 |\n",
       "| factor(Make)9 |  -16.05450    | 10.508105     | -1.5278207    |  1.267026e-01 |\n",
       "\n"
      ],
      "text/plain": [
       "              Estimate   Std. Error t value    Pr(>|t|)     \n",
       "(Intercept)    254.61517  9.845385  25.8613729 8.533799e-129\n",
       "factor(Make)2   16.78908 23.455311   0.7157903  4.741978e-01\n",
       "factor(Make)3  -37.31384 23.940779  -1.5585891  1.192393e-01\n",
       "factor(Make)4 -123.07361 21.123717  -5.8263235  6.510270e-09\n",
       "factor(Make)5   20.23276 23.003404   0.8795550  3.791977e-01\n",
       "factor(Make)6  -71.77896 16.666862  -4.3066871  1.730897e-05\n",
       "factor(Make)7  -45.80034 23.892710  -1.9169169  5.537950e-02\n",
       "factor(Make)8   47.38665 32.401239   1.4624951  1.437502e-01\n",
       "factor(Make)9  -16.05450 10.508105  -1.5278207  1.267026e-01"
      ]
     },
     "metadata": {},
     "output_type": "display_data"
    }
   ],
   "source": [
    "AHPR_Make <- lm(PP ~ factor(Make), weights = Insured, data = AHPR3)\n",
    "summary(AHPR_Make)$coef"
   ]
  },
  {
   "cell_type": "markdown",
   "metadata": {},
   "source": [
    "From the coefficients of Estimate computed above, we can combine several classes in each rating variable."
   ]
  },
  {
   "cell_type": "code",
   "execution_count": 41,
   "metadata": {},
   "outputs": [],
   "source": [
    "AHPR3$Kilometres <- recode(AHPR3$Kilometres,\"c('3','4')='2'\")\n",
    "AHPR3$Zone <- recode(AHPR3$Zone,\"c('5')='2'; c('4','6')='3'\")\n",
    "AHPR3$Bonus <- recode(AHPR3$Bonus,\"c('4','5','6')='3'\")\n",
    "AHPR3$Make <- recode(AHPR3$Make,\"c('5','8')='2';c('6','7','9')='3'\")"
   ]
  },
  {
   "cell_type": "markdown",
   "metadata": {},
   "source": [
    "We can also replace 0 by 0.001 in a new column PP_pos as we have done in task 2."
   ]
  },
  {
   "cell_type": "code",
   "execution_count": 42,
   "metadata": {},
   "outputs": [],
   "source": [
    "PP_pos <- AHPR3[,8] \n",
    "PP_pos[AHPR3[,7]==0] <- 0.001 \n",
    "AHPR3$PP_pos <- PP_pos  "
   ]
  },
  {
   "cell_type": "markdown",
   "metadata": {},
   "source": [
    "To select which rating variables will be retained in the final model, we can look at the AIC information. The smaller AIC, the better."
   ]
  },
  {
   "cell_type": "markdown",
   "metadata": {},
   "source": [
    "Let us start from the Gamma-multiplicative model with four rating variables."
   ]
  },
  {
   "cell_type": "code",
   "execution_count": 43,
   "metadata": {},
   "outputs": [
    {
     "data": {
      "text/html": [
       "<table>\n",
       "<thead><tr><th></th><th scope=col>Df</th><th scope=col>Deviance</th><th scope=col>AIC</th><th scope=col>scaled dev.</th><th scope=col>Pr(&gt;Chi)</th></tr></thead>\n",
       "<tbody>\n",
       "\t<tr><th scope=row>&lt;none&gt;</th><td>NA           </td><td>249724.7     </td><td>26764862     </td><td>       NA    </td><td>           NA</td></tr>\n",
       "\t<tr><th scope=row>factor(Kilometres)</th><td> 2           </td><td>309007.5     </td><td>26765500     </td><td> 642.0705    </td><td>3.768408e-140</td></tr>\n",
       "\t<tr><th scope=row>factor(Zone)</th><td> 3           </td><td>297889.9     </td><td>26765378     </td><td> 521.6605    </td><td>9.645535e-113</td></tr>\n",
       "\t<tr><th scope=row>factor(Bonus)</th><td> 3           </td><td>564617.3     </td><td>26768267     </td><td>3410.4899    </td><td> 0.000000e+00</td></tr>\n",
       "\t<tr><th scope=row>factor(Make)</th><td> 3           </td><td>281269.7     </td><td>26765198     </td><td> 341.6529    </td><td> 9.572383e-74</td></tr>\n",
       "</tbody>\n",
       "</table>\n"
      ],
      "text/latex": [
       "\\begin{tabular}{r|lllll}\n",
       "  & Df & Deviance & AIC & scaled dev. & Pr(>Chi)\\\\\n",
       "\\hline\n",
       "\t<none> & NA            & 249724.7      & 26764862      &        NA     &            NA\\\\\n",
       "\tfactor(Kilometres) &  2            & 309007.5      & 26765500      &  642.0705     & 3.768408e-140\\\\\n",
       "\tfactor(Zone) &  3            & 297889.9      & 26765378      &  521.6605     & 9.645535e-113\\\\\n",
       "\tfactor(Bonus) &  3            & 564617.3      & 26768267      & 3410.4899     &  0.000000e+00\\\\\n",
       "\tfactor(Make) &  3            & 281269.7      & 26765198      &  341.6529     &  9.572383e-74\\\\\n",
       "\\end{tabular}\n"
      ],
      "text/markdown": [
       "\n",
       "| <!--/--> | Df | Deviance | AIC | scaled dev. | Pr(>Chi) |\n",
       "|---|---|---|---|---|---|\n",
       "| <none> | NA            | 249724.7      | 26764862      |        NA     |            NA |\n",
       "| factor(Kilometres) |  2            | 309007.5      | 26765500      |  642.0705     | 3.768408e-140 |\n",
       "| factor(Zone) |  3            | 297889.9      | 26765378      |  521.6605     | 9.645535e-113 |\n",
       "| factor(Bonus) |  3            | 564617.3      | 26768267      | 3410.4899     |  0.000000e+00 |\n",
       "| factor(Make) |  3            | 281269.7      | 26765198      |  341.6529     |  9.572383e-74 |\n",
       "\n"
      ],
      "text/plain": [
       "                   Df Deviance AIC      scaled dev. Pr(>Chi)     \n",
       "<none>             NA 249724.7 26764862        NA              NA\n",
       "factor(Kilometres)  2 309007.5 26765500  642.0705   3.768408e-140\n",
       "factor(Zone)        3 297889.9 26765378  521.6605   9.645535e-113\n",
       "factor(Bonus)       3 564617.3 26768267 3410.4899    0.000000e+00\n",
       "factor(Make)        3 281269.7 26765198  341.6529    9.572383e-74"
      ]
     },
     "metadata": {},
     "output_type": "display_data"
    }
   ],
   "source": [
    "gamma_full <- glm(PP_pos ~ factor(Kilometres) + factor(Zone) + factor(Bonus) + factor(Make), \n",
    "                  data=AHPR3, family=Gamma(link=\"log\"), weights=Insured, start=c(6.57,0,0,0,0,0,0,0,0,0,0,0)) \n",
    "\n",
    "drop1(gamma_full,test=\"LRT\")"
   ]
  },
  {
   "cell_type": "markdown",
   "metadata": {},
   "source": [
    "Next we consider all possible interaction terms added into the model."
   ]
  },
  {
   "cell_type": "code",
   "execution_count": 44,
   "metadata": {},
   "outputs": [
    {
     "name": "stderr",
     "output_type": "stream",
     "text": [
      "Warning message:\n",
      "\"glm.fit: algorithm did not converge\"Warning message:\n",
      "\"glm.fit: algorithm did not converge\""
     ]
    },
    {
     "data": {
      "text/html": [
       "<table>\n",
       "<thead><tr><th></th><th scope=col>Df</th><th scope=col>Deviance</th><th scope=col>AIC</th><th scope=col>scaled dev.</th><th scope=col>Pr(&gt;Chi)</th></tr></thead>\n",
       "<tbody>\n",
       "\t<tr><th scope=row>&lt;none&gt;</th><td>NA         </td><td>249724.7   </td><td>26764862   </td><td>       NA  </td><td>         NA</td></tr>\n",
       "\t<tr><th scope=row>factor(Kilometres):factor(Zone)</th><td> 6         </td><td>249341.0   </td><td>26764870   </td><td> 4.155181  </td><td>0.655685295</td></tr>\n",
       "\t<tr><th scope=row>factor(Kilometres):factor(Bonus)</th><td> 6         </td><td>248096.9   </td><td>26764857   </td><td>17.630375  </td><td>0.007225446</td></tr>\n",
       "\t<tr><th scope=row>factor(Kilometres):factor(Make)</th><td> 6         </td><td>310935.2   </td><td>26765537   </td><td> 0.000000  </td><td>1.000000000</td></tr>\n",
       "\t<tr><th scope=row>factor(Zone):factor(Bonus)</th><td> 9         </td><td>247768.6   </td><td>26764859   </td><td>21.186166  </td><td>0.011848980</td></tr>\n",
       "\t<tr><th scope=row>factor(Zone):factor(Make)</th><td> 9         </td><td>575890.9   </td><td>26768413   </td><td> 0.000000  </td><td>1.000000000</td></tr>\n",
       "\t<tr><th scope=row>factor(Bonus):factor(Make)</th><td> 9         </td><td>247529.0   </td><td>26764857   </td><td>23.780697  </td><td>0.004661826</td></tr>\n",
       "</tbody>\n",
       "</table>\n"
      ],
      "text/latex": [
       "\\begin{tabular}{r|lllll}\n",
       "  & Df & Deviance & AIC & scaled dev. & Pr(>Chi)\\\\\n",
       "\\hline\n",
       "\t<none> & NA          & 249724.7    & 26764862    &        NA   &          NA\\\\\n",
       "\tfactor(Kilometres):factor(Zone) &  6          & 249341.0    & 26764870    &  4.155181   & 0.655685295\\\\\n",
       "\tfactor(Kilometres):factor(Bonus) &  6          & 248096.9    & 26764857    & 17.630375   & 0.007225446\\\\\n",
       "\tfactor(Kilometres):factor(Make) &  6          & 310935.2    & 26765537    &  0.000000   & 1.000000000\\\\\n",
       "\tfactor(Zone):factor(Bonus) &  9          & 247768.6    & 26764859    & 21.186166   & 0.011848980\\\\\n",
       "\tfactor(Zone):factor(Make) &  9          & 575890.9    & 26768413    &  0.000000   & 1.000000000\\\\\n",
       "\tfactor(Bonus):factor(Make) &  9          & 247529.0    & 26764857    & 23.780697   & 0.004661826\\\\\n",
       "\\end{tabular}\n"
      ],
      "text/markdown": [
       "\n",
       "| <!--/--> | Df | Deviance | AIC | scaled dev. | Pr(>Chi) |\n",
       "|---|---|---|---|---|---|\n",
       "| <none> | NA          | 249724.7    | 26764862    |        NA   |          NA |\n",
       "| factor(Kilometres):factor(Zone) |  6          | 249341.0    | 26764870    |  4.155181   | 0.655685295 |\n",
       "| factor(Kilometres):factor(Bonus) |  6          | 248096.9    | 26764857    | 17.630375   | 0.007225446 |\n",
       "| factor(Kilometres):factor(Make) |  6          | 310935.2    | 26765537    |  0.000000   | 1.000000000 |\n",
       "| factor(Zone):factor(Bonus) |  9          | 247768.6    | 26764859    | 21.186166   | 0.011848980 |\n",
       "| factor(Zone):factor(Make) |  9          | 575890.9    | 26768413    |  0.000000   | 1.000000000 |\n",
       "| factor(Bonus):factor(Make) |  9          | 247529.0    | 26764857    | 23.780697   | 0.004661826 |\n",
       "\n"
      ],
      "text/plain": [
       "                                 Df Deviance AIC      scaled dev. Pr(>Chi)   \n",
       "<none>                           NA 249724.7 26764862        NA            NA\n",
       "factor(Kilometres):factor(Zone)   6 249341.0 26764870  4.155181   0.655685295\n",
       "factor(Kilometres):factor(Bonus)  6 248096.9 26764857 17.630375   0.007225446\n",
       "factor(Kilometres):factor(Make)   6 310935.2 26765537  0.000000   1.000000000\n",
       "factor(Zone):factor(Bonus)        9 247768.6 26764859 21.186166   0.011848980\n",
       "factor(Zone):factor(Make)         9 575890.9 26768413  0.000000   1.000000000\n",
       "factor(Bonus):factor(Make)        9 247529.0 26764857 23.780697   0.004661826"
      ]
     },
     "metadata": {},
     "output_type": "display_data"
    }
   ],
   "source": [
    "add1(gamma_full, ~ .^2, test=\"LRT\")"
   ]
  },
  {
   "cell_type": "markdown",
   "metadata": {},
   "source": [
    "Only three interaction terms are significant, so we add these three terms into our Gamma-multiplicative model."
   ]
  },
  {
   "cell_type": "code",
   "execution_count": 45,
   "metadata": {},
   "outputs": [
    {
     "data": {
      "text/html": [
       "<table>\n",
       "<thead><tr><th></th><th scope=col>Df</th><th scope=col>Deviance</th><th scope=col>AIC</th><th scope=col>scaled dev.</th><th scope=col>Pr(&gt;Chi)</th></tr></thead>\n",
       "<tbody>\n",
       "\t<tr><th scope=row>&lt;none&gt;</th><td>NA         </td><td>244119.1   </td><td>26709872   </td><td>      NA   </td><td>         NA</td></tr>\n",
       "\t<tr><th scope=row>factor(Kilometres):factor(Bonus)</th><td> 6         </td><td>245510.1   </td><td>26709876   </td><td>15.67883   </td><td>0.015585670</td></tr>\n",
       "\t<tr><th scope=row>factor(Zone):factor(Bonus)</th><td> 9         </td><td>246165.3   </td><td>26709877   </td><td>23.06438   </td><td>0.006053343</td></tr>\n",
       "\t<tr><th scope=row>factor(Bonus):factor(Make)</th><td> 9         </td><td>246104.8   </td><td>26709876   </td><td>22.38248   </td><td>0.007742677</td></tr>\n",
       "</tbody>\n",
       "</table>\n"
      ],
      "text/latex": [
       "\\begin{tabular}{r|lllll}\n",
       "  & Df & Deviance & AIC & scaled dev. & Pr(>Chi)\\\\\n",
       "\\hline\n",
       "\t<none> & NA          & 244119.1    & 26709872    &       NA    &          NA\\\\\n",
       "\tfactor(Kilometres):factor(Bonus) &  6          & 245510.1    & 26709876    & 15.67883    & 0.015585670\\\\\n",
       "\tfactor(Zone):factor(Bonus) &  9          & 246165.3    & 26709877    & 23.06438    & 0.006053343\\\\\n",
       "\tfactor(Bonus):factor(Make) &  9          & 246104.8    & 26709876    & 22.38248    & 0.007742677\\\\\n",
       "\\end{tabular}\n"
      ],
      "text/markdown": [
       "\n",
       "| <!--/--> | Df | Deviance | AIC | scaled dev. | Pr(>Chi) |\n",
       "|---|---|---|---|---|---|\n",
       "| <none> | NA          | 244119.1    | 26709872    |       NA    |          NA |\n",
       "| factor(Kilometres):factor(Bonus) |  6          | 245510.1    | 26709876    | 15.67883    | 0.015585670 |\n",
       "| factor(Zone):factor(Bonus) |  9          | 246165.3    | 26709877    | 23.06438    | 0.006053343 |\n",
       "| factor(Bonus):factor(Make) |  9          | 246104.8    | 26709876    | 22.38248    | 0.007742677 |\n",
       "\n"
      ],
      "text/plain": [
       "                                 Df Deviance AIC      scaled dev. Pr(>Chi)   \n",
       "<none>                           NA 244119.1 26709872       NA             NA\n",
       "factor(Kilometres):factor(Bonus)  6 245510.1 26709876 15.67883    0.015585670\n",
       "factor(Zone):factor(Bonus)        9 246165.3 26709877 23.06438    0.006053343\n",
       "factor(Bonus):factor(Make)        9 246104.8 26709876 22.38248    0.007742677"
      ]
     },
     "metadata": {},
     "output_type": "display_data"
    }
   ],
   "source": [
    "gamma_final <- glm(PP_pos ~ factor(Kilometres) + factor(Zone) + factor(Bonus) + factor(Make) + \n",
    "                   factor(Kilometres):factor(Bonus) + factor(Zone):factor(Bonus) + factor(Bonus):factor(Make), \n",
    "                   data=AHPR3, family=Gamma(link=\"log\"), weights=Insured, \n",
    "                   start=c(6.57,0,0,0,0,0,0,0,0,0,0,0,0,0,0,0,0,0,0,0,0,0,0,0,0,0,0,0,0,0,0,0,0,0,0,0)) \n",
    "\n",
    "drop1(gamma_final,test=\"LRT\")"
   ]
  },
  {
   "cell_type": "markdown",
   "metadata": {},
   "source": [
    "Given the overall interaction terms are significant and has the smallest AIC, this final model will be our best model so far. However, we must check three graphs of our final Gamma-multiplicative model."
   ]
  },
  {
   "cell_type": "code",
   "execution_count": 46,
   "metadata": {},
   "outputs": [
    {
     "data": {
      "image/png": "[encoded data removed]",
      "text/plain": [
       "plot without title"
      ]
     },
     "metadata": {},
     "output_type": "display_data"
    }
   ],
   "source": [
    "my.glm.function(gamma_final)"
   ]
  },
  {
   "cell_type": "markdown",
   "metadata": {},
   "source": [
    "The skewness is better than prior Gamma-multiplicative model with two variables, since the Q-Q plot is almost straight line. However, the variance for smaller fitted values is greater than for larger ones. This is called \"Hetroskedasticity\", non-constant variance. We can try the quasi-Poisson model because it has a smaller variance at smaller fitted values."
   ]
  },
  {
   "cell_type": "markdown",
   "metadata": {},
   "source": [
    "### * quasi-Poisson Model"
   ]
  },
  {
   "cell_type": "code",
   "execution_count": 47,
   "metadata": {},
   "outputs": [
    {
     "data": {
      "text/html": [
       "<table>\n",
       "<thead><tr><th></th><th scope=col>Df</th><th scope=col>Deviance</th><th scope=col>scaled dev.</th><th scope=col>Pr(&gt;Chi)</th></tr></thead>\n",
       "<tbody>\n",
       "\t<tr><th scope=row>&lt;none&gt;</th><td>NA          </td><td>42052375    </td><td>      NA    </td><td>          NA</td></tr>\n",
       "\t<tr><th scope=row>factor(Kilometres):factor(Bonus)</th><td> 6          </td><td>42345678    </td><td>12.86171    </td><td>0.0452853683</td></tr>\n",
       "\t<tr><th scope=row>factor(Zone):factor(Bonus)</th><td> 9          </td><td>42554890    </td><td>22.03593    </td><td>0.0087658071</td></tr>\n",
       "\t<tr><th scope=row>factor(Bonus):factor(Make)</th><td> 9          </td><td>42778696    </td><td>31.85013    </td><td>0.0002113613</td></tr>\n",
       "</tbody>\n",
       "</table>\n"
      ],
      "text/latex": [
       "\\begin{tabular}{r|llll}\n",
       "  & Df & Deviance & scaled dev. & Pr(>Chi)\\\\\n",
       "\\hline\n",
       "\t<none> & NA           & 42052375     &       NA     &           NA\\\\\n",
       "\tfactor(Kilometres):factor(Bonus) &  6           & 42345678     & 12.86171     & 0.0452853683\\\\\n",
       "\tfactor(Zone):factor(Bonus) &  9           & 42554890     & 22.03593     & 0.0087658071\\\\\n",
       "\tfactor(Bonus):factor(Make) &  9           & 42778696     & 31.85013     & 0.0002113613\\\\\n",
       "\\end{tabular}\n"
      ],
      "text/markdown": [
       "\n",
       "| <!--/--> | Df | Deviance | scaled dev. | Pr(>Chi) |\n",
       "|---|---|---|---|---|\n",
       "| <none> | NA           | 42052375     |       NA     |           NA |\n",
       "| factor(Kilometres):factor(Bonus) |  6           | 42345678     | 12.86171     | 0.0452853683 |\n",
       "| factor(Zone):factor(Bonus) |  9           | 42554890     | 22.03593     | 0.0087658071 |\n",
       "| factor(Bonus):factor(Make) |  9           | 42778696     | 31.85013     | 0.0002113613 |\n",
       "\n"
      ],
      "text/plain": [
       "                                 Df Deviance scaled dev. Pr(>Chi)    \n",
       "<none>                           NA 42052375       NA              NA\n",
       "factor(Kilometres):factor(Bonus)  6 42345678 12.86171    0.0452853683\n",
       "factor(Zone):factor(Bonus)        9 42554890 22.03593    0.0087658071\n",
       "factor(Bonus):factor(Make)        9 42778696 31.85013    0.0002113613"
      ]
     },
     "metadata": {},
     "output_type": "display_data"
    }
   ],
   "source": [
    "qposs_final <- glm(PP_pos ~ factor(Kilometres) + factor(Zone) + factor(Bonus) + factor(Make) + \n",
    "                   factor(Kilometres):factor(Bonus) + factor(Zone):factor(Bonus) + factor(Bonus):factor(Make),\n",
    "                   data=AHPR3, family=quasipoisson(link=\"log\"), weights=Insured, \n",
    "                   start=c(6.57,0,0,0,0,0,0,0,0,0,0,0,0,0,0,0,0,0,0,0,0,0,0,0,0,0,0,0,0,0,0,0,0,0,0,0)) \n",
    "\n",
    "drop1(qposs_final,test=\"LRT\")"
   ]
  },
  {
   "cell_type": "markdown",
   "metadata": {},
   "source": [
    "Three graphs of our quasi-Poisson model are"
   ]
  },
  {
   "cell_type": "code",
   "execution_count": 48,
   "metadata": {},
   "outputs": [
    {
     "data": {
      "image/png": "[encoded data removed]",
      "text/plain": [
       "plot without title"
      ]
     },
     "metadata": {},
     "output_type": "display_data"
    }
   ],
   "source": [
    "my.glm.function(qposs_final)"
   ]
  },
  {
   "cell_type": "markdown",
   "metadata": {},
   "source": [
    "This looks better in all three graphs. We will choose this model as our final model."
   ]
  }
 ],
 "metadata": {
  "kernelspec": {
   "display_name": "R",
   "language": "R",
   "name": "ir"
  },
  "language_info": {
   "codemirror_mode": "r",
   "file_extension": ".r",
   "mimetype": "text/x-r-source",
   "name": "R",
   "pygments_lexer": "r",
   "version": "3.6.1"
  }
 },
 "nbformat": 4,
 "nbformat_minor": 2
}
