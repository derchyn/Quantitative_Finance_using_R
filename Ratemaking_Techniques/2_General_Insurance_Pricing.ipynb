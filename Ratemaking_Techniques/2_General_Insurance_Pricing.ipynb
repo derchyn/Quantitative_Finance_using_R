{
 "cells": [
  {
   "cell_type": "markdown",
   "metadata": {},
   "source": [
    "Here we will discuss the use of Generalized Linear Models in (a priori) motor ratemaking. The goal is to propose a premium that an insurance company should charge a client, for a yearly contract, based on a series of characteristics (of the driver, such as the age or the region, or of the car, such as the power, the make, or the type of gas). Those models are described in Kass et al. (2008), Frees (2009), de Jong & Zeller (2008), and Ohlsson & Johansson (2010)."
   ]
  },
  {
   "cell_type": "markdown",
   "metadata": {},
   "source": [
    "### 1. Claims Frequency"
   ]
  },
  {
   "cell_type": "markdown",
   "metadata": {},
   "source": [
    "#### 1.1. Dataset"
   ]
  },
  {
   "cell_type": "code",
   "execution_count": 1,
   "metadata": {},
   "outputs": [
    {
     "name": "stderr",
     "output_type": "stream",
     "text": [
      "Loading required package: xts\n",
      "Loading required package: zoo\n",
      "\n",
      "Attaching package: 'zoo'\n",
      "\n",
      "The following objects are masked from 'package:base':\n",
      "\n",
      "    as.Date, as.Date.numeric\n",
      "\n",
      "Registered S3 method overwritten by 'xts':\n",
      "  method     from\n",
      "  as.zoo.xts zoo \n",
      "Loading required package: sp\n"
     ]
    }
   ],
   "source": [
    "library(CASdatasets)"
   ]
  },
  {
   "cell_type": "markdown",
   "metadata": {},
   "source": [
    "The first dataset, freMTPLfreq, contains contract and client information from a French insurance company, related to some motor insurance portfolio.\n",
    "\n",
    "    Att. 1 (numeric) PolicyID, contract number (used to link with the claims dataset)\n",
    "    Att. 2 (numeric) ClaimNb, number of claims during the exposure period\n",
    "    Att. 3 (numeric) Exposure, exposure, in years\n",
    "    Att. 4 (factor) Power, power of the car (ordered categorical)\n",
    "    Att. 5 (numeric) CarAge, age of car in years\n",
    "    Att. 6 (numeric) DriverAge, age of driver in years (in France, people can drive a car at 18)\n",
    "    Att. 7 (factor) Brand, brand of the car.\n",
    "    Att. 8 (factor) Gas, with diesel or regular,\n",
    "    Att. 9 (factor) Region, with di\u000b",
    "erent regions, in France (based on a standard French classification)\n",
    "    Att. 10 (numeric) Density, density of inhabitants (number of inhabitants per square kilometer) in the city the driver of the car lives in"
   ]
  },
  {
   "cell_type": "code",
   "execution_count": 2,
   "metadata": {},
   "outputs": [
    {
     "data": {
      "text/html": [
       "<table>\n",
       "<thead><tr><th scope=col>PolicyID</th><th scope=col>ClaimNb</th><th scope=col>Exposure</th><th scope=col>Power</th><th scope=col>CarAge</th><th scope=col>DriverAge</th><th scope=col>Brand</th><th scope=col>Gas</th><th scope=col>Region</th><th scope=col>Density</th></tr></thead>\n",
       "<tbody>\n",
       "\t<tr><td>1                                 </td><td>0                                 </td><td>0.09                              </td><td>g                                 </td><td>0                                 </td><td>46                                </td><td>Japanese (except Nissan) or Korean</td><td>Diesel                            </td><td>Aquitaine                         </td><td>  76                              </td></tr>\n",
       "\t<tr><td>2                                 </td><td>0                                 </td><td>0.84                              </td><td>g                                 </td><td>0                                 </td><td>46                                </td><td>Japanese (except Nissan) or Korean</td><td>Diesel                            </td><td>Aquitaine                         </td><td>  76                              </td></tr>\n",
       "\t<tr><td>3                                 </td><td>0                                 </td><td>0.52                              </td><td>f                                 </td><td>2                                 </td><td>38                                </td><td>Japanese (except Nissan) or Korean</td><td>Regular                           </td><td>Nord-Pas-de-Calais                </td><td>3003                              </td></tr>\n",
       "\t<tr><td>4                                 </td><td>0                                 </td><td>0.45                              </td><td>f                                 </td><td>2                                 </td><td>38                                </td><td>Japanese (except Nissan) or Korean</td><td>Regular                           </td><td>Nord-Pas-de-Calais                </td><td>3003                              </td></tr>\n",
       "\t<tr><td>5                                 </td><td>0                                 </td><td>0.15                              </td><td>g                                 </td><td>0                                 </td><td>41                                </td><td>Japanese (except Nissan) or Korean</td><td>Diesel                            </td><td>Pays-de-la-Loire                  </td><td>  60                              </td></tr>\n",
       "\t<tr><td>6                                 </td><td>0                                 </td><td>0.75                              </td><td>g                                 </td><td>0                                 </td><td>41                                </td><td>Japanese (except Nissan) or Korean</td><td>Diesel                            </td><td>Pays-de-la-Loire                  </td><td>  60                              </td></tr>\n",
       "</tbody>\n",
       "</table>\n"
      ],
      "text/latex": [
       "\\begin{tabular}{r|llllllllll}\n",
       " PolicyID & ClaimNb & Exposure & Power & CarAge & DriverAge & Brand & Gas & Region & Density\\\\\n",
       "\\hline\n",
       "\t 1                                  & 0                                  & 0.09                               & g                                  & 0                                  & 46                                 & Japanese (except Nissan) or Korean & Diesel                             & Aquitaine                          &   76                              \\\\\n",
       "\t 2                                  & 0                                  & 0.84                               & g                                  & 0                                  & 46                                 & Japanese (except Nissan) or Korean & Diesel                             & Aquitaine                          &   76                              \\\\\n",
       "\t 3                                  & 0                                  & 0.52                               & f                                  & 2                                  & 38                                 & Japanese (except Nissan) or Korean & Regular                            & Nord-Pas-de-Calais                 & 3003                              \\\\\n",
       "\t 4                                  & 0                                  & 0.45                               & f                                  & 2                                  & 38                                 & Japanese (except Nissan) or Korean & Regular                            & Nord-Pas-de-Calais                 & 3003                              \\\\\n",
       "\t 5                                  & 0                                  & 0.15                               & g                                  & 0                                  & 41                                 & Japanese (except Nissan) or Korean & Diesel                             & Pays-de-la-Loire                   &   60                              \\\\\n",
       "\t 6                                  & 0                                  & 0.75                               & g                                  & 0                                  & 41                                 & Japanese (except Nissan) or Korean & Diesel                             & Pays-de-la-Loire                   &   60                              \\\\\n",
       "\\end{tabular}\n"
      ],
      "text/markdown": [
       "\n",
       "| PolicyID | ClaimNb | Exposure | Power | CarAge | DriverAge | Brand | Gas | Region | Density |\n",
       "|---|---|---|---|---|---|---|---|---|---|\n",
       "| 1                                  | 0                                  | 0.09                               | g                                  | 0                                  | 46                                 | Japanese (except Nissan) or Korean | Diesel                             | Aquitaine                          |   76                               |\n",
       "| 2                                  | 0                                  | 0.84                               | g                                  | 0                                  | 46                                 | Japanese (except Nissan) or Korean | Diesel                             | Aquitaine                          |   76                               |\n",
       "| 3                                  | 0                                  | 0.52                               | f                                  | 2                                  | 38                                 | Japanese (except Nissan) or Korean | Regular                            | Nord-Pas-de-Calais                 | 3003                               |\n",
       "| 4                                  | 0                                  | 0.45                               | f                                  | 2                                  | 38                                 | Japanese (except Nissan) or Korean | Regular                            | Nord-Pas-de-Calais                 | 3003                               |\n",
       "| 5                                  | 0                                  | 0.15                               | g                                  | 0                                  | 41                                 | Japanese (except Nissan) or Korean | Diesel                             | Pays-de-la-Loire                   |   60                               |\n",
       "| 6                                  | 0                                  | 0.75                               | g                                  | 0                                  | 41                                 | Japanese (except Nissan) or Korean | Diesel                             | Pays-de-la-Loire                   |   60                               |\n",
       "\n"
      ],
      "text/plain": [
       "  PolicyID ClaimNb Exposure Power CarAge DriverAge\n",
       "1 1        0       0.09     g     0      46       \n",
       "2 2        0       0.84     g     0      46       \n",
       "3 3        0       0.52     f     2      38       \n",
       "4 4        0       0.45     f     2      38       \n",
       "5 5        0       0.15     g     0      41       \n",
       "6 6        0       0.75     g     0      41       \n",
       "  Brand                              Gas     Region             Density\n",
       "1 Japanese (except Nissan) or Korean Diesel  Aquitaine            76   \n",
       "2 Japanese (except Nissan) or Korean Diesel  Aquitaine            76   \n",
       "3 Japanese (except Nissan) or Korean Regular Nord-Pas-de-Calais 3003   \n",
       "4 Japanese (except Nissan) or Korean Regular Nord-Pas-de-Calais 3003   \n",
       "5 Japanese (except Nissan) or Korean Diesel  Pays-de-la-Loire     60   \n",
       "6 Japanese (except Nissan) or Korean Diesel  Pays-de-la-Loire     60   "
      ]
     },
     "metadata": {},
     "output_type": "display_data"
    }
   ],
   "source": [
    "data(freMTPLfreq)\n",
    "head(freMTPLfreq)"
   ]
  },
  {
   "cell_type": "markdown",
   "metadata": {},
   "source": [
    "Remark:\n",
    "In the French insurance market, there is a compulsory no-claim bonus system (see Lemaire (1984) for a description of the system). Insurance pricing in France is then a mix between a priori ratemaking, discussed in this chapter, and a posteriori ratemaking, which will be discussed in the next chapter. But one should keep in mind that because of this no-claim bonus system, or malus in the case where the insured claims a loss, there might be (financial) incentives not to declare some claims, if the associated loss is smaller than the malus the insured will have in the future."
   ]
  },
  {
   "cell_type": "markdown",
   "metadata": {},
   "source": [
    "It might be more convenient to work with categorized variables,\n",
    "    \n",
    "    Att. 5 (factor) agecar, [0,1), [1,4), [4,15), and [15,Inf)\n",
    "    Att. 6 (factor) agedriver, (17,22], (22,26], (26,42], (42,74], and (74,Inf]\n",
    "    Att. 10 (factor) density, [0-40), [40,200), [200,500), [500,4500), and [4500,Inf)"
   ]
  },
  {
   "cell_type": "code",
   "execution_count": 3,
   "metadata": {},
   "outputs": [],
   "source": [
    "freMTPLfreq.f <- freMTPLfreq\n",
    "freMTPLfreq.f$DriverAge <- cut(freMTPLfreq$DriverAge,c(17,22,26,42,74,Inf))\n",
    "freMTPLfreq.f$CarAge <- cut(freMTPLfreq$CarAge,c(0,1,4,15,Inf),include.lowest = TRUE)\n",
    "freMTPLfreq.f$Density <- cut(freMTPLfreq$Density,c(0,40,200,500,4500,Inf),include.lowest = TRUE)"
   ]
  },
  {
   "cell_type": "markdown",
   "metadata": {},
   "source": [
    "#### 1.2. Annualized Claims Frequency"
   ]
  },
  {
   "cell_type": "markdown",
   "metadata": {},
   "source": [
    "This model allow us to link yearly frequency and observed frequency on a given period of exposure. For policy,holder $i$,\n",
    "\n",
    "$\\cdot$ The annualized number of claims $N_i$ over the period [0; 1] is (usually) an unobserved variable.\n",
    "\n",
    "$\\cdot$ The actual number of claims in the database $Y_i$ occurred during period [0;$E_i$], where $E_i$ is the exposure."
   ]
  },
  {
   "cell_type": "code",
   "execution_count": 4,
   "metadata": {},
   "outputs": [
    {
     "name": "stdout",
     "output_type": "stream",
     "text": [
      "average = 0.06979859  variance = 0.07396742 phi = 1.059727 \n"
     ]
    }
   ],
   "source": [
    "vY <- freMTPLfreq.f$ClaimNb\n",
    "vE <- freMTPLfreq.f$Exposure\n",
    "m <- sum(vY)/sum(vE)\n",
    "v <- sum((vY-m*vE)^2)/sum(vE)\n",
    "cat(\"average =\",m,\" variance =\",v,\"phi =\",v/m,\"\\n\")"
   ]
  },
  {
   "cell_type": "markdown",
   "metadata": {},
   "source": [
    "Those quantities can also be be computed when taking into account categorial covariates. If we consider the case where X is the region of the driver,"
   ]
  },
  {
   "cell_type": "code",
   "execution_count": 5,
   "metadata": {},
   "outputs": [
    {
     "name": "stdout",
     "output_type": "stream",
     "text": [
      "average = 0.07366204  variance = 0.08064593  phi = 1.09481 \n",
      "average = 0.06788926  variance = 0.07152207  phi = 1.053511 \n",
      "average = 0.06741501  variance = 0.07016521  phi = 1.040795 \n",
      "average = 0.06303979  variance = 0.06483763  phi = 1.028519 \n",
      "average = 0.06923285  variance = 0.07388641  phi = 1.067216 \n",
      "average = 0.08577016  variance = 0.09526731  phi = 1.110728 \n",
      "average = 0.08222055  variance = 0.08952784  phi = 1.088874 \n",
      "average = 0.08210142  variance = 0.09201134  phi = 1.120703 \n",
      "average = 0.07185182  variance = 0.07590899  phi = 1.056466 \n",
      "average = 0.0716627  variance = 0.07559456  phi = 1.054866 \n"
     ]
    }
   ],
   "source": [
    "vX <- as.factor(freMTPLfreq.f$Region)\n",
    "     for(i in 1:length(levels(vX))){\n",
    "     vEi <- vE[vX==levels(vX)[i]]\n",
    "     vYi <- vY[vX==levels(vX)[i]]\n",
    "     mi <- sum(vYi)/sum(vEi)\n",
    "     vi <- sum((vYi-mi*vEi)^2)/sum(vEi)\n",
    "     cat(\"average =\",mi,\" variance =\",vi,\" phi =\",vi/mi,\"\\n\")\n",
    "     }"
   ]
  },
  {
   "cell_type": "markdown",
   "metadata": {},
   "source": [
    "#### 1.3. Poisson Regression"
   ]
  },
  {
   "cell_type": "code",
   "execution_count": 6,
   "metadata": {},
   "outputs": [],
   "source": [
    "Y <- freMTPLfreq$ClaimNb\n",
    "E <- freMTPLfreq$Exposure"
   ]
  },
  {
   "cell_type": "code",
   "execution_count": 7,
   "metadata": {},
   "outputs": [
    {
     "data": {
      "text/html": [
       "0.0697985898493318"
      ],
      "text/latex": [
       "0.0697985898493318"
      ],
      "text/markdown": [
       "0.0697985898493318"
      ],
      "text/plain": [
       "[1] 0.06979859"
      ]
     },
     "metadata": {},
     "output_type": "display_data"
    }
   ],
   "source": [
    "(lambda <- sum(Y)/sum(E))"
   ]
  },
  {
   "cell_type": "code",
   "execution_count": 8,
   "metadata": {},
   "outputs": [
    {
     "data": {
      "text/html": [
       "0.0697985898493318"
      ],
      "text/latex": [
       "0.0697985898493318"
      ],
      "text/markdown": [
       "0.0697985898493318"
      ],
      "text/plain": [
       "[1] 0.06979859"
      ]
     },
     "metadata": {},
     "output_type": "display_data"
    }
   ],
   "source": [
    "weighted.mean(Y/E,E)"
   ]
  },
  {
   "cell_type": "code",
   "execution_count": 9,
   "metadata": {},
   "outputs": [
    {
     "data": {
      "text/html": [
       "<ol class=list-inline>\n",
       "\t<li>93.2581632398734</li>\n",
       "\t<li>6.50928828608196</li>\n",
       "\t<li>0.227169571645647</li>\n",
       "\t<li>0.00528537191918098</li>\n",
       "</ol>\n"
      ],
      "text/latex": [
       "\\begin{enumerate*}\n",
       "\\item 93.2581632398734\n",
       "\\item 6.50928828608196\n",
       "\\item 0.227169571645647\n",
       "\\item 0.00528537191918098\n",
       "\\end{enumerate*}\n"
      ],
      "text/markdown": [
       "1. 93.2581632398734\n",
       "2. 6.50928828608196\n",
       "3. 0.227169571645647\n",
       "4. 0.00528537191918098\n",
       "\n",
       "\n"
      ],
      "text/plain": [
       "[1] 93.258163240  6.509288286  0.227169572  0.005285372"
      ]
     },
     "metadata": {},
     "output_type": "display_data"
    }
   ],
   "source": [
    "dpois(0:3,lambda)*100"
   ]
  },
  {
   "cell_type": "markdown",
   "metadata": {},
   "source": [
    "It might be legitimate to assume that $\\lambda$ depends on the insured, and that those $\\lambda_i$ 's are functions of some covariates."
   ]
  },
  {
   "cell_type": "markdown",
   "metadata": {},
   "source": [
    "Thus, assume that $N_i \\sim P(_i)$ where $N$ was the annualized claim frequency (which is the variable of interest in ratemaking because we should price a contract for a 1-year period). Based on quantities used, it is possible to solve, numerically, the first-order condition, using Newton{Raphson's algorithm (also called Fisher Scoring). Those computations can be performed using the glm function, whose generic code is\n",
    "\n",
    "$glm(Y~X1+X2+X3+offset(E),family=poisson(link=\"log\"))$\n",
    "\n",
    "We specify the distribution using family=poisson, while parameter link=\"log\" means that the logarithm of the expected value will be equal to the score. This is the link function in GLM terminology. In the context of a Poisson model, g = log is the canonical link function."
   ]
  },
  {
   "cell_type": "markdown",
   "metadata": {},
   "source": [
    "For instance, if we consider a regression of ClaimNb on Gas, DriverAge, and Density, we obtain"
   ]
  },
  {
   "cell_type": "code",
   "execution_count": 10,
   "metadata": {},
   "outputs": [
    {
     "data": {
      "text/plain": [
       "\n",
       "Call:\n",
       "glm(formula = ClaimNb ~ Gas + DriverAge + Density + offset(log(Exposure)), \n",
       "    family = poisson, data = freMTPLfreq.f)\n",
       "\n",
       "Deviance Residuals: \n",
       "    Min       1Q   Median       3Q      Max  \n",
       "-0.7655  -0.3385  -0.2669  -0.1488   6.5202  \n",
       "\n",
       "Coefficients:\n",
       "                     Estimate Std. Error z value Pr(>|z|)    \n",
       "(Intercept)          -1.86471    0.04047 -46.079  < 2e-16 ***\n",
       "GasRegular           -0.20598    0.01603 -12.846  < 2e-16 ***\n",
       "DriverAge(22,26]     -0.61606    0.04608 -13.370  < 2e-16 ***\n",
       "DriverAge(26,42]     -1.07967    0.03640 -29.657  < 2e-16 ***\n",
       "DriverAge(42,74]     -1.07765    0.03549 -30.362  < 2e-16 ***\n",
       "DriverAge(74,Inf]    -1.10706    0.05188 -21.338  < 2e-16 ***\n",
       "Density(40,200]       0.18473    0.02675   6.905 5.02e-12 ***\n",
       "Density(200,500]      0.31822    0.02966  10.730  < 2e-16 ***\n",
       "Density(500,4.5e+03]  0.52694    0.02593  20.320  < 2e-16 ***\n",
       "Density(4.5e+03,Inf]  0.63717    0.03482  18.300  < 2e-16 ***\n",
       "---\n",
       "Signif. codes:  0 '***' 0.001 '**' 0.01 '*' 0.05 '.' 0.1 ' ' 1\n",
       "\n",
       "(Dispersion parameter for poisson family taken to be 1)\n",
       "\n",
       "    Null deviance: 105613  on 413168  degrees of freedom\n",
       "Residual deviance: 103986  on 413159  degrees of freedom\n",
       "AIC: 135263\n",
       "\n",
       "Number of Fisher Scoring iterations: 6\n"
      ]
     },
     "metadata": {},
     "output_type": "display_data"
    }
   ],
   "source": [
    "reg = glm(ClaimNb ~ Gas + DriverAge + Density + offset(log(Exposure)), family=poisson, data=freMTPLfreq.f)\n",
    "summary(reg)"
   ]
  },
  {
   "cell_type": "markdown",
   "metadata": {},
   "source": [
    "In the following, we will discuss the interpretation of this regression, on categorical variables (one or two) and on continuous variables (one or two)."
   ]
  },
  {
   "cell_type": "markdown",
   "metadata": {},
   "source": [
    "#### 1.4. Ratemaking with One Categorical Variable"
   ]
  },
  {
   "cell_type": "markdown",
   "metadata": {},
   "source": [
    "Consider here one regressor: the type of gas (either Diesel or Regular),"
   ]
  },
  {
   "cell_type": "code",
   "execution_count": 11,
   "metadata": {},
   "outputs": [],
   "source": [
    "vY <- freMTPLfreq.f$ClaimNb\n",
    "vE <- freMTPLfreq.f$Exposure\n",
    "X1 <- freMTPLfreq.f$Gas\n",
    "names1 <- levels(X1)"
   ]
  },
  {
   "cell_type": "markdown",
   "metadata": {},
   "source": [
    "The number of claims per gas type is"
   ]
  },
  {
   "cell_type": "code",
   "execution_count": 12,
   "metadata": {},
   "outputs": [
    {
     "data": {
      "text/html": [
       "<dl class=dl-horizontal>\n",
       "\t<dt>Diesel</dt>\n",
       "\t\t<dd>8446</dd>\n",
       "\t<dt>Regular</dt>\n",
       "\t\t<dd>7735</dd>\n",
       "</dl>\n"
      ],
      "text/latex": [
       "\\begin{description*}\n",
       "\\item[Diesel] 8446\n",
       "\\item[Regular] 7735\n",
       "\\end{description*}\n"
      ],
      "text/markdown": [
       "Diesel\n",
       ":   8446Regular\n",
       ":   7735\n",
       "\n"
      ],
      "text/plain": [
       " Diesel Regular \n",
       "   8446    7735 "
      ]
     },
     "metadata": {},
     "output_type": "display_data"
    }
   ],
   "source": [
    "tapply(vY, X1, sum)"
   ]
  },
  {
   "cell_type": "markdown",
   "metadata": {},
   "source": [
    "and the annualized claim frequency is"
   ]
  },
  {
   "cell_type": "code",
   "execution_count": 13,
   "metadata": {},
   "outputs": [
    {
     "data": {
      "text/html": [
       "<dl class=dl-horizontal>\n",
       "\t<dt>Diesel</dt>\n",
       "\t\t<dd>0.0746741216157169</dd>\n",
       "\t<dt>Regular</dt>\n",
       "\t\t<dd>0.0651536371922408</dd>\n",
       "</dl>\n"
      ],
      "text/latex": [
       "\\begin{description*}\n",
       "\\item[Diesel] 0.0746741216157169\n",
       "\\item[Regular] 0.0651536371922408\n",
       "\\end{description*}\n"
      ],
      "text/markdown": [
       "Diesel\n",
       ":   0.0746741216157169Regular\n",
       ":   0.0651536371922408\n",
       "\n"
      ],
      "text/plain": [
       "    Diesel    Regular \n",
       "0.07467412 0.06515364 "
      ]
     },
     "metadata": {},
     "output_type": "display_data"
    }
   ],
   "source": [
    "tapply(vY, X1, sum)/tapply(vE, X1, sum)"
   ]
  },
  {
   "cell_type": "markdown",
   "metadata": {},
   "source": [
    "The Poisson regression without the (Intercept) variable is here"
   ]
  },
  {
   "cell_type": "code",
   "execution_count": 14,
   "metadata": {},
   "outputs": [
    {
     "data": {
      "text/plain": [
       "\n",
       "Call:\n",
       "glm(formula = vY ~ 0 + X1 + offset(log(vE)), family = poisson(link = \"log\"), \n",
       "    data = df)\n",
       "\n",
       "Deviance Residuals: \n",
       "    Min       1Q   Median       3Q      Max  \n",
       "-0.5092  -0.3610  -0.2653  -0.1488   6.5858  \n",
       "\n",
       "Coefficients:\n",
       "          Estimate Std. Error z value Pr(>|z|)    \n",
       "X1Diesel  -2.59462    0.01088  -238.5   <2e-16 ***\n",
       "X1Regular -2.73101    0.01137  -240.2   <2e-16 ***\n",
       "---\n",
       "Signif. codes:  0 '***' 0.001 '**' 0.01 '*' 0.05 '.' 0.1 ' ' 1\n",
       "\n",
       "(Dispersion parameter for poisson family taken to be 1)\n",
       "\n",
       "    Null deviance: 450747  on 413169  degrees of freedom\n",
       "Residual deviance: 105537  on 413167  degrees of freedom\n",
       "AIC: 136799\n",
       "\n",
       "Number of Fisher Scoring iterations: 6\n"
      ]
     },
     "metadata": {},
     "output_type": "display_data"
    }
   ],
   "source": [
    "df <- data.frame(vY,vE,X1)\n",
    "regpoislog <- glm(vY ~ 0 + X1 + offset(log(vE)), data=df, family=poisson(link=\"log\"))\n",
    "summary(regpoislog)"
   ]
  },
  {
   "cell_type": "markdown",
   "metadata": {},
   "source": [
    "The exponential of the coe\u000ecients are the observed annualized frequencies, per gas type"
   ]
  },
  {
   "cell_type": "code",
   "execution_count": 15,
   "metadata": {},
   "outputs": [
    {
     "data": {
      "text/html": [
       "<dl class=dl-horizontal>\n",
       "\t<dt>X1Diesel</dt>\n",
       "\t\t<dd>0.074674121639675</dd>\n",
       "\t<dt>X1Regular</dt>\n",
       "\t\t<dd>0.0651536372327523</dd>\n",
       "</dl>\n"
      ],
      "text/latex": [
       "\\begin{description*}\n",
       "\\item[X1Diesel] 0.074674121639675\n",
       "\\item[X1Regular] 0.0651536372327523\n",
       "\\end{description*}\n"
      ],
      "text/markdown": [
       "X1Diesel\n",
       ":   0.074674121639675X1Regular\n",
       ":   0.0651536372327523\n",
       "\n"
      ],
      "text/plain": [
       "  X1Diesel  X1Regular \n",
       "0.07467412 0.06515364 "
      ]
     },
     "metadata": {},
     "output_type": "display_data"
    }
   ],
   "source": [
    "exp(coefficients(regpoislog))"
   ]
  },
  {
   "cell_type": "markdown",
   "metadata": {},
   "source": [
    "which can be obtained using function predict() (with the option type=\"response\")"
   ]
  },
  {
   "cell_type": "code",
   "execution_count": 16,
   "metadata": {},
   "outputs": [
    {
     "data": {
      "text/html": [
       "<dl class=dl-horizontal>\n",
       "\t<dt>1</dt>\n",
       "\t\t<dd>0.074674121639675</dd>\n",
       "\t<dt>2</dt>\n",
       "\t\t<dd>0.0651536372327523</dd>\n",
       "</dl>\n"
      ],
      "text/latex": [
       "\\begin{description*}\n",
       "\\item[1] 0.074674121639675\n",
       "\\item[2] 0.0651536372327523\n",
       "\\end{description*}\n"
      ],
      "text/markdown": [
       "1\n",
       ":   0.0746741216396752\n",
       ":   0.0651536372327523\n",
       "\n"
      ],
      "text/plain": [
       "         1          2 \n",
       "0.07467412 0.06515364 "
      ]
     },
     "metadata": {},
     "output_type": "display_data"
    }
   ],
   "source": [
    "newdf <- data.frame(X1=names1,vE=rep(1,length(names1)))\n",
    "predict(regpoislog,newdata=newdf,type=\"response\")"
   ]
  },
  {
   "cell_type": "markdown",
   "metadata": {},
   "source": [
    "With the (Intercept), the regression is"
   ]
  },
  {
   "cell_type": "code",
   "execution_count": 17,
   "metadata": {},
   "outputs": [
    {
     "data": {
      "text/plain": [
       "\n",
       "Call:\n",
       "glm(formula = vY ~ X1 + offset(log(vE)), family = poisson(link = \"log\"), \n",
       "    data = df)\n",
       "\n",
       "Deviance Residuals: \n",
       "    Min       1Q   Median       3Q      Max  \n",
       "-0.5092  -0.3610  -0.2653  -0.1488   6.5858  \n",
       "\n",
       "Coefficients:\n",
       "            Estimate Std. Error  z value Pr(>|z|)    \n",
       "(Intercept) -2.59462    0.01088 -238.454   <2e-16 ***\n",
       "X1Regular   -0.13639    0.01574   -8.666   <2e-16 ***\n",
       "---\n",
       "Signif. codes:  0 '***' 0.001 '**' 0.01 '*' 0.05 '.' 0.1 ' ' 1\n",
       "\n",
       "(Dispersion parameter for poisson family taken to be 1)\n",
       "\n",
       "    Null deviance: 105613  on 413168  degrees of freedom\n",
       "Residual deviance: 105537  on 413167  degrees of freedom\n",
       "AIC: 136799\n",
       "\n",
       "Number of Fisher Scoring iterations: 6\n"
      ]
     },
     "metadata": {},
     "output_type": "display_data"
    }
   ],
   "source": [
    "regpoislog <- glm(vY ~ X1 + offset(log(vE)), data=df, family=poisson(link=\"log\"))\n",
    "summary(regpoislog)"
   ]
  },
  {
   "cell_type": "markdown",
   "metadata": {},
   "source": [
    "where the reference is a car with Diesel type of gas,"
   ]
  },
  {
   "cell_type": "code",
   "execution_count": 18,
   "metadata": {},
   "outputs": [
    {
     "data": {
      "text/html": [
       "<dl class=dl-horizontal>\n",
       "\t<dt>(Intercept)</dt>\n",
       "\t\t<dd>0.0746741216396843</dd>\n",
       "\t<dt>X1Regular</dt>\n",
       "\t\t<dd>0.872506241816083</dd>\n",
       "</dl>\n"
      ],
      "text/latex": [
       "\\begin{description*}\n",
       "\\item[(Intercept)] 0.0746741216396843\n",
       "\\item[X1Regular] 0.872506241816083\n",
       "\\end{description*}\n"
      ],
      "text/markdown": [
       "(Intercept)\n",
       ":   0.0746741216396843X1Regular\n",
       ":   0.872506241816083\n",
       "\n"
      ],
      "text/plain": [
       "(Intercept)   X1Regular \n",
       " 0.07467412  0.87250624 "
      ]
     },
     "metadata": {},
     "output_type": "display_data"
    }
   ],
   "source": [
    "exp(coefficients(regpoislog))"
   ]
  },
  {
   "cell_type": "markdown",
   "metadata": {},
   "source": [
    "Here, claims frequency for Diesel cars is 0:0746, and for Regular gas cars, it would be 87:25% of the value obtained for the reference one,"
   ]
  },
  {
   "cell_type": "code",
   "execution_count": 19,
   "metadata": {},
   "outputs": [
    {
     "data": {
      "text/html": [
       "0.065153637232758"
      ],
      "text/latex": [
       "0.065153637232758"
      ],
      "text/markdown": [
       "0.065153637232758"
      ],
      "text/plain": [
       "[1] 0.06515364"
      ]
     },
     "metadata": {},
     "output_type": "display_data"
    }
   ],
   "source": [
    "prod(exp(coefficients(regpoislog)))"
   ]
  },
  {
   "cell_type": "markdown",
   "metadata": {},
   "source": [
    "Predictions are similar; only the interpretation is different, here because the (Intercept) will be associated with some reference."
   ]
  },
  {
   "cell_type": "markdown",
   "metadata": {},
   "source": [
    "#### 1.5. Contingency Tables and Minimal Bias Techniques"
   ]
  },
  {
   "cell_type": "markdown",
   "metadata": {},
   "source": [
    "When we work with counting variables, it is natural to work with contingency matrices, with two regressors, for instance the Gas and the Density (here as a factor):"
   ]
  },
  {
   "cell_type": "code",
   "execution_count": 20,
   "metadata": {},
   "outputs": [
    {
     "data": {
      "text/plain": [
       "         X2\n",
       "X1        [0,40] (40,200] (200,500] (500,4.5e+03] (4.5e+03,Inf]\n",
       "  Diesel   36626    64966     31436         59797         13120\n",
       "  Regular  25706    53588     31459         72461         24010"
      ]
     },
     "metadata": {},
     "output_type": "display_data"
    }
   ],
   "source": [
    "X2 <- freMTPLfreq.f$Density\n",
    "names1 <- levels(X1)\n",
    "names2 <- levels(X2)\n",
    "(P=table(X1,X2))"
   ]
  },
  {
   "cell_type": "markdown",
   "metadata": {},
   "source": [
    "Define also the exposure matrix E  and the claims count matrix Y:"
   ]
  },
  {
   "cell_type": "code",
   "execution_count": 21,
   "metadata": {},
   "outputs": [],
   "source": [
    "E <- Y <- P\n",
    "for(k in 1:length(names1)){E[k,] <- tapply(vE[X1==names1[k]],X2[X1==names1[k]],sum)\n",
    "                            Y[k,] <- tapply(vY[X1==names1[k]],X2[X1==names1[k]],sum)}"
   ]
  },
  {
   "cell_type": "code",
   "execution_count": 22,
   "metadata": {},
   "outputs": [
    {
     "data": {
      "text/plain": [
       "         X2\n",
       "X1           [0,40]  (40,200] (200,500] (500,4.5e+03] (4.5e+03,Inf]\n",
       "  Diesel  23049.805 38716.498 17588.139     28573.604      5176.733\n",
       "  Regular 16943.598 33682.835 19577.038     38011.191     10504.727"
      ]
     },
     "metadata": {},
     "output_type": "display_data"
    }
   ],
   "source": [
    "E"
   ]
  },
  {
   "cell_type": "code",
   "execution_count": 23,
   "metadata": {},
   "outputs": [
    {
     "data": {
      "text/plain": [
       "         X2\n",
       "X1        [0,40] (40,200] (200,500] (500,4.5e+03] (4.5e+03,Inf]\n",
       "  Diesel    1266     2575      1347          2760           498\n",
       "  Regular    777     1858      1235          2941           924"
      ]
     },
     "metadata": {},
     "output_type": "display_data"
    }
   ],
   "source": [
    "Y"
   ]
  },
  {
   "cell_type": "markdown",
   "metadata": {},
   "source": [
    "The annualized (empirical) claims frequency is then"
   ]
  },
  {
   "cell_type": "code",
   "execution_count": 24,
   "metadata": {},
   "outputs": [
    {
     "data": {
      "text/plain": [
       "         X2\n",
       "X1            [0,40]   (40,200]  (200,500] (500,4.5e+03] (4.5e+03,Inf]\n",
       "  Diesel  0.05492454 0.06650912 0.07658570    0.09659265    0.09619966\n",
       "  Regular 0.04585803 0.05516163 0.06308411    0.07737195    0.08796040"
      ]
     },
     "metadata": {},
     "output_type": "display_data"
    }
   ],
   "source": [
    "(N <- Y/E)"
   ]
  },
  {
   "cell_type": "markdown",
   "metadata": {},
   "source": [
    "Bailey (1963) assumed that predicted sums per row, and per column, should be equal to empirical ones. An iterative algorithm can be used to solve those equations (even if we should keep in mind that there might be identifiability issues because L and C are|under some assumptions| unique up to a multiplicative constant) starting from some initial values for C (say)."
   ]
  },
  {
   "cell_type": "code",
   "execution_count": 25,
   "metadata": {},
   "outputs": [],
   "source": [
    "L <- matrix(NA,100,length(names1))\n",
    "C <- matrix(NA,100,length(names2))\n",
    "C[1,] <- rep(sum(vY)/sum(vE),length(names2));colnames(C) <- names2\n",
    "     for(j in 2:100){\n",
    "     for(k in 1:length(names1)) L[j,k] <- sum(Y[k,])/sum(E[k,]*C[j-1,])\n",
    "     for(k in 1:length(names2)) C[j,k] <- sum(Y[,k])/sum(E[,k]*L[j,])\n",
    "     }"
   ]
  },
  {
   "cell_type": "markdown",
   "metadata": {},
   "source": [
    "After 100 loops, we obtain the following values for L and C:"
   ]
  },
  {
   "cell_type": "code",
   "execution_count": 26,
   "metadata": {},
   "outputs": [
    {
     "data": {
      "text/html": [
       "<ol class=list-inline>\n",
       "\t<li>1.09897905068003</li>\n",
       "\t<li>0.90716998511797</li>\n",
       "</ol>\n"
      ],
      "text/latex": [
       "\\begin{enumerate*}\n",
       "\\item 1.09897905068003\n",
       "\\item 0.90716998511797\n",
       "\\end{enumerate*}\n"
      ],
      "text/markdown": [
       "1. 1.09897905068003\n",
       "2. 0.90716998511797\n",
       "\n",
       "\n"
      ],
      "text/plain": [
       "[1] 1.098979 0.907170"
      ]
     },
     "metadata": {},
     "output_type": "display_data"
    }
   ],
   "source": [
    "L[100,]"
   ]
  },
  {
   "cell_type": "code",
   "execution_count": 27,
   "metadata": {},
   "outputs": [
    {
     "data": {
      "text/html": [
       "<dl class=dl-horizontal>\n",
       "\t<dt>[0,40]</dt>\n",
       "\t\t<dd>0.0501941227518601</dd>\n",
       "\t<dt>(40,200]</dt>\n",
       "\t\t<dd>0.0606390753129725</dd>\n",
       "\t<dt>(200,500]</dt>\n",
       "\t\t<dd>0.0696168957755628</dd>\n",
       "\t<dt>(500,4.5e+03]</dt>\n",
       "\t\t<dd>0.0865303422188507</dd>\n",
       "\t<dt>(4.5e+03,Inf]</dt>\n",
       "\t\t<dd>0.0934377145847457</dd>\n",
       "</dl>\n"
      ],
      "text/latex": [
       "\\begin{description*}\n",
       "\\item[\\{{[}\\}0,40\\{{]}\\}] 0.0501941227518601\n",
       "\\item[(40,200\\{{]}\\}] 0.0606390753129725\n",
       "\\item[(200,500\\{{]}\\}] 0.0696168957755628\n",
       "\\item[(500,4.5e+03\\{{]}\\}] 0.0865303422188507\n",
       "\\item[(4.5e+03,Inf\\{{]}\\}] 0.0934377145847457\n",
       "\\end{description*}\n"
      ],
      "text/markdown": [
       "[0,40]\n",
       ":   0.0501941227518601(40,200]\n",
       ":   0.0606390753129725(200,500]\n",
       ":   0.0696168957755628(500,4.5e+03]\n",
       ":   0.0865303422188507(4.5e+03,Inf]\n",
       ":   0.0934377145847457\n",
       "\n"
      ],
      "text/plain": [
       "       [0,40]      (40,200]     (200,500] (500,4.5e+03] (4.5e+03,Inf] \n",
       "   0.05019412    0.06063908    0.06961690    0.08653034    0.09343771 "
      ]
     },
     "metadata": {},
     "output_type": "display_data"
    }
   ],
   "source": [
    "C[100,]"
   ]
  },
  {
   "cell_type": "markdown",
   "metadata": {},
   "source": [
    "That can be used to predict annualized claim frequency:"
   ]
  },
  {
   "cell_type": "code",
   "execution_count": 28,
   "metadata": {},
   "outputs": [
    {
     "data": {
      "text/plain": [
       "         X2\n",
       "X1            [0,40]   (40,200]  (200,500] (500,4.5e+03] (4.5e+03,Inf]\n",
       "  Diesel  0.05516229 0.06664107 0.07650751    0.09509503    0.10268609\n",
       "  Regular 0.04553460 0.05500995 0.06315436    0.07849773    0.08476389"
      ]
     },
     "metadata": {},
     "output_type": "display_data"
    }
   ],
   "source": [
    "PredN=N\n",
    "for(k in 1:length(names1)) PredN[k,]<-L[100,k]*C[100,]\n",
    "PredN"
   ]
  },
  {
   "cell_type": "markdown",
   "metadata": {},
   "source": [
    "Given the observed exposure, the prediction of the number of claims for Diesel cars (for instance) with this model would be"
   ]
  },
  {
   "cell_type": "code",
   "execution_count": 29,
   "metadata": {},
   "outputs": [
    {
     "data": {
      "text/html": [
       "8446"
      ],
      "text/latex": [
       "8446"
      ],
      "text/markdown": [
       "8446"
      ],
      "text/plain": [
       "[1] 8446"
      ]
     },
     "metadata": {},
     "output_type": "display_data"
    }
   ],
   "source": [
    "sum(PredN[1,]*E[1,])"
   ]
  },
  {
   "cell_type": "markdown",
   "metadata": {},
   "source": [
    "which is exactly the same as the observed total, for the first row,"
   ]
  },
  {
   "cell_type": "code",
   "execution_count": 30,
   "metadata": {},
   "outputs": [
    {
     "data": {
      "text/html": [
       "8446"
      ],
      "text/latex": [
       "8446"
      ],
      "text/markdown": [
       "8446"
      ],
      "text/plain": [
       "[1] 8446"
      ]
     },
     "metadata": {},
     "output_type": "display_data"
    }
   ],
   "source": [
    "sum(Y[1,])"
   ]
  },
  {
   "cell_type": "markdown",
   "metadata": {},
   "source": [
    "This is the minimal bias method, used in Bailey (1963) in motor insurance pricing. The interesting point is that this method coincides with the Poisson regression,"
   ]
  },
  {
   "cell_type": "code",
   "execution_count": 31,
   "metadata": {},
   "outputs": [
    {
     "data": {
      "text/html": [
       "<table>\n",
       "<tbody>\n",
       "\t<tr><td>0.05516229</td><td>0.06664107</td><td>0.07650751</td><td>0.09509503</td><td>0.10268609</td></tr>\n",
       "\t<tr><td>0.04553460</td><td>0.05500995</td><td>0.06315436</td><td>0.07849773</td><td>0.08476389</td></tr>\n",
       "</tbody>\n",
       "</table>\n"
      ],
      "text/latex": [
       "\\begin{tabular}{lllll}\n",
       "\t 0.05516229 & 0.06664107 & 0.07650751 & 0.09509503 & 0.10268609\\\\\n",
       "\t 0.04553460 & 0.05500995 & 0.06315436 & 0.07849773 & 0.08476389\\\\\n",
       "\\end{tabular}\n"
      ],
      "text/markdown": [
       "\n",
       "| 0.05516229 | 0.06664107 | 0.07650751 | 0.09509503 | 0.10268609 |\n",
       "| 0.04553460 | 0.05500995 | 0.06315436 | 0.07849773 | 0.08476389 |\n",
       "\n"
      ],
      "text/plain": [
       "     [,1]       [,2]       [,3]       [,4]       [,5]      \n",
       "[1,] 0.05516229 0.06664107 0.07650751 0.09509503 0.10268609\n",
       "[2,] 0.04553460 0.05500995 0.06315436 0.07849773 0.08476389"
      ]
     },
     "metadata": {},
     "output_type": "display_data"
    }
   ],
   "source": [
    "df <- data.frame(vY,vE,X1,X2)\n",
    "regpoislog <- glm(vY ~ X1 + X2, offset=log(vE), data=df, family=poisson(link=\"log\"))\n",
    "newdf <- data.frame(\n",
    "     X1=factor(rep(names1,length(names2))),\n",
    "     vE=rep(1,length(names1)*length(names2)),\n",
    "     X2=factor(rep(names2,each=length(names1))))\n",
    "matrix(predict(regpoislog,newdata=newdf,type=\"response\"),length(names1),length(names2))"
   ]
  },
  {
   "cell_type": "markdown",
   "metadata": {},
   "source": [
    "The interpretation will be that if we use a Poisson regression on categorical variables, the total prediction per modality will equal to the annualized empirical sum of claims."
   ]
  },
  {
   "cell_type": "markdown",
   "metadata": {},
   "source": [
    "#### 1.6. Ratemaking with Continuous Variables"
   ]
  },
  {
   "cell_type": "markdown",
   "metadata": {},
   "source": [
    "Working with continuous covariates might be interesting, because cutoff(to make variables categorical) levels might be too arbitrary. Thus, categorical variables constructed from continuous ones (age of the driver, age of the car, spatial location, etc.) will create artifiial discontinuities, which might be dangerous in the context of highly ompetitive markets."
   ]
  },
  {
   "cell_type": "code",
   "execution_count": 32,
   "metadata": {},
   "outputs": [
    {
     "data": {
      "text/plain": [
       "\n",
       "Call:\n",
       "glm(formula = ClaimNb ~ DriverAge + offset(log(Exposure)), family = poisson, \n",
       "    data = freMTPLfreq.f)\n",
       "\n",
       "Deviance Residuals: \n",
       "    Min       1Q   Median       3Q      Max  \n",
       "-0.6218  -0.3615  -0.2632  -0.1491   6.5690  \n",
       "\n",
       "Coefficients:\n",
       "                  Estimate Std. Error z value Pr(>|z|)    \n",
       "(Intercept)       -1.66337    0.03365  -49.43   <2e-16 ***\n",
       "DriverAge(22,26]  -0.56935    0.04602  -12.37   <2e-16 ***\n",
       "DriverAge(26,42]  -1.04009    0.03628  -28.67   <2e-16 ***\n",
       "DriverAge(42,74]  -1.06454    0.03542  -30.05   <2e-16 ***\n",
       "DriverAge(74,Inf] -1.17659    0.05177  -22.73   <2e-16 ***\n",
       "---\n",
       "Signif. codes:  0 '***' 0.001 '**' 0.01 '*' 0.05 '.' 0.1 ' ' 1\n",
       "\n",
       "(Dispersion parameter for poisson family taken to be 1)\n",
       "\n",
       "    Null deviance: 105613  on 413168  degrees of freedom\n",
       "Residual deviance: 104734  on 413164  degrees of freedom\n",
       "AIC: 136001\n",
       "\n",
       "Number of Fisher Scoring iterations: 6\n"
      ]
     },
     "metadata": {},
     "output_type": "display_data"
    }
   ],
   "source": [
    "reg.cut <- glm(ClaimNb ~ DriverAge + offset(log(Exposure)), family=poisson, data=freMTPLfreq.f)\n",
    "summary(reg.cut)"
   ]
  },
  {
   "cell_type": "markdown",
   "metadata": {},
   "source": [
    "The standard regrenion on the age of the driver would yield"
   ]
  },
  {
   "cell_type": "code",
   "execution_count": 33,
   "metadata": {},
   "outputs": [
    {
     "data": {
      "text/plain": [
       "\n",
       "Call:\n",
       "glm(formula = ClaimNb ~ DriverAge + offset(log(Exposure)), family = poisson, \n",
       "    data = freMTPLfreq)\n",
       "\n",
       "Deviance Residuals: \n",
       "    Min       1Q   Median       3Q      Max  \n",
       "-0.5523  -0.3510  -0.2678  -0.1504   6.4415  \n",
       "\n",
       "Coefficients:\n",
       "              Estimate Std. Error z value Pr(>|z|)    \n",
       "(Intercept) -2.1513378  0.0262347  -82.00   <2e-16 ***\n",
       "DriverAge   -0.0111060  0.0005579  -19.91   <2e-16 ***\n",
       "---\n",
       "Signif. codes:  0 '***' 0.001 '**' 0.01 '*' 0.05 '.' 0.1 ' ' 1\n",
       "\n",
       "(Dispersion parameter for poisson family taken to be 1)\n",
       "\n",
       "    Null deviance: 105613  on 413168  degrees of freedom\n",
       "Residual deviance: 105206  on 413167  degrees of freedom\n",
       "AIC: 136467\n",
       "\n",
       "Number of Fisher Scoring iterations: 6\n"
      ]
     },
     "metadata": {},
     "output_type": "display_data"
    }
   ],
   "source": [
    "reg.poisson <- glm(ClaimNb ~ DriverAge + offset(log(Exposure)), family=poisson, data=freMTPLfreq)\n",
    "summary(reg.poisson)"
   ]
  },
  {
   "cell_type": "markdown",
   "metadata": {},
   "source": [
    "However, assuming a linear relationship might be too restrictive."
   ]
  },
  {
   "cell_type": "code",
   "execution_count": 34,
   "metadata": {},
   "outputs": [
    {
     "data": {
      "image/png": "[encoded data removed]",
      "text/plain": [
       "plot without title"
      ]
     },
     "metadata": {},
     "output_type": "display_data"
    }
   ],
   "source": [
    "newdb <- data.frame(DriverAge=18:99, Exposure=1)\n",
    "pred.poisson <- predict(reg.poisson, newdata=newdb, type=\"response\", se=TRUE)\n",
    "plot(18:99, pred.poisson$fit, type=\"l\", xlab=\"Age of the driver\", ylab=\"Annualized Frequency\", ylim=c(0,.3), \n",
    "     col=\"white\")\n",
    "segments(18:99, pred.poisson$fit-2*pred.poisson$se.fit, 18:99, pred.poisson$fit+2*pred.poisson$se.fit, \n",
    "     col=\"grey\", lwd=7)\n",
    "lines(18:99, pred.poisson$fit)\n",
    "abline(h=sum(freMTPLfreq$ClaimNb)/sum(freMTPLfreq$Exposure),lty=2)"
   ]
  },
  {
   "cell_type": "markdown",
   "metadata": {},
   "source": [
    "This is a Poisson regression of the annualized frequency on the age of the driver, with a linear model, and when the age of the driver is a categorical variable. "
   ]
  },
  {
   "cell_type": "markdown",
   "metadata": {},
   "source": [
    "In order to get a nonparametric estimator, it is possible to consider the age (which is here an integer) as a factor variable:"
   ]
  },
  {
   "cell_type": "code",
   "execution_count": 35,
   "metadata": {},
   "outputs": [],
   "source": [
    "reg.np <- glm(ClaimNb ~ as.factor(DriverAge) + offset(log(Exposure)), family=poisson, data=freMTPLfreq)"
   ]
  },
  {
   "cell_type": "code",
   "execution_count": 36,
   "metadata": {},
   "outputs": [
    {
     "data": {
      "image/png": "[encoded data removed]",
      "text/plain": [
       "plot without title"
      ]
     },
     "metadata": {},
     "output_type": "display_data"
    }
   ],
   "source": [
    "newdb2 <- data.frame(DriverAge=18:99, Exposure=1)\n",
    "pred.np <- predict(reg.np, newdata=newdb2, type=\"response\", se=TRUE)\n",
    "plot(18:99, pred.np$fit, type=\"l\", xlab=\"Age of the driver\", ylab=\"Annualized Frequency\", ylim=c(0,.3), \n",
    "     col=\"white\")\n",
    "segments(18:99, pred.np$fit-2*pred.np$se.fit, 18:99, pred.np$fit+2*pred.np$se.fit, \n",
    "     col=\"grey\", lwd=7)\n",
    "lines(18:99, pred.np$fit)\n",
    "abline(h=sum(freMTPLfreq$ClaimNb)/sum(freMTPLfreq$Exposure),lty=2)"
   ]
  },
  {
   "cell_type": "markdown",
   "metadata": {},
   "source": [
    "This is a Poisson regression of the annualized frequency on the age of the driver, per age as a factor (because it is a discrete variable)."
   ]
  },
  {
   "cell_type": "markdown",
   "metadata": {},
   "source": [
    "To use spline regressions, we consider a linear model including s(X) instead of X, where s() will be estimated using penalized regression splines:"
   ]
  },
  {
   "cell_type": "code",
   "execution_count": 37,
   "metadata": {},
   "outputs": [
    {
     "name": "stderr",
     "output_type": "stream",
     "text": [
      "Loading required package: nlme\n",
      "This is mgcv 1.8-28. For overview type 'help(\"mgcv-package\")'.\n"
     ]
    }
   ],
   "source": [
    "library(mgcv)\n",
    "reg.splines <- gam(ClaimNb ~ s(DriverAge) + offset(log(Exposure)), family=poisson, data=freMTPLfreq)"
   ]
  },
  {
   "cell_type": "code",
   "execution_count": 38,
   "metadata": {},
   "outputs": [
    {
     "data": {
      "image/png": "[encoded data removed]",
      "text/plain": [
       "plot without title"
      ]
     },
     "metadata": {},
     "output_type": "display_data"
    }
   ],
   "source": [
    "newdb3 <- data.frame(DriverAge=18:99, Exposure=1)\n",
    "pred.splines <- predict(reg.splines, newdata=newdb3, type=\"response\", se=TRUE)\n",
    "plot(18:99, pred.splines$fit, type=\"l\", xlab=\"Age of the driver\", ylab=\"Annualized Frequency\", ylim=c(0,.3), \n",
    "     col=\"white\")\n",
    "segments(18:99, pred.splines$fit-2*pred.splines$se.fit, 18:99, pred.splines$fit+2*pred.splines$se.fit, \n",
    "     col=\"grey\", lwd=7)\n",
    "lines(18:99, pred.splines$fit)\n",
    "abline(h=sum(freMTPLfreq$ClaimNb)/sum(freMTPLfreq$Exposure),lty=2)"
   ]
  },
  {
   "cell_type": "markdown",
   "metadata": {},
   "source": [
    "This is a Poisson regression of the annualized frequency on the age of the driver, per age as a factor (because it is a discrete variable) and using a spline smoother."
   ]
  },
  {
   "cell_type": "markdown",
   "metadata": {},
   "source": [
    "#### 1.7. A Poisson Regression to Model Yearly Claim Frequency"
   ]
  },
  {
   "cell_type": "markdown",
   "metadata": {},
   "source": [
    "In order to have signi\f",
    "cant factors, the age of the car is here only in two classes: less than 15 years old, and more than 15 years old:"
   ]
  },
  {
   "cell_type": "code",
   "execution_count": 39,
   "metadata": {},
   "outputs": [],
   "source": [
    "freMTPLfreq.f$CarAge <- cut(freMTPLfreq$CarAge,c(0,15,Inf), include.lowest = TRUE)"
   ]
  },
  {
   "cell_type": "markdown",
   "metadata": {},
   "source": [
    "The levels are here"
   ]
  },
  {
   "cell_type": "code",
   "execution_count": 40,
   "metadata": {},
   "outputs": [
    {
     "data": {
      "text/html": [
       "<ol class=list-inline>\n",
       "\t<li>'[0,15]'</li>\n",
       "\t<li>'(15,Inf]'</li>\n",
       "</ol>\n"
      ],
      "text/latex": [
       "\\begin{enumerate*}\n",
       "\\item '{[}0,15{]}'\n",
       "\\item '(15,Inf{]}'\n",
       "\\end{enumerate*}\n"
      ],
      "text/markdown": [
       "1. '[0,15]'\n",
       "2. '(15,Inf]'\n",
       "\n",
       "\n"
      ],
      "text/plain": [
       "[1] \"[0,15]\"   \"(15,Inf]\""
      ]
     },
     "metadata": {},
     "output_type": "display_data"
    }
   ],
   "source": [
    "levels(freMTPLfreq.f$CarAge)"
   ]
  },
  {
   "cell_type": "markdown",
   "metadata": {},
   "source": [
    "For the brand, we only distinguish cars of brand F,"
   ]
  },
  {
   "cell_type": "code",
   "execution_count": 41,
   "metadata": {},
   "outputs": [],
   "source": [
    "freMTPLfreq.f$brandF <- factor(freMTPLfreq.f$Brand==\"Fiat\",labels=c(\"other\",\"F\"))"
   ]
  },
  {
   "cell_type": "markdown",
   "metadata": {},
   "source": [
    "and for the power of the car, three classes are considered here,"
   ]
  },
  {
   "cell_type": "code",
   "execution_count": 42,
   "metadata": {},
   "outputs": [],
   "source": [
    "freMTPLfreq.f$powerF <- factor(1*(freMTPLfreq.f$Power%in%letters[4:6]) + 2*(freMTPLfreq.f$Power%in%letters[7:8]),\n",
    "                             labels=c(\"other\",\"DEF\",\"GH\"))"
   ]
  },
  {
   "cell_type": "markdown",
   "metadata": {},
   "source": [
    "Our model here is"
   ]
  },
  {
   "cell_type": "code",
   "execution_count": 43,
   "metadata": {},
   "outputs": [
    {
     "data": {
      "text/plain": [
       "\n",
       "Call:\n",
       "glm(formula = freg, family = poisson(link = \"log\"), data = freMTPLfreq.f)\n",
       "\n",
       "Deviance Residuals: \n",
       "    Min       1Q   Median       3Q      Max  \n",
       "-0.7836  -0.3391  -0.2654  -0.1487   6.5261  \n",
       "\n",
       "Coefficients:\n",
       "                     Estimate Std. Error z value Pr(>|z|)    \n",
       "(Intercept)          -1.69761    0.04644 -36.553  < 2e-16 ***\n",
       "DriverAge(22,26]     -0.62633    0.04609 -13.590  < 2e-16 ***\n",
       "DriverAge(26,42]     -1.09491    0.03648 -30.013  < 2e-16 ***\n",
       "DriverAge(42,74]     -1.09381    0.03561 -30.718  < 2e-16 ***\n",
       "DriverAge(74,Inf]    -1.10825    0.05189 -21.357  < 2e-16 ***\n",
       "CarAge(15,Inf]       -0.22564    0.03073  -7.342 2.10e-13 ***\n",
       "Density(40,200]       0.17957    0.02676   6.710 1.95e-11 ***\n",
       "Density(200,500]      0.30994    0.02968  10.443  < 2e-16 ***\n",
       "Density(500,4.5e+03]  0.51416    0.02598  19.792  < 2e-16 ***\n",
       "Density(4.5e+03,Inf]  0.60605    0.03497  17.331  < 2e-16 ***\n",
       "brandFF               0.06639    0.03839   1.730   0.0837 .  \n",
       "powerFDEF            -0.15566    0.02409  -6.462 1.04e-10 ***\n",
       "powerFGH             -0.13818    0.02634  -5.246 1.55e-07 ***\n",
       "GasRegular           -0.19911    0.01621 -12.282  < 2e-16 ***\n",
       "---\n",
       "Signif. codes:  0 '***' 0.001 '**' 0.01 '*' 0.05 '.' 0.1 ' ' 1\n",
       "\n",
       "(Dispersion parameter for poisson family taken to be 1)\n",
       "\n",
       "    Null deviance: 105613  on 413168  degrees of freedom\n",
       "Residual deviance: 103888  on 413155  degrees of freedom\n",
       "AIC: 135173\n",
       "\n",
       "Number of Fisher Scoring iterations: 6\n"
      ]
     },
     "metadata": {},
     "output_type": "display_data"
    }
   ],
   "source": [
    "freg <- formula(ClaimNb ~ DriverAge + CarAge + Density + brandF + powerF + Gas + offset(log(Exposure)))\n",
    "regp <- glm(freg,data=freMTPLfreq.f,family=poisson(link=\"log\"))\n",
    "summary(regp)"
   ]
  },
  {
   "cell_type": "markdown",
   "metadata": {},
   "source": [
    "#### 1.8. More Advanced Models for Counts:  Negative Binomial Regression"
   ]
  },
  {
   "cell_type": "markdown",
   "metadata": {},
   "source": [
    "The negative binomial regression is obtained using glm.nb of library MASS, while zeroinfl and hurdle functions are obtained using library pscl."
   ]
  },
  {
   "cell_type": "code",
   "execution_count": 44,
   "metadata": {},
   "outputs": [
    {
     "name": "stderr",
     "output_type": "stream",
     "text": [
      "Classes and Methods for R developed in the\n",
      "Political Science Computational Laboratory\n",
      "Department of Political Science\n",
      "Stanford University\n",
      "Simon Jackman\n",
      "hurdle and zeroinfl functions by Achim Zeileis\n"
     ]
    }
   ],
   "source": [
    "library(MASS)\n",
    "library(pscl)"
   ]
  },
  {
   "cell_type": "code",
   "execution_count": 45,
   "metadata": {},
   "outputs": [
    {
     "data": {
      "text/plain": [
       "\n",
       "Call:\n",
       "glm(formula = ClaimNb ~ Gas + DriverAge + Density + offset(log(Exposure)), \n",
       "    family = negative.binomial(1), data = freMTPLfreq.f)\n",
       "\n",
       "Deviance Residuals: \n",
       "    Min       1Q   Median       3Q      Max  \n",
       "-0.7239  -0.3343  -0.2653  -0.1491   5.8679  \n",
       "\n",
       "Coefficients:\n",
       "                     Estimate Std. Error t value Pr(>|t|)    \n",
       "(Intercept)          -1.84232    0.05452 -33.789  < 2e-16 ***\n",
       "GasRegular           -0.20618    0.02130  -9.679  < 2e-16 ***\n",
       "DriverAge(22,26]     -0.62912    0.06215 -10.123  < 2e-16 ***\n",
       "DriverAge(26,42]     -1.09797    0.04932 -22.264  < 2e-16 ***\n",
       "DriverAge(42,74]     -1.09583    0.04814 -22.764  < 2e-16 ***\n",
       "DriverAge(74,Inf]    -1.12802    0.06959 -16.211  < 2e-16 ***\n",
       "Density(40,200]       0.18531    0.03536   5.241  1.6e-07 ***\n",
       "Density(200,500]      0.31932    0.03926   8.133  4.2e-16 ***\n",
       "Density(500,4.5e+03]  0.52864    0.03433  15.399  < 2e-16 ***\n",
       "Density(4.5e+03,Inf]  0.63692    0.04620  13.785  < 2e-16 ***\n",
       "---\n",
       "Signif. codes:  0 '***' 0.001 '**' 0.01 '*' 0.05 '.' 0.1 ' ' 1\n",
       "\n",
       "(Dispersion parameter for Negative Binomial(1) family taken to be 1.676186)\n",
       "\n",
       "    Null deviance: 92939  on 413168  degrees of freedom\n",
       "Residual deviance: 91381  on 413159  degrees of freedom\n",
       "AIC: 134886\n",
       "\n",
       "Number of Fisher Scoring iterations: 6\n"
      ]
     },
     "metadata": {},
     "output_type": "display_data"
    }
   ],
   "source": [
    "regnb <- glm(ClaimNb ~ Gas + DriverAge + Density + offset(log(Exposure)),\n",
    "             family=negative.binomial(1), data=freMTPLfreq.f)\n",
    "summary(regnb)"
   ]
  },
  {
   "cell_type": "code",
   "execution_count": 46,
   "metadata": {},
   "outputs": [
    {
     "data": {
      "text/plain": [
       "\n",
       "Call:\n",
       "glm.nb(formula = freg, data = freMTPLfreq.f, init.theta = 0.8518201379, \n",
       "    link = log)\n",
       "\n",
       "Deviance Residuals: \n",
       "    Min       1Q   Median       3Q      Max  \n",
       "-0.7338  -0.3348  -0.2634  -0.1489   5.8073  \n",
       "\n",
       "Coefficients:\n",
       "                     Estimate Std. Error z value Pr(>|z|)    \n",
       "(Intercept)          -1.67355    0.04849 -34.511  < 2e-16 ***\n",
       "DriverAge(22,26]     -0.64183    0.04835 -13.275  < 2e-16 ***\n",
       "DriverAge(26,42]     -1.11611    0.03846 -29.020  < 2e-16 ***\n",
       "DriverAge(42,74]     -1.11473    0.03759 -29.658  < 2e-16 ***\n",
       "DriverAge(74,Inf]    -1.13280    0.05409 -20.945  < 2e-16 ***\n",
       "CarAge(15,Inf]       -0.22349    0.03146  -7.103 1.22e-12 ***\n",
       "Density(40,200]       0.18018    0.02742   6.571 5.01e-11 ***\n",
       "Density(200,500]      0.31114    0.03047  10.211  < 2e-16 ***\n",
       "Density(500,4.5e+03]  0.51604    0.02667  19.350  < 2e-16 ***\n",
       "Density(4.5e+03,Inf]  0.60611    0.03600  16.838  < 2e-16 ***\n",
       "brandFF               0.07084    0.03961   1.789   0.0737 .  \n",
       "powerFDEF            -0.15342    0.02487  -6.170 6.84e-10 ***\n",
       "powerFGH             -0.13718    0.02718  -5.048 4.46e-07 ***\n",
       "GasRegular           -0.19967    0.01671 -11.949  < 2e-16 ***\n",
       "---\n",
       "Signif. codes:  0 '***' 0.001 '**' 0.01 '*' 0.05 '.' 0.1 ' ' 1\n",
       "\n",
       "(Dispersion parameter for Negative Binomial(0.8518) family taken to be 1)\n",
       "\n",
       "    Null deviance: 91306  on 413168  degrees of freedom\n",
       "Residual deviance: 89669  on 413155  degrees of freedom\n",
       "AIC: 134799\n",
       "\n",
       "Number of Fisher Scoring iterations: 1\n",
       "\n",
       "\n",
       "              Theta:  0.8518 \n",
       "          Std. Err.:  0.0572 \n",
       "\n",
       " 2 x log-likelihood:  -134769.0220 "
      ]
     },
     "metadata": {},
     "output_type": "display_data"
    }
   ],
   "source": [
    "regnb2 <- glm.nb(freg,data=freMTPLfreq.f) #NB2 Variance Form: Negative Binomial Type II\n",
    "summary(regnb2)"
   ]
  },
  {
   "cell_type": "markdown",
   "metadata": {},
   "source": [
    "#### 1.9. More Advanced Models for Counts:   Zero-Inflated Models"
   ]
  },
  {
   "cell_type": "markdown",
   "metadata": {},
   "source": [
    "If we consider a zero-in ated Poisson model, with constant probability $\\pi$, we obtain"
   ]
  },
  {
   "cell_type": "code",
   "execution_count": 47,
   "metadata": {},
   "outputs": [
    {
     "data": {
      "text/plain": [
       "\n",
       "Call:\n",
       "zeroinfl(formula = fregzi, data = freMTPLfreq.f, dist = \"poisson\", link = \"logit\")\n",
       "\n",
       "Pearson residuals:\n",
       "    Min      1Q  Median      3Q     Max \n",
       "-0.4355 -0.2218 -0.1918 -0.1373 66.3063 \n",
       "\n",
       "Count model coefficients (poisson with log link):\n",
       "                     Estimate Std. Error z value Pr(>|z|)    \n",
       "(Intercept)          -1.29616    0.11074 -11.704  < 2e-16 ***\n",
       "DriverAge(22,26]     -0.40480    0.10250  -3.949 7.83e-05 ***\n",
       "DriverAge(26,42]     -1.03283    0.07896 -13.080  < 2e-16 ***\n",
       "DriverAge(42,74]     -1.00369    0.07652 -13.117  < 2e-16 ***\n",
       "DriverAge(74,Inf]    -0.88069    0.13298  -6.623 3.52e-11 ***\n",
       "CarAge(15,Inf]        0.24015    0.08095   2.967 0.003012 ** \n",
       "Density(40,200]       0.18032    0.07327   2.461 0.013848 *  \n",
       "Density(200,500]      0.21369    0.07952   2.687 0.007205 ** \n",
       "Density(500,4.5e+03]  0.32340    0.06994   4.624 3.77e-06 ***\n",
       "Density(4.5e+03,Inf]  0.30969    0.09095   3.405 0.000662 ***\n",
       "brandFF               0.19946    0.09420   2.118 0.034217 *  \n",
       "powerFDEF             0.15016    0.05909   2.541 0.011041 *  \n",
       "powerFGH              0.02425    0.06423   0.378 0.705736    \n",
       "GasRegular            0.05250    0.04194   1.252 0.210612    \n",
       "\n",
       "Zero-inflation model coefficients (binomial with logit link):\n",
       "                      Estimate Std. Error z value Pr(>|z|)    \n",
       "(Intercept)          -0.079768   0.218335  -0.365   0.7149    \n",
       "DriverAge(22,26]      0.361703   0.185560   1.949   0.0513 .  \n",
       "DriverAge(26,42]     -0.084225   0.150592  -0.559   0.5760    \n",
       "DriverAge(42,74]     -0.120920   0.144540  -0.837   0.4028    \n",
       "DriverAge(74,Inf]     0.005923   0.221476   0.027   0.9787    \n",
       "CarAge(15,Inf]        0.761777   0.118928   6.405 1.50e-10 ***\n",
       "Density(40,200]       0.027562   0.127317   0.216   0.8286    \n",
       "Density(200,500]     -0.141595   0.141394  -1.001   0.3166    \n",
       "Density(500,4.5e+03] -0.247233   0.125340  -1.973   0.0486 *  \n",
       "Density(4.5e+03,Inf] -0.340713   0.186759  -1.824   0.0681 .  \n",
       "brandFF               0.215520   0.158726   1.358   0.1745    \n",
       "powerFDEF             0.571149   0.129627   4.406 1.05e-05 ***\n",
       "powerFGH              0.316288   0.140031   2.259   0.0239 *  \n",
       "GasRegular            0.465938   0.079529   5.859 4.66e-09 ***\n",
       "---\n",
       "Signif. codes:  0 '***' 0.001 '**' 0.01 '*' 0.05 '.' 0.1 ' ' 1 \n",
       "\n",
       "Number of iterations in BFGS optimization: 50 \n",
       "Log-likelihood: -6.678e+04 on 28 Df"
      ]
     },
     "metadata": {},
     "output_type": "display_data"
    }
   ],
   "source": [
    "fregzi <- formula(ClaimNb ~ DriverAge + CarAge + Density + brandF + powerF + Gas + \n",
    "                  offset(log(Exposure)))\n",
    "regzip = zeroinfl(fregzi, data=freMTPLfreq.f, dist = \"poisson\", link=\"logit\")\n",
    "summary(regzip)"
   ]
  },
  {
   "cell_type": "markdown",
   "metadata": {},
   "source": [
    "If we consider a probability $\\pi_i$ function of the age of the driver, we obtain"
   ]
  },
  {
   "cell_type": "code",
   "execution_count": 48,
   "metadata": {},
   "outputs": [
    {
     "data": {
      "text/plain": [
       "\n",
       "Call:\n",
       "zeroinfl(formula = fregzi, data = freMTPLfreq.f, dist = \"poisson\", link = \"logit\")\n",
       "\n",
       "Pearson residuals:\n",
       "    Min      1Q  Median      3Q     Max \n",
       "-0.4888 -0.2334 -0.1847 -0.1049 95.9208 \n",
       "\n",
       "Count model coefficients (poisson with log link):\n",
       "                     Estimate Std. Error z value Pr(>|z|)    \n",
       "(Intercept)          -0.97380    0.11560  -8.424  < 2e-16 ***\n",
       "DriverAge(22,26]     -0.39996    0.15827  -2.527   0.0115 *  \n",
       "DriverAge(26,42]     -1.11721    0.12815  -8.718  < 2e-16 ***\n",
       "DriverAge(42,74]     -1.12698    0.12225  -9.218  < 2e-16 ***\n",
       "DriverAge(74,Inf]    -0.77096    0.18359  -4.199 2.68e-05 ***\n",
       "CarAge(15,Inf]       -0.22224    0.03155  -7.044 1.86e-12 ***\n",
       "Density(40,200]       0.18069    0.02745   6.581 4.66e-11 ***\n",
       "Density(200,500]      0.31143    0.03051  10.208  < 2e-16 ***\n",
       "Density(500,4.5e+03]  0.51623    0.02670  19.334  < 2e-16 ***\n",
       "Density(4.5e+03,Inf]  0.60764    0.03601  16.874  < 2e-16 ***\n",
       "brandFF               0.07283    0.03976   1.832   0.0670 .  \n",
       "powerFDEF            -0.15269    0.02485  -6.144 8.03e-10 ***\n",
       "powerFGH             -0.13667    0.02716  -5.032 4.85e-07 ***\n",
       "GasRegular           -0.19904    0.01673 -11.900  < 2e-16 ***\n",
       "\n",
       "Zero-inflation model coefficients (binomial with logit link):\n",
       "                   Estimate Std. Error z value Pr(>|z|)  \n",
       "(Intercept)        0.023562   0.201830   0.117   0.9071  \n",
       "DriverAge(22,26]   0.422257   0.267248   1.580   0.1141  \n",
       "DriverAge(26,42]  -0.007699   0.236604  -0.033   0.9740  \n",
       "DriverAge(42,74]  -0.029877   0.225269  -0.133   0.8945  \n",
       "DriverAge(74,Inf]  0.613475   0.295067   2.079   0.0376 *\n",
       "---\n",
       "Signif. codes:  0 '***' 0.001 '**' 0.01 '*' 0.05 '.' 0.1 ' ' 1 \n",
       "\n",
       "Number of iterations in BFGS optimization: 64 \n",
       "Log-likelihood: -6.738e+04 on 19 Df"
      ]
     },
     "metadata": {},
     "output_type": "display_data"
    }
   ],
   "source": [
    "fregzi <- formula(ClaimNb ~ DriverAge + CarAge + Density + brandF + powerF + Gas \n",
    "                  + offset(log(Exposure))|DriverAge)\n",
    "regzip = zeroinfl(fregzi, data=freMTPLfreq.f, dist = \"poisson\", link=\"logit\")\n",
    "summary(regzip)"
   ]
  },
  {
   "cell_type": "markdown",
   "metadata": {},
   "source": [
    "#### 1.10. More Advanced Models for Counts:   Hurdle Models"
   ]
  },
  {
   "cell_type": "markdown",
   "metadata": {},
   "source": [
    "The Hurdle distribution is based on a dichotomic process, where insureds that report are considered completely different from those who report at least once."
   ]
  },
  {
   "cell_type": "code",
   "execution_count": 49,
   "metadata": {},
   "outputs": [
    {
     "data": {
      "text/plain": [
       "\n",
       "Call:\n",
       "hurdle(formula = freghrd, data = freMTPLfreq.f, dist = \"negbin\", zero.dist = \"binomial\", \n",
       "    link = \"logit\")\n",
       "\n",
       "Pearson residuals:\n",
       "    Min      1Q  Median      3Q     Max \n",
       "-0.2787 -0.1960 -0.1923 -0.1826 21.9764 \n",
       "\n",
       "Count model coefficients (truncated negbin with log link):\n",
       "                      Estimate Std. Error z value Pr(>|z|)    \n",
       "(Intercept)          -2.972525   1.131412  -2.627  0.00861 ** \n",
       "DriverAge(22,26]     -0.343822   0.182719  -1.882  0.05988 .  \n",
       "DriverAge(26,42]     -1.040089   0.149683  -6.949 3.69e-12 ***\n",
       "DriverAge(42,74]     -1.046796   0.143645  -7.287 3.16e-13 ***\n",
       "DriverAge(74,Inf]    -0.653846   0.207626  -3.149  0.00164 ** \n",
       "CarAge(15,Inf]       -0.131226   0.162096  -0.810  0.41819    \n",
       "Density(40,200]       0.464442   0.154026   3.015  0.00257 ** \n",
       "Density(200,500]      0.423039   0.167821   2.521  0.01171 *  \n",
       "Density(500,4.5e+03]  0.757230   0.148217   5.109 3.24e-07 ***\n",
       "Density(4.5e+03,Inf]  1.392947   0.172152   8.091 5.90e-16 ***\n",
       "brandFF               0.003702   0.185827   0.020  0.98410    \n",
       "powerFDEF             0.054014   0.116999   0.462  0.64433    \n",
       "powerFGH             -0.016151   0.128996  -0.125  0.90036    \n",
       "GasRegular           -0.094768   0.078028  -1.215  0.22454    \n",
       "Log(theta)           -1.095595   1.514140  -0.724  0.46933    \n",
       "Zero hurdle model coefficients (binomial with logit link):\n",
       "                  Estimate Std. Error z value Pr(>|z|)    \n",
       "(Intercept)       -2.55504    0.03645  -70.09   <2e-16 ***\n",
       "DriverAge(22,26]  -0.50876    0.04940  -10.30   <2e-16 ***\n",
       "DriverAge(26,42]  -0.82424    0.03908  -21.09   <2e-16 ***\n",
       "DriverAge(42,74]  -0.68664    0.03823  -17.96   <2e-16 ***\n",
       "DriverAge(74,Inf] -0.59923    0.05535  -10.83   <2e-16 ***\n",
       "---\n",
       "Signif. codes:  0 '***' 0.001 '**' 0.01 '*' 0.05 '.' 0.1 ' ' 1 \n",
       "\n",
       "Theta: count = 0.3343\n",
       "Number of iterations in BFGS optimization: 32 \n",
       "Log-likelihood: -6.872e+04 on 20 Df"
      ]
     },
     "metadata": {},
     "output_type": "display_data"
    }
   ],
   "source": [
    "freghrd <- formula(ClaimNb ~ DriverAge + CarAge + Density + brandF + powerF + Gas \n",
    "                  + offset(log(Exposure))|DriverAge)\n",
    "reghrd = hurdle(freghrd, data=freMTPLfreq.f, dist=\"negbin\", zero.dist=\"binomial\", link=\"logit\")\n",
    "summary(reghrd)"
   ]
  },
  {
   "cell_type": "markdown",
   "metadata": {},
   "source": [
    "### 2. Individual Claims"
   ]
  },
  {
   "cell_type": "markdown",
   "metadata": {},
   "source": [
    "#### 2.1. Dataset"
   ]
  },
  {
   "cell_type": "markdown",
   "metadata": {},
   "source": [
    "The second dataset, CLAIMS, contains claims information, from the same company\n",
    "\n",
    "    Att. 1 (numeric) ID, contract number (used to link with the contract dataset)\n",
    "    Att. 2 (numeric) INDEMNITY, cost of the claim, seen as at a recent date."
   ]
  },
  {
   "cell_type": "code",
   "execution_count": 50,
   "metadata": {},
   "outputs": [],
   "source": [
    "data(freMTPLfreq)\n",
    "freMTPLfreq.f <- freMTPLfreq"
   ]
  },
  {
   "cell_type": "code",
   "execution_count": 51,
   "metadata": {},
   "outputs": [
    {
     "data": {
      "text/html": [
       "<table>\n",
       "<thead><tr><th></th><th scope=col>PolicyID</th><th scope=col>ClaimAmount</th></tr></thead>\n",
       "<tbody>\n",
       "\t<tr><th scope=row>16176</th><td>303133</td><td> 769  </td></tr>\n",
       "\t<tr><th scope=row>16177</th><td>302759</td><td>  61  </td></tr>\n",
       "\t<tr><th scope=row>16178</th><td>299443</td><td>1831  </td></tr>\n",
       "\t<tr><th scope=row>16179</th><td>303389</td><td>4183  </td></tr>\n",
       "\t<tr><th scope=row>16180</th><td>304313</td><td> 566  </td></tr>\n",
       "\t<tr><th scope=row>16181</th><td>206241</td><td>2156  </td></tr>\n",
       "</tbody>\n",
       "</table>\n"
      ],
      "text/latex": [
       "\\begin{tabular}{r|ll}\n",
       "  & PolicyID & ClaimAmount\\\\\n",
       "\\hline\n",
       "\t16176 & 303133 &  769  \\\\\n",
       "\t16177 & 302759 &   61  \\\\\n",
       "\t16178 & 299443 & 1831  \\\\\n",
       "\t16179 & 303389 & 4183  \\\\\n",
       "\t16180 & 304313 &  566  \\\\\n",
       "\t16181 & 206241 & 2156  \\\\\n",
       "\\end{tabular}\n"
      ],
      "text/markdown": [
       "\n",
       "| <!--/--> | PolicyID | ClaimAmount |\n",
       "|---|---|---|\n",
       "| 16176 | 303133 |  769   |\n",
       "| 16177 | 302759 |   61   |\n",
       "| 16178 | 299443 | 1831   |\n",
       "| 16179 | 303389 | 4183   |\n",
       "| 16180 | 304313 |  566   |\n",
       "| 16181 | 206241 | 2156   |\n",
       "\n"
      ],
      "text/plain": [
       "      PolicyID ClaimAmount\n",
       "16176 303133    769       \n",
       "16177 302759     61       \n",
       "16178 299443   1831       \n",
       "16179 303389   4183       \n",
       "16180 304313    566       \n",
       "16181 206241   2156       "
      ]
     },
     "metadata": {},
     "output_type": "display_data"
    }
   ],
   "source": [
    "data(freMTPLsev)\n",
    "tail(freMTPLsev)"
   ]
  },
  {
   "cell_type": "markdown",
   "metadata": {},
   "source": [
    "It is possible to merge this dataset with the one that contains information about the freMTPLfreq:"
   ]
  },
  {
   "cell_type": "code",
   "execution_count": 52,
   "metadata": {},
   "outputs": [
    {
     "data": {
      "text/html": [
       "<table>\n",
       "<thead><tr><th scope=col>PolicyID</th><th scope=col>ClaimAmount</th><th scope=col>ClaimNb</th><th scope=col>Exposure</th><th scope=col>Power</th><th scope=col>CarAge</th><th scope=col>DriverAge</th><th scope=col>Brand</th><th scope=col>Gas</th><th scope=col>Region</th><th scope=col>Density</th></tr></thead>\n",
       "<tbody>\n",
       "\t<tr><td> 33                               </td><td> 302                              </td><td>1                                 </td><td>0.75                              </td><td>g                                 </td><td>1                                 </td><td>61                                </td><td>Japanese (except Nissan) or Korean</td><td>Regular                           </td><td>Ile-de-France                     </td><td>27000                             </td></tr>\n",
       "\t<tr><td> 41                               </td><td>2001                              </td><td>1                                 </td><td>0.14                              </td><td>l                                 </td><td>5                                 </td><td>50                                </td><td>Japanese (except Nissan) or Korean</td><td>Diesel                            </td><td>Basse-Normandie                   </td><td>   56                             </td></tr>\n",
       "\t<tr><td> 92                               </td><td>1449                              </td><td>1                                 </td><td>0.14                              </td><td>d                                 </td><td>0                                 </td><td>36                                </td><td>Japanese (except Nissan) or Korean</td><td>Regular                           </td><td>Ile-de-France                     </td><td> 4792                             </td></tr>\n",
       "\t<tr><td> 96                               </td><td>9924                              </td><td>2                                 </td><td>0.62                              </td><td>j                                 </td><td>0                                 </td><td>51                                </td><td>Japanese (except Nissan) or Korean</td><td>Regular                           </td><td>Ile-de-France                     </td><td>27000                             </td></tr>\n",
       "\t<tr><td> 96                               </td><td> 946                              </td><td>2                                 </td><td>0.62                              </td><td>j                                 </td><td>0                                 </td><td>51                                </td><td>Japanese (except Nissan) or Korean</td><td>Regular                           </td><td>Ile-de-France                     </td><td>27000                             </td></tr>\n",
       "\t<tr><td>142                               </td><td>1390                              </td><td>1                                 </td><td>0.75                              </td><td>e                                 </td><td>0                                 </td><td>34                                </td><td>Japanese (except Nissan) or Korean</td><td>Regular                           </td><td>Nord-Pas-de-Calais                </td><td> 1565                             </td></tr>\n",
       "</tbody>\n",
       "</table>\n"
      ],
      "text/latex": [
       "\\begin{tabular}{r|lllllllllll}\n",
       " PolicyID & ClaimAmount & ClaimNb & Exposure & Power & CarAge & DriverAge & Brand & Gas & Region & Density\\\\\n",
       "\\hline\n",
       "\t  33                                &  302                               & 1                                  & 0.75                               & g                                  & 1                                  & 61                                 & Japanese (except Nissan) or Korean & Regular                            & Ile-de-France                      & 27000                             \\\\\n",
       "\t  41                                & 2001                               & 1                                  & 0.14                               & l                                  & 5                                  & 50                                 & Japanese (except Nissan) or Korean & Diesel                             & Basse-Normandie                    &    56                             \\\\\n",
       "\t  92                                & 1449                               & 1                                  & 0.14                               & d                                  & 0                                  & 36                                 & Japanese (except Nissan) or Korean & Regular                            & Ile-de-France                      &  4792                             \\\\\n",
       "\t  96                                & 9924                               & 2                                  & 0.62                               & j                                  & 0                                  & 51                                 & Japanese (except Nissan) or Korean & Regular                            & Ile-de-France                      & 27000                             \\\\\n",
       "\t  96                                &  946                               & 2                                  & 0.62                               & j                                  & 0                                  & 51                                 & Japanese (except Nissan) or Korean & Regular                            & Ile-de-France                      & 27000                             \\\\\n",
       "\t 142                                & 1390                               & 1                                  & 0.75                               & e                                  & 0                                  & 34                                 & Japanese (except Nissan) or Korean & Regular                            & Nord-Pas-de-Calais                 &  1565                             \\\\\n",
       "\\end{tabular}\n"
      ],
      "text/markdown": [
       "\n",
       "| PolicyID | ClaimAmount | ClaimNb | Exposure | Power | CarAge | DriverAge | Brand | Gas | Region | Density |\n",
       "|---|---|---|---|---|---|---|---|---|---|---|\n",
       "|  33                                |  302                               | 1                                  | 0.75                               | g                                  | 1                                  | 61                                 | Japanese (except Nissan) or Korean | Regular                            | Ile-de-France                      | 27000                              |\n",
       "|  41                                | 2001                               | 1                                  | 0.14                               | l                                  | 5                                  | 50                                 | Japanese (except Nissan) or Korean | Diesel                             | Basse-Normandie                    |    56                              |\n",
       "|  92                                | 1449                               | 1                                  | 0.14                               | d                                  | 0                                  | 36                                 | Japanese (except Nissan) or Korean | Regular                            | Ile-de-France                      |  4792                              |\n",
       "|  96                                | 9924                               | 2                                  | 0.62                               | j                                  | 0                                  | 51                                 | Japanese (except Nissan) or Korean | Regular                            | Ile-de-France                      | 27000                              |\n",
       "|  96                                |  946                               | 2                                  | 0.62                               | j                                  | 0                                  | 51                                 | Japanese (except Nissan) or Korean | Regular                            | Ile-de-France                      | 27000                              |\n",
       "| 142                                | 1390                               | 1                                  | 0.75                               | e                                  | 0                                  | 34                                 | Japanese (except Nissan) or Korean | Regular                            | Nord-Pas-de-Calais                 |  1565                              |\n",
       "\n"
      ],
      "text/plain": [
       "  PolicyID ClaimAmount ClaimNb Exposure Power CarAge DriverAge\n",
       "1  33       302        1       0.75     g     1      61       \n",
       "2  41      2001        1       0.14     l     5      50       \n",
       "3  92      1449        1       0.14     d     0      36       \n",
       "4  96      9924        2       0.62     j     0      51       \n",
       "5  96       946        2       0.62     j     0      51       \n",
       "6 142      1390        1       0.75     e     0      34       \n",
       "  Brand                              Gas     Region             Density\n",
       "1 Japanese (except Nissan) or Korean Regular Ile-de-France      27000  \n",
       "2 Japanese (except Nissan) or Korean Diesel  Basse-Normandie       56  \n",
       "3 Japanese (except Nissan) or Korean Regular Ile-de-France       4792  \n",
       "4 Japanese (except Nissan) or Korean Regular Ile-de-France      27000  \n",
       "5 Japanese (except Nissan) or Korean Regular Ile-de-France      27000  \n",
       "6 Japanese (except Nissan) or Korean Regular Nord-Pas-de-Calais  1565  "
      ]
     },
     "metadata": {},
     "output_type": "display_data"
    }
   ],
   "source": [
    "claims <- merge(freMTPLsev,freMTPLfreq)\n",
    "head(claims)"
   ]
  },
  {
   "cell_type": "code",
   "execution_count": 53,
   "metadata": {},
   "outputs": [
    {
     "data": {
      "text/html": [
       "<table>\n",
       "<thead><tr><th scope=col>PolicyID</th><th scope=col>ClaimAmount</th><th scope=col>ClaimNb</th><th scope=col>Exposure</th><th scope=col>Power</th><th scope=col>CarAge</th><th scope=col>DriverAge</th><th scope=col>Brand</th><th scope=col>Gas</th><th scope=col>Region</th><th scope=col>Density</th></tr></thead>\n",
       "<tbody>\n",
       "\t<tr><td> 33                               </td><td> 302                              </td><td>1                                 </td><td>0.75                              </td><td>g                                 </td><td>1                                 </td><td>61                                </td><td>Japanese (except Nissan) or Korean</td><td>Regular                           </td><td>Ile-de-France                     </td><td>27000                             </td></tr>\n",
       "\t<tr><td> 41                               </td><td>2001                              </td><td>1                                 </td><td>0.14                              </td><td>l                                 </td><td>5                                 </td><td>50                                </td><td>Japanese (except Nissan) or Korean</td><td>Diesel                            </td><td>Basse-Normandie                   </td><td>   56                             </td></tr>\n",
       "\t<tr><td> 92                               </td><td>1449                              </td><td>1                                 </td><td>0.14                              </td><td>d                                 </td><td>0                                 </td><td>36                                </td><td>Japanese (except Nissan) or Korean</td><td>Regular                           </td><td>Ile-de-France                     </td><td> 4792                             </td></tr>\n",
       "\t<tr><td> 96                               </td><td>9924                              </td><td>2                                 </td><td>0.62                              </td><td>j                                 </td><td>0                                 </td><td>51                                </td><td>Japanese (except Nissan) or Korean</td><td>Regular                           </td><td>Ile-de-France                     </td><td>27000                             </td></tr>\n",
       "\t<tr><td> 96                               </td><td> 946                              </td><td>2                                 </td><td>0.62                              </td><td>j                                 </td><td>0                                 </td><td>51                                </td><td>Japanese (except Nissan) or Korean</td><td>Regular                           </td><td>Ile-de-France                     </td><td>27000                             </td></tr>\n",
       "\t<tr><td>142                               </td><td>1390                              </td><td>1                                 </td><td>0.75                              </td><td>e                                 </td><td>0                                 </td><td>34                                </td><td>Japanese (except Nissan) or Korean</td><td>Regular                           </td><td>Nord-Pas-de-Calais                </td><td> 1565                             </td></tr>\n",
       "</tbody>\n",
       "</table>\n"
      ],
      "text/latex": [
       "\\begin{tabular}{r|lllllllllll}\n",
       " PolicyID & ClaimAmount & ClaimNb & Exposure & Power & CarAge & DriverAge & Brand & Gas & Region & Density\\\\\n",
       "\\hline\n",
       "\t  33                                &  302                               & 1                                  & 0.75                               & g                                  & 1                                  & 61                                 & Japanese (except Nissan) or Korean & Regular                            & Ile-de-France                      & 27000                             \\\\\n",
       "\t  41                                & 2001                               & 1                                  & 0.14                               & l                                  & 5                                  & 50                                 & Japanese (except Nissan) or Korean & Diesel                             & Basse-Normandie                    &    56                             \\\\\n",
       "\t  92                                & 1449                               & 1                                  & 0.14                               & d                                  & 0                                  & 36                                 & Japanese (except Nissan) or Korean & Regular                            & Ile-de-France                      &  4792                             \\\\\n",
       "\t  96                                & 9924                               & 2                                  & 0.62                               & j                                  & 0                                  & 51                                 & Japanese (except Nissan) or Korean & Regular                            & Ile-de-France                      & 27000                             \\\\\n",
       "\t  96                                &  946                               & 2                                  & 0.62                               & j                                  & 0                                  & 51                                 & Japanese (except Nissan) or Korean & Regular                            & Ile-de-France                      & 27000                             \\\\\n",
       "\t 142                                & 1390                               & 1                                  & 0.75                               & e                                  & 0                                  & 34                                 & Japanese (except Nissan) or Korean & Regular                            & Nord-Pas-de-Calais                 &  1565                             \\\\\n",
       "\\end{tabular}\n"
      ],
      "text/markdown": [
       "\n",
       "| PolicyID | ClaimAmount | ClaimNb | Exposure | Power | CarAge | DriverAge | Brand | Gas | Region | Density |\n",
       "|---|---|---|---|---|---|---|---|---|---|---|\n",
       "|  33                                |  302                               | 1                                  | 0.75                               | g                                  | 1                                  | 61                                 | Japanese (except Nissan) or Korean | Regular                            | Ile-de-France                      | 27000                              |\n",
       "|  41                                | 2001                               | 1                                  | 0.14                               | l                                  | 5                                  | 50                                 | Japanese (except Nissan) or Korean | Diesel                             | Basse-Normandie                    |    56                              |\n",
       "|  92                                | 1449                               | 1                                  | 0.14                               | d                                  | 0                                  | 36                                 | Japanese (except Nissan) or Korean | Regular                            | Ile-de-France                      |  4792                              |\n",
       "|  96                                | 9924                               | 2                                  | 0.62                               | j                                  | 0                                  | 51                                 | Japanese (except Nissan) or Korean | Regular                            | Ile-de-France                      | 27000                              |\n",
       "|  96                                |  946                               | 2                                  | 0.62                               | j                                  | 0                                  | 51                                 | Japanese (except Nissan) or Korean | Regular                            | Ile-de-France                      | 27000                              |\n",
       "| 142                                | 1390                               | 1                                  | 0.75                               | e                                  | 0                                  | 34                                 | Japanese (except Nissan) or Korean | Regular                            | Nord-Pas-de-Calais                 |  1565                              |\n",
       "\n"
      ],
      "text/plain": [
       "  PolicyID ClaimAmount ClaimNb Exposure Power CarAge DriverAge\n",
       "1  33       302        1       0.75     g     1      61       \n",
       "2  41      2001        1       0.14     l     5      50       \n",
       "3  92      1449        1       0.14     d     0      36       \n",
       "4  96      9924        2       0.62     j     0      51       \n",
       "5  96       946        2       0.62     j     0      51       \n",
       "6 142      1390        1       0.75     e     0      34       \n",
       "  Brand                              Gas     Region             Density\n",
       "1 Japanese (except Nissan) or Korean Regular Ile-de-France      27000  \n",
       "2 Japanese (except Nissan) or Korean Diesel  Basse-Normandie       56  \n",
       "3 Japanese (except Nissan) or Korean Regular Ile-de-France       4792  \n",
       "4 Japanese (except Nissan) or Korean Regular Ile-de-France      27000  \n",
       "5 Japanese (except Nissan) or Korean Regular Ile-de-France      27000  \n",
       "6 Japanese (except Nissan) or Korean Regular Nord-Pas-de-Calais  1565  "
      ]
     },
     "metadata": {},
     "output_type": "display_data"
    }
   ],
   "source": [
    "claims.f <- merge(freMTPLsev,freMTPLfreq.f)\n",
    "head(claims.f)"
   ]
  },
  {
   "cell_type": "markdown",
   "metadata": {},
   "source": [
    "Note that this dataset contains only claims with a strictly positive indemnity (losses claims but filed away are not in this dataset). Thus, what we need to model losses is a distribution on R+."
   ]
  },
  {
   "cell_type": "markdown",
   "metadata": {},
   "source": [
    "The tools used for individual claims are the same as claims frequency, Generalized Linear Models. However, in practice, covariates are much less informative to predict amounts than to predict frequency."
   ]
  },
  {
   "cell_type": "markdown",
   "metadata": {},
   "source": [
    "#### 2.2 Log-Normal Model vs. Gamma  Model"
   ]
  },
  {
   "cell_type": "code",
   "execution_count": 54,
   "metadata": {},
   "outputs": [
    {
     "data": {
      "text/plain": [
       "\n",
       "Call:\n",
       "lm(formula = log(ClaimAmount) ~ DriverAge + Gas, data = claims[claims$ClaimAmount < \n",
       "    15000, ])\n",
       "\n",
       "Residuals:\n",
       "    Min      1Q  Median      3Q     Max \n",
       "-6.1337 -0.2550  0.2586  0.3484  2.8972 \n",
       "\n",
       "Coefficients:\n",
       "             Estimate Std. Error t value Pr(>|t|)    \n",
       "(Intercept)  6.699883   0.027018 247.976  < 2e-16 ***\n",
       "DriverAge    0.002227   0.000554   4.020 5.86e-05 ***\n",
       "GasRegular  -0.028249   0.016542  -1.708   0.0877 .  \n",
       "---\n",
       "Signif. codes:  0 '***' 0.001 '**' 0.01 '*' 0.05 '.' 0.1 ' ' 1\n",
       "\n",
       "Residual standard error: 1.044 on 16003 degrees of freedom\n",
       "Multiple R-squared:  0.001153,\tAdjusted R-squared:  0.001028 \n",
       "F-statistic: 9.236 on 2 and 16003 DF,  p-value: 9.802e-05\n"
      ]
     },
     "metadata": {},
     "output_type": "display_data"
    }
   ],
   "source": [
    "reg.logn <- lm(log(ClaimAmount) ~ DriverAge + Gas, data=claims[claims$ClaimAmount<15000,])\n",
    "summary(reg.logn)"
   ]
  },
  {
   "cell_type": "code",
   "execution_count": 55,
   "metadata": {},
   "outputs": [
    {
     "data": {
      "text/plain": [
       "\n",
       "Call:\n",
       "glm(formula = ClaimAmount ~ DriverAge + Gas, family = Gamma(link = \"log\"), \n",
       "    data = claims[claims$ClaimAmount < 15000, ])\n",
       "\n",
       "Deviance Residuals: \n",
       "    Min       1Q   Median       3Q      Max  \n",
       "-3.3222  -0.6123  -0.1513  -0.0803   3.9790  \n",
       "\n",
       "Coefficients:\n",
       "              Estimate Std. Error t value Pr(>|t|)    \n",
       "(Intercept)  7.2450846  0.0281934 256.978   <2e-16 ***\n",
       "DriverAge   -0.0006117  0.0005781  -1.058    0.290    \n",
       "GasRegular  -0.0233642  0.0172617  -1.354    0.176    \n",
       "---\n",
       "Signif. codes:  0 '***' 0.001 '**' 0.01 '*' 0.05 '.' 0.1 ' ' 1\n",
       "\n",
       "(Dispersion parameter for Gamma family taken to be 1.187346)\n",
       "\n",
       "    Null deviance: 13455  on 16005  degrees of freedom\n",
       "Residual deviance: 13451  on 16003  degrees of freedom\n",
       "AIC: 262087\n",
       "\n",
       "Number of Fisher Scoring iterations: 5\n"
      ]
     },
     "metadata": {},
     "output_type": "display_data"
    }
   ],
   "source": [
    "reg.gamma <- glm(ClaimAmount ~ DriverAge + Gas, family=Gamma(link=\"log\"), data=claims[claims$ClaimAmount<15000,])\n",
    "summary(reg.gamma)"
   ]
  },
  {
   "cell_type": "markdown",
   "metadata": {},
   "source": [
    "#### 2.3. Large Claims and Ratemaking"
   ]
  },
  {
   "cell_type": "markdown",
   "metadata": {},
   "source": [
    "If claims are not too large, then the log-normal and the gamma regressions should be quite close, as mentioned in the section above. But consider the following two regressions, on the age of the driver (as a continuous variate):"
   ]
  },
  {
   "cell_type": "code",
   "execution_count": 56,
   "metadata": {},
   "outputs": [
    {
     "data": {
      "text/plain": [
       "\n",
       "Call:\n",
       "lm(formula = log(ClaimAmount) ~ DriverAge, data = claims)\n",
       "\n",
       "Residuals:\n",
       "    Min      1Q  Median      3Q     Max \n",
       "-6.1612 -0.2802  0.2204  0.3081  7.7520 \n",
       "\n",
       "Coefficients:\n",
       "             Estimate Std. Error t value Pr(>|t|)    \n",
       "(Intercept) 6.7361807  0.0277458 242.782  < 2e-16 ***\n",
       "DriverAge   0.0020374  0.0005868   3.472 0.000518 ***\n",
       "---\n",
       "Signif. codes:  0 '***' 0.001 '**' 0.01 '*' 0.05 '.' 0.1 ' ' 1\n",
       "\n",
       "Residual standard error: 1.115 on 16179 degrees of freedom\n",
       "Multiple R-squared:  0.0007446,\tAdjusted R-squared:  0.0006828 \n",
       "F-statistic: 12.06 on 1 and 16179 DF,  p-value: 0.0005177\n"
      ]
     },
     "metadata": {},
     "output_type": "display_data"
    }
   ],
   "source": [
    "reg.logn <- lm(log(ClaimAmount) ~ DriverAge,data=claims)\n",
    "summary(reg.logn)"
   ]
  },
  {
   "cell_type": "code",
   "execution_count": 57,
   "metadata": {},
   "outputs": [
    {
     "data": {
      "text/plain": [
       "\n",
       "Call:\n",
       "glm(formula = ClaimAmount ~ DriverAge, family = Gamma(link = \"log\"), \n",
       "    data = claims)\n",
       "\n",
       "Deviance Residuals: \n",
       "   Min      1Q  Median      3Q     Max  \n",
       "-3.520  -0.926  -0.565  -0.365  38.540  \n",
       "\n",
       "Coefficients:\n",
       "             Estimate Std. Error t value Pr(>|t|)    \n",
       "(Intercept)  8.095074   0.203485  39.782   <2e-16 ***\n",
       "DriverAge   -0.009926   0.004304  -2.307   0.0211 *  \n",
       "---\n",
       "Signif. codes:  0 '***' 0.001 '**' 0.01 '*' 0.05 '.' 0.1 ' ' 1\n",
       "\n",
       "(Dispersion parameter for Gamma family taken to be 66.85011)\n",
       "\n",
       "    Null deviance: 27064  on 16180  degrees of freedom\n",
       "Residual deviance: 26607  on 16179  degrees of freedom\n",
       "AIC: 279095\n",
       "\n",
       "Number of Fisher Scoring iterations: 9\n"
      ]
     },
     "metadata": {},
     "output_type": "display_data"
    }
   ],
   "source": [
    "reg.gamma <- glm(ClaimAmount ~ DriverAge,family=Gamma(link=\"log\"),data=claims)\n",
    "summary(reg.gamma)"
   ]
  },
  {
   "cell_type": "markdown",
   "metadata": {},
   "source": [
    "Here, coefficients are significant, but with opposite signs. With a Gamma regression, the younger the driver, the less expensive the claims, while it is the reverse with a log-normal regression. The interpretation is related to large claims: outliers will affect the Gamma regression more than the log-normal one (because it is a regression on the logarithm of losses). On the other hand, on average, predictions obtained with a log-normal model may not be consistent with observed losses: here, the average cost of the claim was"
   ]
  },
  {
   "cell_type": "code",
   "execution_count": 58,
   "metadata": {},
   "outputs": [
    {
     "data": {
      "text/html": [
       "2129.97200420246"
      ],
      "text/latex": [
       "2129.97200420246"
      ],
      "text/markdown": [
       "2129.97200420246"
      ],
      "text/plain": [
       "[1] 2129.972"
      ]
     },
     "metadata": {},
     "output_type": "display_data"
    }
   ],
   "source": [
    "mean(claims$ClaimAmount)"
   ]
  },
  {
   "cell_type": "markdown",
   "metadata": {},
   "source": [
    "and the average predictions were, with the two models,"
   ]
  },
  {
   "cell_type": "code",
   "execution_count": 59,
   "metadata": {},
   "outputs": [
    {
     "data": {
      "text/html": [
       "2122.85176680942"
      ],
      "text/latex": [
       "2122.85176680942"
      ],
      "text/markdown": [
       "2122.85176680942"
      ],
      "text/plain": [
       "[1] 2122.852"
      ]
     },
     "metadata": {},
     "output_type": "display_data"
    }
   ],
   "source": [
    "mean(predict(reg.gamma,type=\"response\"))"
   ]
  },
  {
   "cell_type": "code",
   "execution_count": 60,
   "metadata": {},
   "outputs": [
    {
     "data": {
      "text/html": [
       "1718.99374036944"
      ],
      "text/latex": [
       "1718.99374036944"
      ],
      "text/markdown": [
       "1718.99374036944"
      ],
      "text/plain": [
       "[1] 1718.994"
      ]
     },
     "metadata": {},
     "output_type": "display_data"
    }
   ],
   "source": [
    "sigma <- summary(reg.logn)$sigma\n",
    "mean(exp(predict(reg.logn))*exp(sigma^2/2))"
   ]
  },
  {
   "cell_type": "markdown",
   "metadata": {},
   "source": [
    "So, in order to have a more robust pricing method, we should find a way to deal with large claims. A natural technique is to consider that differentiating premiums should be valid for standard claims, while extremely large ones might be spread between all the insureds, without differentiating (pooling extremely large losses among the insureds)."
   ]
  },
  {
   "cell_type": "code",
   "execution_count": 61,
   "metadata": {},
   "outputs": [
    {
     "data": {
      "text/html": [
       "<table>\n",
       "<thead><tr><th></th><th scope=col>ClaimAmount</th><th scope=col>ClaimNb</th><th scope=col>Power</th><th scope=col>CarAge</th><th scope=col>DriverAge</th><th scope=col>Gas</th><th scope=col>Density</th><th scope=col>SUM</th></tr></thead>\n",
       "<tbody>\n",
       "\t<tr><th scope=row>5033</th><td>2036833  </td><td>1        </td><td>i        </td><td>13       </td><td>19       </td><td>Regular  </td><td>  93     </td><td> 5.909846</td></tr>\n",
       "\t<tr><th scope=row>1854</th><td>1402330  </td><td>2        </td><td>f        </td><td>13       </td><td>20       </td><td>Regular  </td><td> 203     </td><td> 9.978689</td></tr>\n",
       "\t<tr><th scope=row>4948</th><td> 306559  </td><td>1        </td><td>g        </td><td> 1       </td><td>21       </td><td>Diesel   </td><td> 108     </td><td>10.868167</td></tr>\n",
       "\t<tr><th scope=row>2637</th><td> 301302  </td><td>1        </td><td>f        </td><td> 3       </td><td>46       </td><td>Diesel   </td><td>  10     </td><td>11.742391</td></tr>\n",
       "\t<tr><th scope=row>11566</th><td> 281403  </td><td>1        </td><td>f        </td><td> 4       </td><td>61       </td><td>Diesel   </td><td>1064     </td><td>12.558878</td></tr>\n",
       "\t<tr><th scope=row>4512</th><td> 254944  </td><td>1        </td><td>d        </td><td>12       </td><td>27       </td><td>Regular  </td><td> 319     </td><td>13.298595</td></tr>\n",
       "</tbody>\n",
       "</table>\n"
      ],
      "text/latex": [
       "\\begin{tabular}{r|llllllll}\n",
       "  & ClaimAmount & ClaimNb & Power & CarAge & DriverAge & Gas & Density & SUM\\\\\n",
       "\\hline\n",
       "\t5033 & 2036833   & 1         & i         & 13        & 19        & Regular   &   93      &  5.909846\\\\\n",
       "\t1854 & 1402330   & 2         & f         & 13        & 20        & Regular   &  203      &  9.978689\\\\\n",
       "\t4948 &  306559   & 1         & g         &  1        & 21        & Diesel    &  108      & 10.868167\\\\\n",
       "\t2637 &  301302   & 1         & f         &  3        & 46        & Diesel    &   10      & 11.742391\\\\\n",
       "\t11566 &  281403   & 1         & f         &  4        & 61        & Diesel    & 1064      & 12.558878\\\\\n",
       "\t4512 &  254944   & 1         & d         & 12        & 27        & Regular   &  319      & 13.298595\\\\\n",
       "\\end{tabular}\n"
      ],
      "text/markdown": [
       "\n",
       "| <!--/--> | ClaimAmount | ClaimNb | Power | CarAge | DriverAge | Gas | Density | SUM |\n",
       "|---|---|---|---|---|---|---|---|---|\n",
       "| 5033 | 2036833   | 1         | i         | 13        | 19        | Regular   |   93      |  5.909846 |\n",
       "| 1854 | 1402330   | 2         | f         | 13        | 20        | Regular   |  203      |  9.978689 |\n",
       "| 4948 |  306559   | 1         | g         |  1        | 21        | Diesel    |  108      | 10.868167 |\n",
       "| 2637 |  301302   | 1         | f         |  3        | 46        | Diesel    |   10      | 11.742391 |\n",
       "| 11566 |  281403   | 1         | f         |  4        | 61        | Diesel    | 1064      | 12.558878 |\n",
       "| 4512 |  254944   | 1         | d         | 12        | 27        | Regular   |  319      | 13.298595 |\n",
       "\n"
      ],
      "text/plain": [
       "      ClaimAmount ClaimNb Power CarAge DriverAge Gas     Density SUM      \n",
       "5033  2036833     1       i     13     19        Regular   93     5.909846\n",
       "1854  1402330     2       f     13     20        Regular  203     9.978689\n",
       "4948   306559     1       g      1     21        Diesel   108    10.868167\n",
       "2637   301302     1       f      3     46        Diesel    10    11.742391\n",
       "11566  281403     1       f      4     61        Diesel  1064    12.558878\n",
       "4512   254944     1       d     12     27        Regular  319    13.298595"
      ]
     },
     "metadata": {},
     "output_type": "display_data"
    }
   ],
   "source": [
    "M <- claims[order(-claims$ClaimAmount),c(\"ClaimAmount\",\"ClaimNb\",\"Power\", \"CarAge\",\"DriverAge\",\"Gas\",\"Density\")]\n",
    "M$SUM <- cumsum(M$ClaimAmount)/sum(M$ClaimAmount)*100\n",
    "head(M)"
   ]
  },
  {
   "cell_type": "markdown",
   "metadata": {},
   "source": [
    "The largest claim cost more than 2 million euros, almost 6% of the total loss. The three largest (almost 11% of the total loss) were caused by young drivers (19, 20, and 21 years\n",
    "old, respectively)."
   ]
  },
  {
   "cell_type": "markdown",
   "metadata": {},
   "source": [
    "#### 2.4. Model with Two Kinds of Claims"
   ]
  },
  {
   "cell_type": "markdown",
   "metadata": {},
   "source": [
    "A standard result in probability theory gives any conditional expectation composed of\n",
    "\n",
    "    \u000f A is the average cost of normal claims (excluding claims that exceed s)\n",
    "    \u000f B is the average cost of large claims (those that exceed s)\n",
    "    \u000f C is the probability of having a large or a normal claim"
   ]
  },
  {
   "cell_type": "markdown",
   "metadata": {},
   "source": [
    "For part C, a logistic regression can be run. For parts A and B, regressions are on subsets of the dataset. Consider a threshold s <- 10000, reached by less than 2% of the claims:"
   ]
  },
  {
   "cell_type": "code",
   "execution_count": 62,
   "metadata": {},
   "outputs": [
    {
     "data": {
      "text/html": [
       "0.982942957790001"
      ],
      "text/latex": [
       "0.982942957790001"
      ],
      "text/markdown": [
       "0.982942957790001"
      ],
      "text/plain": [
       "[1] 0.982943"
      ]
     },
     "metadata": {},
     "output_type": "display_data"
    }
   ],
   "source": [
    "claims$Standard <- (claims$ClaimAmount < 10000)\n",
    "mean(claims$Standard)"
   ]
  },
  {
   "cell_type": "markdown",
   "metadata": {},
   "source": [
    "Consider a logistic regression to model the probability that a claim will be a standard one:"
   ]
  },
  {
   "cell_type": "code",
   "execution_count": 63,
   "metadata": {},
   "outputs": [
    {
     "name": "stderr",
     "output_type": "stream",
     "text": [
      "Warning message in bs(DriverAge, degree = 3L, knots = numeric(0), Boundary.knots = c(18L, :\n",
      "\"some 'x' values beyond boundary knots may cause ill-conditioned bases\""
     ]
    }
   ],
   "source": [
    "library(splines)\n",
    "age <- seq(18,100)\n",
    "regC <- glm(Standard ~ bs(DriverAge), data=claims, family=binomial)\n",
    "ypC <- predict(regC, newdata=data.frame(DriverAge=age), type=\"response\", se=TRUE)"
   ]
  },
  {
   "cell_type": "markdown",
   "metadata": {},
   "source": [
    "The probability can be visualized by"
   ]
  },
  {
   "cell_type": "code",
   "execution_count": 64,
   "metadata": {},
   "outputs": [
    {
     "data": {
      "image/png": "[encoded data removed]",
      "text/plain": [
       "plot without title"
      ]
     },
     "metadata": {},
     "output_type": "display_data"
    }
   ],
   "source": [
    "plot(age,ypC$fit,ylim=c(.95,1),type=\"l\",)\n",
    "    polygon(c(age,rev(age)),c(ypC$fit+2*ypC$se.fit,rev(ypC$fit-2*ypC$se.fit)), col=\"grey\",border=NA)\n",
    "abline(h=mean(claims$Standard),lty=2)"
   ]
  },
  {
   "cell_type": "markdown",
   "metadata": {},
   "source": [
    "The figure above is probability of having a standard claim (smaller than the threshold), given that a claim occurred, as a function of the age of the driver. Logistic regression with a spline smoother."
   ]
  },
  {
   "cell_type": "markdown",
   "metadata": {},
   "source": [
    "For standard and large claims, consider two gamma regressions on the two subsets,"
   ]
  },
  {
   "cell_type": "code",
   "execution_count": 65,
   "metadata": {},
   "outputs": [
    {
     "data": {
      "text/html": [
       "1280.08531908205"
      ],
      "text/latex": [
       "1280.08531908205"
      ],
      "text/markdown": [
       "1280.08531908205"
      ],
      "text/plain": [
       "[1] 1280.085"
      ]
     },
     "metadata": {},
     "output_type": "display_data"
    }
   ],
   "source": [
    "indexstandard <- which(claims$ClaimAmount < 10000)\n",
    "mean(claims$ClaimAmount[indexstandard])"
   ]
  },
  {
   "cell_type": "code",
   "execution_count": 66,
   "metadata": {},
   "outputs": [
    {
     "data": {
      "text/html": [
       "51106.231884058"
      ],
      "text/latex": [
       "51106.231884058"
      ],
      "text/markdown": [
       "51106.231884058"
      ],
      "text/plain": [
       "[1] 51106.23"
      ]
     },
     "metadata": {},
     "output_type": "display_data"
    }
   ],
   "source": [
    "mean(claims$ClaimAmount[-indexstandard])"
   ]
  },
  {
   "cell_type": "code",
   "execution_count": 67,
   "metadata": {},
   "outputs": [
    {
     "name": "stderr",
     "output_type": "stream",
     "text": [
      "Warning message in bs(DriverAge, degree = 3L, knots = numeric(0), Boundary.knots = c(18L, :\n",
      "\"some 'x' values beyond boundary knots may cause ill-conditioned bases\""
     ]
    }
   ],
   "source": [
    "regA <- glm(ClaimAmount ~ bs(DriverAge), data=claims[indexstandard,], family=Gamma(link=\"log\"))\n",
    "ypA <- predict(regA, newdata=data.frame(DriverAge=age), type=\"response\")"
   ]
  },
  {
   "cell_type": "code",
   "execution_count": 68,
   "metadata": {},
   "outputs": [
    {
     "name": "stderr",
     "output_type": "stream",
     "text": [
      "Warning message in bs(DriverAge, degree = 3L, knots = numeric(0), Boundary.knots = c(18L, :\n",
      "\"some 'x' values beyond boundary knots may cause ill-conditioned bases\""
     ]
    }
   ],
   "source": [
    "regB <- glm(ClaimAmount~bs(DriverAge), data=claims[-indexstandard,], family=Gamma(link=\"log\"))\n",
    "ypB <- predict(regB, newdata=data.frame(DriverAge=age), type=\"response\")"
   ]
  },
  {
   "cell_type": "markdown",
   "metadata": {},
   "source": [
    "In order to compare, let us fit one model on the overall dataset:"
   ]
  },
  {
   "cell_type": "code",
   "execution_count": 69,
   "metadata": {},
   "outputs": [
    {
     "name": "stderr",
     "output_type": "stream",
     "text": [
      "Warning message in bs(DriverAge, degree = 3L, knots = numeric(0), Boundary.knots = c(18L, :\n",
      "\"some 'x' values beyond boundary knots may cause ill-conditioned bases\""
     ]
    }
   ],
   "source": [
    "reg <- glm(ClaimAmount~bs(DriverAge), data=claims, family=Gamma(link=\"log\"))\n",
    "yp <- predict(reg, newdata=data.frame(DriverAge=age), type=\"response\")"
   ]
  },
  {
   "cell_type": "markdown",
   "metadata": {},
   "source": [
    "and let us compare the two approaches on by"
   ]
  },
  {
   "cell_type": "code",
   "execution_count": 70,
   "metadata": {},
   "outputs": [
    {
     "name": "stderr",
     "output_type": "stream",
     "text": [
      "Warning message in bs(DriverAge, degree = 3L, knots = numeric(0), Boundary.knots = c(18L, :\n",
      "\"some 'x' values beyond boundary knots may cause ill-conditioned bases\""
     ]
    },
    {
     "data": {
      "image/png": "[encoded data removed]",
      "text/plain": [
       "plot without title"
      ]
     },
     "metadata": {},
     "output_type": "display_data"
    }
   ],
   "source": [
    "ypC <- predict(regC, newdata=data.frame(DriverAge=age), type=\"response\")\n",
    "plot(age, yp, type=\"l\", lwd=2, ylab=\"Average cost\", xlab=\"Age of the driver\")\n",
    "lines(age, ypC*ypA+(1-ypC)*ypB, type=\"h\", col=\"grey\", lwd=6)\n",
    "lines(age, ypC*ypA, type=\"h\", col=\"black\", lwd=6)\n",
    "abline(h= mean(claims$ClaimAmount), lty=2)"
   ]
  },
  {
   "cell_type": "markdown",
   "metadata": {},
   "source": [
    "The dotted horizontal line is the average cost of a claim. The dark line, in the back, is the prediction on the whole dataset reg. The dark part is the part of the average claim related to standard claims (smaller than s) and the lighter area is the part of the average claim due to possible large claims (exceeding s)."
   ]
  },
  {
   "cell_type": "markdown",
   "metadata": {},
   "source": [
    "#### 2.5. More General Model"
   ]
  },
  {
   "cell_type": "code",
   "execution_count": 71,
   "metadata": {},
   "outputs": [
    {
     "name": "stderr",
     "output_type": "stream",
     "text": [
      "\n",
      "Attaching package: 'nnet'\n",
      "\n",
      "The following object is masked from 'package:mgcv':\n",
      "\n",
      "    multinom\n",
      "\n"
     ]
    },
    {
     "name": "stdout",
     "output_type": "stream",
     "text": [
      "# weights:  15 (8 variable)\n",
      "initial  value 17776.645443 \n",
      "iter  10 value 12391.379124\n",
      "final  value 12389.058985 \n",
      "converged\n"
     ]
    },
    {
     "data": {
      "text/plain": [
       "Call:\n",
       "multinom(formula = cut(claims$ClaimAmount, breaks = threshold) ~ \n",
       "    bs(DriverAge), data = claims)\n",
       "\n",
       "Coefficients:\n",
       "                 (Intercept) bs(DriverAge)1 bs(DriverAge)2 bs(DriverAge)3\n",
       "(1.15e+03,1e+04]    0.126849     -0.5866635      0.4435400      0.2998493\n",
       "(1e+04,Inf]        -2.716344     -1.8494277      0.1237384     -0.2909207\n",
       "\n",
       "Std. Errors:\n",
       "                 (Intercept) bs(DriverAge)1 bs(DriverAge)2 bs(DriverAge)3\n",
       "(1.15e+03,1e+04]  0.06893703      0.2353106      0.2562023      0.3562258\n",
       "(1e+04,Inf]       0.22592318      0.8219250      0.9575998      1.2674017\n",
       "\n",
       "Residual Deviance: 24778.12 \n",
       "AIC: 24794.12 "
      ]
     },
     "metadata": {},
     "output_type": "display_data"
    }
   ],
   "source": [
    "library(nnet)\n",
    "threshold <- c(0,1150,10000,Inf)\n",
    "regD <- multinom(cut(claims$ClaimAmount, breaks=threshold) ~ bs(DriverAge), data=claims)\n",
    "summary(regD)"
   ]
  },
  {
   "cell_type": "markdown",
   "metadata": {},
   "source": [
    "For instance, for drivers with age 20 or 50, given that a claim has occurred, the probability that it could be in one of the three tranches will be"
   ]
  },
  {
   "cell_type": "code",
   "execution_count": 72,
   "metadata": {},
   "outputs": [
    {
     "data": {
      "text/html": [
       "<table>\n",
       "<thead><tr><th scope=col>(0,1.15e+03]</th><th scope=col>(1.15e+03,1e+04]</th><th scope=col>(1e+04,Inf]</th></tr></thead>\n",
       "<tbody>\n",
       "\t<tr><td>0.4655077 </td><td>0.5074693 </td><td>0.02702298</td></tr>\n",
       "\t<tr><td>0.4885641 </td><td>0.4967026 </td><td>0.01473323</td></tr>\n",
       "</tbody>\n",
       "</table>\n"
      ],
      "text/latex": [
       "\\begin{tabular}{r|lll}\n",
       " (0,1.15e+03{]} & (1.15e+03,1e+04{]} & (1e+04,Inf{]}\\\\\n",
       "\\hline\n",
       "\t 0.4655077  & 0.5074693  & 0.02702298\\\\\n",
       "\t 0.4885641  & 0.4967026  & 0.01473323\\\\\n",
       "\\end{tabular}\n"
      ],
      "text/markdown": [
       "\n",
       "| (0,1.15e+03] | (1.15e+03,1e+04] | (1e+04,Inf] |\n",
       "|---|---|---|\n",
       "| 0.4655077  | 0.5074693  | 0.02702298 |\n",
       "| 0.4885641  | 0.4967026  | 0.01473323 |\n",
       "\n"
      ],
      "text/plain": [
       "  (0,1.15e+03] (1.15e+03,1e+04] (1e+04,Inf]\n",
       "1 0.4655077    0.5074693        0.02702298 \n",
       "2 0.4885641    0.4967026        0.01473323 "
      ]
     },
     "metadata": {},
     "output_type": "display_data"
    }
   ],
   "source": [
    "predict(regD, newdata=data.frame(DriverAge=c(20,50)), type=\"probs\")"
   ]
  },
  {
   "cell_type": "markdown",
   "metadata": {},
   "source": [
    "If we plot the parts due to small claims (less than s1), medium claims (from s1 to s2), and\n",
    "large claims (more than s2), we obtain the graph as"
   ]
  },
  {
   "cell_type": "markdown",
   "metadata": {},
   "source": [
    "### 3. Modeling Compound Sum with Tweedie Regression"
   ]
  },
  {
   "cell_type": "markdown",
   "metadata": {},
   "source": [
    "A natural idea is to use a Tweedie model on the aggregated sum, per insured."
   ]
  },
  {
   "cell_type": "code",
   "execution_count": 73,
   "metadata": {},
   "outputs": [],
   "source": [
    "library(tweedie)"
   ]
  },
  {
   "cell_type": "code",
   "execution_count": 74,
   "metadata": {},
   "outputs": [
    {
     "data": {
      "text/html": [
       "<table>\n",
       "<thead><tr><th></th><th scope=col>PolicyID</th><th scope=col>ClaimNb</th><th scope=col>Exposure</th><th scope=col>Power</th><th scope=col>CarAge</th><th scope=col>DriverAge</th><th scope=col>Brand</th><th scope=col>Gas</th><th scope=col>Region</th><th scope=col>Density</th><th scope=col>ClaimAmount</th></tr></thead>\n",
       "<tbody>\n",
       "\t<tr><th scope=row>413164</th><td>413164                            </td><td>0                                 </td><td>0.005479452                       </td><td>d                                 </td><td>0                                 </td><td>61                                </td><td>Japanese (except Nissan) or Korean</td><td>Regular                           </td><td>Basse-Normandie                   </td><td> 205                              </td><td>0                                 </td></tr>\n",
       "\t<tr><th scope=row>413165</th><td>413165                            </td><td>0                                 </td><td>0.002739726                       </td><td>j                                 </td><td>0                                 </td><td>29                                </td><td>Japanese (except Nissan) or Korean</td><td>Diesel                            </td><td>Ile-de-France                     </td><td>2471                              </td><td>0                                 </td></tr>\n",
       "\t<tr><th scope=row>413166</th><td>413166                            </td><td>0                                 </td><td>0.005479452                       </td><td>d                                 </td><td>0                                 </td><td>29                                </td><td>Japanese (except Nissan) or Korean</td><td>Regular                           </td><td>Ile-de-France                     </td><td>5360                              </td><td>0                                 </td></tr>\n",
       "\t<tr><th scope=row>413167</th><td>413167                            </td><td>0                                 </td><td>0.005479452                       </td><td>k                                 </td><td>0                                 </td><td>49                                </td><td>Japanese (except Nissan) or Korean</td><td>Diesel                            </td><td>Ile-de-France                     </td><td>5360                              </td><td>0                                 </td></tr>\n",
       "\t<tr><th scope=row>413168</th><td>413168                            </td><td>0                                 </td><td>0.002739726                       </td><td>d                                 </td><td>0                                 </td><td>41                                </td><td>Japanese (except Nissan) or Korean</td><td>Regular                           </td><td>Ile-de-France                     </td><td>9850                              </td><td>0                                 </td></tr>\n",
       "\t<tr><th scope=row>413169</th><td>413169                            </td><td>0                                 </td><td>0.002739726                       </td><td>g                                 </td><td>6                                 </td><td>29                                </td><td>Japanese (except Nissan) or Korean</td><td>Diesel                            </td><td>Aquitaine                         </td><td>  65                              </td><td>0                                 </td></tr>\n",
       "</tbody>\n",
       "</table>\n"
      ],
      "text/latex": [
       "\\begin{tabular}{r|lllllllllll}\n",
       "  & PolicyID & ClaimNb & Exposure & Power & CarAge & DriverAge & Brand & Gas & Region & Density & ClaimAmount\\\\\n",
       "\\hline\n",
       "\t413164 & 413164                             & 0                                  & 0.005479452                        & d                                  & 0                                  & 61                                 & Japanese (except Nissan) or Korean & Regular                            & Basse-Normandie                    &  205                               & 0                                 \\\\\n",
       "\t413165 & 413165                             & 0                                  & 0.002739726                        & j                                  & 0                                  & 29                                 & Japanese (except Nissan) or Korean & Diesel                             & Ile-de-France                      & 2471                               & 0                                 \\\\\n",
       "\t413166 & 413166                             & 0                                  & 0.005479452                        & d                                  & 0                                  & 29                                 & Japanese (except Nissan) or Korean & Regular                            & Ile-de-France                      & 5360                               & 0                                 \\\\\n",
       "\t413167 & 413167                             & 0                                  & 0.005479452                        & k                                  & 0                                  & 49                                 & Japanese (except Nissan) or Korean & Diesel                             & Ile-de-France                      & 5360                               & 0                                 \\\\\n",
       "\t413168 & 413168                             & 0                                  & 0.002739726                        & d                                  & 0                                  & 41                                 & Japanese (except Nissan) or Korean & Regular                            & Ile-de-France                      & 9850                               & 0                                 \\\\\n",
       "\t413169 & 413169                             & 0                                  & 0.002739726                        & g                                  & 6                                  & 29                                 & Japanese (except Nissan) or Korean & Diesel                             & Aquitaine                          &   65                               & 0                                 \\\\\n",
       "\\end{tabular}\n"
      ],
      "text/markdown": [
       "\n",
       "| <!--/--> | PolicyID | ClaimNb | Exposure | Power | CarAge | DriverAge | Brand | Gas | Region | Density | ClaimAmount |\n",
       "|---|---|---|---|---|---|---|---|---|---|---|---|\n",
       "| 413164 | 413164                             | 0                                  | 0.005479452                        | d                                  | 0                                  | 61                                 | Japanese (except Nissan) or Korean | Regular                            | Basse-Normandie                    |  205                               | 0                                  |\n",
       "| 413165 | 413165                             | 0                                  | 0.002739726                        | j                                  | 0                                  | 29                                 | Japanese (except Nissan) or Korean | Diesel                             | Ile-de-France                      | 2471                               | 0                                  |\n",
       "| 413166 | 413166                             | 0                                  | 0.005479452                        | d                                  | 0                                  | 29                                 | Japanese (except Nissan) or Korean | Regular                            | Ile-de-France                      | 5360                               | 0                                  |\n",
       "| 413167 | 413167                             | 0                                  | 0.005479452                        | k                                  | 0                                  | 49                                 | Japanese (except Nissan) or Korean | Diesel                             | Ile-de-France                      | 5360                               | 0                                  |\n",
       "| 413168 | 413168                             | 0                                  | 0.002739726                        | d                                  | 0                                  | 41                                 | Japanese (except Nissan) or Korean | Regular                            | Ile-de-France                      | 9850                               | 0                                  |\n",
       "| 413169 | 413169                             | 0                                  | 0.002739726                        | g                                  | 6                                  | 29                                 | Japanese (except Nissan) or Korean | Diesel                             | Aquitaine                          |   65                               | 0                                  |\n",
       "\n"
      ],
      "text/plain": [
       "       PolicyID ClaimNb Exposure    Power CarAge DriverAge\n",
       "413164 413164   0       0.005479452 d     0      61       \n",
       "413165 413165   0       0.002739726 j     0      29       \n",
       "413166 413166   0       0.005479452 d     0      29       \n",
       "413167 413167   0       0.005479452 k     0      49       \n",
       "413168 413168   0       0.002739726 d     0      41       \n",
       "413169 413169   0       0.002739726 g     6      29       \n",
       "       Brand                              Gas     Region          Density\n",
       "413164 Japanese (except Nissan) or Korean Regular Basse-Normandie  205   \n",
       "413165 Japanese (except Nissan) or Korean Diesel  Ile-de-France   2471   \n",
       "413166 Japanese (except Nissan) or Korean Regular Ile-de-France   5360   \n",
       "413167 Japanese (except Nissan) or Korean Diesel  Ile-de-France   5360   \n",
       "413168 Japanese (except Nissan) or Korean Regular Ile-de-France   9850   \n",
       "413169 Japanese (except Nissan) or Korean Diesel  Aquitaine         65   \n",
       "       ClaimAmount\n",
       "413164 0          \n",
       "413165 0          \n",
       "413166 0          \n",
       "413167 0          \n",
       "413168 0          \n",
       "413169 0          "
      ]
     },
     "metadata": {},
     "output_type": "display_data"
    }
   ],
   "source": [
    "A <- tapply(claims$ClaimAmount, claims$PolicyID, sum)\n",
    "ADF <- data.frame(PolicyID=names(A), ClaimAmount=as.vector(A))\n",
    "CT <- merge(freMTPLfreq, ADF, all.x=TRUE)\n",
    "CT$ClaimAmount[is.na(CT$ClaimAmount)] <- 0\n",
    "tail(CT)"
   ]
  },
  {
   "cell_type": "code",
   "execution_count": 75,
   "metadata": {},
   "outputs": [
    {
     "data": {
      "text/html": [
       "<table>\n",
       "<thead><tr><th></th><th scope=col>PolicyID</th><th scope=col>ClaimNb</th><th scope=col>Exposure</th><th scope=col>Power</th><th scope=col>CarAge</th><th scope=col>DriverAge</th><th scope=col>Brand</th><th scope=col>Gas</th><th scope=col>Region</th><th scope=col>Density</th><th scope=col>ClaimAmount</th></tr></thead>\n",
       "<tbody>\n",
       "\t<tr><th scope=row>413164</th><td>413164                            </td><td>0                                 </td><td>0.005479452                       </td><td>d                                 </td><td>0                                 </td><td>61                                </td><td>Japanese (except Nissan) or Korean</td><td>Regular                           </td><td>Basse-Normandie                   </td><td> 205                              </td><td>0                                 </td></tr>\n",
       "\t<tr><th scope=row>413165</th><td>413165                            </td><td>0                                 </td><td>0.002739726                       </td><td>j                                 </td><td>0                                 </td><td>29                                </td><td>Japanese (except Nissan) or Korean</td><td>Diesel                            </td><td>Ile-de-France                     </td><td>2471                              </td><td>0                                 </td></tr>\n",
       "\t<tr><th scope=row>413166</th><td>413166                            </td><td>0                                 </td><td>0.005479452                       </td><td>d                                 </td><td>0                                 </td><td>29                                </td><td>Japanese (except Nissan) or Korean</td><td>Regular                           </td><td>Ile-de-France                     </td><td>5360                              </td><td>0                                 </td></tr>\n",
       "\t<tr><th scope=row>413167</th><td>413167                            </td><td>0                                 </td><td>0.005479452                       </td><td>k                                 </td><td>0                                 </td><td>49                                </td><td>Japanese (except Nissan) or Korean</td><td>Diesel                            </td><td>Ile-de-France                     </td><td>5360                              </td><td>0                                 </td></tr>\n",
       "\t<tr><th scope=row>413168</th><td>413168                            </td><td>0                                 </td><td>0.002739726                       </td><td>d                                 </td><td>0                                 </td><td>41                                </td><td>Japanese (except Nissan) or Korean</td><td>Regular                           </td><td>Ile-de-France                     </td><td>9850                              </td><td>0                                 </td></tr>\n",
       "\t<tr><th scope=row>413169</th><td>413169                            </td><td>0                                 </td><td>0.002739726                       </td><td>g                                 </td><td>6                                 </td><td>29                                </td><td>Japanese (except Nissan) or Korean</td><td>Diesel                            </td><td>Aquitaine                         </td><td>  65                              </td><td>0                                 </td></tr>\n",
       "</tbody>\n",
       "</table>\n"
      ],
      "text/latex": [
       "\\begin{tabular}{r|lllllllllll}\n",
       "  & PolicyID & ClaimNb & Exposure & Power & CarAge & DriverAge & Brand & Gas & Region & Density & ClaimAmount\\\\\n",
       "\\hline\n",
       "\t413164 & 413164                             & 0                                  & 0.005479452                        & d                                  & 0                                  & 61                                 & Japanese (except Nissan) or Korean & Regular                            & Basse-Normandie                    &  205                               & 0                                 \\\\\n",
       "\t413165 & 413165                             & 0                                  & 0.002739726                        & j                                  & 0                                  & 29                                 & Japanese (except Nissan) or Korean & Diesel                             & Ile-de-France                      & 2471                               & 0                                 \\\\\n",
       "\t413166 & 413166                             & 0                                  & 0.005479452                        & d                                  & 0                                  & 29                                 & Japanese (except Nissan) or Korean & Regular                            & Ile-de-France                      & 5360                               & 0                                 \\\\\n",
       "\t413167 & 413167                             & 0                                  & 0.005479452                        & k                                  & 0                                  & 49                                 & Japanese (except Nissan) or Korean & Diesel                             & Ile-de-France                      & 5360                               & 0                                 \\\\\n",
       "\t413168 & 413168                             & 0                                  & 0.002739726                        & d                                  & 0                                  & 41                                 & Japanese (except Nissan) or Korean & Regular                            & Ile-de-France                      & 9850                               & 0                                 \\\\\n",
       "\t413169 & 413169                             & 0                                  & 0.002739726                        & g                                  & 6                                  & 29                                 & Japanese (except Nissan) or Korean & Diesel                             & Aquitaine                          &   65                               & 0                                 \\\\\n",
       "\\end{tabular}\n"
      ],
      "text/markdown": [
       "\n",
       "| <!--/--> | PolicyID | ClaimNb | Exposure | Power | CarAge | DriverAge | Brand | Gas | Region | Density | ClaimAmount |\n",
       "|---|---|---|---|---|---|---|---|---|---|---|---|\n",
       "| 413164 | 413164                             | 0                                  | 0.005479452                        | d                                  | 0                                  | 61                                 | Japanese (except Nissan) or Korean | Regular                            | Basse-Normandie                    |  205                               | 0                                  |\n",
       "| 413165 | 413165                             | 0                                  | 0.002739726                        | j                                  | 0                                  | 29                                 | Japanese (except Nissan) or Korean | Diesel                             | Ile-de-France                      | 2471                               | 0                                  |\n",
       "| 413166 | 413166                             | 0                                  | 0.005479452                        | d                                  | 0                                  | 29                                 | Japanese (except Nissan) or Korean | Regular                            | Ile-de-France                      | 5360                               | 0                                  |\n",
       "| 413167 | 413167                             | 0                                  | 0.005479452                        | k                                  | 0                                  | 49                                 | Japanese (except Nissan) or Korean | Diesel                             | Ile-de-France                      | 5360                               | 0                                  |\n",
       "| 413168 | 413168                             | 0                                  | 0.002739726                        | d                                  | 0                                  | 41                                 | Japanese (except Nissan) or Korean | Regular                            | Ile-de-France                      | 9850                               | 0                                  |\n",
       "| 413169 | 413169                             | 0                                  | 0.002739726                        | g                                  | 6                                  | 29                                 | Japanese (except Nissan) or Korean | Diesel                             | Aquitaine                          |   65                               | 0                                  |\n",
       "\n"
      ],
      "text/plain": [
       "       PolicyID ClaimNb Exposure    Power CarAge DriverAge\n",
       "413164 413164   0       0.005479452 d     0      61       \n",
       "413165 413165   0       0.002739726 j     0      29       \n",
       "413166 413166   0       0.005479452 d     0      29       \n",
       "413167 413167   0       0.005479452 k     0      49       \n",
       "413168 413168   0       0.002739726 d     0      41       \n",
       "413169 413169   0       0.002739726 g     6      29       \n",
       "       Brand                              Gas     Region          Density\n",
       "413164 Japanese (except Nissan) or Korean Regular Basse-Normandie  205   \n",
       "413165 Japanese (except Nissan) or Korean Diesel  Ile-de-France   2471   \n",
       "413166 Japanese (except Nissan) or Korean Regular Ile-de-France   5360   \n",
       "413167 Japanese (except Nissan) or Korean Diesel  Ile-de-France   5360   \n",
       "413168 Japanese (except Nissan) or Korean Regular Ile-de-France   9850   \n",
       "413169 Japanese (except Nissan) or Korean Diesel  Aquitaine         65   \n",
       "       ClaimAmount\n",
       "413164 0          \n",
       "413165 0          \n",
       "413166 0          \n",
       "413167 0          \n",
       "413168 0          \n",
       "413169 0          "
      ]
     },
     "metadata": {},
     "output_type": "display_data"
    }
   ],
   "source": [
    "CT.f = merge(freMTPLfreq.f, ADF, all.x=TRUE)\n",
    "CT.f$ClaimAmount[is.na(CT.f$ClaimAmount)] <- 0\n",
    "tail(CT.f)"
   ]
  },
  {
   "cell_type": "markdown",
   "metadata": {},
   "source": [
    "Using library tweedie we obtain"
   ]
  },
  {
   "cell_type": "code",
   "execution_count": 76,
   "metadata": {},
   "outputs": [
    {
     "name": "stderr",
     "output_type": "stream",
     "text": [
      "Warning message in model.matrix.default(mt, mf, contrasts):\n",
      "\"non-list contrasts argument ignored\""
     ]
    },
    {
     "name": "stdout",
     "output_type": "stream",
     "text": [
      "1.05 1.1 1.15 1.2 1.25 1.3 1.35 1.4 1.45 1.5 1.55 1.6 1.65 1.7 1.75 1.8 1.85 1.9 1.95 \n",
      ".............."
     ]
    },
    {
     "name": "stderr",
     "output_type": "stream",
     "text": [
      "Warning message:\n",
      "\"glm.fit: algorithm did not converge\""
     ]
    },
    {
     "name": "stdout",
     "output_type": "stream",
     "text": [
      "."
     ]
    },
    {
     "name": "stderr",
     "output_type": "stream",
     "text": [
      "Warning message in tweedie.profile(ClaimAmount ~ Power + CarAge + DriverAge + Brand + :\n",
      "\"  Problem near  p  =  1.75 ; this error reported:\n",
      "      Error in glm.fit(x = model.x, y = ydata, weights = weights, offset = offset,  : \n",
      "  NA/NaN/Inf in 'x'\n",
      "  Examine the data and function inputs carefully.\""
     ]
    },
    {
     "name": "stdout",
     "output_type": "stream",
     "text": [
      "."
     ]
    },
    {
     "name": "stderr",
     "output_type": "stream",
     "text": [
      "Warning message:\n",
      "\"step size truncated due to divergence\"Warning message in tweedie.profile(ClaimAmount ~ Power + CarAge + DriverAge + Brand + :\n",
      "\"  Problem near  p  =  1.8 ; this error reported:\n",
      "      Error in glm.fit(x = model.x, y = ydata, weights = weights, offset = offset,  : \n",
      "  NA/NaN/Inf in 'x'\n",
      "  Examine the data and function inputs carefully.\""
     ]
    },
    {
     "name": "stdout",
     "output_type": "stream",
     "text": [
      "."
     ]
    },
    {
     "name": "stderr",
     "output_type": "stream",
     "text": [
      "Warning message:\n",
      "\"step size truncated due to divergence\"Warning message in tweedie.profile(ClaimAmount ~ Power + CarAge + DriverAge + Brand + :\n",
      "\"  Problem near  p  =  1.85 ; this error reported:\n",
      "      Error in glm.fit(x = model.x, y = ydata, weights = weights, offset = offset,  : \n",
      "  NA/NaN/Inf in 'x'\n",
      "  Examine the data and function inputs carefully.\""
     ]
    },
    {
     "name": "stdout",
     "output_type": "stream",
     "text": [
      "."
     ]
    },
    {
     "name": "stderr",
     "output_type": "stream",
     "text": [
      "Warning message:\n",
      "\"step size truncated due to divergence\"Warning message in tweedie.profile(ClaimAmount ~ Power + CarAge + DriverAge + Brand + :\n",
      "\"  Problem near  p  =  1.9 ; this error reported:\n",
      "      Error in glm.fit(x = model.x, y = ydata, weights = weights, offset = offset,  : \n",
      "  NA/NaN/Inf in 'x'\n",
      "  Examine the data and function inputs carefully.\""
     ]
    },
    {
     "name": "stdout",
     "output_type": "stream",
     "text": [
      "."
     ]
    },
    {
     "name": "stderr",
     "output_type": "stream",
     "text": [
      "Warning message:\n",
      "\"step size truncated due to divergence\"Warning message in tweedie.profile(ClaimAmount ~ Power + CarAge + DriverAge + Brand + :\n",
      "\"  Problem near  p  =  1.95 ; this error reported:\n",
      "      Error in glm.fit(x = model.x, y = ydata, weights = weights, offset = offset,  : \n",
      "  NA/NaN/Inf in 'x'\n",
      "  Examine the data and function inputs carefully.\""
     ]
    },
    {
     "name": "stdout",
     "output_type": "stream",
     "text": [
      "Done.\n"
     ]
    }
   ],
   "source": [
    "out <- tweedie.profile(ClaimAmount ~ Power + CarAge + DriverAge + Brand + Gas + Density,\n",
    "                       data=CT.f, p.vec=seq(1.05,1.95,by=.05))"
   ]
  },
  {
   "cell_type": "markdown",
   "metadata": {},
   "source": [
    "We can then plot the pro\f",
    "le likelihood function associated to the Tweedie regression:"
   ]
  },
  {
   "cell_type": "code",
   "execution_count": 77,
   "metadata": {},
   "outputs": [
    {
     "data": {
      "text/html": [
       "1.5765306122449"
      ],
      "text/latex": [
       "1.5765306122449"
      ],
      "text/markdown": [
       "1.5765306122449"
      ],
      "text/plain": [
       "[1] 1.576531"
      ]
     },
     "metadata": {},
     "output_type": "display_data"
    }
   ],
   "source": [
    "out$p.max"
   ]
  },
  {
   "cell_type": "code",
   "execution_count": 78,
   "metadata": {},
   "outputs": [
    {
     "data": {
      "image/png": "[encoded data removed]",
      "text/plain": [
       "plot without title"
      ]
     },
     "metadata": {},
     "output_type": "display_data"
    }
   ],
   "source": [
    "plot(out,type=\"b\")\n",
    "abline(v=out$p.max,lty=2)"
   ]
  },
  {
   "cell_type": "markdown",
   "metadata": {},
   "source": [
    "In order to ensure convergence of the algorithm, we can use coefficients obtained from a Poisson regression:"
   ]
  },
  {
   "cell_type": "code",
   "execution_count": 79,
   "metadata": {},
   "outputs": [
    {
     "data": {
      "text/plain": [
       "\n",
       "Call:\n",
       "glm(formula = ClaimAmount ~ Power + CarAge + DriverAge + Brand + \n",
       "    Gas + Density, family = tweedie(var.power = 1, link.power = 0), \n",
       "    data = CT.f)\n",
       "\n",
       "Deviance Residuals: \n",
       "   Min      1Q  Median      3Q     Max  \n",
       " -26.5   -14.1   -12.3   -10.6  5610.2  \n",
       "\n",
       "Coefficients:\n",
       "                                          Estimate Std. Error t value Pr(>|t|)\n",
       "(Intercept)                              4.620e+00  3.680e-01  12.553  < 2e-16\n",
       "Powere                                   6.425e-02  1.969e-01   0.326    0.744\n",
       "Powerf                                   3.977e-01  1.821e-01   2.184    0.029\n",
       "Powerg                                   1.614e-01  1.853e-01   0.871    0.384\n",
       "Powerh                                   1.215e-01  2.765e-01   0.439    0.661\n",
       "Poweri                                   1.013e+00  2.230e-01   4.543 5.54e-06\n",
       "Powerj                                   3.082e-01  2.999e-01   1.028    0.304\n",
       "Powerk                                   2.617e-01  3.875e-01   0.675    0.499\n",
       "Powerl                                   2.337e-01  5.885e-01   0.397    0.691\n",
       "Powerm                                   5.877e-01  7.114e-01   0.826    0.409\n",
       "Powern                                   1.586e-01  9.802e-01   0.162    0.871\n",
       "Powero                                  -3.594e-03  1.110e+00  -0.003    0.997\n",
       "CarAge                                  -6.397e-03  1.004e-02  -0.637    0.524\n",
       "DriverAge                               -1.665e-02  3.838e-03  -4.339 1.43e-05\n",
       "BrandJapanese (except Nissan) or Korean -1.828e-01  3.339e-01  -0.547    0.584\n",
       "BrandMercedes, Chrysler or BMW           1.983e-01  3.889e-01   0.510    0.610\n",
       "BrandOpel, General Motors or Ford        2.455e-01  3.411e-01   0.720    0.472\n",
       "Brandother                               2.257e-01  4.382e-01   0.515    0.607\n",
       "BrandRenault, Nissan or Citroen          4.117e-01  2.996e-01   1.374    0.169\n",
       "BrandVolkswagen, Audi, Skoda or Seat     3.546e-01  3.378e-01   1.050    0.294\n",
       "GasRegular                               1.565e-01  1.137e-01   1.377    0.169\n",
       "Density                                 -9.122e-06  1.294e-05  -0.705    0.481\n",
       "                                           \n",
       "(Intercept)                             ***\n",
       "Powere                                     \n",
       "Powerf                                  *  \n",
       "Powerg                                     \n",
       "Powerh                                     \n",
       "Poweri                                  ***\n",
       "Powerj                                     \n",
       "Powerk                                     \n",
       "Powerl                                     \n",
       "Powerm                                     \n",
       "Powern                                     \n",
       "Powero                                     \n",
       "CarAge                                     \n",
       "DriverAge                               ***\n",
       "BrandJapanese (except Nissan) or Korean    \n",
       "BrandMercedes, Chrysler or BMW             \n",
       "BrandOpel, General Motors or Ford          \n",
       "Brandother                                 \n",
       "BrandRenault, Nissan or Citroen            \n",
       "BrandVolkswagen, Audi, Skoda or Seat       \n",
       "GasRegular                                 \n",
       "Density                                    \n",
       "---\n",
       "Signif. codes:  0 '***' 0.001 '**' 0.01 '*' 0.05 '.' 0.1 ' ' 1\n",
       "\n",
       "(Dispersion parameter for Tweedie family taken to be 91444.14)\n",
       "\n",
       "    Null deviance: 337188081  on 413168  degrees of freedom\n",
       "Residual deviance: 331309185  on 413147  degrees of freedom\n",
       "AIC: NA\n",
       "\n",
       "Number of Fisher Scoring iterations: 11\n"
      ]
     },
     "metadata": {},
     "output_type": "display_data"
    }
   ],
   "source": [
    "library(statmod)\n",
    "reg1 <- glm(ClaimAmount ~ Power + CarAge + DriverAge + Brand + Gas + Density, \n",
    "            data=CT.f, family = tweedie(var.power = 1, link.power = 0))\n",
    "summary(reg1)"
   ]
  },
  {
   "cell_type": "markdown",
   "metadata": {},
   "source": [
    "The following function returns as a function of p:"
   ]
  },
  {
   "cell_type": "code",
   "execution_count": 80,
   "metadata": {},
   "outputs": [],
   "source": [
    "coef <- function(p){\n",
    "    glm(ClaimAmount ~ Power + CarAge + DriverAge + Brand + Gas + Density,\n",
    "    data=CT.f, family = tweedie(var.power = p, link.power = 0), start=reg1$coefficients)$coefficients}"
   ]
  },
  {
   "cell_type": "markdown",
   "metadata": {},
   "source": [
    "It is also possible to visualize the evolution of the coe\u000ecients estimates as a function of p (without the (Intercept)), with a logarithm link function:"
   ]
  },
  {
   "cell_type": "code",
   "execution_count": 81,
   "metadata": {},
   "outputs": [
    {
     "data": {
      "image/png": "[encoded data removed]",
      "text/plain": [
       "plot without title"
      ]
     },
     "metadata": {},
     "output_type": "display_data"
    }
   ],
   "source": [
    "vp <- seq(1,2,by=.1)\n",
    "Cp <- Vectorize(coef)(vp)\n",
    "matplot(vp,t(Cp[-1,]),type=\"l\")\n",
    "text(2,Cp[-1,length(vp)],rownames(Cp[-1,]),cex=.5,pos=4)"
   ]
  },
  {
   "cell_type": "markdown",
   "metadata": {},
   "source": [
    "One can also use library cplm for \f",
    "tting Tweedie compound Poisson linear models."
   ]
  }
 ],
 "metadata": {
  "kernelspec": {
   "display_name": "R",
   "language": "R",
   "name": "ir"
  },
  "language_info": {
   "codemirror_mode": "r",
   "file_extension": ".r",
   "mimetype": "text/x-r-source",
   "name": "R",
   "pygments_lexer": "r",
   "version": "3.6.1"
  }
 },
 "nbformat": 4,
 "nbformat_minor": 4
}
