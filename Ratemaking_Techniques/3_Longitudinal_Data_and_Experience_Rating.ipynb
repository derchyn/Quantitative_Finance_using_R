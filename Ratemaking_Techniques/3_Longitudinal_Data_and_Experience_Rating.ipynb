{
 "cells": [
  {
   "cell_type": "markdown",
   "metadata": {},
   "source": [
    "### 1. Longitudinal Data"
   ]
  },
  {
   "cell_type": "markdown",
   "metadata": {},
   "source": [
    "For linear longitudinal data models, we demonstrate the theory and computational aspectsusing a dataset of automobile bodily injury liability claims. The dataset contains claims of 6 years from 1993 to 1998 for a random sample of twenty-nine towns in the state of Massachusetts. All variables in monetary values are rescaled using the consumer price index to mitigate the e\u000b",
    "ect of time trends. We are interested in the behavior of average claims per unit of exposure, that is, the pure premium, for each town and each year. Two explanatory variables are available for theregression analysis, the per-capita income (PCI) and the population per square mile (PPSM) of each town."
   ]
  },
  {
   "cell_type": "markdown",
   "metadata": {},
   "source": [
    "The variables and their descriptions are summarized in Table below:\n",
    "\n",
    "    Variable     Description\n",
    "    -----------------------------------\n",
    "    TOWNCODE     The index of Massachusetts towns\n",
    "    YEAR         The calendar year of the observation\n",
    "    AC           Average claims per unit of exposure\n",
    "    PCI          Per-capita income of the town\n",
    "    PPSM         Population per square mile of the town"
   ]
  },
  {
   "cell_type": "code",
   "execution_count": 1,
   "metadata": {},
   "outputs": [
    {
     "name": "stderr",
     "output_type": "stream",
     "text": [
      "Loading required package: xts\n",
      "Loading required package: zoo\n",
      "\n",
      "Attaching package: 'zoo'\n",
      "\n",
      "The following objects are masked from 'package:base':\n",
      "\n",
      "    as.Date, as.Date.numeric\n",
      "\n",
      "Registered S3 method overwritten by 'xts':\n",
      "  method     from\n",
      "  as.zoo.xts zoo \n",
      "Loading required package: sp\n"
     ]
    }
   ],
   "source": [
    "library(nlme)\n",
    "library(CASdatasets)"
   ]
  },
  {
   "cell_type": "code",
   "execution_count": 2,
   "metadata": {},
   "outputs": [
    {
     "data": {
      "text/html": [
       "<table>\n",
       "<thead><tr><th scope=col>TOWNCODE</th><th scope=col>YEAR</th><th scope=col>AC</th><th scope=col>PCI</th><th scope=col>PPSM</th></tr></thead>\n",
       "<tbody>\n",
       "\t<tr><td>10      </td><td>1993    </td><td>160.8522</td><td>18134.04</td><td>1475.551</td></tr>\n",
       "\t<tr><td>10      </td><td>1994    </td><td>158.3382</td><td>18495.88</td><td>1461.811</td></tr>\n",
       "\t<tr><td>10      </td><td>1995    </td><td>156.8098</td><td>18778.29</td><td>1488.991</td></tr>\n",
       "\t<tr><td>10      </td><td>1996    </td><td>168.9899</td><td>18740.46</td><td>1502.932</td></tr>\n",
       "\t<tr><td>10      </td><td>1997    </td><td>171.8229</td><td>18809.62</td><td>1534.425</td></tr>\n",
       "\t<tr><td>10      </td><td>1998    </td><td>153.7644</td><td>19034.59</td><td>1557.694</td></tr>\n",
       "</tbody>\n",
       "</table>\n"
      ],
      "text/latex": [
       "\\begin{tabular}{r|lllll}\n",
       " TOWNCODE & YEAR & AC & PCI & PPSM\\\\\n",
       "\\hline\n",
       "\t 10       & 1993     & 160.8522 & 18134.04 & 1475.551\\\\\n",
       "\t 10       & 1994     & 158.3382 & 18495.88 & 1461.811\\\\\n",
       "\t 10       & 1995     & 156.8098 & 18778.29 & 1488.991\\\\\n",
       "\t 10       & 1996     & 168.9899 & 18740.46 & 1502.932\\\\\n",
       "\t 10       & 1997     & 171.8229 & 18809.62 & 1534.425\\\\\n",
       "\t 10       & 1998     & 153.7644 & 19034.59 & 1557.694\\\\\n",
       "\\end{tabular}\n"
      ],
      "text/markdown": [
       "\n",
       "| TOWNCODE | YEAR | AC | PCI | PPSM |\n",
       "|---|---|---|---|---|\n",
       "| 10       | 1993     | 160.8522 | 18134.04 | 1475.551 |\n",
       "| 10       | 1994     | 158.3382 | 18495.88 | 1461.811 |\n",
       "| 10       | 1995     | 156.8098 | 18778.29 | 1488.991 |\n",
       "| 10       | 1996     | 168.9899 | 18740.46 | 1502.932 |\n",
       "| 10       | 1997     | 171.8229 | 18809.62 | 1534.425 |\n",
       "| 10       | 1998     | 153.7644 | 19034.59 | 1557.694 |\n",
       "\n"
      ],
      "text/plain": [
       "  TOWNCODE YEAR AC       PCI      PPSM    \n",
       "1 10       1993 160.8522 18134.04 1475.551\n",
       "2 10       1994 158.3382 18495.88 1461.811\n",
       "3 10       1995 156.8098 18778.29 1488.991\n",
       "4 10       1996 168.9899 18740.46 1502.932\n",
       "5 10       1997 171.8229 18809.62 1534.425\n",
       "6 10       1998 153.7644 19034.59 1557.694"
      ]
     },
     "metadata": {},
     "output_type": "display_data"
    }
   ],
   "source": [
    "data(usmassBI2)\n",
    "#Check longitudinal structure\n",
    "AutoClaim <- usmassBI2\n",
    "head(usmassBI2) "
   ]
  },
  {
   "cell_type": "markdown",
   "metadata": {},
   "source": [
    "### 2. Linear Models for Longitudinal Data"
   ]
  },
  {
   "cell_type": "markdown",
   "metadata": {},
   "source": [
    "We use the data in the first 5 years, namely 1993-1997, to develop the model and keep the observations in the final year for validation purposes. To explore relations among variables, the techniques used for usual regressions such as histogram and correlations statistics are ready to apply for longitudinal data. In addition, we introduce several more specialized techniques. The first is the multiple time series plot, where the average claims in multiple years for each town are joined using straight lines. The plot shows the development of claims over time and helps visualize town-specific effects."
   ]
  },
  {
   "cell_type": "code",
   "execution_count": 3,
   "metadata": {},
   "outputs": [],
   "source": [
    "# Use year 1993-1997 as trainning data and reserve year 1998 for validation\n",
    "AutoClaimIn <- subset(AutoClaim, YEAR < 1998)"
   ]
  },
  {
   "cell_type": "code",
   "execution_count": 4,
   "metadata": {},
   "outputs": [
    {
     "data": {
      "image/png": "[encoded data removed]",
      "text/plain": [
       "plot without title"
      ]
     },
     "metadata": {},
     "output_type": "display_data"
    }
   ],
   "source": [
    "# Multiple time series plot\n",
    "plot(AC ~ YEAR, data = AutoClaimIn, ylab=\"Average Claim\", xlab=\"Year\")\n",
    "for (i in AutoClaimIn$TOWNCODE) {lines(AC ~ YEAR, data = subset(AutoClaimIn, TOWNCODE == i)) }"
   ]
  },
  {
   "cell_type": "markdown",
   "metadata": {},
   "source": [
    "One can also use scatterplots to help detect the relation between the response and explanatory variables. Figure below displays the scatterplot for variables PCI and PPSM, suggesting the negative relation between AC and PCI and the positive relation between AC and PPSM. Note that we use both PCI and PPSM in log scale, and logarithmic values will be used in the following analysis. In addition, we also serially connect the observations to identify potential patterns in each covariate. In this case, we observe that PCI varies over time and PPSM is relatively statable."
   ]
  },
  {
   "cell_type": "code",
   "execution_count": 5,
   "metadata": {},
   "outputs": [],
   "source": [
    "# Scatter plot to explore relations\n",
    "AutoClaimIn$lnPCI <- log(AutoClaimIn$PCI)\n",
    "AutoClaimIn$lnPPSM <- log(AutoClaimIn$PPSM)"
   ]
  },
  {
   "cell_type": "code",
   "execution_count": 6,
   "metadata": {},
   "outputs": [
    {
     "data": {
      "image/png": "[encoded data removed]",
      "text/plain": [
       "plot without title"
      ]
     },
     "metadata": {},
     "output_type": "display_data"
    }
   ],
   "source": [
    "plot(AC ~ lnPCI, data = AutoClaimIn, ylab=\"Average Claim\", xlab=\"PCI\")\n",
    "for (i in AutoClaimIn$TOWNCODE) {lines(AC ~ lnPCI, data = subset(AutoClaimIn, TOWNCODE == i)) }"
   ]
  },
  {
   "cell_type": "code",
   "execution_count": 7,
   "metadata": {},
   "outputs": [
    {
     "data": {
      "image/png": "[encoded data removed]",
      "text/plain": [
       "plot without title"
      ]
     },
     "metadata": {},
     "output_type": "display_data"
    }
   ],
   "source": [
    "plot(AC ~ lnPPSM, data = AutoClaimIn, ylab=\"Average Claim\", xlab=\"PPSM\")\n",
    "for (i in AutoClaimIn$TOWNCODE) {lines(AC ~ lnPPSM, data = subset(AutoClaimIn, TOWNCODE == i)) }"
   ]
  },
  {
   "cell_type": "markdown",
   "metadata": {},
   "source": [
    "As expected, we observe a significant negative effect of PCI and a positive effect of PPSM. We also observe an increasing trend in claims after purging off the in ation. Functions such as lm and anova are used to fit and analyze the ordinary least squares regression:"
   ]
  },
  {
   "cell_type": "code",
   "execution_count": 8,
   "metadata": {},
   "outputs": [],
   "source": [
    "AutoClaimIn$YEAR <- AutoClaimIn$YEAR-1992\n",
    "Pool.fit <- lm(AC ~ lnPCI+lnPPSM+YEAR, data=AutoClaimIn)"
   ]
  },
  {
   "cell_type": "code",
   "execution_count": 9,
   "metadata": {},
   "outputs": [
    {
     "data": {
      "text/plain": [
       "\n",
       "Call:\n",
       "lm(formula = AC ~ lnPCI + lnPPSM + YEAR, data = AutoClaimIn)\n",
       "\n",
       "Residuals:\n",
       "    Min      1Q  Median      3Q     Max \n",
       "-49.944 -16.154  -1.759  14.300 104.468 \n",
       "\n",
       "Coefficients:\n",
       "            Estimate Std. Error t value Pr(>|t|)    \n",
       "(Intercept)  899.569    120.150   7.487 6.98e-12 ***\n",
       "lnPCI        -92.604     11.855  -7.812 1.17e-12 ***\n",
       "lnPPSM        22.305      2.933   7.606 3.64e-12 ***\n",
       "YEAR           3.923      1.519   2.583   0.0108 *  \n",
       "---\n",
       "Signif. codes:  0 '***' 0.001 '**' 0.01 '*' 0.05 '.' 0.1 ' ' 1\n",
       "\n",
       "Residual standard error: 25.75 on 141 degrees of freedom\n",
       "Multiple R-squared:  0.4908,\tAdjusted R-squared:   0.48 \n",
       "F-statistic:  45.3 on 3 and 141 DF,  p-value: < 2.2e-16\n"
      ]
     },
     "metadata": {},
     "output_type": "display_data"
    }
   ],
   "source": [
    "summary(Pool.fit)"
   ]
  },
  {
   "cell_type": "code",
   "execution_count": 10,
   "metadata": {},
   "outputs": [
    {
     "data": {
      "text/html": [
       "<table>\n",
       "<thead><tr><th></th><th scope=col>Df</th><th scope=col>Sum Sq</th><th scope=col>Mean Sq</th><th scope=col>F value</th><th scope=col>Pr(&gt;F)</th></tr></thead>\n",
       "<tbody>\n",
       "\t<tr><th scope=row>lnPCI</th><td>  1         </td><td>46354.817   </td><td>46354.8174  </td><td>69.902772   </td><td>5.402241e-14</td></tr>\n",
       "\t<tr><th scope=row>lnPPSM</th><td>  1         </td><td>39343.808   </td><td>39343.8085  </td><td>59.330215   </td><td>2.141284e-12</td></tr>\n",
       "\t<tr><th scope=row>YEAR</th><td>  1         </td><td> 4423.335   </td><td> 4423.3352  </td><td> 6.670362   </td><td>1.082144e-02</td></tr>\n",
       "\t<tr><th scope=row>Residuals</th><td>141         </td><td>93501.718   </td><td>  663.1327  </td><td>       NA   </td><td>          NA</td></tr>\n",
       "</tbody>\n",
       "</table>\n"
      ],
      "text/latex": [
       "\\begin{tabular}{r|lllll}\n",
       "  & Df & Sum Sq & Mean Sq & F value & Pr(>F)\\\\\n",
       "\\hline\n",
       "\tlnPCI &   1          & 46354.817    & 46354.8174   & 69.902772    & 5.402241e-14\\\\\n",
       "\tlnPPSM &   1          & 39343.808    & 39343.8085   & 59.330215    & 2.141284e-12\\\\\n",
       "\tYEAR &   1          &  4423.335    &  4423.3352   &  6.670362    & 1.082144e-02\\\\\n",
       "\tResiduals & 141          & 93501.718    &   663.1327   &        NA    &           NA\\\\\n",
       "\\end{tabular}\n"
      ],
      "text/markdown": [
       "\n",
       "| <!--/--> | Df | Sum Sq | Mean Sq | F value | Pr(>F) |\n",
       "|---|---|---|---|---|---|\n",
       "| lnPCI |   1          | 46354.817    | 46354.8174   | 69.902772    | 5.402241e-14 |\n",
       "| lnPPSM |   1          | 39343.808    | 39343.8085   | 59.330215    | 2.141284e-12 |\n",
       "| YEAR |   1          |  4423.335    |  4423.3352   |  6.670362    | 1.082144e-02 |\n",
       "| Residuals | 141          | 93501.718    |   663.1327   |        NA    |           NA |\n",
       "\n"
      ],
      "text/plain": [
       "          Df  Sum Sq    Mean Sq    F value   Pr(>F)      \n",
       "lnPCI       1 46354.817 46354.8174 69.902772 5.402241e-14\n",
       "lnPPSM      1 39343.808 39343.8085 59.330215 2.141284e-12\n",
       "YEAR        1  4423.335  4423.3352  6.670362 1.082144e-02\n",
       "Residuals 141 93501.718   663.1327        NA           NA"
      ]
     },
     "metadata": {},
     "output_type": "display_data"
    }
   ],
   "source": [
    "anova(Pool.fit)"
   ]
  },
  {
   "cell_type": "markdown",
   "metadata": {},
   "source": [
    "#### 2.1. Fixed Effects Models"
   ]
  },
  {
   "cell_type": "markdown",
   "metadata": {},
   "source": [
    "Repeated observations allow one to study the heterogeneity, be it either of subject or of time. We begin with the basic fixed effects model by introducing subject-specific intercepts in the model."
   ]
  },
  {
   "cell_type": "markdown",
   "metadata": {},
   "source": [
    "We fit this basic fixed effects model FE.fit using lm by treating TOWNCODE as a categorical variable. The t- and F-statistics are constructed in the same way as in classical regression models. Note that the above model could be easily modified to account for time-specific heterogeneity . Similarly, using categorical variables for the time dimension, least squares estimation is readily applied."
   ]
  },
  {
   "cell_type": "code",
   "execution_count": 11,
   "metadata": {},
   "outputs": [],
   "source": [
    "# Basic fixed-effects model\n",
    "FE.fit <- lm(AC ~ factor(TOWNCODE)+lnPCI+lnPPSM+YEAR-1, data=AutoClaimIn)"
   ]
  },
  {
   "cell_type": "code",
   "execution_count": 12,
   "metadata": {},
   "outputs": [
    {
     "data": {
      "text/plain": [
       "\n",
       "Call:\n",
       "lm(formula = AC ~ factor(TOWNCODE) + lnPCI + lnPPSM + YEAR - \n",
       "    1, data = AutoClaimIn)\n",
       "\n",
       "Residuals:\n",
       "    Min      1Q  Median      3Q     Max \n",
       "-55.645  -8.900   0.177   8.995  50.141 \n",
       "\n",
       "Coefficients:\n",
       "                   Estimate Std. Error t value Pr(>|t|)  \n",
       "factor(TOWNCODE)10 1660.321   1846.793   0.899    0.371  \n",
       "factor(TOWNCODE)11 1558.851   1794.617   0.869    0.387  \n",
       "factor(TOWNCODE)12 1554.375   1884.831   0.825    0.411  \n",
       "factor(TOWNCODE)13 1360.128   1731.874   0.785    0.434  \n",
       "factor(TOWNCODE)14 1443.895   1780.094   0.811    0.419  \n",
       "factor(TOWNCODE)15 1681.983   1841.401   0.913    0.363  \n",
       "factor(TOWNCODE)16 1485.543   1760.324   0.844    0.401  \n",
       "factor(TOWNCODE)17 1702.778   1840.263   0.925    0.357  \n",
       "factor(TOWNCODE)21 1517.470   1818.260   0.835    0.406  \n",
       "factor(TOWNCODE)30 1351.724   1733.570   0.780    0.437  \n",
       "factor(TOWNCODE)31 1450.416   1855.472   0.782    0.436  \n",
       "factor(TOWNCODE)32 1536.844   1793.293   0.857    0.393  \n",
       "factor(TOWNCODE)33 1537.729   1823.963   0.843    0.401  \n",
       "factor(TOWNCODE)34 1484.227   1790.385   0.829    0.409  \n",
       "factor(TOWNCODE)35 1884.231   1918.499   0.982    0.328  \n",
       "factor(TOWNCODE)36 1425.051   1791.621   0.795    0.428  \n",
       "factor(TOWNCODE)37 1356.429   1755.760   0.773    0.441  \n",
       "factor(TOWNCODE)38 1373.307   1813.454   0.757    0.450  \n",
       "factor(TOWNCODE)39 1527.751   1834.441   0.833    0.407  \n",
       "factor(TOWNCODE)40 1344.778   1794.220   0.750    0.455  \n",
       "factor(TOWNCODE)41 1402.530   1837.474   0.763    0.447  \n",
       "factor(TOWNCODE)42 1528.240   1806.018   0.846    0.399  \n",
       "factor(TOWNCODE)43 1160.467   1710.603   0.678    0.499  \n",
       "factor(TOWNCODE)44 1544.466   1865.908   0.828    0.410  \n",
       "factor(TOWNCODE)45 1468.700   1774.056   0.828    0.409  \n",
       "factor(TOWNCODE)50 1381.936   1762.695   0.784    0.435  \n",
       "factor(TOWNCODE)51 1365.279   1797.123   0.760    0.449  \n",
       "factor(TOWNCODE)52 1473.186   1797.107   0.820    0.414  \n",
       "factor(TOWNCODE)53 1137.215   1764.623   0.644    0.521  \n",
       "lnPCI               -22.631    159.268  -0.142    0.887  \n",
       "lnPPSM             -176.831    107.240  -1.649    0.102  \n",
       "YEAR                  5.947      2.738   2.172    0.032 *\n",
       "---\n",
       "Signif. codes:  0 '***' 0.001 '**' 0.01 '*' 0.05 '.' 0.1 ' ' 1\n",
       "\n",
       "Residual standard error: 18.88 on 113 degrees of freedom\n",
       "Multiple R-squared:  0.9863,\tAdjusted R-squared:  0.9824 \n",
       "F-statistic: 254.4 on 32 and 113 DF,  p-value: < 2.2e-16\n"
      ]
     },
     "metadata": {},
     "output_type": "display_data"
    }
   ],
   "source": [
    "summary(FE.fit)"
   ]
  },
  {
   "cell_type": "code",
   "execution_count": 13,
   "metadata": {},
   "outputs": [
    {
     "data": {
      "text/html": [
       "<table>\n",
       "<thead><tr><th></th><th scope=col>Df</th><th scope=col>Sum Sq</th><th scope=col>Mean Sq</th><th scope=col>F value</th><th scope=col>Pr(&gt;F)</th></tr></thead>\n",
       "<tbody>\n",
       "\t<tr><th scope=row>factor(TOWNCODE)</th><td> 29         </td><td>2897068.6051</td><td>99898.9174  </td><td>280.36771085</td><td>4.412832e-92</td></tr>\n",
       "\t<tr><th scope=row>lnPCI</th><td>  1         </td><td>   2231.2763</td><td> 2231.2763  </td><td>  6.26210815</td><td>1.376556e-02</td></tr>\n",
       "\t<tr><th scope=row>lnPPSM</th><td>  1         </td><td>     34.4613</td><td>   34.4613  </td><td>  0.09671613</td><td>7.563795e-01</td></tr>\n",
       "\t<tr><th scope=row>YEAR</th><td>  1         </td><td>   1680.6629</td><td> 1680.6629  </td><td>  4.71680390</td><td>3.195918e-02</td></tr>\n",
       "\t<tr><th scope=row>Residuals</th><td>113         </td><td>  40263.4727</td><td>  356.3139  </td><td>          NA</td><td>          NA</td></tr>\n",
       "</tbody>\n",
       "</table>\n"
      ],
      "text/latex": [
       "\\begin{tabular}{r|lllll}\n",
       "  & Df & Sum Sq & Mean Sq & F value & Pr(>F)\\\\\n",
       "\\hline\n",
       "\tfactor(TOWNCODE) &  29          & 2897068.6051 & 99898.9174   & 280.36771085 & 4.412832e-92\\\\\n",
       "\tlnPCI &   1          &    2231.2763 &  2231.2763   &   6.26210815 & 1.376556e-02\\\\\n",
       "\tlnPPSM &   1          &      34.4613 &    34.4613   &   0.09671613 & 7.563795e-01\\\\\n",
       "\tYEAR &   1          &    1680.6629 &  1680.6629   &   4.71680390 & 3.195918e-02\\\\\n",
       "\tResiduals & 113          &   40263.4727 &   356.3139   &           NA &           NA\\\\\n",
       "\\end{tabular}\n"
      ],
      "text/markdown": [
       "\n",
       "| <!--/--> | Df | Sum Sq | Mean Sq | F value | Pr(>F) |\n",
       "|---|---|---|---|---|---|\n",
       "| factor(TOWNCODE) |  29          | 2897068.6051 | 99898.9174   | 280.36771085 | 4.412832e-92 |\n",
       "| lnPCI |   1          |    2231.2763 |  2231.2763   |   6.26210815 | 1.376556e-02 |\n",
       "| lnPPSM |   1          |      34.4613 |    34.4613   |   0.09671613 | 7.563795e-01 |\n",
       "| YEAR |   1          |    1680.6629 |  1680.6629   |   4.71680390 | 3.195918e-02 |\n",
       "| Residuals | 113          |   40263.4727 |   356.3139   |           NA |           NA |\n",
       "\n"
      ],
      "text/plain": [
       "                 Df  Sum Sq       Mean Sq    F value      Pr(>F)      \n",
       "factor(TOWNCODE)  29 2897068.6051 99898.9174 280.36771085 4.412832e-92\n",
       "lnPCI              1    2231.2763  2231.2763   6.26210815 1.376556e-02\n",
       "lnPPSM             1      34.4613    34.4613   0.09671613 7.563795e-01\n",
       "YEAR               1    1680.6629  1680.6629   4.71680390 3.195918e-02\n",
       "Residuals        113   40263.4727   356.3139           NA           NA"
      ]
     },
     "metadata": {},
     "output_type": "display_data"
    }
   ],
   "source": [
    "anova(FE.fit)"
   ]
  },
  {
   "cell_type": "markdown",
   "metadata": {},
   "source": [
    "We further discuss three specific tests for model specification and diagnostics.   "
   ]
  },
  {
   "cell_type": "markdown",
   "metadata": {},
   "source": [
    "The first is the pooling test, where one wishes to test whether the subject-specific effect is significant. This can be done using the partial F test by calculating $ F$-$ratio = \\frac{\\mbox{(ErrorSS)$_{Pooled}$ -  ErrorSS}}{\\mbox{(n - 1)s$^2$}} $. Here, ErrorSS and $s^2$ are from the heterogeneous model (i.e., FE.fit) and (ErrorSS)Pooled are from the homogeneous model (i.e., pool.fit). It can be shown that F-ratio follows an F-distribution with degrees of freedom df$_1$ = n-1 and df$_2$ = N-(n+K). In this example, the F-statistic is equal to (93,502-40,263)=(29-1)=18.88$^2$ = 5.33, so we reject the null hypothesis."
   ]
  },
  {
   "cell_type": "code",
   "execution_count": 14,
   "metadata": {},
   "outputs": [
    {
     "data": {
      "text/html": [
       "<table>\n",
       "<thead><tr><th scope=col>Res.Df</th><th scope=col>RSS</th><th scope=col>Df</th><th scope=col>Sum of Sq</th><th scope=col>F</th><th scope=col>Pr(&gt;F)</th></tr></thead>\n",
       "<tbody>\n",
       "\t<tr><td>141         </td><td>93501.72    </td><td>NA          </td><td>      NA    </td><td>     NA     </td><td>          NA</td></tr>\n",
       "\t<tr><td>113         </td><td>40263.47    </td><td>28          </td><td>53238.25    </td><td>5.33621     </td><td>7.214219e-11</td></tr>\n",
       "</tbody>\n",
       "</table>\n"
      ],
      "text/latex": [
       "\\begin{tabular}{r|llllll}\n",
       " Res.Df & RSS & Df & Sum of Sq & F & Pr(>F)\\\\\n",
       "\\hline\n",
       "\t 141          & 93501.72     & NA           &       NA     &      NA      &           NA\\\\\n",
       "\t 113          & 40263.47     & 28           & 53238.25     & 5.33621      & 7.214219e-11\\\\\n",
       "\\end{tabular}\n"
      ],
      "text/markdown": [
       "\n",
       "| Res.Df | RSS | Df | Sum of Sq | F | Pr(>F) |\n",
       "|---|---|---|---|---|---|\n",
       "| 141          | 93501.72     | NA           |       NA     |      NA      |           NA |\n",
       "| 113          | 40263.47     | 28           | 53238.25     | 5.33621      | 7.214219e-11 |\n",
       "\n"
      ],
      "text/plain": [
       "  Res.Df RSS      Df Sum of Sq F       Pr(>F)      \n",
       "1 141    93501.72 NA       NA       NA           NA\n",
       "2 113    40263.47 28 53238.25  5.33621 7.214219e-11"
      ]
     },
     "metadata": {},
     "output_type": "display_data"
    }
   ],
   "source": [
    "anova(Pool.fit,FE.fit)"
   ]
  },
  {
   "cell_type": "markdown",
   "metadata": {},
   "source": [
    "#### 2..2. Models with Serial Correlation"
   ]
  },
  {
   "cell_type": "markdown",
   "metadata": {},
   "source": [
    "An alternative approach to capture heterogeneity is to use serial correlation. The intuition is that if there are some unobserved time constant variables affecting the response, they will introduce correlation among repeated observations. To motivate this approach, we examine the serial correlation of residuals from Pool.fit. The results show strong temporal correlation among AC after removing the effects of explanatory variables. This suggests that the i.i.d. assumption used in the homogeneous model is not appropriate."
   ]
  },
  {
   "cell_type": "code",
   "execution_count": 15,
   "metadata": {},
   "outputs": [
    {
     "data": {
      "text/html": [
       "<table>\n",
       "<tbody>\n",
       "\t<tr><td>1.0000000</td><td>0.5862895</td><td>0.5187797</td><td>0.4207831</td><td>0.5424555</td></tr>\n",
       "\t<tr><td>0.5862895</td><td>1.0000000</td><td>0.3911814</td><td>0.2164202</td><td>0.2555096</td></tr>\n",
       "\t<tr><td>0.5187797</td><td>0.3911814</td><td>1.0000000</td><td>0.3955654</td><td>0.7890728</td></tr>\n",
       "\t<tr><td>0.4207831</td><td>0.2164202</td><td>0.3955654</td><td>1.0000000</td><td>0.4778912</td></tr>\n",
       "\t<tr><td>0.5424555</td><td>0.2555096</td><td>0.7890728</td><td>0.4778912</td><td>1.0000000</td></tr>\n",
       "</tbody>\n",
       "</table>\n"
      ],
      "text/latex": [
       "\\begin{tabular}{lllll}\n",
       "\t 1.0000000 & 0.5862895 & 0.5187797 & 0.4207831 & 0.5424555\\\\\n",
       "\t 0.5862895 & 1.0000000 & 0.3911814 & 0.2164202 & 0.2555096\\\\\n",
       "\t 0.5187797 & 0.3911814 & 1.0000000 & 0.3955654 & 0.7890728\\\\\n",
       "\t 0.4207831 & 0.2164202 & 0.3955654 & 1.0000000 & 0.4778912\\\\\n",
       "\t 0.5424555 & 0.2555096 & 0.7890728 & 0.4778912 & 1.0000000\\\\\n",
       "\\end{tabular}\n"
      ],
      "text/markdown": [
       "\n",
       "| 1.0000000 | 0.5862895 | 0.5187797 | 0.4207831 | 0.5424555 |\n",
       "| 0.5862895 | 1.0000000 | 0.3911814 | 0.2164202 | 0.2555096 |\n",
       "| 0.5187797 | 0.3911814 | 1.0000000 | 0.3955654 | 0.7890728 |\n",
       "| 0.4207831 | 0.2164202 | 0.3955654 | 1.0000000 | 0.4778912 |\n",
       "| 0.5424555 | 0.2555096 | 0.7890728 | 0.4778912 | 1.0000000 |\n",
       "\n"
      ],
      "text/plain": [
       "     [,1]      [,2]      [,3]      [,4]      [,5]     \n",
       "[1,] 1.0000000 0.5862895 0.5187797 0.4207831 0.5424555\n",
       "[2,] 0.5862895 1.0000000 0.3911814 0.2164202 0.2555096\n",
       "[3,] 0.5187797 0.3911814 1.0000000 0.3955654 0.7890728\n",
       "[4,] 0.4207831 0.2164202 0.3955654 1.0000000 0.4778912\n",
       "[5,] 0.5424555 0.2555096 0.7890728 0.4778912 1.0000000"
      ]
     },
     "metadata": {},
     "output_type": "display_data"
    }
   ],
   "source": [
    "# Correlation among residuals\n",
    "AutoClaimIn$rPool <- resid(Pool.fit)\n",
    "rvec <- cbind(subset(AutoClaimIn,YEAR==1)$rPool,subset(AutoClaimIn,YEAR==2)$rPool,\n",
    "              subset(AutoClaimIn,YEAR==3)$rPool,subset(AutoClaimIn,YEAR==4)$rPool,\n",
    "              subset(AutoClaimIn,YEAR==5)$rPool)\n",
    "cor(rvec)"
   ]
  },
  {
   "cell_type": "markdown",
   "metadata": {},
   "source": [
    "In our application, we fit the linear model with three types of serial correlation: the compound symmetry, the AR(1), and the unstructured. We denote the resulting models by SCex.fit, SCar.fit, and SCun.fit, respectively. The models are fit using the function gls() in the nlme package. The argument correlation is used to specify matrix R($\\tau$), and the argument method is used to specify the estimation method. The default estimation approach is the REML. The estimates of regression coeficients are similar and are consistent with the pooled cross-sectional regression model. The estimates of variance components suggest significant within-subject temporal correlation. Note that when unstructured covariance is specified, the model is not identi\f",
    "able in its most general form due to the nonuniqueness of R($\\tau$)."
   ]
  },
  {
   "cell_type": "markdown",
   "metadata": {},
   "source": [
    "In the package nlme, function intervals can be used to call for the 95% confidence interval of $$\\tau, and function getVarCov can be used to call for the estimates of R($\\hat{\\tau}$)."
   ]
  },
  {
   "cell_type": "code",
   "execution_count": 16,
   "metadata": {},
   "outputs": [
    {
     "data": {
      "text/plain": [
       "Generalized least squares fit by REML\n",
       "  Model: AC ~ lnPCI + lnPPSM + YEAR \n",
       "  Data: AutoClaimIn \n",
       "       AIC      BIC    logLik\n",
       "  1303.913 1321.606 -645.9566\n",
       "\n",
       "Correlation Structure: Compound symmetry\n",
       " Formula: ~1 | TOWNCODE \n",
       " Parameter estimate(s):\n",
       "     Rho \n",
       "0.473597 \n",
       "\n",
       "Coefficients:\n",
       "               Value Std.Error   t-value p-value\n",
       "(Intercept) 887.8878 206.81071  4.293239   0e+00\n",
       "lnPCI       -91.1979  20.41210 -4.467833   0e+00\n",
       "lnPPSM       21.9614   5.07913  4.323844   0e+00\n",
       "YEAR          3.9119   1.14457  3.417801   8e-04\n",
       "\n",
       " Correlation: \n",
       "       (Intr) lnPCI  lnPPSM\n",
       "lnPCI  -0.988              \n",
       "lnPPSM -0.249  0.096       \n",
       "YEAR    0.197 -0.205 -0.082\n",
       "\n",
       "Standardized residuals:\n",
       "        Min          Q1         Med          Q3         Max \n",
       "-1.91796179 -0.63109278 -0.05216166  0.54893924  3.98126312 \n",
       "\n",
       "Residual standard error: 26.23929 \n",
       "Degrees of freedom: 145 total; 141 residual"
      ]
     },
     "metadata": {},
     "output_type": "display_data"
    }
   ],
   "source": [
    "# Compound symmetry\n",
    "SCex.fit <- gls(AC ~ lnPCI+lnPPSM+YEAR, data=AutoClaimIn, correlation=corCompSymm(form=~1|TOWNCODE))\n",
    "summary(SCex.fit)"
   ]
  },
  {
   "cell_type": "code",
   "execution_count": 17,
   "metadata": {},
   "outputs": [
    {
     "data": {
      "text/plain": [
       "Approximate 95% confidence intervals\n",
       "\n",
       " Correlation structure:\n",
       "        lower     est.     upper\n",
       "Rho 0.2868884 0.473597 0.6438492\n",
       "attr(,\"label\")\n",
       "[1] \"Correlation structure:\"\n",
       "\n",
       " Residual standard error:\n",
       "   lower     est.    upper \n",
       "22.21557 26.23929 30.99180 "
      ]
     },
     "metadata": {},
     "output_type": "display_data"
    }
   ],
   "source": [
    "intervals(SCex.fit,which = \"var-cov\")"
   ]
  },
  {
   "cell_type": "code",
   "execution_count": 18,
   "metadata": {},
   "outputs": [
    {
     "data": {
      "text/plain": [
       "Marginal variance covariance matrix\n",
       "       [,1]   [,2]   [,3]   [,4]   [,5]\n",
       "[1,] 688.50 326.07 326.07 326.07 326.07\n",
       "[2,] 326.07 688.50 326.07 326.07 326.07\n",
       "[3,] 326.07 326.07 688.50 326.07 326.07\n",
       "[4,] 326.07 326.07 326.07 688.50 326.07\n",
       "[5,] 326.07 326.07 326.07 326.07 688.50\n",
       "  Standard Deviations: 26.239 26.239 26.239 26.239 26.239 "
      ]
     },
     "metadata": {},
     "output_type": "display_data"
    }
   ],
   "source": [
    "getVarCov(SCex.fit)"
   ]
  },
  {
   "cell_type": "code",
   "execution_count": 19,
   "metadata": {},
   "outputs": [
    {
     "data": {
      "text/plain": [
       "Generalized least squares fit by REML\n",
       "  Model: AC ~ lnPCI + lnPPSM + YEAR \n",
       "  Data: AutoClaimIn \n",
       "       AIC    BIC    logLik\n",
       "  1320.507 1338.2 -654.2537\n",
       "\n",
       "Correlation Structure: AR(1)\n",
       " Formula: ~1 | TOWNCODE \n",
       " Parameter estimate(s):\n",
       "      Phi \n",
       "0.4342606 \n",
       "\n",
       "Coefficients:\n",
       "               Value Std.Error   t-value p-value\n",
       "(Intercept) 891.4542 168.25109  5.298356  0.0000\n",
       "lnPCI       -91.3279  16.60839 -5.498902  0.0000\n",
       "lnPPSM       21.7551   4.11354  5.288646  0.0000\n",
       "YEAR          3.5501   1.66449  2.132863  0.0347\n",
       "\n",
       " Correlation: \n",
       "       (Intr) lnPCI  lnPPSM\n",
       "lnPCI  -0.987              \n",
       "lnPPSM -0.248  0.095       \n",
       "YEAR    0.092 -0.118 -0.046\n",
       "\n",
       "Standardized residuals:\n",
       "        Min          Q1         Med          Q3         Max \n",
       "-1.92457756 -0.64607192 -0.05513952  0.54124387  4.05608520 \n",
       "\n",
       "Residual standard error: 25.9463 \n",
       "Degrees of freedom: 145 total; 141 residual"
      ]
     },
     "metadata": {},
     "output_type": "display_data"
    }
   ],
   "source": [
    "# AR(1)\n",
    "SCar.fit <- gls(AC ~ lnPCI+lnPPSM+YEAR, data=AutoClaimIn,correlation=corAR1(form=~1|TOWNCODE))\n",
    "summary(SCar.fit)"
   ]
  },
  {
   "cell_type": "code",
   "execution_count": 20,
   "metadata": {},
   "outputs": [
    {
     "data": {
      "text/plain": [
       "Approximate 95% confidence intervals\n",
       "\n",
       " Correlation structure:\n",
       "        lower      est.     upper\n",
       "Phi 0.2636709 0.4342606 0.5785109\n",
       "attr(,\"label\")\n",
       "[1] \"Correlation structure:\"\n",
       "\n",
       " Residual standard error:\n",
       "   lower     est.    upper \n",
       "22.61972 25.94630 29.76210 "
      ]
     },
     "metadata": {},
     "output_type": "display_data"
    }
   ],
   "source": [
    "intervals(SCar.fit,which = \"var-cov\")"
   ]
  },
  {
   "cell_type": "code",
   "execution_count": 21,
   "metadata": {},
   "outputs": [
    {
     "data": {
      "text/plain": [
       "Marginal variance covariance matrix\n",
       "        [,1]    [,2]   [,3]    [,4]    [,5]\n",
       "[1,] 673.210 292.350 126.96  55.132  23.942\n",
       "[2,] 292.350 673.210 292.35 126.960  55.132\n",
       "[3,] 126.960 292.350 673.21 292.350 126.960\n",
       "[4,]  55.132 126.960 292.35 673.210 292.350\n",
       "[5,]  23.942  55.132 126.96 292.350 673.210\n",
       "  Standard Deviations: 25.946 25.946 25.946 25.946 25.946 "
      ]
     },
     "metadata": {},
     "output_type": "display_data"
    }
   ],
   "source": [
    "getVarCov(SCar.fit)"
   ]
  },
  {
   "cell_type": "code",
   "execution_count": 22,
   "metadata": {},
   "outputs": [
    {
     "data": {
      "text/plain": [
       "Generalized least squares fit by REML\n",
       "  Model: AC ~ lnPCI + lnPPSM + YEAR \n",
       "  Data: AutoClaimIn \n",
       "       AIC      BIC    logLik\n",
       "  1301.852 1346.084 -635.9261\n",
       "\n",
       "Correlation Structure: General\n",
       " Formula: ~1 | TOWNCODE \n",
       " Parameter estimate(s):\n",
       " Correlation: \n",
       "  1     2     3     4    \n",
       "2 0.697                  \n",
       "3 0.467 0.327            \n",
       "4 0.453 0.258 0.408      \n",
       "5 0.537 0.273 0.751 0.506\n",
       "\n",
       "Coefficients:\n",
       "               Value Std.Error   t-value p-value\n",
       "(Intercept) 878.6830 200.85210  4.374776  0.0000\n",
       "lnPCI       -90.8071  19.80727 -4.584536  0.0000\n",
       "lnPPSM       23.6983   4.95450  4.783180  0.0000\n",
       "YEAR          1.8150   1.02842  1.764837  0.0798\n",
       "\n",
       " Correlation: \n",
       "       (Intr) lnPCI  lnPPSM\n",
       "lnPCI  -0.988              \n",
       "lnPPSM -0.251  0.097       \n",
       "YEAR    0.204 -0.211 -0.094\n",
       "\n",
       "Standardized residuals:\n",
       "        Min          Q1         Med          Q3         Max \n",
       "-1.77364675 -0.61800847 -0.00792551  0.55186491  4.15982448 \n",
       "\n",
       "Residual standard error: 26.38472 \n",
       "Degrees of freedom: 145 total; 141 residual"
      ]
     },
     "metadata": {},
     "output_type": "display_data"
    }
   ],
   "source": [
    "# Unstructured\n",
    "SCun.fit <- gls(AC ~ lnPCI+lnPPSM+YEAR, data=AutoClaimIn, correlation=corSymm(form=~1|TOWNCODE))\n",
    "summary(SCun.fit)"
   ]
  },
  {
   "cell_type": "code",
   "execution_count": 23,
   "metadata": {},
   "outputs": [
    {
     "data": {
      "text/plain": [
       "Approximate 95% confidence intervals\n",
       "\n",
       " Correlation structure:\n",
       "                lower      est.     upper\n",
       "cor(1,2)  0.459318778 0.6974028 0.8419996\n",
       "cor(1,3)  0.155927953 0.4665445 0.6931939\n",
       "cor(1,4)  0.069292248 0.4525656 0.7194194\n",
       "cor(1,5)  0.196532307 0.5374620 0.7624481\n",
       "cor(2,3)  0.002810911 0.3268129 0.5887174\n",
       "cor(2,4) -0.155337258 0.2583914 0.5950013\n",
       "cor(2,5) -0.123064323 0.2730901 0.5941727\n",
       "cor(3,4)  0.114267295 0.4081348 0.6363251\n",
       "cor(3,5)  0.572861308 0.7508048 0.8611617\n",
       "cor(4,5)  0.201334678 0.5055812 0.7208576\n",
       "attr(,\"label\")\n",
       "[1] \"Correlation structure:\"\n",
       "\n",
       " Residual standard error:\n",
       "   lower     est.    upper \n",
       "22.30449 26.38472 31.21137 "
      ]
     },
     "metadata": {},
     "output_type": "display_data"
    }
   ],
   "source": [
    "intervals(SCun.fit,which = \"var-cov\")"
   ]
  },
  {
   "cell_type": "code",
   "execution_count": 24,
   "metadata": {},
   "outputs": [
    {
     "data": {
      "text/plain": [
       "Marginal variance covariance matrix\n",
       "       [,1]   [,2]   [,3]   [,4]   [,5]\n",
       "[1,] 696.15 485.50 324.79 315.06 374.16\n",
       "[2,] 485.50 696.15 227.51 179.88 190.11\n",
       "[3,] 324.79 227.51 696.15 284.12 522.68\n",
       "[4,] 315.06 179.88 284.12 696.15 351.96\n",
       "[5,] 374.16 190.11 522.68 351.96 696.15\n",
       "  Standard Deviations: 26.385 26.385 26.385 26.385 26.385 "
      ]
     },
     "metadata": {},
     "output_type": "display_data"
    }
   ],
   "source": [
    "getVarCov(SCun.fit)"
   ]
  },
  {
   "cell_type": "markdown",
   "metadata": {},
   "source": [
    "The usual t- or F-test statistics follow as for the i.i.d. case. Caution is needed for the tests based on the likelihood function. For example, the likelihood ratio test relies on the value of log-likelihood function rather than the restricted likelihood. One can use method=\"ML\" in the gls() function to implement maximum likelihood estimation. We perform the test using anova for the models with serial correlation and the pooled cross{sectional regression. The results support the evidence of positive serial correlation."
   ]
  },
  {
   "cell_type": "code",
   "execution_count": 25,
   "metadata": {},
   "outputs": [],
   "source": [
    "# Likelihood ratio test\n",
    "SCex.fit.ml <- gls(AC ~ lnPCI+lnPPSM+YEAR, data=AutoClaimIn, \n",
    "                   correlation=corCompSymm(form=~1|TOWNCODE), method=\"ML\")\n",
    "SCar.fit.ml <- gls(AC ~ lnPCI+lnPPSM+YEAR, data=AutoClaimIn,\n",
    "                   correlation=corAR1(form=~1|TOWNCODE), method=\"ML\")\n",
    "SCun.fit.ml <- gls(AC ~ lnPCI+lnPPSM+YEAR, data=AutoClaimIn,\n",
    "                   correlation=corSymm(form=~1|TOWNCODE), method=\"ML\")"
   ]
  },
  {
   "cell_type": "code",
   "execution_count": 26,
   "metadata": {},
   "outputs": [
    {
     "data": {
      "text/html": [
       "<table>\n",
       "<thead><tr><th></th><th scope=col>call</th><th scope=col>Model</th><th scope=col>df</th><th scope=col>AIC</th><th scope=col>BIC</th><th scope=col>logLik</th><th scope=col>Test</th><th scope=col>L.Ratio</th><th scope=col>p-value</th></tr></thead>\n",
       "<tbody>\n",
       "\t<tr><th scope=row>SCex.fit.ml</th><td>gls(model = AC ~ lnPCI + lnPPSM + YEAR, data = AutoClaimIn, correlation = corCompSymm(form = ~1 |     TOWNCODE), method = \"ML\")</td><td>1                                                                                                                              </td><td>6                                                                                                                              </td><td>1323.212                                                                                                                       </td><td>1341.073                                                                                                                       </td><td>-655.6062                                                                                                                      </td><td>                                                                                                                               </td><td>      NA                                                                                                                       </td><td>          NA                                                                                                                   </td></tr>\n",
       "\t<tr><th scope=row>Pool.fit</th><td>lm(formula = AC ~ lnPCI + lnPPSM + YEAR, data = AutoClaimIn)                                                                   </td><td>2                                                                                                                              </td><td>5                                                                                                                              </td><td>1359.497                                                                                                                       </td><td>1374.381                                                                                                                       </td><td>-674.7487                                                                                                                      </td><td>1 vs 2                                                                                                                         </td><td>38.28505                                                                                                                       </td><td>6.112933e-10                                                                                                                   </td></tr>\n",
       "</tbody>\n",
       "</table>\n"
      ],
      "text/latex": [
       "\\begin{tabular}{r|lllllllll}\n",
       "  & call & Model & df & AIC & BIC & logLik & Test & L.Ratio & p-value\\\\\n",
       "\\hline\n",
       "\tSCex.fit.ml & gls(model = AC \\textasciitilde{} lnPCI + lnPPSM + YEAR, data = AutoClaimIn, correlation = corCompSymm(form = \\textasciitilde{}1 \\textbar{}     TOWNCODE), method = \"ML\") & 1                                                                                                                                                                           & 6                                                                                                                                                                           & 1323.212                                                                                                                                                                    & 1341.073                                                                                                                                                                    & -655.6062                                                                                                                                                                   &                                                                                                                                                                             &       NA                                                                                                                                                                    &           NA                                                                                                                                                               \\\\\n",
       "\tPool.fit & lm(formula = AC \\textasciitilde{} lnPCI + lnPPSM + YEAR, data = AutoClaimIn)                                                                    & 2                                                                                                                                                & 5                                                                                                                                                & 1359.497                                                                                                                                         & 1374.381                                                                                                                                         & -674.7487                                                                                                                                        & 1 vs 2                                                                                                                                           & 38.28505                                                                                                                                         & 6.112933e-10                                                                                                                                    \\\\\n",
       "\\end{tabular}\n"
      ],
      "text/markdown": [
       "\n",
       "| <!--/--> | call | Model | df | AIC | BIC | logLik | Test | L.Ratio | p-value |\n",
       "|---|---|---|---|---|---|---|---|---|---|\n",
       "| SCex.fit.ml | gls(model = AC ~ lnPCI + lnPPSM + YEAR, data = AutoClaimIn, correlation = corCompSymm(form = ~1 |     TOWNCODE), method = \"ML\") | 1                                                                                                                               | 6                                                                                                                               | 1323.212                                                                                                                        | 1341.073                                                                                                                        | -655.6062                                                                                                                       |                                                                                                                                 |       NA                                                                                                                        |           NA                                                                                                                    |\n",
       "| Pool.fit | lm(formula = AC ~ lnPCI + lnPPSM + YEAR, data = AutoClaimIn)                                                                    | 2                                                                                                                               | 5                                                                                                                               | 1359.497                                                                                                                        | 1374.381                                                                                                                        | -674.7487                                                                                                                       | 1 vs 2                                                                                                                          | 38.28505                                                                                                                        | 6.112933e-10                                                                                                                    |\n",
       "\n"
      ],
      "text/plain": [
       "            call                                                                                                                           \n",
       "SCex.fit.ml gls(model = AC ~ lnPCI + lnPPSM + YEAR, data = AutoClaimIn, correlation = corCompSymm(form = ~1 |     TOWNCODE), method = \"ML\")\n",
       "Pool.fit    lm(formula = AC ~ lnPCI + lnPPSM + YEAR, data = AutoClaimIn)                                                                   \n",
       "            Model df AIC      BIC      logLik    Test   L.Ratio  p-value     \n",
       "SCex.fit.ml 1     6  1323.212 1341.073 -655.6062              NA           NA\n",
       "Pool.fit    2     5  1359.497 1374.381 -674.7487 1 vs 2 38.28505 6.112933e-10"
      ]
     },
     "metadata": {},
     "output_type": "display_data"
    }
   ],
   "source": [
    "anova(SCex.fit.ml, Pool.fit)"
   ]
  },
  {
   "cell_type": "code",
   "execution_count": 27,
   "metadata": {},
   "outputs": [
    {
     "data": {
      "text/html": [
       "<table>\n",
       "<thead><tr><th></th><th scope=col>call</th><th scope=col>Model</th><th scope=col>df</th><th scope=col>AIC</th><th scope=col>BIC</th><th scope=col>logLik</th><th scope=col>Test</th><th scope=col>L.Ratio</th><th scope=col>p-value</th></tr></thead>\n",
       "<tbody>\n",
       "\t<tr><th scope=row>SCar.fit.ml</th><td>gls(model = AC ~ lnPCI + lnPPSM + YEAR, data = AutoClaimIn, correlation = corAR1(form = ~1 |     TOWNCODE), method = \"ML\")</td><td>1                                                                                                                         </td><td>6                                                                                                                         </td><td>1339.344                                                                                                                  </td><td>1357.205                                                                                                                  </td><td>-663.6721                                                                                                                 </td><td>                                                                                                                          </td><td>      NA                                                                                                                  </td><td>          NA                                                                                                              </td></tr>\n",
       "\t<tr><th scope=row>Pool.fit</th><td>lm(formula = AC ~ lnPCI + lnPPSM + YEAR, data = AutoClaimIn)                                                              </td><td>2                                                                                                                         </td><td>5                                                                                                                         </td><td>1359.497                                                                                                                  </td><td>1374.381                                                                                                                  </td><td>-674.7487                                                                                                                 </td><td>1 vs 2                                                                                                                    </td><td>22.15326                                                                                                                  </td><td>2.517277e-06                                                                                                              </td></tr>\n",
       "</tbody>\n",
       "</table>\n"
      ],
      "text/latex": [
       "\\begin{tabular}{r|lllllllll}\n",
       "  & call & Model & df & AIC & BIC & logLik & Test & L.Ratio & p-value\\\\\n",
       "\\hline\n",
       "\tSCar.fit.ml & gls(model = AC \\textasciitilde{} lnPCI + lnPPSM + YEAR, data = AutoClaimIn, correlation = corAR1(form = \\textasciitilde{}1 \\textbar{}     TOWNCODE), method = \"ML\") & 1                                                                                                                                                                      & 6                                                                                                                                                                      & 1339.344                                                                                                                                                               & 1357.205                                                                                                                                                               & -663.6721                                                                                                                                                              &                                                                                                                                                                        &       NA                                                                                                                                                               &           NA                                                                                                                                                          \\\\\n",
       "\tPool.fit & lm(formula = AC \\textasciitilde{} lnPCI + lnPPSM + YEAR, data = AutoClaimIn)                                                               & 2                                                                                                                                           & 5                                                                                                                                           & 1359.497                                                                                                                                    & 1374.381                                                                                                                                    & -674.7487                                                                                                                                   & 1 vs 2                                                                                                                                      & 22.15326                                                                                                                                    & 2.517277e-06                                                                                                                               \\\\\n",
       "\\end{tabular}\n"
      ],
      "text/markdown": [
       "\n",
       "| <!--/--> | call | Model | df | AIC | BIC | logLik | Test | L.Ratio | p-value |\n",
       "|---|---|---|---|---|---|---|---|---|---|\n",
       "| SCar.fit.ml | gls(model = AC ~ lnPCI + lnPPSM + YEAR, data = AutoClaimIn, correlation = corAR1(form = ~1 |     TOWNCODE), method = \"ML\") | 1                                                                                                                          | 6                                                                                                                          | 1339.344                                                                                                                   | 1357.205                                                                                                                   | -663.6721                                                                                                                  |                                                                                                                            |       NA                                                                                                                   |           NA                                                                                                               |\n",
       "| Pool.fit | lm(formula = AC ~ lnPCI + lnPPSM + YEAR, data = AutoClaimIn)                                                               | 2                                                                                                                          | 5                                                                                                                          | 1359.497                                                                                                                   | 1374.381                                                                                                                   | -674.7487                                                                                                                  | 1 vs 2                                                                                                                     | 22.15326                                                                                                                   | 2.517277e-06                                                                                                               |\n",
       "\n"
      ],
      "text/plain": [
       "            call                                                                                                                      \n",
       "SCar.fit.ml gls(model = AC ~ lnPCI + lnPPSM + YEAR, data = AutoClaimIn, correlation = corAR1(form = ~1 |     TOWNCODE), method = \"ML\")\n",
       "Pool.fit    lm(formula = AC ~ lnPCI + lnPPSM + YEAR, data = AutoClaimIn)                                                              \n",
       "            Model df AIC      BIC      logLik    Test   L.Ratio  p-value     \n",
       "SCar.fit.ml 1     6  1339.344 1357.205 -663.6721              NA           NA\n",
       "Pool.fit    2     5  1359.497 1374.381 -674.7487 1 vs 2 22.15326 2.517277e-06"
      ]
     },
     "metadata": {},
     "output_type": "display_data"
    }
   ],
   "source": [
    "anova(SCar.fit.ml, Pool.fit)"
   ]
  },
  {
   "cell_type": "code",
   "execution_count": 28,
   "metadata": {},
   "outputs": [
    {
     "data": {
      "text/html": [
       "<table>\n",
       "<thead><tr><th></th><th scope=col>call</th><th scope=col>Model</th><th scope=col>df</th><th scope=col>AIC</th><th scope=col>BIC</th><th scope=col>logLik</th><th scope=col>Test</th><th scope=col>L.Ratio</th><th scope=col>p-value</th></tr></thead>\n",
       "<tbody>\n",
       "\t<tr><th scope=row>SCun.fit.ml</th><td>gls(model = AC ~ lnPCI + lnPPSM + YEAR, data = AutoClaimIn, correlation = corSymm(form = ~1 |     TOWNCODE), method = \"ML\")</td><td>1                                                                                                                          </td><td>15                                                                                                                         </td><td>1320.753                                                                                                                   </td><td>1365.404                                                                                                                   </td><td>-645.3763                                                                                                                  </td><td>                                                                                                                           </td><td>      NA                                                                                                                   </td><td>          NA                                                                                                               </td></tr>\n",
       "\t<tr><th scope=row>Pool.fit</th><td>lm(formula = AC ~ lnPCI + lnPPSM + YEAR, data = AutoClaimIn)                                                               </td><td>2                                                                                                                          </td><td> 5                                                                                                                         </td><td>1359.497                                                                                                                   </td><td>1374.381                                                                                                                   </td><td>-674.7487                                                                                                                  </td><td>1 vs 2                                                                                                                     </td><td>58.74476                                                                                                                   </td><td>6.257276e-09                                                                                                               </td></tr>\n",
       "</tbody>\n",
       "</table>\n"
      ],
      "text/latex": [
       "\\begin{tabular}{r|lllllllll}\n",
       "  & call & Model & df & AIC & BIC & logLik & Test & L.Ratio & p-value\\\\\n",
       "\\hline\n",
       "\tSCun.fit.ml & gls(model = AC \\textasciitilde{} lnPCI + lnPPSM + YEAR, data = AutoClaimIn, correlation = corSymm(form = \\textasciitilde{}1 \\textbar{}     TOWNCODE), method = \"ML\") & 1                                                                                                                                                                       & 15                                                                                                                                                                      & 1320.753                                                                                                                                                                & 1365.404                                                                                                                                                                & -645.3763                                                                                                                                                               &                                                                                                                                                                         &       NA                                                                                                                                                                &           NA                                                                                                                                                           \\\\\n",
       "\tPool.fit & lm(formula = AC \\textasciitilde{} lnPCI + lnPPSM + YEAR, data = AutoClaimIn)                                                                & 2                                                                                                                                            &  5                                                                                                                                           & 1359.497                                                                                                                                     & 1374.381                                                                                                                                     & -674.7487                                                                                                                                    & 1 vs 2                                                                                                                                       & 58.74476                                                                                                                                     & 6.257276e-09                                                                                                                                \\\\\n",
       "\\end{tabular}\n"
      ],
      "text/markdown": [
       "\n",
       "| <!--/--> | call | Model | df | AIC | BIC | logLik | Test | L.Ratio | p-value |\n",
       "|---|---|---|---|---|---|---|---|---|---|\n",
       "| SCun.fit.ml | gls(model = AC ~ lnPCI + lnPPSM + YEAR, data = AutoClaimIn, correlation = corSymm(form = ~1 |     TOWNCODE), method = \"ML\") | 1                                                                                                                           | 15                                                                                                                          | 1320.753                                                                                                                    | 1365.404                                                                                                                    | -645.3763                                                                                                                   |                                                                                                                             |       NA                                                                                                                    |           NA                                                                                                                |\n",
       "| Pool.fit | lm(formula = AC ~ lnPCI + lnPPSM + YEAR, data = AutoClaimIn)                                                                | 2                                                                                                                           |  5                                                                                                                          | 1359.497                                                                                                                    | 1374.381                                                                                                                    | -674.7487                                                                                                                   | 1 vs 2                                                                                                                      | 58.74476                                                                                                                    | 6.257276e-09                                                                                                                |\n",
       "\n"
      ],
      "text/plain": [
       "            call                                                                                                                       \n",
       "SCun.fit.ml gls(model = AC ~ lnPCI + lnPPSM + YEAR, data = AutoClaimIn, correlation = corSymm(form = ~1 |     TOWNCODE), method = \"ML\")\n",
       "Pool.fit    lm(formula = AC ~ lnPCI + lnPPSM + YEAR, data = AutoClaimIn)                                                               \n",
       "            Model df AIC      BIC      logLik    Test   L.Ratio  p-value     \n",
       "SCun.fit.ml 1     15 1320.753 1365.404 -645.3763              NA           NA\n",
       "Pool.fit    2      5 1359.497 1374.381 -674.7487 1 vs 2 58.74476 6.257276e-09"
      ]
     },
     "metadata": {},
     "output_type": "display_data"
    }
   ],
   "source": [
    "anova(SCun.fit.ml, Pool.fit)"
   ]
  },
  {
   "cell_type": "markdown",
   "metadata": {},
   "source": [
    "#### 2.3. Models with Random E\u000b",
    "ects"
   ]
  },
  {
   "cell_type": "markdown",
   "metadata": {},
   "source": [
    "We implement the error components model EC.fit using function lme() in the nlme package. The argument random is used to specify the random effects in the mixed-effects model. The default uses the REML to estimate model parameters. The confidence intervals of variance components are calculated in a similar way as for models with serial correlation and can be called by function intervals()."
   ]
  },
  {
   "cell_type": "code",
   "execution_count": 29,
   "metadata": {},
   "outputs": [
    {
     "data": {
      "text/plain": [
       "Linear mixed-effects model fit by REML\n",
       " Data: AutoClaimIn \n",
       "       AIC      BIC    logLik\n",
       "  1303.913 1321.606 -645.9566\n",
       "\n",
       "Random effects:\n",
       " Formula: ~1 | TOWNCODE\n",
       "        (Intercept) Residual\n",
       "StdDev:    18.05746 19.03756\n",
       "\n",
       "Fixed effects: AC ~ lnPCI + lnPPSM + YEAR \n",
       "               Value Std.Error  DF   t-value p-value\n",
       "(Intercept) 887.8878 206.81071 113  4.293239   0e+00\n",
       "lnPCI       -91.1979  20.41210 113 -4.467833   0e+00\n",
       "lnPPSM       21.9614   5.07913 113  4.323844   0e+00\n",
       "YEAR          3.9119   1.14457 113  3.417801   9e-04\n",
       " Correlation: \n",
       "       (Intr) lnPCI  lnPPSM\n",
       "lnPCI  -0.988              \n",
       "lnPPSM -0.249  0.096       \n",
       "YEAR    0.197 -0.205 -0.082\n",
       "\n",
       "Standardized Within-Group Residuals:\n",
       "        Min          Q1         Med          Q3         Max \n",
       "-2.53017784 -0.61089180  0.01099886  0.50082006  2.91907172 \n",
       "\n",
       "Number of Observations: 145\n",
       "Number of Groups: 29 "
      ]
     },
     "metadata": {},
     "output_type": "display_data"
    }
   ],
   "source": [
    "# Error-components model\n",
    "EC.fit <- lme(AC ~ lnPCI+lnPPSM+YEAR, data=AutoClaimIn, random=~1|TOWNCODE)\n",
    "summary(EC.fit)"
   ]
  },
  {
   "cell_type": "code",
   "execution_count": 30,
   "metadata": {},
   "outputs": [
    {
     "data": {
      "text/plain": [
       "Approximate 95% confidence intervals\n",
       "\n",
       " Random Effects:\n",
       "  Level: TOWNCODE \n",
       "                   lower     est.    upper\n",
       "sd((Intercept)) 12.93755 18.05746 25.20352\n",
       "\n",
       " Within-group standard error:\n",
       "   lower     est.    upper \n",
       "16.72928 19.03756 21.66434 "
      ]
     },
     "metadata": {},
     "output_type": "display_data"
    }
   ],
   "source": [
    "intervals(EC.fit, which=\"var-cov\")"
   ]
  },
  {
   "cell_type": "markdown",
   "metadata": {},
   "source": [
    "A relevant question to ask is whether the subject-specific effects are significant or the intercepts take a common value. In our example, the test statistic is equal to 56.82 and thus we reject the null hypothesis of constant intercept."
   ]
  },
  {
   "cell_type": "code",
   "execution_count": 31,
   "metadata": {},
   "outputs": [
    {
     "data": {
      "text/html": [
       "56.8527809821837"
      ],
      "text/latex": [
       "56.8527809821837"
      ],
      "text/markdown": [
       "56.8527809821837"
      ],
      "text/plain": [
       "[1] 56.85278"
      ]
     },
     "metadata": {},
     "output_type": "display_data"
    }
   ],
   "source": [
    "# Pooling test\n",
    "tcode = unique(AutoClaimIn$TOWNCODE)\n",
    "n = length(tcode)\n",
    "N = nrow(AutoClaimIn)\n",
    "T <- rep(NA,n)\n",
    "s <- rep(NA,n)\n",
    "for (i in 1:n){T[i] <- nrow(subset(AutoClaimIn,TOWNCODE==tcode[i]))\n",
    "               s[i] <- (sum(subset(AutoClaimIn,TOWNCODE==tcode[i])$rPool)^2\n",
    "             - sum(subset(AutoClaimIn,TOWNCODE==tcode[i])$rPool^2))/T[i]/(T[i]-1)}\n",
    "TS <- (sum(s*sqrt(T*(T-1)))*N/sum(AutoClaimIn$rPool^2))^2/2/n\n",
    "TS"
   ]
  },
  {
   "cell_type": "markdown",
   "metadata": {},
   "source": [
    "To implement the mixed-efiects model, one could use correlation in the lme() function to specify serial correlation. For example, in the model RE.fit, we use update() to include AR(1) temporal correlation in the error components model. Here we see that with subject-specific intercept, the serial correlation (-0.014) is not significant. The function getVarCov() can be used to output the variance-covariance matrix. The argument type=\"conditional\" provides the estimate of $R_i$ and the argument type=\"marginal\" provides the estimate of $V_i$. We further perform a likelihood ratio test to test for the serial correlation using anova. Consistently, the large p-value does not show support for serial correlation in the error components model. Note: we use method=\"ML\" to get the true log-likelihood value for this test."
   ]
  },
  {
   "cell_type": "code",
   "execution_count": 32,
   "metadata": {},
   "outputs": [
    {
     "data": {
      "text/plain": [
       "Linear mixed-effects model fit by REML\n",
       " Data: AutoClaimIn \n",
       "       AIC      BIC    logLik\n",
       "  1305.897 1326.538 -645.9484\n",
       "\n",
       "Random effects:\n",
       " Formula: ~1 | TOWNCODE\n",
       "        (Intercept) Residual\n",
       "StdDev:    18.10974  18.9826\n",
       "\n",
       "Correlation Structure: AR(1)\n",
       " Formula: ~1 | TOWNCODE \n",
       " Parameter estimate(s):\n",
       "        Phi \n",
       "-0.01444735 \n",
       "Fixed effects: AC ~ lnPCI + lnPPSM + YEAR \n",
       "               Value Std.Error  DF   t-value p-value\n",
       "(Intercept) 887.8789 206.74423 113  4.294577   0e+00\n",
       "lnPCI       -91.2038  20.40536 113 -4.469601   0e+00\n",
       "lnPPSM       21.9669   5.07795 113  4.325938   0e+00\n",
       "YEAR          3.9237   1.13499 113  3.457055   8e-04\n",
       " Correlation: \n",
       "       (Intr) lnPCI  lnPPSM\n",
       "lnPCI  -0.988              \n",
       "lnPPSM -0.249  0.096       \n",
       "YEAR    0.198 -0.207 -0.082\n",
       "\n",
       "Standardized Within-Group Residuals:\n",
       "        Min          Q1         Med          Q3         Max \n",
       "-2.55033919 -0.60887177  0.02008323  0.49759528  2.91281638 \n",
       "\n",
       "Number of Observations: 145\n",
       "Number of Groups: 29 "
      ]
     },
     "metadata": {},
     "output_type": "display_data"
    }
   ],
   "source": [
    "# Error component with AR1\n",
    "RE.fit <- update(EC.fit, correlation=corAR1(form=~1|TOWNCODE))\n",
    "summary(RE.fit)"
   ]
  },
  {
   "cell_type": "code",
   "execution_count": 33,
   "metadata": {},
   "outputs": [
    {
     "data": {
      "text/plain": [
       "Approximate 95% confidence intervals\n",
       "\n",
       " Random Effects:\n",
       "  Level: TOWNCODE \n",
       "                   lower     est.    upper\n",
       "sd((Intercept)) 12.97163 18.10974 25.28307\n",
       "\n",
       " Correlation structure:\n",
       "         lower        est.     upper\n",
       "Phi -0.2172584 -0.01444735 0.1895595\n",
       "attr(,\"label\")\n",
       "[1] \"Correlation structure:\"\n",
       "\n",
       " Within-group standard error:\n",
       "   lower     est.    upper \n",
       "16.58597 18.98260 21.72554 "
      ]
     },
     "metadata": {},
     "output_type": "display_data"
    }
   ],
   "source": [
    "intervals(RE.fit, which=\"var-cov\")"
   ]
  },
  {
   "cell_type": "code",
   "execution_count": 34,
   "metadata": {},
   "outputs": [
    {
     "data": {
      "text/plain": [
       "Random effects variance covariance matrix\n",
       "            (Intercept)\n",
       "(Intercept)      327.96\n",
       "  Standard Deviations: 18.11 "
      ]
     },
     "metadata": {},
     "output_type": "display_data"
    }
   ],
   "source": [
    "# Get variance components\n",
    "getVarCov(RE.fit)"
   ]
  },
  {
   "cell_type": "code",
   "execution_count": 35,
   "metadata": {},
   "outputs": [
    {
     "data": {
      "text/plain": [
       "TOWNCODE 10 \n",
       "Conditional variance covariance matrix\n",
       "            1           2          3           4           5\n",
       "1  3.6034e+02  -5.2059000   0.075212  -0.0010866  1.5699e-05\n",
       "2 -5.2059e+00 360.3400000  -5.205900   0.0752120 -1.0866e-03\n",
       "3  7.5212e-02  -5.2059000 360.340000  -5.2059000  7.5212e-02\n",
       "4 -1.0866e-03   0.0752120  -5.205900 360.3400000 -5.2059e+00\n",
       "5  1.5699e-05  -0.0010866   0.075212  -5.2059000  3.6034e+02\n",
       "  Standard Deviations: 18.983 18.983 18.983 18.983 18.983 "
      ]
     },
     "metadata": {},
     "output_type": "display_data"
    }
   ],
   "source": [
    "getVarCov(RE.fit, type=\"conditional\")"
   ]
  },
  {
   "cell_type": "code",
   "execution_count": 36,
   "metadata": {},
   "outputs": [
    {
     "data": {
      "text/plain": [
       "TOWNCODE 10 \n",
       "Marginal variance covariance matrix\n",
       "       1      2      3      4      5\n",
       "1 688.30 322.76 328.04 327.96 327.96\n",
       "2 322.76 688.30 322.76 328.04 327.96\n",
       "3 328.04 322.76 688.30 322.76 328.04\n",
       "4 327.96 328.04 322.76 688.30 322.76\n",
       "5 327.96 327.96 328.04 322.76 688.30\n",
       "  Standard Deviations: 26.236 26.236 26.236 26.236 26.236 "
      ]
     },
     "metadata": {},
     "output_type": "display_data"
    }
   ],
   "source": [
    "getVarCov(RE.fit, type=\"marginal\")"
   ]
  },
  {
   "cell_type": "code",
   "execution_count": 37,
   "metadata": {},
   "outputs": [
    {
     "data": {
      "text/html": [
       "<table>\n",
       "<thead><tr><th></th><th scope=col>call</th><th scope=col>Model</th><th scope=col>df</th><th scope=col>AIC</th><th scope=col>BIC</th><th scope=col>logLik</th><th scope=col>Test</th><th scope=col>L.Ratio</th><th scope=col>p-value</th></tr></thead>\n",
       "<tbody>\n",
       "\t<tr><th scope=row>EC.fit.ml</th><td>lme.formula(fixed = AC ~ lnPCI + lnPPSM + YEAR, data = AutoClaimIn,     random = ~1 | TOWNCODE, method = \"ML\")                                                    </td><td>1                                                                                                                                                                 </td><td>6                                                                                                                                                                 </td><td>1323.212                                                                                                                                                          </td><td>1341.073                                                                                                                                                          </td><td>-655.6062                                                                                                                                                         </td><td>                                                                                                                                                                  </td><td>        NA                                                                                                                                                        </td><td>       NA                                                                                                                                                         </td></tr>\n",
       "\t<tr><th scope=row>RE.fit.ml</th><td>lme.formula(fixed = AC ~ lnPCI + lnPPSM + YEAR, data = AutoClaimIn,     random = ~1 | TOWNCODE, correlation = corAR1(form = ~1 |         TOWNCODE), method = \"ML\")</td><td>2                                                                                                                                                                 </td><td>7                                                                                                                                                                 </td><td>1325.171                                                                                                                                                          </td><td>1346.009                                                                                                                                                          </td><td>-655.5857                                                                                                                                                         </td><td>1 vs 2                                                                                                                                                            </td><td>0.04087198                                                                                                                                                        </td><td>0.8397852                                                                                                                                                         </td></tr>\n",
       "</tbody>\n",
       "</table>\n"
      ],
      "text/latex": [
       "\\begin{tabular}{r|lllllllll}\n",
       "  & call & Model & df & AIC & BIC & logLik & Test & L.Ratio & p-value\\\\\n",
       "\\hline\n",
       "\tEC.fit.ml & lme.formula(fixed = AC \\textasciitilde{} lnPCI + lnPPSM + YEAR, data = AutoClaimIn,     random = \\textasciitilde{}1 \\textbar{} TOWNCODE, method = \"ML\")                                                     & 1                                                                                                                                                                                                              & 6                                                                                                                                                                                                              & 1323.212                                                                                                                                                                                                       & 1341.073                                                                                                                                                                                                       & -655.6062                                                                                                                                                                                                      &                                                                                                                                                                                                                &         NA                                                                                                                                                                                                     &        NA                                                                                                                                                                                                     \\\\\n",
       "\tRE.fit.ml & lme.formula(fixed = AC \\textasciitilde{} lnPCI + lnPPSM + YEAR, data = AutoClaimIn,     random = \\textasciitilde{}1 \\textbar{} TOWNCODE, correlation = corAR1(form = \\textasciitilde{}1 \\textbar{}         TOWNCODE), method = \"ML\") & 2                                                                                                                                                                                                                                         & 7                                                                                                                                                                                                                                         & 1325.171                                                                                                                                                                                                                                  & 1346.009                                                                                                                                                                                                                                  & -655.5857                                                                                                                                                                                                                                 & 1 vs 2                                                                                                                                                                                                                                    & 0.04087198                                                                                                                                                                                                                                & 0.8397852                                                                                                                                                                                                                                \\\\\n",
       "\\end{tabular}\n"
      ],
      "text/markdown": [
       "\n",
       "| <!--/--> | call | Model | df | AIC | BIC | logLik | Test | L.Ratio | p-value |\n",
       "|---|---|---|---|---|---|---|---|---|---|\n",
       "| EC.fit.ml | lme.formula(fixed = AC ~ lnPCI + lnPPSM + YEAR, data = AutoClaimIn,     random = ~1 | TOWNCODE, method = \"ML\")                                                     | 1                                                                                                                                                                  | 6                                                                                                                                                                  | 1323.212                                                                                                                                                           | 1341.073                                                                                                                                                           | -655.6062                                                                                                                                                          |                                                                                                                                                                    |         NA                                                                                                                                                         |        NA                                                                                                                                                          |\n",
       "| RE.fit.ml | lme.formula(fixed = AC ~ lnPCI + lnPPSM + YEAR, data = AutoClaimIn,     random = ~1 | TOWNCODE, correlation = corAR1(form = ~1 |         TOWNCODE), method = \"ML\") | 2                                                                                                                                                                  | 7                                                                                                                                                                  | 1325.171                                                                                                                                                           | 1346.009                                                                                                                                                           | -655.5857                                                                                                                                                          | 1 vs 2                                                                                                                                                             | 0.04087198                                                                                                                                                         | 0.8397852                                                                                                                                                          |\n",
       "\n"
      ],
      "text/plain": [
       "          call                                                                                                                                                              \n",
       "EC.fit.ml lme.formula(fixed = AC ~ lnPCI + lnPPSM + YEAR, data = AutoClaimIn,     random = ~1 | TOWNCODE, method = \"ML\")                                                    \n",
       "RE.fit.ml lme.formula(fixed = AC ~ lnPCI + lnPPSM + YEAR, data = AutoClaimIn,     random = ~1 | TOWNCODE, correlation = corAR1(form = ~1 |         TOWNCODE), method = \"ML\")\n",
       "          Model df AIC      BIC      logLik    Test   L.Ratio    p-value  \n",
       "EC.fit.ml 1     6  1323.212 1341.073 -655.6062                NA        NA\n",
       "RE.fit.ml 2     7  1325.171 1346.009 -655.5857 1 vs 2 0.04087198 0.8397852"
      ]
     },
     "metadata": {},
     "output_type": "display_data"
    }
   ],
   "source": [
    "# Likelihood ratio test\n",
    "EC.fit.ml <- lme(AC ~ lnPCI+lnPPSM+YEAR, data=AutoClaimIn, random=~1|TOWNCODE, method=\"ML\")\n",
    "RE.fit.ml <- update(EC.fit, correlation=corAR1(form=~1|TOWNCODE), method=\"ML\")\n",
    "anova(EC.fit.ml, RE.fit.ml)"
   ]
  },
  {
   "cell_type": "markdown",
   "metadata": {},
   "source": [
    "We conclude this section with the Hausman test. As an example, we compare the basic fixed-effects model with the error components model. The test statistic's observed value is 3.97, supporting the error components formulation."
   ]
  },
  {
   "cell_type": "code",
   "execution_count": 38,
   "metadata": {},
   "outputs": [
    {
     "data": {
      "text/html": [
       "<table>\n",
       "<tbody>\n",
       "\t<tr><td>3.970489</td></tr>\n",
       "</tbody>\n",
       "</table>\n"
      ],
      "text/latex": [
       "\\begin{tabular}{l}\n",
       "\t 3.970489\\\\\n",
       "\\end{tabular}\n"
      ],
      "text/markdown": [
       "\n",
       "| 3.970489 |\n",
       "\n"
      ],
      "text/plain": [
       "     [,1]    \n",
       "[1,] 3.970489"
      ]
     },
     "metadata": {},
     "output_type": "display_data"
    }
   ],
   "source": [
    "# Hausman test\n",
    "Var.FE <- vcov(FE.fit)[-(1:n),-(1:n)]\n",
    "Var.EC <- vcov(EC.fit)[-1,-1]\n",
    "beta.FE <- coef(FE.fit)[-(1:n)]\n",
    "beta.EC <- fixef(EC.fit)[-1]\n",
    "ChiSq <- t(beta.FE-beta.EC)%*%solve(Var.FE-Var.EC)%*%(beta.FE-beta.EC)\n",
    "ChiSq"
   ]
  },
  {
   "cell_type": "markdown",
   "metadata": {},
   "source": [
    "#### 2..4. Prediction"
   ]
  },
  {
   "cell_type": "markdown",
   "metadata": {},
   "source": [
    "Here we reviews prediction for longitudinal data mixed-effects models. In previous, we discussed the estimation and inference of fixed parameters in the model. It is also of interest to summarize the subject-specific effects described by random variable. For example, in credibility theory, one is interested in the prediction of expected claims for a policyholder given his risk class. In doing so, we develop the best linear unbiased predictor (BLUP) of a random variable. Predictors are said to be linear if they are formed from a linear combination of the response and the BLUPs are constructed by minimizing the mean square error."
   ]
  },
  {
   "cell_type": "code",
   "execution_count": 39,
   "metadata": {},
   "outputs": [
    {
     "data": {
      "text/html": [
       "<table>\n",
       "<thead><tr><th></th><th scope=col>(Intercept)</th></tr></thead>\n",
       "<tbody>\n",
       "\t<tr><th scope=row>10</th><td>-0.2049993</td></tr>\n",
       "\t<tr><th scope=row>11</th><td>-6.9197373</td></tr>\n",
       "\t<tr><th scope=row>12</th><td>17.7349235</td></tr>\n",
       "\t<tr><th scope=row>13</th><td>20.9538588</td></tr>\n",
       "\t<tr><th scope=row>14</th><td>-0.1942180</td></tr>\n",
       "\t<tr><th scope=row>15</th><td>-5.6464625</td></tr>\n",
       "</tbody>\n",
       "</table>\n"
      ],
      "text/latex": [
       "\\begin{tabular}{r|l}\n",
       "  & (Intercept)\\\\\n",
       "\\hline\n",
       "\t10 & -0.2049993\\\\\n",
       "\t11 & -6.9197373\\\\\n",
       "\t12 & 17.7349235\\\\\n",
       "\t13 & 20.9538588\\\\\n",
       "\t14 & -0.1942180\\\\\n",
       "\t15 & -5.6464625\\\\\n",
       "\\end{tabular}\n"
      ],
      "text/markdown": [
       "\n",
       "| <!--/--> | (Intercept) |\n",
       "|---|---|\n",
       "| 10 | -0.2049993 |\n",
       "| 11 | -6.9197373 |\n",
       "| 12 | 17.7349235 |\n",
       "| 13 | 20.9538588 |\n",
       "| 14 | -0.1942180 |\n",
       "| 15 | -5.6464625 |\n",
       "\n"
      ],
      "text/plain": [
       "   (Intercept)\n",
       "10 -0.2049993 \n",
       "11 -6.9197373 \n",
       "12 17.7349235 \n",
       "13 20.9538588 \n",
       "14 -0.1942180 \n",
       "15 -5.6464625 "
      ]
     },
     "metadata": {},
     "output_type": "display_data"
    }
   ],
   "source": [
    "# BLUP\n",
    "alpha.BLUP <- ranef(EC.fit)\n",
    "beta.GLS <- fixef(EC.fit)\n",
    "resid.BLUP <- residuals(EC.fit, type=\"response\")\n",
    "rstandard.BLUP <- residuals(EC.fit, type=\"normalized\")\n",
    "head(alpha.BLUP)"
   ]
  },
  {
   "cell_type": "markdown",
   "metadata": {},
   "source": [
    "To conclude this section, we compare the performance of alternative models using the data of automobile insurance. For in-sample data, we report the informationbased model selection criteria AIC and BIC. For out-of-sample, we report the sum of squared prediction error (SSPE) and the sum of absolute prediction error (SAPE). The results show that models that account for subject-specific effects perform better, regardless of the way that heterogeneity is accommodated."
   ]
  },
  {
   "cell_type": "code",
   "execution_count": 40,
   "metadata": {},
   "outputs": [],
   "source": [
    "# Use data of year 1998 for validation\n",
    "AutoClaimOut <- subset(AutoClaim, YEAR == 1998)"
   ]
  },
  {
   "cell_type": "code",
   "execution_count": 41,
   "metadata": {},
   "outputs": [],
   "source": [
    "# Define new variables\n",
    "AutoClaimOut$lnPCI <- log(AutoClaimOut$PCI)\n",
    "AutoClaimOut$lnPPSM <- log(AutoClaimOut$PPSM)\n",
    "AutoClaimOut$YEAR <- AutoClaimOut$YEAR-1992"
   ]
  },
  {
   "cell_type": "code",
   "execution_count": 42,
   "metadata": {},
   "outputs": [],
   "source": [
    "# Compare models Pool.fit, SCar.fit, FE.fit, EC.fit, RE.fit and FEar.fit\n",
    "# Fixed-effects model with AR(1)\n",
    "FEar.fit <- gls(AC ~ factor(TOWNCODE)+lnPCI+lnPPSM+YEAR-1,\n",
    "                data=AutoClaimIn, correlation=corAR1(form=~1|TOWNCODE))\n",
    "FEar.fit.ml <- gls(AC ~ factor(TOWNCODE)+lnPCI+lnPPSM+YEAR-1,\n",
    "                data=AutoClaimIn, correlation=corAR1(form=~1|TOWNCODE), method=\"ML\")"
   ]
  },
  {
   "cell_type": "code",
   "execution_count": 43,
   "metadata": {},
   "outputs": [],
   "source": [
    "# Prediction\n",
    "Xmat <- cbind(rep(1,nrow(AutoClaimOut)), AutoClaimOut$lnPCI, AutoClaimOut$lnPPSM,AutoClaimOut$YEAR)"
   ]
  },
  {
   "cell_type": "code",
   "execution_count": 44,
   "metadata": {},
   "outputs": [
    {
     "data": {
      "text/html": [
       "22201.7760218541"
      ],
      "text/latex": [
       "22201.7760218541"
      ],
      "text/markdown": [
       "22201.7760218541"
      ],
      "text/plain": [
       "[1] 22201.78"
      ]
     },
     "metadata": {},
     "output_type": "display_data"
    },
    {
     "data": {
      "text/html": [
       "681.247330190589"
      ],
      "text/latex": [
       "681.247330190589"
      ],
      "text/markdown": [
       "681.247330190589"
      ],
      "text/plain": [
       "[1] 681.2473"
      ]
     },
     "metadata": {},
     "output_type": "display_data"
    }
   ],
   "source": [
    "beta.Pool <- coef(Pool.fit)\n",
    "pred.Pool <- Xmat%*%beta.Pool\n",
    "\n",
    "MSPE.Pool <- sum((pred.Pool - AutoClaimOut$AC)^2)\n",
    "MSPE.Pool\n",
    "MAPE.Pool <- sum(abs(pred.Pool - AutoClaimOut$AC))\n",
    "MAPE.Pool"
   ]
  },
  {
   "cell_type": "code",
   "execution_count": 45,
   "metadata": {},
   "outputs": [
    {
     "data": {
      "text/html": [
       "21242.6394351876"
      ],
      "text/latex": [
       "21242.6394351876"
      ],
      "text/markdown": [
       "21242.6394351876"
      ],
      "text/plain": [
       "[1] 21242.64"
      ]
     },
     "metadata": {},
     "output_type": "display_data"
    },
    {
     "data": {
      "text/html": [
       "658.97863100546"
      ],
      "text/latex": [
       "658.97863100546"
      ],
      "text/markdown": [
       "658.97863100546"
      ],
      "text/plain": [
       "[1] 658.9786"
      ]
     },
     "metadata": {},
     "output_type": "display_data"
    }
   ],
   "source": [
    "beta.SCar <- coef(SCar.fit)\n",
    "pred.SCar <- Xmat%*%beta.SCar\n",
    "\n",
    "MSPE.SCar <- sum((pred.SCar - AutoClaimOut$AC)^2)\n",
    "MSPE.SCar\n",
    "MAPE.SCar <- sum(abs(pred.SCar - AutoClaimOut$AC))\n",
    "MAPE.SCar"
   ]
  },
  {
   "cell_type": "code",
   "execution_count": 46,
   "metadata": {},
   "outputs": [
    {
     "data": {
      "text/html": [
       "21506.0717560436"
      ],
      "text/latex": [
       "21506.0717560436"
      ],
      "text/markdown": [
       "21506.0717560436"
      ],
      "text/plain": [
       "[1] 21506.07"
      ]
     },
     "metadata": {},
     "output_type": "display_data"
    },
    {
     "data": {
      "text/html": [
       "660.589357893279"
      ],
      "text/latex": [
       "660.589357893279"
      ],
      "text/markdown": [
       "660.589357893279"
      ],
      "text/plain": [
       "[1] 660.5894"
      ]
     },
     "metadata": {},
     "output_type": "display_data"
    }
   ],
   "source": [
    "beta.FE <- coef(FE.fit)[-(1:29)]\n",
    "pred.FE <- coef(FE.fit)[1:29] + Xmat[,-1]%*%beta.FE\n",
    "\n",
    "MSPE.FE <- sum((pred.FE - AutoClaimOut$AC)^2)\n",
    "MSPE.FE\n",
    "MAPE.FE <- sum(abs(pred.FE - AutoClaimOut$AC)) \n",
    "MAPE.FE"
   ]
  },
  {
   "cell_type": "code",
   "execution_count": 47,
   "metadata": {},
   "outputs": [
    {
     "data": {
      "text/html": [
       "21573.7889853474"
      ],
      "text/latex": [
       "21573.7889853474"
      ],
      "text/markdown": [
       "21573.7889853474"
      ],
      "text/plain": [
       "[1] 21573.79"
      ]
     },
     "metadata": {},
     "output_type": "display_data"
    },
    {
     "data": {
      "text/html": [
       "662.042172995562"
      ],
      "text/latex": [
       "662.042172995562"
      ],
      "text/markdown": [
       "662.042172995562"
      ],
      "text/plain": [
       "[1] 662.0422"
      ]
     },
     "metadata": {},
     "output_type": "display_data"
    }
   ],
   "source": [
    "beta.FEar <- coef(FEar.fit)[-(1:29)]\n",
    "pred.FEar <- coef(FEar.fit)[1:29] + Xmat[,-1]%*%beta.FEar\n",
    "\n",
    "MSPE.FEar <- sum((pred.FEar - AutoClaimOut$AC)^2)\n",
    "MSPE.FEar\n",
    "MAPE.FEar <- sum(abs(pred.FEar - AutoClaimOut$AC))\n",
    "MAPE.FEar"
   ]
  },
  {
   "cell_type": "code",
   "execution_count": 48,
   "metadata": {},
   "outputs": [
    {
     "data": {
      "text/html": [
       "19515.8563314463"
      ],
      "text/latex": [
       "19515.8563314463"
      ],
      "text/markdown": [
       "19515.8563314463"
      ],
      "text/plain": [
       "[1] 19515.86"
      ]
     },
     "metadata": {},
     "output_type": "display_data"
    },
    {
     "data": {
      "text/html": [
       "619.441138296605"
      ],
      "text/latex": [
       "619.441138296605"
      ],
      "text/markdown": [
       "619.441138296605"
      ],
      "text/plain": [
       "[1] 619.4411"
      ]
     },
     "metadata": {},
     "output_type": "display_data"
    }
   ],
   "source": [
    "alpha.EC <- ranef(EC.fit)\n",
    "beta.EC <- fixef(EC.fit)\n",
    "pred.EC <- alpha.EC+Xmat%*%beta.EC\n",
    "\n",
    "MSPE.EC <- sum((pred.EC - AutoClaimOut$AC)^2)\n",
    "MSPE.EC\n",
    "MAPE.EC <- sum(abs(pred.EC - AutoClaimOut$AC))\n",
    "MAPE.EC"
   ]
  },
  {
   "cell_type": "code",
   "execution_count": 49,
   "metadata": {},
   "outputs": [
    {
     "data": {
      "text/html": [
       "19572.9362073989"
      ],
      "text/latex": [
       "19572.9362073989"
      ],
      "text/markdown": [
       "19572.9362073989"
      ],
      "text/plain": [
       "[1] 19572.94"
      ]
     },
     "metadata": {},
     "output_type": "display_data"
    },
    {
     "data": {
      "text/html": [
       "620.638222593274"
      ],
      "text/latex": [
       "620.638222593274"
      ],
      "text/markdown": [
       "620.638222593274"
      ],
      "text/plain": [
       "[1] 620.6382"
      ]
     },
     "metadata": {},
     "output_type": "display_data"
    }
   ],
   "source": [
    "alpha.RE <- ranef(RE.fit)\n",
    "beta.RE <- fixef(RE.fit)\n",
    "pred.RE <- alpha.RE+Xmat%*%beta.RE\n",
    "\n",
    "MSPE.RE <- sum((pred.RE - AutoClaimOut$AC)^2)\n",
    "MSPE.RE\n",
    "MAPE.RE <- sum(abs(pred.RE - AutoClaimOut$AC))\n",
    "MAPE.RE"
   ]
  },
  {
   "cell_type": "markdown",
   "metadata": {},
   "source": [
    "TABLE: Comparison of alternative models\n",
    "\n",
    "                                           In-Sample        Out-of-Sample\n",
    "                                         AIC      BIC       SSPE     SAPE\n",
    "    -----------------------------------------------------------------------\n",
    "    Pooled cross-sectional model         1359.50 1374.38    22201.78 681.25\n",
    "    Pooled cross-sectional with AR(1)    1339.34 1357.21    21242.64 658.98\n",
    "    Fixed-effects model                  1293.33 1391.56    21506.07 660.59\n",
    "    Fixed-effects with AR(1)             1286.03 1387.24    21573.79 662.04\n",
    "    Error-components model               1323.21 1341.07    19515.86 619.44\n",
    "    Error-components with AR(1)          1325.17 1346.01    19572.94 620.64"
   ]
  },
  {
   "cell_type": "markdown",
   "metadata": {},
   "source": [
    "### 3. Generalized Linear Models for Longitudinal Data"
   ]
  },
  {
   "cell_type": "markdown",
   "metadata": {},
   "source": [
    "#### 3.1. Transition Rules, Transition Probabilities and Stationary Distribution"
   ]
  },
  {
   "cell_type": "markdown",
   "metadata": {},
   "source": [
    "In R, we specify this one-step transition matrix P as follows:"
   ]
  },
  {
   "cell_type": "code",
   "execution_count": 50,
   "metadata": {},
   "outputs": [],
   "source": [
    "Pmatrix =\n",
    "function(th) {\n",
    "    P = matrix(nrow=6,ncol=6,data=0)\n",
    "    P[1,1]=P[2,1]=P[3,2]=P[4,3]=P[5,4]=P[6,5]= exp(-th)\n",
    "    P[,6] = 1-exp(-th)\n",
    "    return(P)}"
   ]
  },
  {
   "cell_type": "markdown",
   "metadata": {},
   "source": [
    "We specify the stationary distribution of the (-1/Top Scale) in R:"
   ]
  },
  {
   "cell_type": "code",
   "execution_count": 51,
   "metadata": {},
   "outputs": [],
   "source": [
    "lim.distr = function(matrix) {\n",
    "    et = matrix(nrow=1, ncol=dim(matrix)[2], data=1)\n",
    "    E = matrix(nrow=dim(matrix)[1], ncol=dim(matrix)[2], data=1)\n",
    "    mat = diag(dim(matrix)[1]) - matrix + E\n",
    "    inverse.mat = solve(mat)\n",
    "    p = et %*% inverse.mat\n",
    "    return(p)}"
   ]
  },
  {
   "cell_type": "code",
   "execution_count": 52,
   "metadata": {},
   "outputs": [
    {
     "data": {
      "text/html": [
       "<table>\n",
       "<tbody>\n",
       "\t<tr><td>0.9048374 </td><td>0.0000000 </td><td>0.0000000 </td><td>0.0000000 </td><td>0.0000000 </td><td>0.09516258</td></tr>\n",
       "\t<tr><td>0.9048374 </td><td>0.0000000 </td><td>0.0000000 </td><td>0.0000000 </td><td>0.0000000 </td><td>0.09516258</td></tr>\n",
       "\t<tr><td>0.0000000 </td><td>0.9048374 </td><td>0.0000000 </td><td>0.0000000 </td><td>0.0000000 </td><td>0.09516258</td></tr>\n",
       "\t<tr><td>0.0000000 </td><td>0.0000000 </td><td>0.9048374 </td><td>0.0000000 </td><td>0.0000000 </td><td>0.09516258</td></tr>\n",
       "\t<tr><td>0.0000000 </td><td>0.0000000 </td><td>0.0000000 </td><td>0.9048374 </td><td>0.0000000 </td><td>0.09516258</td></tr>\n",
       "\t<tr><td>0.0000000 </td><td>0.0000000 </td><td>0.0000000 </td><td>0.0000000 </td><td>0.9048374 </td><td>0.09516258</td></tr>\n",
       "</tbody>\n",
       "</table>\n"
      ],
      "text/latex": [
       "\\begin{tabular}{llllll}\n",
       "\t 0.9048374  & 0.0000000  & 0.0000000  & 0.0000000  & 0.0000000  & 0.09516258\\\\\n",
       "\t 0.9048374  & 0.0000000  & 0.0000000  & 0.0000000  & 0.0000000  & 0.09516258\\\\\n",
       "\t 0.0000000  & 0.9048374  & 0.0000000  & 0.0000000  & 0.0000000  & 0.09516258\\\\\n",
       "\t 0.0000000  & 0.0000000  & 0.9048374  & 0.0000000  & 0.0000000  & 0.09516258\\\\\n",
       "\t 0.0000000  & 0.0000000  & 0.0000000  & 0.9048374  & 0.0000000  & 0.09516258\\\\\n",
       "\t 0.0000000  & 0.0000000  & 0.0000000  & 0.0000000  & 0.9048374  & 0.09516258\\\\\n",
       "\\end{tabular}\n"
      ],
      "text/markdown": [
       "\n",
       "| 0.9048374  | 0.0000000  | 0.0000000  | 0.0000000  | 0.0000000  | 0.09516258 |\n",
       "| 0.9048374  | 0.0000000  | 0.0000000  | 0.0000000  | 0.0000000  | 0.09516258 |\n",
       "| 0.0000000  | 0.9048374  | 0.0000000  | 0.0000000  | 0.0000000  | 0.09516258 |\n",
       "| 0.0000000  | 0.0000000  | 0.9048374  | 0.0000000  | 0.0000000  | 0.09516258 |\n",
       "| 0.0000000  | 0.0000000  | 0.0000000  | 0.9048374  | 0.0000000  | 0.09516258 |\n",
       "| 0.0000000  | 0.0000000  | 0.0000000  | 0.0000000  | 0.9048374  | 0.09516258 |\n",
       "\n"
      ],
      "text/plain": [
       "     [,1]      [,2]      [,3]      [,4]      [,5]      [,6]      \n",
       "[1,] 0.9048374 0.0000000 0.0000000 0.0000000 0.0000000 0.09516258\n",
       "[2,] 0.9048374 0.0000000 0.0000000 0.0000000 0.0000000 0.09516258\n",
       "[3,] 0.0000000 0.9048374 0.0000000 0.0000000 0.0000000 0.09516258\n",
       "[4,] 0.0000000 0.0000000 0.9048374 0.0000000 0.0000000 0.09516258\n",
       "[5,] 0.0000000 0.0000000 0.0000000 0.9048374 0.0000000 0.09516258\n",
       "[6,] 0.0000000 0.0000000 0.0000000 0.0000000 0.9048374 0.09516258"
      ]
     },
     "metadata": {},
     "output_type": "display_data"
    }
   ],
   "source": [
    "P = Pmatrix(0.1)\n",
    "P"
   ]
  },
  {
   "cell_type": "code",
   "execution_count": 53,
   "metadata": {},
   "outputs": [
    {
     "data": {
      "text/html": [
       "<table>\n",
       "<tbody>\n",
       "\t<tr><td>0.6065307 </td><td>0.06378939</td><td>0.07049817</td><td>0.07791253</td><td>0.08610666</td><td>0.09516258</td></tr>\n",
       "</tbody>\n",
       "</table>\n"
      ],
      "text/latex": [
       "\\begin{tabular}{llllll}\n",
       "\t 0.6065307  & 0.06378939 & 0.07049817 & 0.07791253 & 0.08610666 & 0.09516258\\\\\n",
       "\\end{tabular}\n"
      ],
      "text/markdown": [
       "\n",
       "| 0.6065307  | 0.06378939 | 0.07049817 | 0.07791253 | 0.08610666 | 0.09516258 |\n",
       "\n"
      ],
      "text/plain": [
       "     [,1]      [,2]       [,3]       [,4]       [,5]       [,6]      \n",
       "[1,] 0.6065307 0.06378939 0.07049817 0.07791253 0.08610666 0.09516258"
      ]
     },
     "metadata": {},
     "output_type": "display_data"
    }
   ],
   "source": [
    "pi = lim.distr(P)\n",
    "pi"
   ]
  },
  {
   "cell_type": "markdown",
   "metadata": {},
   "source": [
    "#### 3.2 Relativities"
   ]
  },
  {
   "cell_type": "markdown",
   "metadata": {},
   "source": [
    "The calculation of the relativities in a BM scale reveals some similarities with explicit credibility-type calculations."
   ]
  },
  {
   "cell_type": "code",
   "execution_count": 54,
   "metadata": {},
   "outputs": [],
   "source": [
    "#Without a priori ratemaking\n",
    "a.hat = 0.8888\n",
    "lambda.hat = 0.1474"
   ]
  },
  {
   "cell_type": "code",
   "execution_count": 55,
   "metadata": {},
   "outputs": [],
   "source": [
    "int1 = function(theta, s, a, lambda) {\n",
    "        a = a.hat\n",
    "        lambda = lambda.hat\n",
    "        f.dist = gamma(a)^(-1) * a^a * theta^(a-1) * exp(-a*theta)\n",
    "        p = lim.distr(Pmatrix((lambda*theta)))\n",
    "        return(theta*p[1,s+1]*f.dist)}\n",
    "P1 = matrix(nrow=1, ncol=6, data=0)\n",
    "for (i in 0:5) P1[1,i+1] = integrate(Vectorize(int1),lower=0,upper=Inf,s=i)$value"
   ]
  },
  {
   "cell_type": "code",
   "execution_count": 56,
   "metadata": {},
   "outputs": [],
   "source": [
    "int2 = function(theta, s, a, lambda) {\n",
    "    a = a.hat\n",
    "    lambda = lambda.hat\n",
    "    f.dist = gamma(a)^(-1) * a^a * theta^(a-1) * exp(-a*theta)\n",
    "    p = lim.distr(Pmatrix((lambda*theta)))\n",
    "    return(p[1,s+1]*f.dist)}\n",
    "P2 = matrix(nrow=1, ncol=6, data=0)\n",
    "for (i in 0:5) P2[1,i+1] = integrate(Vectorize(int2),lower=0,upper=Inf,s=i)$value"
   ]
  },
  {
   "cell_type": "code",
   "execution_count": 57,
   "metadata": {},
   "outputs": [
    {
     "data": {
      "text/html": [
       "<table>\n",
       "<tbody>\n",
       "\t<tr><td>0.5466848</td><td>1.21958  </td><td>1.348203 </td><td>1.507254 </td><td>1.709032 </td><td>1.973534 </td></tr>\n",
       "</tbody>\n",
       "</table>\n"
      ],
      "text/latex": [
       "\\begin{tabular}{llllll}\n",
       "\t 0.5466848 & 1.21958   & 1.348203  & 1.507254  & 1.709032  & 1.973534 \\\\\n",
       "\\end{tabular}\n"
      ],
      "text/markdown": [
       "\n",
       "| 0.5466848 | 1.21958   | 1.348203  | 1.507254  | 1.709032  | 1.973534  |\n",
       "\n"
      ],
      "text/plain": [
       "     [,1]      [,2]    [,3]     [,4]     [,5]     [,6]    \n",
       "[1,] 0.5466848 1.21958 1.348203 1.507254 1.709032 1.973534"
      ]
     },
     "metadata": {},
     "output_type": "display_data"
    }
   ],
   "source": [
    "R = P1 / P2\n",
    "R"
   ]
  },
  {
   "cell_type": "markdown",
   "metadata": {},
   "source": [
    "To demonstrate the calculation of relativities when accounting for a priori rating, we use the Portfolio A data from Denuit."
   ]
  },
  {
   "cell_type": "code",
   "execution_count": 58,
   "metadata": {},
   "outputs": [],
   "source": [
    "lambda = c(0.1176,0.1408,0.1897,0.2272,0.1457,0.1746,0.2351,0.2816,0.1761,0.2109,0.2840,0.3402,0.2182,\n",
    "           0.2614,0.3520,0.0928,0.1112,0.1498,0.1794,0.1151,0.1378,0.1856,0.2223)\n",
    "weights = c(0.1049,0.1396,0.0398,0.0705,0.0076,0.0122,0.0013,0.0014,0.0293,0.0299,0.0152,0.0242,0.0007,\n",
    "            0.0009,0.0002,0.1338,0.1973,0.0294,0.0661,0.0372,0.0517,0.0025,0.0044)\n",
    "a = 1.065\n",
    "n=length(weights)"
   ]
  },
  {
   "cell_type": "code",
   "execution_count": 59,
   "metadata": {},
   "outputs": [],
   "source": [
    "int3 = function(theta, lambda, a, l) {\n",
    "        p = lim.distr(Pmatrix(lambda*theta))\n",
    "        f.dist = gamma(a)^(-1) * a^a * theta^(a-1) * exp(-a*theta)\n",
    "        return(theta*p[1,l+1]*f.dist)}"
   ]
  },
  {
   "cell_type": "code",
   "execution_count": 60,
   "metadata": {},
   "outputs": [],
   "source": [
    "int4 = function(theta, lambda, a, l) {\n",
    "        p = lim.distr(Pmatrix(lambda*theta))\n",
    "        f.dist = gamma(a)^(-1) * a^a * theta^(a-1) * exp(-a*theta)\n",
    "        return(p[1,l+1]*f.dist)}"
   ]
  },
  {
   "cell_type": "code",
   "execution_count": 61,
   "metadata": {},
   "outputs": [],
   "source": [
    "teller1 = teller2 = noemer = array(dim=6, data=0)\n",
    "result1 = result2 = array(dim=6, data=0)"
   ]
  },
  {
   "cell_type": "code",
   "execution_count": 62,
   "metadata": {},
   "outputs": [
    {
     "data": {
      "text/html": [
       "<ol class=list-inline>\n",
       "\t<li>0.611890696924939</li>\n",
       "\t<li>1.20888410093215</li>\n",
       "\t<li>1.3124751872866</li>\n",
       "\t<li>1.43882074933916</li>\n",
       "\t<li>1.59850136498525</li>\n",
       "\t<li>1.81230740349664</li>\n",
       "</ol>\n"
      ],
      "text/latex": [
       "\\begin{enumerate*}\n",
       "\\item 0.611890696924939\n",
       "\\item 1.20888410093215\n",
       "\\item 1.3124751872866\n",
       "\\item 1.43882074933916\n",
       "\\item 1.59850136498525\n",
       "\\item 1.81230740349664\n",
       "\\end{enumerate*}\n"
      ],
      "text/markdown": [
       "1. 0.611890696924939\n",
       "2. 1.20888410093215\n",
       "3. 1.3124751872866\n",
       "4. 1.43882074933916\n",
       "5. 1.59850136498525\n",
       "6. 1.81230740349664\n",
       "\n",
       "\n"
      ],
      "text/plain": [
       "[1] 0.6118907 1.2088841 1.3124752 1.4388207 1.5985014 1.8123074"
      ]
     },
     "metadata": {},
     "output_type": "display_data"
    }
   ],
   "source": [
    "for (i in 0:5) {\n",
    "    b = c = array(dim=n,data=0)\n",
    "    for (j in 1:n) {\n",
    "        b[j] = integrate(Vectorize(int3),lower=0, upper=Inf,lambda=lambda[j],a=a,l=i)$value\n",
    "        c[j] = integrate(Vectorize(int4),lower=0, upper=Inf,lambda=lambda[j],a=a,l=i)$value}\n",
    "    teller1[i+1] = b %*% weights\n",
    "    noemer[i+1] = c %*% weights\n",
    "    R = teller1/noemer\n",
    "    }\n",
    "\n",
    "R # relativities with a priori rating"
   ]
  },
  {
   "cell_type": "markdown",
   "metadata": {},
   "source": [
    "Summarizing, we obtain the relativities displayed in Table 15.5 (with and without a priori rating) for the (-/Top Scale) and the Portfolio A data from Denuit et al. (2007). The a posteriori corrections are less severe when a priori rating is taken into account."
   ]
  }
 ],
 "metadata": {
  "kernelspec": {
   "display_name": "R",
   "language": "R",
   "name": "ir"
  },
  "language_info": {
   "codemirror_mode": "r",
   "file_extension": ".r",
   "mimetype": "text/x-r-source",
   "name": "R",
   "pygments_lexer": "r",
   "version": "3.6.1"
  }
 },
 "nbformat": 4,
 "nbformat_minor": 4
}
