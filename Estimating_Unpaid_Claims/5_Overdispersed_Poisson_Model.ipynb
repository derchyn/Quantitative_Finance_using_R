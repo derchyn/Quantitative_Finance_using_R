{
 "cells": [
  {
   "cell_type": "markdown",
   "metadata": {},
   "source": [
    "### Install Packages"
   ]
  },
  {
   "cell_type": "markdown",
   "metadata": {},
   "source": [
    "First, we begin from loading packages."
   ]
  },
  {
   "cell_type": "code",
   "execution_count": 1,
   "metadata": {},
   "outputs": [],
   "source": [
    "library(grid)\n",
    "library(lattice) \n",
    "library(statmod)"
   ]
  },
  {
   "cell_type": "markdown",
   "metadata": {},
   "source": [
    "To access the overall package documentation, type"
   ]
  },
  {
   "cell_type": "code",
   "execution_count": 2,
   "metadata": {},
   "outputs": [],
   "source": [
    "#library(ChainLadder)"
   ]
  },
  {
   "cell_type": "code",
   "execution_count": 3,
   "metadata": {},
   "outputs": [],
   "source": [
    "#demo(package=\"ChainLadder\")"
   ]
  },
  {
   "cell_type": "code",
   "execution_count": 4,
   "metadata": {},
   "outputs": [],
   "source": [
    "#vignette('ChainLadder', package='ChainLadder')"
   ]
  },
  {
   "cell_type": "markdown",
   "metadata": {},
   "source": [
    "### Development Triangle"
   ]
  },
  {
   "cell_type": "markdown",
   "metadata": {},
   "source": [
    "Reading the given dataset into R."
   ]
  },
  {
   "cell_type": "code",
   "execution_count": 5,
   "metadata": {},
   "outputs": [
    {
     "data": {
      "text/html": [
       "<table>\n",
       "<thead><tr><th></th><th scope=col>GRCODE</th><th scope=col>GRNAME</th><th scope=col>AccidentYear</th><th scope=col>DevelopmentYear</th><th scope=col>DevelopmentLag</th><th scope=col>IncurLoss_B</th><th scope=col>CumPaidLoss_B</th><th scope=col>BulkLoss_B</th><th scope=col>EarnedPremDIR_B</th><th scope=col>EarnedPremCeded_B</th><th scope=col>EarnedPremNet_B</th><th scope=col>Single</th><th scope=col>PostedReserve97_B</th></tr></thead>\n",
       "<tbody>\n",
       "\t<tr><th scope=row>14595</th><td>43494                         </td><td>American Hallmark Ins Co Of TX</td><td>1997                          </td><td>2001                          </td><td> 5                            </td><td>5587                          </td><td>5537                          </td><td> 0                            </td><td>32271                         </td><td>22646                         </td><td>9625                          </td><td>1                             </td><td>4527                          </td></tr>\n",
       "\t<tr><th scope=row>14596</th><td>43494                         </td><td>American Hallmark Ins Co Of TX</td><td>1997                          </td><td>2002                          </td><td> 6                            </td><td>5588                          </td><td>5549                          </td><td> 0                            </td><td>32271                         </td><td>22646                         </td><td>9625                          </td><td>1                             </td><td>4527                          </td></tr>\n",
       "\t<tr><th scope=row>14597</th><td>43494                         </td><td>American Hallmark Ins Co Of TX</td><td>1997                          </td><td>2003                          </td><td> 7                            </td><td>5571                          </td><td>5567                          </td><td> 0                            </td><td>32271                         </td><td>22646                         </td><td>9625                          </td><td>1                             </td><td>4527                          </td></tr>\n",
       "\t<tr><th scope=row>14598</th><td>43494                         </td><td>American Hallmark Ins Co Of TX</td><td>1997                          </td><td>2004                          </td><td> 8                            </td><td>5577                          </td><td>5577                          </td><td> 0                            </td><td>32271                         </td><td>22646                         </td><td>9625                          </td><td>1                             </td><td>4527                          </td></tr>\n",
       "\t<tr><th scope=row>14599</th><td>43494                         </td><td>American Hallmark Ins Co Of TX</td><td>1997                          </td><td>2005                          </td><td> 9                            </td><td>5576                          </td><td>5576                          </td><td> 0                            </td><td>32271                         </td><td>22646                         </td><td>9625                          </td><td>1                             </td><td>4527                          </td></tr>\n",
       "\t<tr><th scope=row>14600</th><td>43494                         </td><td>American Hallmark Ins Co Of TX</td><td>1997                          </td><td>2006                          </td><td>10                            </td><td>5573                          </td><td>5576                          </td><td>-3                            </td><td>32271                         </td><td>22646                         </td><td>9625                          </td><td>1                             </td><td>4527                          </td></tr>\n",
       "</tbody>\n",
       "</table>\n"
      ],
      "text/latex": [
       "\\begin{tabular}{r|lllllllllllll}\n",
       "  & GRCODE & GRNAME & AccidentYear & DevelopmentYear & DevelopmentLag & IncurLoss\\_B & CumPaidLoss\\_B & BulkLoss\\_B & EarnedPremDIR\\_B & EarnedPremCeded\\_B & EarnedPremNet\\_B & Single & PostedReserve97\\_B\\\\\n",
       "\\hline\n",
       "\t14595 & 43494                          & American Hallmark Ins Co Of TX & 1997                           & 2001                           &  5                             & 5587                           & 5537                           &  0                             & 32271                          & 22646                          & 9625                           & 1                              & 4527                          \\\\\n",
       "\t14596 & 43494                          & American Hallmark Ins Co Of TX & 1997                           & 2002                           &  6                             & 5588                           & 5549                           &  0                             & 32271                          & 22646                          & 9625                           & 1                              & 4527                          \\\\\n",
       "\t14597 & 43494                          & American Hallmark Ins Co Of TX & 1997                           & 2003                           &  7                             & 5571                           & 5567                           &  0                             & 32271                          & 22646                          & 9625                           & 1                              & 4527                          \\\\\n",
       "\t14598 & 43494                          & American Hallmark Ins Co Of TX & 1997                           & 2004                           &  8                             & 5577                           & 5577                           &  0                             & 32271                          & 22646                          & 9625                           & 1                              & 4527                          \\\\\n",
       "\t14599 & 43494                          & American Hallmark Ins Co Of TX & 1997                           & 2005                           &  9                             & 5576                           & 5576                           &  0                             & 32271                          & 22646                          & 9625                           & 1                              & 4527                          \\\\\n",
       "\t14600 & 43494                          & American Hallmark Ins Co Of TX & 1997                           & 2006                           & 10                             & 5573                           & 5576                           & -3                             & 32271                          & 22646                          & 9625                           & 1                              & 4527                          \\\\\n",
       "\\end{tabular}\n"
      ],
      "text/markdown": [
       "\n",
       "| <!--/--> | GRCODE | GRNAME | AccidentYear | DevelopmentYear | DevelopmentLag | IncurLoss_B | CumPaidLoss_B | BulkLoss_B | EarnedPremDIR_B | EarnedPremCeded_B | EarnedPremNet_B | Single | PostedReserve97_B |\n",
       "|---|---|---|---|---|---|---|---|---|---|---|---|---|---|\n",
       "| 14595 | 43494                          | American Hallmark Ins Co Of TX | 1997                           | 2001                           |  5                             | 5587                           | 5537                           |  0                             | 32271                          | 22646                          | 9625                           | 1                              | 4527                           |\n",
       "| 14596 | 43494                          | American Hallmark Ins Co Of TX | 1997                           | 2002                           |  6                             | 5588                           | 5549                           |  0                             | 32271                          | 22646                          | 9625                           | 1                              | 4527                           |\n",
       "| 14597 | 43494                          | American Hallmark Ins Co Of TX | 1997                           | 2003                           |  7                             | 5571                           | 5567                           |  0                             | 32271                          | 22646                          | 9625                           | 1                              | 4527                           |\n",
       "| 14598 | 43494                          | American Hallmark Ins Co Of TX | 1997                           | 2004                           |  8                             | 5577                           | 5577                           |  0                             | 32271                          | 22646                          | 9625                           | 1                              | 4527                           |\n",
       "| 14599 | 43494                          | American Hallmark Ins Co Of TX | 1997                           | 2005                           |  9                             | 5576                           | 5576                           |  0                             | 32271                          | 22646                          | 9625                           | 1                              | 4527                           |\n",
       "| 14600 | 43494                          | American Hallmark Ins Co Of TX | 1997                           | 2006                           | 10                             | 5573                           | 5576                           | -3                             | 32271                          | 22646                          | 9625                           | 1                              | 4527                           |\n",
       "\n"
      ],
      "text/plain": [
       "      GRCODE GRNAME                         AccidentYear DevelopmentYear\n",
       "14595 43494  American Hallmark Ins Co Of TX 1997         2001           \n",
       "14596 43494  American Hallmark Ins Co Of TX 1997         2002           \n",
       "14597 43494  American Hallmark Ins Co Of TX 1997         2003           \n",
       "14598 43494  American Hallmark Ins Co Of TX 1997         2004           \n",
       "14599 43494  American Hallmark Ins Co Of TX 1997         2005           \n",
       "14600 43494  American Hallmark Ins Co Of TX 1997         2006           \n",
       "      DevelopmentLag IncurLoss_B CumPaidLoss_B BulkLoss_B EarnedPremDIR_B\n",
       "14595  5             5587        5537           0         32271          \n",
       "14596  6             5588        5549           0         32271          \n",
       "14597  7             5571        5567           0         32271          \n",
       "14598  8             5577        5577           0         32271          \n",
       "14599  9             5576        5576           0         32271          \n",
       "14600 10             5573        5576          -3         32271          \n",
       "      EarnedPremCeded_B EarnedPremNet_B Single PostedReserve97_B\n",
       "14595 22646             9625            1      4527             \n",
       "14596 22646             9625            1      4527             \n",
       "14597 22646             9625            1      4527             \n",
       "14598 22646             9625            1      4527             \n",
       "14599 22646             9625            1      4527             \n",
       "14600 22646             9625            1      4527             "
      ]
     },
     "metadata": {},
     "output_type": "display_data"
    }
   ],
   "source": [
    "rawdata <- read.csv(\"datasets/ppauto_pos.csv\")\n",
    "tail(rawdata)"
   ]
  },
  {
   "cell_type": "markdown",
   "metadata": {},
   "source": [
    "Instead of having the data separated by insurance company, we will sum the data subsets of the cumulative paid losses; then we will arrange the information by accident year and development lag."
   ]
  },
  {
   "cell_type": "code",
   "execution_count": 6,
   "metadata": {},
   "outputs": [],
   "source": [
    ".allisnumeric <- function (x, what = c(\"test\", \"vector\"), extras = c(\".\", \"NA\")){\n",
    "    \n",
    "  # Based on code by Frank Harrell, Hmisc package, licence: GPL >= 2\n",
    "  what <- match.arg(what)\n",
    "  x <- sub(\"[[:space:]]+$\", \"\", x)\n",
    "  x <- sub(\"^[[:space:]]+\", \"\", x)\n",
    "  #xs <- x[x %nin% c(\"\", extras)]\n",
    "  xs <- x[match(x, extras, nomatch = 0) == 0]\n",
    "  isnum <- suppressWarnings(!any(is.na(as.numeric(xs))))\n",
    "  if (what == \"test\")\n",
    "    isnum\n",
    "  else if (isnum)\n",
    "    as.numeric(x)\n",
    "  else x\n",
    "}"
   ]
  },
  {
   "cell_type": "code",
   "execution_count": 7,
   "metadata": {},
   "outputs": [],
   "source": [
    "incr2cum <- function(Triangle, na.rm=FALSE){\n",
    "    \n",
    "  if(na.rm){\n",
    "    upper <- col(Triangle) <= ncol(Triangle) + 1 - row(Triangle)\n",
    "    upperna <- which(is.na(Triangle[upper]), arr.ind=TRUE)\n",
    "    Triangle[upper][upperna] <- 0\n",
    "  }\n",
    "  cum <- t(apply(Triangle,1, cumsum))\n",
    "  dimnames(cum) <- dimnames(Triangle)\n",
    "  expos <- attr(Triangle,\"exposure\")\n",
    "  if (!is.null(expos))\n",
    "    attr(cum,\"exposure\") <- expos\n",
    "  class(cum) <- c(\"triangle\", \"matrix\")\n",
    "  cum\n",
    "}"
   ]
  },
  {
   "cell_type": "code",
   "execution_count": 8,
   "metadata": {},
   "outputs": [],
   "source": [
    "cum2incr <- function(Triangle){\n",
    "  incr <- cbind(Triangle[,1], t(apply(Triangle,1,diff)))\n",
    "  dimnames(incr) <- dimnames(Triangle)\n",
    "  expos <- attr(Triangle,\"exposure\")\n",
    "  if (!is.null(expos))\n",
    "    attr(incr,\"exposure\") <- expos\n",
    "  class(incr) <- c(\"triangle\", \"matrix\")\n",
    "  incr\n",
    "}"
   ]
  },
  {
   "cell_type": "code",
   "execution_count": 9,
   "metadata": {},
   "outputs": [],
   "source": [
    "as.triangle <- function(Triangle, origin=\"origin\", dev=\"dev\", value=\"value\",...){\n",
    "  UseMethod(\"as.triangle\")\n",
    "}"
   ]
  },
  {
   "cell_type": "code",
   "execution_count": 10,
   "metadata": {},
   "outputs": [],
   "source": [
    "as.triangle.matrix <- function(Triangle, origin=\"origin\", dev=\"dev\", value=\"value\",...){\n",
    "    \n",
    "  class(Triangle) <- c(\"triangle\", \"matrix\")\n",
    "  if(is.null(dimnames(Triangle))){\n",
    "    dimnames(Triangle) <- list(origin=1:nrow(Triangle), dev=1:ncol(Triangle))\n",
    "  }\n",
    "  names(dimnames(Triangle)) <- c(origin, dev)\n",
    "\n",
    "  if(is.null(dimnames(Triangle)[[origin]])){\n",
    "    dimnames(Triangle)[[origin]] <- 1:nrow(Triangle)\n",
    "  }\n",
    "  if(is.null(dimnames(Triangle)[[dev]])){\n",
    "    dimnames(Triangle)[[dev]] <- 1:ncol(Triangle)\n",
    "  }\n",
    "  storage.mode(Triangle) <- \"double\"\n",
    "  return(Triangle)\n",
    "}"
   ]
  },
  {
   "cell_type": "code",
   "execution_count": 11,
   "metadata": {},
   "outputs": [],
   "source": [
    "as.triangle.data.frame <- function(Triangle, origin=\"origin\", dev=\"dev\", value=\"value\", ...){\n",
    "  \n",
    "  # aggregate claims data\n",
    "  aggTriangle <- stats::aggregate(Triangle[[value]], list(Triangle[[dev]], Triangle[[origin]]), sum)\n",
    "  names(aggTriangle) <- c(dev, origin, value)\n",
    "  origin_names <- as.character(unique(aggTriangle[, origin]))\n",
    "  dev_names <-  as.character(unique(aggTriangle[, dev]))\n",
    "  \n",
    "  # reshape into wide format\n",
    "  tria <- stats::reshape(aggTriangle, \n",
    "                  v.names=value, \n",
    "                  timevar = dev, \n",
    "                  idvar = origin, \n",
    "                  direction = \"wide\", \n",
    "                  new.row.names = origin_names)[, -1]\n",
    "  \n",
    "  matrixTriangle <- as.matrix(tria)\n",
    "  names(dimnames(matrixTriangle)) <- c(origin, dev)\n",
    "  dimnames(matrixTriangle)[[1]] <- origin_names\n",
    "  dimnames(matrixTriangle)[[2]] <- dev_names\n",
    "  matrixTriangle <- matrixTriangle[order(nchar(origin_names), origin_names), order(nchar(dev_names), dev_names)]\n",
    "  class(matrixTriangle) <- c(\"triangle\", \"matrix\")\n",
    "  return(matrixTriangle)\n",
    "}"
   ]
  },
  {
   "cell_type": "code",
   "execution_count": 12,
   "metadata": {},
   "outputs": [],
   "source": [
    "triangle <- function(..., bycol = FALSE, origin = \"origin\", dev = \"dev\", value = \"value\"){\n",
    "    \n",
    "  x <- list(...)\n",
    "  if (length(x) == 1L) {\n",
    "    ## 'len' contains the number of development periods (when filling by row) or origin periods (when filling by column). In the case\n",
    "    ## where there is only one vector of data provided, 'len' is the positive root of n(n + 1)/2 = k, where k is the number of data\n",
    "    ## points.\n",
    "    len <- (-1 + sqrt(1 + 8 * length(x[[1L]])))/2\n",
    "    ## Error if 'len' is not an integer, otherwise it is just too complicated to try infer what user wants. (Test taken from ?is.integer.)\n",
    "    if (abs(len - round(len)) > .Machine$double.eps^0.5)\n",
    "        stop(\"invalid number of data points for a triangle\")\n",
    "    ## Rearrange the data vector in a list of vectors suitable to build a 'len x len' triangle.\n",
    "    s <- seq_len(len)                   # avoid generating twice\n",
    "    x <- split(x[[1L]], rep(s, rev(s)))\n",
    "  } else {\n",
    "    ## If more than one data vector is provided in argument, the number of development or origin periods is derived from the\n",
    "    ## *first* vector (this avoids looking at the length of each and every element to find the maximum).\n",
    "    len <- length(x[[1L]])\n",
    "  }\n",
    "  ## Extend each data vector to length 'len' by filling with NAs and put into matrix form at the same time; dimension names will be in\n",
    "  ## place thanks to 'sapply'.\n",
    "  x <- sapply(x, function(x) { length(x) <- len; x })\n",
    "  ## Turn to 'as.triangle' to complete the work.\n",
    "  as.triangle.matrix(if (bycol) x else t(x), origin = origin, dev = dev, value = value)\n",
    "}"
   ]
  },
  {
   "cell_type": "code",
   "execution_count": 13,
   "metadata": {},
   "outputs": [],
   "source": [
    "as.data.frame.triangle <- function(x, row.names=NULL, optional, lob=NULL, na.rm=FALSE,...){\n",
    "\n",
    "  longTriangle <- .as.LongTriangle(x, na.rm)\n",
    "  if(is.null(row.names))\n",
    "    rownames(longTriangle) <- paste(longTriangle[,1], longTriangle[,2], sep=\"-\")\n",
    "  if(!is.null(lob))\n",
    "    longTriangle$lob=lob\n",
    "\n",
    "  class(longTriangle) <- c(\"long.triangle\", \"data.frame\")\n",
    "  return(longTriangle)\n",
    "}\n",
    "\n",
    "plot.triangle <- function(x,type=\"b\", xlab=\"dev. period\", ylab=NULL, lattice=FALSE,...){\n",
    "  .x <- x\n",
    "  class(.x) <- \"matrix\"\n",
    "  if(!lattice){\n",
    "    matplot(t(.x),type=type, xlab=xlab, ylab=ifelse(is.null(ylab), deparse(substitute(x)), ylab),...)\n",
    "  }else{\n",
    "    df <- as.data.frame(as.triangle(.x)) \n",
    "    xyplot(value ~ dev | factor(origin), data=df, type=type, as.table=TRUE, xlab=xlab, ylab=ylab, ...)\n",
    "  }\n",
    "}"
   ]
  },
  {
   "cell_type": "code",
   "execution_count": 14,
   "metadata": {},
   "outputs": [],
   "source": [
    "print.triangle <- function(x, ...) {\n",
    "  ret <- x\n",
    "  class(x) <- tail(class(x), -1)\n",
    "  NextMethod(x, ...)\n",
    "  invisible(ret)\n",
    "}"
   ]
  },
  {
   "cell_type": "code",
   "execution_count": 15,
   "metadata": {},
   "outputs": [],
   "source": [
    ".as.MatrixTriangle <- function(x, origin=\"origin\", dev=\"dev\", value=\"value\"){\n",
    "    \n",
    "  ## x has to be a data.frame with columns: origin, dev and value\n",
    "  x <- x[,c(origin, dev, value)]\n",
    "  names(x) <- c(\"origin\", \"dev\", \"value\")\n",
    "  z <- reshape(x, timevar=\"dev\", v.names=\"value\", idvar=\"origin\", direction=\"wide\")\n",
    "  z <- z[order(z$origin), ]\n",
    "\n",
    "  .origin.names <- z$origin\n",
    "  z <- z[,-1]\n",
    "  names(z) <- gsub(\"value.\", \"\",names(z))\n",
    "  .dev.names <- as.numeric(as.character(names(z)))\n",
    "  z <- z[,order(.dev.names)]\n",
    "\n",
    "  z<- as.matrix(z)\n",
    "  dimnames(z) <- list(origin=.origin.names, dev=sort(.dev.names))\n",
    "  names(dimnames(z)) <- c(origin, dev)\n",
    "  return(z)\n",
    "}"
   ]
  },
  {
   "cell_type": "code",
   "execution_count": 16,
   "metadata": {},
   "outputs": [],
   "source": [
    "as.LongTriangle <- function (Triangle, varnames = names(dimnames(Triangle)), value.name = \"value\", na.rm = TRUE) {\n",
    "    \n",
    "  if (!inherits(Triangle, \"matrix\")) stop(\"asLongTriangle only works for matrices\")\n",
    "  if (is.null(varnames)) varnames <- c(\"origin\", \"dev\")\n",
    "  else {\n",
    "    if (is.na(varnames[1L])) varnames[1L] <- \"origin\"\n",
    "    if (is.na(varnames[2L])) varnames[2L] <- \"dev\"\n",
    "  }\n",
    "  namecols <- setNames(expand.grid(dimnames(Triangle), KEEP.OUT.ATTRS = FALSE, stringsAsFactors = TRUE), varnames)\n",
    "  if (na.rm) {\n",
    "    isna <- is.na(Triangle)\n",
    "    namecols <- namecols[!isna,]\n",
    "    Triangle <- Triangle[!isna]\n",
    "  }\n",
    "  y <- cbind(namecols, setNames(data.frame(c(Triangle)), value.name))\n",
    "  y\n",
    "}"
   ]
  },
  {
   "cell_type": "code",
   "execution_count": 17,
   "metadata": {},
   "outputs": [],
   "source": [
    ".as.LongTriangle <- function(Triangle, na.rm=FALSE){\n",
    "    \n",
    "  x <- Triangle\n",
    "  nms <- names(dimnames(x))\n",
    "  .dev <- try(as.numeric(dimnames(x)[[nms[2L]]]))\n",
    "  .origin <- dimnames(x)[[nms[1L]]]\n",
    "  if(class(dimnames(x)[[nms[2L]]]) %in% \"character\"){\n",
    "    if(.allisnumeric(dimnames(x)[[nms[2L]]])){\n",
    "      .dev <- try(as.numeric(dimnames(x)[[nms[2L]]]))\n",
    "    }else{\n",
    "      .dev <- seq(along=(dimnames(x)[[nms[2L]]]))\n",
    "      warning(paste(\n",
    "        c(\"Development period was a character and has been set to:\\n\",.dev),\n",
    "        collapse = \" \"))\n",
    "    }\n",
    "  }else{\n",
    "    .dev <- try(as.numeric(dimnames(x)[[nms[2L]]]))\n",
    "  }\n",
    "  lx <- expand.grid(origin=.origin, dev=.dev, stringsAsFactors = FALSE)\n",
    "  lx$value <- as.vector(x)\n",
    "  if(na.rm){\n",
    "    lx <- na.omit(lx)\n",
    "  }\n",
    "  if (!is.null(nms)) {\n",
    "    if (!is.na(nms[1L])) names(lx)[1L] <- nms[1L]\n",
    "    if (!is.na(nms[2L])) names(lx)[2L] <- nms[2L]\n",
    "  }\n",
    "  return(lx)\n",
    "}"
   ]
  },
  {
   "cell_type": "code",
   "execution_count": 18,
   "metadata": {},
   "outputs": [],
   "source": [
    "# A coefficients method to quickly pull out the factors from a ChainLadder model\n",
    "coef.ChainLadder <- function(object, ...) {\n",
    "  structure(sapply(object$Models, coefficients), names = head(colnames(object$Triangle), -1), ...)\n",
    "}"
   ]
  },
  {
   "cell_type": "code",
   "execution_count": 19,
   "metadata": {},
   "outputs": [],
   "source": [
    "getLatestCumulative <- function (Triangle, na.values = NULL) {\n",
    "  # Returns the \"current diagonal\" from a triangle. This is defined to be the vector of entries from the triangle corresponding \n",
    "  # to the rightmost non-missing cell per row.\n",
    "  # Features: \n",
    "  # 1. For the \"lazy actuary\" who leaves zeroes in triangle cells corresponding to future observations, can specify \n",
    "  #     na.values=0 to find the rightmost non-zero and non-NA entry.\n",
    "  # 2. Assigns a \"latestcol\" attribute that gives the column index of the rightmost entry per row.\n",
    "  # 3. Adorns the returned vector with 'names' corresponding to the rownames of the triangle, if available, and with a 'rowsname' \n",
    "  #    attribute holding the name of the row dimension of the matrix (e.g., 'origin' or 'ay'), if available.\n",
    "  # 4. Assigns a 'colnames' attribute holding the column names of the matrix, if available, and with a \"colsname\" attribute holding \n",
    "  #    the name of the column dimension of the matrix  (e.g., 'dev' or 'age'), if available.\n",
    "  #    The attributes assigned in 3 & 4 can be useful when the current diagonal is utilized in a method that may be unrelated to \n",
    "  #    the given Triangle but that relies on the origin and development age of the observations in the diagonal.\n",
    "  \n",
    "  if (!is.matrix(Triangle)) stop(\"Triangle '\", \n",
    "      deparse(substitute(Triangle)), \"' must be a matrix\")\n",
    "  # Define a function that, depending on the value of na.values, finds the rightmost column per row.\n",
    "  f <- if (is.null(na.values)) function(x) ifelse(length(w <- which(!is.na(x))) > 0L, tail(w, 1L), 1) else function(x) ifelse(length(w <- which(!is.na(x) & !(x %in% na.values))) > 0L, tail(w, 1L), 1)\n",
    "  # Apply that function to each row.\n",
    "  latestcol <- apply(Triangle, 1L, f)\n",
    "  # Select the rightmost values\n",
    "  latestdiag <- Triangle[cbind(seq_along(latestcol), latestcol)]\n",
    "  # Set attributes ...\n",
    "  attr(latestdiag, \"latestcol\") <- latestcol\n",
    "  # Set names and colnames attributes\n",
    "  nms <- names(dmnms <- dimnames(Triangle))\n",
    "  nms1 <- nms[1L]\n",
    "  nms2 <- nms[2L]\n",
    "  if (!is.null(dmnms[[1L]])) { # 'rownames' are available\n",
    "    names(latestdiag) <- dmnms[[1L]]\n",
    "    # save the name of the row dimension\n",
    "    attr(latestdiag, \"rowsname\") <- nms1\n",
    "    }\n",
    "  if (!is.null(dmnms[[2L]])) { # 'colnames' are available\n",
    "    attr(latestdiag, \"colnames\") <- dmnms[[2L]][latestcol]\n",
    "    # save the name of the column dimension\n",
    "    attr(latestdiag, \"colsname\") <- nms2\n",
    "    }\n",
    "  return(latestdiag)\n",
    "  }"
   ]
  },
  {
   "cell_type": "markdown",
   "metadata": {},
   "source": [
    "To make it to be a loss triangle, we will exclude any developments after 1997 in the dataset; then we will use the function, as.triangle, to organize the data into triangle format."
   ]
  },
  {
   "cell_type": "code",
   "execution_count": 20,
   "metadata": {},
   "outputs": [
    {
     "data": {
      "text/html": [
       "<table>\n",
       "<thead><tr><th></th><th scope=col>1</th><th scope=col>2</th><th scope=col>3</th><th scope=col>4</th><th scope=col>5</th><th scope=col>6</th><th scope=col>7</th><th scope=col>8</th><th scope=col>9</th><th scope=col>10</th></tr></thead>\n",
       "<tbody>\n",
       "\t<tr><th scope=row>1988</th><td>3092818 </td><td> 5942711</td><td> 7239089</td><td> 7930109</td><td> 8318795</td><td> 8518201</td><td> 8610355</td><td> 8655509</td><td>8682451 </td><td>8690036 </td></tr>\n",
       "\t<tr><th scope=row>1989</th><td>3556683 </td><td> 6753435</td><td> 8219551</td><td> 9018288</td><td> 9441842</td><td> 9647917</td><td> 9753014</td><td> 9800477</td><td>9823747 </td><td>     NA </td></tr>\n",
       "\t<tr><th scope=row>1990</th><td>4015052 </td><td> 7478257</td><td> 9094949</td><td> 9945288</td><td>10371175</td><td>10575467</td><td>10671988</td><td>10728411</td><td>     NA </td><td>     NA </td></tr>\n",
       "\t<tr><th scope=row>1991</th><td>4065571 </td><td> 7564284</td><td> 9161104</td><td>10006407</td><td>10419901</td><td>10612083</td><td>10713621</td><td>      NA</td><td>     NA </td><td>     NA </td></tr>\n",
       "\t<tr><th scope=row>1992</th><td>4551591 </td><td> 8344021</td><td>10047179</td><td>10901995</td><td>11336777</td><td>11555121</td><td>      NA</td><td>      NA</td><td>     NA </td><td>     NA </td></tr>\n",
       "\t<tr><th scope=row>1993</th><td>5020277 </td><td> 9125734</td><td>10890282</td><td>11782219</td><td>12249826</td><td>      NA</td><td>      NA</td><td>      NA</td><td>     NA </td><td>     NA </td></tr>\n",
       "\t<tr><th scope=row>1994</th><td>5569355 </td><td> 9871002</td><td>11641397</td><td>12600432</td><td>      NA</td><td>      NA</td><td>      NA</td><td>      NA</td><td>     NA </td><td>     NA </td></tr>\n",
       "\t<tr><th scope=row>1995</th><td>5803124 </td><td>10008734</td><td>11807279</td><td>      NA</td><td>      NA</td><td>      NA</td><td>      NA</td><td>      NA</td><td>     NA </td><td>     NA </td></tr>\n",
       "\t<tr><th scope=row>1996</th><td>5835368 </td><td> 9900842</td><td>      NA</td><td>      NA</td><td>      NA</td><td>      NA</td><td>      NA</td><td>      NA</td><td>     NA </td><td>     NA </td></tr>\n",
       "\t<tr><th scope=row>1997</th><td>5754249 </td><td>      NA</td><td>      NA</td><td>      NA</td><td>      NA</td><td>      NA</td><td>      NA</td><td>      NA</td><td>     NA </td><td>     NA </td></tr>\n",
       "</tbody>\n",
       "</table>\n"
      ],
      "text/latex": [
       "\\begin{tabular}{r|llllllllll}\n",
       "  & 1 & 2 & 3 & 4 & 5 & 6 & 7 & 8 & 9 & 10\\\\\n",
       "\\hline\n",
       "\t1988 & 3092818  &  5942711 &  7239089 &  7930109 &  8318795 &  8518201 &  8610355 &  8655509 & 8682451  & 8690036 \\\\\n",
       "\t1989 & 3556683  &  6753435 &  8219551 &  9018288 &  9441842 &  9647917 &  9753014 &  9800477 & 9823747  &      NA \\\\\n",
       "\t1990 & 4015052  &  7478257 &  9094949 &  9945288 & 10371175 & 10575467 & 10671988 & 10728411 &      NA  &      NA \\\\\n",
       "\t1991 & 4065571  &  7564284 &  9161104 & 10006407 & 10419901 & 10612083 & 10713621 &       NA &      NA  &      NA \\\\\n",
       "\t1992 & 4551591  &  8344021 & 10047179 & 10901995 & 11336777 & 11555121 &       NA &       NA &      NA  &      NA \\\\\n",
       "\t1993 & 5020277  &  9125734 & 10890282 & 11782219 & 12249826 &       NA &       NA &       NA &      NA  &      NA \\\\\n",
       "\t1994 & 5569355  &  9871002 & 11641397 & 12600432 &       NA &       NA &       NA &       NA &      NA  &      NA \\\\\n",
       "\t1995 & 5803124  & 10008734 & 11807279 &       NA &       NA &       NA &       NA &       NA &      NA  &      NA \\\\\n",
       "\t1996 & 5835368  &  9900842 &       NA &       NA &       NA &       NA &       NA &       NA &      NA  &      NA \\\\\n",
       "\t1997 & 5754249  &       NA &       NA &       NA &       NA &       NA &       NA &       NA &      NA  &      NA \\\\\n",
       "\\end{tabular}\n"
      ],
      "text/markdown": [
       "\n",
       "| <!--/--> | 1 | 2 | 3 | 4 | 5 | 6 | 7 | 8 | 9 | 10 |\n",
       "|---|---|---|---|---|---|---|---|---|---|---|\n",
       "| 1988 | 3092818  |  5942711 |  7239089 |  7930109 |  8318795 |  8518201 |  8610355 |  8655509 | 8682451  | 8690036  |\n",
       "| 1989 | 3556683  |  6753435 |  8219551 |  9018288 |  9441842 |  9647917 |  9753014 |  9800477 | 9823747  |      NA  |\n",
       "| 1990 | 4015052  |  7478257 |  9094949 |  9945288 | 10371175 | 10575467 | 10671988 | 10728411 |      NA  |      NA  |\n",
       "| 1991 | 4065571  |  7564284 |  9161104 | 10006407 | 10419901 | 10612083 | 10713621 |       NA |      NA  |      NA  |\n",
       "| 1992 | 4551591  |  8344021 | 10047179 | 10901995 | 11336777 | 11555121 |       NA |       NA |      NA  |      NA  |\n",
       "| 1993 | 5020277  |  9125734 | 10890282 | 11782219 | 12249826 |       NA |       NA |       NA |      NA  |      NA  |\n",
       "| 1994 | 5569355  |  9871002 | 11641397 | 12600432 |       NA |       NA |       NA |       NA |      NA  |      NA  |\n",
       "| 1995 | 5803124  | 10008734 | 11807279 |       NA |       NA |       NA |       NA |       NA |      NA  |      NA  |\n",
       "| 1996 | 5835368  |  9900842 |       NA |       NA |       NA |       NA |       NA |       NA |      NA  |      NA  |\n",
       "| 1997 | 5754249  |       NA |       NA |       NA |       NA |       NA |       NA |       NA |      NA  |      NA  |\n",
       "\n"
      ],
      "text/plain": [
       "            DevelopmentLag\n",
       "AccidentYear 1       2        3        4        5        6        7       \n",
       "        1988 3092818  5942711  7239089  7930109  8318795  8518201  8610355\n",
       "        1989 3556683  6753435  8219551  9018288  9441842  9647917  9753014\n",
       "        1990 4015052  7478257  9094949  9945288 10371175 10575467 10671988\n",
       "        1991 4065571  7564284  9161104 10006407 10419901 10612083 10713621\n",
       "        1992 4551591  8344021 10047179 10901995 11336777 11555121       NA\n",
       "        1993 5020277  9125734 10890282 11782219 12249826       NA       NA\n",
       "        1994 5569355  9871002 11641397 12600432       NA       NA       NA\n",
       "        1995 5803124 10008734 11807279       NA       NA       NA       NA\n",
       "        1996 5835368  9900842       NA       NA       NA       NA       NA\n",
       "        1997 5754249       NA       NA       NA       NA       NA       NA\n",
       "            DevelopmentLag\n",
       "AccidentYear 8        9       10     \n",
       "        1988  8655509 8682451 8690036\n",
       "        1989  9800477 9823747      NA\n",
       "        1990 10728411      NA      NA\n",
       "        1991       NA      NA      NA\n",
       "        1992       NA      NA      NA\n",
       "        1993       NA      NA      NA\n",
       "        1994       NA      NA      NA\n",
       "        1995       NA      NA      NA\n",
       "        1996       NA      NA      NA\n",
       "        1997       NA      NA      NA"
      ]
     },
     "metadata": {},
     "output_type": "display_data"
    }
   ],
   "source": [
    "sumdata <- rawdata[rawdata$DevelopmentYear < 1998,]\n",
    "ppauto <- as.triangle(sumdata, origin = \"AccidentYear\", dev = \"DevelopmentLag\", value = \"CumPaidLoss_B\")\n",
    "ppauto"
   ]
  },
  {
   "cell_type": "markdown",
   "metadata": {},
   "source": [
    "### GLM-based Loss Reserve"
   ]
  },
  {
   "cell_type": "code",
   "execution_count": 21,
   "metadata": {},
   "outputs": [],
   "source": [
    "glmReserve <- function(triangle, var.power = 1, link.power = 0,\n",
    "                       cum = TRUE, mse.method = c(\"formula\", \"bootstrap\"), \n",
    "                       nsim = 1000, nb = FALSE, ...){\n",
    "    \n",
    "  origin <- NULL\n",
    "  call <- match.call()\n",
    "  mse.method <- match.arg(mse.method)\n",
    "  \n",
    "  if (!(\"triangle\") %in% class(triangle))\n",
    "    stop(\"triangle must be of class 'triangle'\")\n",
    "  if (\"offset\" %in% names(list(...)))\n",
    "    stop(\"'offset' should be passed using the \n",
    "         'exposure' attribute of the triangle!\")\n",
    "  if (\"weigth\" %in% names(list(...)))\n",
    "    stop(\"'weight' should not be used\")  \n",
    "  \n",
    "  # convert to incremental losses if needed    \n",
    "  tr.incr <- if (cum) cum2incr(triangle) else triangle    \n",
    "  # create family\n",
    "  fam <- tweedie(ifelse(!is.null(var.power), var.power, 1.5), link.power)\n",
    "  # convert to long format\n",
    "  lda <-  as.data.frame(tr.incr, origin = names(dimnames(tr.incr))[1], dev = names(dimnames(tr.incr))[2])\n",
    "  names(lda)[1:3] <- c(\"origin\", \"dev\", \"value\")\n",
    "  lda <- transform(lda, origin = factor(origin, levels = dimnames(triangle)[[1]]))\n",
    "    \n",
    "  # create offset\n",
    "  if (is.null(attr(tr.incr, \"exposure\"))) {\n",
    "    lda$offset <-  rep(0, nrow(lda))\n",
    "  } else {\n",
    "    # Allow exposures to be expanded to the long data.frame by matching names(exposure) with triangle's \n",
    "    # origin values, or by the arithmetic formula that has always been there, if triangles origin values are\n",
    "    # convertible from their character representations to numeric.\n",
    "    expo <- attr(tr.incr, \"exposure\")\n",
    "    if (is.null(names(expo))) names(expo) <- NA\n",
    "    if (all(names(expo) %in% lda$origin)) lda$offset <- fam$linkfun(attr(tr.incr, \"exposure\")[lda$origin])\n",
    "    else {\n",
    "      numorig <- suppressWarnings(as.numeric(lda$origin))\n",
    "      if (any(is.na(numorig))) stop(\n",
    "        \"Unnamed exposures incompatible when triangle's origin values are not convertible from character to numeric.\"\n",
    "      )\n",
    "      lda$offset <- fam$linkfun(attr(tr.incr, \"exposure\")[numorig - min (numorig) + 1])\n",
    "    }\n",
    "  }\n",
    "  \n",
    "  # divide data \n",
    "  ldaFit <- subset(lda, !is.na(lda$value)) #warnings?  \n",
    "  ldaOut <- subset(lda, is.na(lda$value)) \n",
    "   \n",
    "  # fit the model\n",
    "  if (nb){\n",
    "    ldaFit$value <- round(ldaFit$value)  #warning\n",
    "    glmFit <- glm.nb(value ~ factor(origin) + factor(dev), data = ldaFit, ...)\n",
    "    phi <- 1.0\n",
    "    fam <- glmFit$family\n",
    "  } else {\n",
    "    if (!is.null(var.power)){\n",
    "      glmFit <- glm(value ~ factor(origin) + factor(dev), family = fam, data = ldaFit, offset = offset, ...)\n",
    "      phi <- with(glmFit, sum(weights * residuals^2) / df.residual)\n",
    "    } else{ \n",
    "      glmFit <- cpglm(value ~ factor(origin) + factor(dev), link = link.power, data = ldaFit, offset = offset, ...)\n",
    "      phi <- glmFit$phi\n",
    "      # update fam\n",
    "      fam <- tweedie(glmFit$p, link.power)\n",
    "    }\n",
    "  }\n",
    "    \n",
    "  ################################\n",
    "  ## calculate reserves \n",
    "  ################################\n",
    "\n",
    "  # prediction for each cell              \n",
    "  yp <- predict(glmFit, newdata = ldaOut, type = \"response\")\n",
    "  eta <- as.numeric(predict(glmFit, newdata = ldaOut, type = \"link\"))\n",
    "                \n",
    "  # sum to get reserve by year\n",
    "  resMeanAy <- tapply(yp, factor(ldaOut$origin), sum)\n",
    "  resMeanTot <- sum(resMeanAy)\n",
    "\n",
    "  ################################\n",
    "  ## calculate prediction errs \n",
    "  ################################                \n",
    "                \n",
    "  if (mse.method == \"formula\"){    \n",
    "    # process variance \n",
    "    ypv <- fam$variance(yp)\n",
    "    mseProcAy <-  phi * tapply(ypv, factor(ldaOut$origin), sum)\n",
    "    mseProcTot <-  phi * sum(ypv) \n",
    "    \n",
    "    # estimation variance                \n",
    "    # get design matrix for prediction\n",
    "    Terms <- delete.response(terms(glmFit))\n",
    "    if (class(glmFit)[1] == \"cpglm\"){\n",
    "      xlevels <- .getXlevels(Terms, glmFit$model.frame)\n",
    "    } else { \n",
    "      xlevels <- glmFit$xlevels\n",
    "    }\n",
    "    X <- model.matrix(Terms, ldaOut, xlev = xlevels)\n",
    "    \n",
    "    # var(eta)\n",
    "    v <- X %*% vcov(glmFit) %*% t(X)  # vcov has already been scaled\n",
    "    muEta <- fam$mu.eta(eta)\n",
    "    mseEstAy <- sapply(sort(unique(ldaOut$origin)), function(x){\n",
    "                          id <- ldaOut$origin == x\n",
    "                          tmp <- diag(muEta[id], nrow = length(eta[id]))\n",
    "                          sum(tmp %*% v[id, id] %*% t(tmp))          \n",
    "              })\n",
    "    mseEstTot <-  sum(diag(muEta) %*% v %*% diag(muEta))\n",
    "    \n",
    "    # pred errs\n",
    "    S.E <- sqrt(c(mseProcAy, mseProcTot) + c(mseEstAy, mseEstTot))          \n",
    "  }\n",
    "                       \n",
    "  if (mse.method == \"bootstrap\"){\n",
    "    nO <- nrow(ldaFit)\n",
    "    nB <- length(coef(glmFit))\n",
    "    # residual inflation factor\n",
    "    bias <- sqrt(nO/df.residual(glmFit))\n",
    "    \n",
    "    resMeanAyB <- resPredAyB <- matrix(0, nsim, length(resMeanAy))    \n",
    "    sims.par <- matrix(0, nsim, nB + 2)\n",
    "    mu <- fitted(glmFit)\n",
    "    mup <- sqrt(fam$variance(mu))\n",
    "    \n",
    "    # loop nsim times \n",
    "    for (i in 1:nsim){\n",
    "      # while loop to avoid negative generated incremental loss\n",
    "      ybad <- 1 \n",
    "      while (ybad){\n",
    "        rn <- bias * sample(resid(glmFit, type = \"pearson\"), nO, replace = TRUE)\n",
    "        yB <- rn * mup + mu\n",
    "        if (all(yB >= 0) || (!is.null(var.power) && var.power == 0))\n",
    "          ybad <- 0  # Normal \n",
    "      }\n",
    "      \n",
    "      # fit model on new data\n",
    "      if (nb){\n",
    "        yB <- round(yB)\n",
    "        glmFitB <- glm.nb(yB ~ factor(origin) + factor(dev), data = ldaFit)\n",
    "        phi <- 1.0\n",
    "        cf <- c(coef(glmFitB), 1.0, glmFitB$theta)\n",
    "      } else {\n",
    "        if (!is.null(var.power)){\n",
    "          glmFitB <- glm(yB ~ factor(origin) + factor(dev), family = fam, data = ldaFit, offset = offset, ...)\n",
    "          phi <- with(glmFitB, sum(weights * residuals^2) / df.residual)\n",
    "          cf <- c(coef(glmFitB), phi, var.power)\n",
    "        } else{ \n",
    "          glmFitB <- cpglm(yB ~ factor(origin) + factor(dev), link = link.power, data = ldaFit, offset = offset, ...)\n",
    "          cf <- c(coef(glmFitB), glmFitB$phi, glmFitB$p)\n",
    "        }      \n",
    "      }\n",
    "      # mean and prediction\n",
    "      ymB <- predict(glmFitB, newdata = ldaOut, type = \"response\")\n",
    "      if (nb){\n",
    "        ypB <- rnbinom(length(ymB), size = glmFitB$theta, mu = ymB)\n",
    "      } else {\n",
    "        ypB <- rtweedie(length(ymB), mu = ymB, phi = cf[nB + 1], power = cf[nB + 2])\n",
    "      }\n",
    "      # save simulations\n",
    "      resMeanAyB[i, ] <- as.numeric(tapply(ymB, factor(ldaOut$origin), sum))      \n",
    "      resPredAyB[i, ] <- as.numeric(tapply(ypB, factor(ldaOut$origin), sum))      \n",
    "      sims.par[i, ] <- unname(cf)\n",
    "    }\n",
    "    # get names\n",
    "    dimnames(sims.par)[[2]] <- c(names(coef(glmFit)), \"phi\", \"p\")\n",
    "    dimnames(resMeanAyB)[[2]] <- dimnames(resPredAyB)[[2]] <- as.character(sort(unique(ldaOut$origin)))\n",
    "    # pred errs\n",
    "    S.E <- c(apply(resPredAyB, 2, sd), sd(rowSums(resPredAyB)))  \n",
    "  }\n",
    "  \n",
    "  # compile results\n",
    "  IBNR <- round(c(resMeanAy, resMeanTot))\n",
    "  CV <- S.E / IBNR\n",
    "  Latest <- getLatestCumulative(incr2cum(tr.incr))\n",
    "  Latest <- Latest[-(1:(length(Latest) - length(unique(ldaOut$origin))))]\n",
    "  Latest <- c(Latest, total = sum(Latest))\n",
    "  Ultimate <- Latest + IBNR\n",
    "  resDf <- data.frame(Latest = Latest, Dev.To.Date = Latest/Ultimate, Ultimate = Ultimate, IBNR = IBNR, S.E = S.E, CV = CV)\n",
    "  row.names(resDf) <- names(Latest)\n",
    "  \n",
    "  # produce fullly projected triangle\n",
    "  ldaOut$value <- round(yp)\n",
    "  FullTriangle <- as.triangle(rbind(ldaFit, ldaOut))\n",
    "  if (cum) FullTriangle <- incr2cum(FullTriangle)\n",
    "  \n",
    "  # output\n",
    "  out <- list(call = call, summary = resDf,\n",
    "                Triangle = triangle,\n",
    "                FullTriangle = FullTriangle,\n",
    "                model = glmFit, \n",
    "                sims.par =  matrix(0),\n",
    "                sims.reserve.mean =  matrix(0),\n",
    "                sims.reserve.pred =  matrix(0))\n",
    "  \n",
    "  if (mse.method == \"bootstrap\"){\n",
    "    out$sims.par <- sims.par \n",
    "    out$sims.reserve.mean <- resMeanAyB\n",
    "    out$sims.reserve.pred <- resPredAyB\n",
    "  }\n",
    "  class(out) <- \"glmReserve\"\n",
    "  return(out)  \n",
    "}"
   ]
  },
  {
   "cell_type": "code",
   "execution_count": 22,
   "metadata": {},
   "outputs": [],
   "source": [
    "# summary and print method for glmReserve\n",
    "summary.glmReserve <- function(object, type = c(\"triangle\", \"model\"), ...){\n",
    "  type <- match.arg(type)\n",
    "  if (type == \"triangle\")\n",
    "    print(object$summary)\n",
    "  if (type == \"model\")\n",
    "    summary(object$model)\n",
    "}"
   ]
  },
  {
   "cell_type": "code",
   "execution_count": 23,
   "metadata": {},
   "outputs": [],
   "source": [
    "print.glmReserve <- function(x, ...) {\n",
    "  summary(x)\n",
    "  invisible(x)\n",
    "}"
   ]
  },
  {
   "cell_type": "code",
   "execution_count": 24,
   "metadata": {},
   "outputs": [],
   "source": [
    "# return pearson residuals (scaled)\n",
    "residuals.glmReserve <- function(object, ...){\n",
    "  m <- object$model\n",
    "  r <- residuals(m, type = \"pearson\")\n",
    "  if (class(m)[1] == \"glm\") {\n",
    "    phi <- sum((m$weights * m$residuals^2)[m$weights > 0])/m$df.residual\n",
    "  } else if (class(m)[1] == \"glm\"){\n",
    "    phi <- 1\n",
    "  } else {\n",
    "    phi <- m$phi\n",
    "  }\n",
    "  return(r/sqrt(phi))\n",
    "}"
   ]
  },
  {
   "cell_type": "code",
   "execution_count": 25,
   "metadata": {},
   "outputs": [],
   "source": [
    "resid.glmReserve <- function(object, ...)\n",
    "  residuals(object)"
   ]
  },
  {
   "cell_type": "code",
   "execution_count": 26,
   "metadata": {},
   "outputs": [],
   "source": [
    "# 1 Original triangle \n",
    "# 2 Full triangle \n",
    "# 3 Reserve distribution\n",
    "# 4 Residual plot\n",
    "# 5 QQnorm\n",
    "\n",
    "plot.glmReserve <- function(x, which = 1, ...){\n",
    "  model <- x$model\n",
    "  if (which == 1){\n",
    "    plot(x$Triangle, ...)  \n",
    "  } else \n",
    "  if (which == 2){\n",
    "    plot(x$FullTriangle, ...)  \n",
    "  } else \n",
    "  if (which == 3){\n",
    "    sim <- x$sims.reserve.pred\n",
    "    if (ncol(sim) == 1)\n",
    "      stop('No predictions found, try bootstrap?')\n",
    "    sim <- cbind(sim, total = rowSums(sim))\n",
    "    nm <- colnames(sim)\n",
    "    sim <- data.frame(group = factor(rep(nm, rep(nrow(sim), ncol(sim))), levels = nm), prediction = as.vector(sim))\n",
    "    prediction <- NULL\n",
    "    gg <- ggplot(sim, aes(prediction))\n",
    "    gg <- gg + geom_density() + facet_wrap(~group, nrow = 2, scales = \"free\") + scale_x_continuous(\"predicted reserve\")\n",
    "    print(gg) \n",
    "  } else \n",
    "  if (which == 4){\n",
    "    plot(resid(x) ~ fitted(model), ...)\n",
    "    abline(h = 0, col = \"#B3B3B3\")\n",
    "  } else  \n",
    "  if (which == 5){\n",
    "    qqnorm(resid(x), ...)\n",
    "    qqline(resid(x))\n",
    "  }   \n",
    "}"
   ]
  },
  {
   "cell_type": "markdown",
   "metadata": {},
   "source": [
    "The use of GLM in insurance loss reserving has many compelling aspects, e.g., 1. when over-dispersed Poisson model is used, it reproduces the estimates from Chain Ladder; 2. it provides a more coherent modelling framework than the Mack method; 3. all the relevant established statistical theory can be directly applied to perform hypothesis testing and diagnostic checking;"
   ]
  },
  {
   "cell_type": "markdown",
   "metadata": {},
   "source": [
    "### Overdispersed Poisson Model\n",
    "\n",
    "Only the Tweedie family of distributions are allowed.\n",
    "\n",
    "For example, the following fits the over-dispersed Poisson model and spells out the estimated reserve information"
   ]
  },
  {
   "cell_type": "code",
   "execution_count": 27,
   "metadata": {},
   "outputs": [],
   "source": [
    "ODP <- glmReserve(ppauto, var.power = 1, link.power = 0, cum = TRUE )"
   ]
  },
  {
   "cell_type": "markdown",
   "metadata": {},
   "source": [
    "Note: The \"var.power = 1” command specifies the identity function as the GLM variance function, which specifies the Poisson model, and “link.power = 0” indicates that the log link function should be used. The entry cum = TRUE indicates that the triangle contains cumulative data.\n",
    "\n",
    "We can also extract the underlying GLM model by specifying type = “model” in the summary function:"
   ]
  },
  {
   "cell_type": "code",
   "execution_count": 28,
   "metadata": {},
   "outputs": [
    {
     "data": {
      "text/plain": [
       "\n",
       "Call:\n",
       "glm(formula = value ~ factor(origin) + factor(dev), family = fam, \n",
       "    data = ldaFit, offset = offset)\n",
       "\n",
       "Deviance Residuals: \n",
       "     Min        1Q    Median        3Q       Max  \n",
       "-171.093   -31.758     4.428    47.845   151.012  \n",
       "\n",
       "Coefficients:\n",
       "                   Estimate Std. Error t value Pr(>|t|)    \n",
       "(Intercept)        15.03796    0.03112 483.196  < 2e-16 ***\n",
       "factor(origin)1989  0.12350    0.03999   3.088  0.00387 ** \n",
       "factor(origin)1990  0.21431    0.03921   5.466 3.60e-06 ***\n",
       "factor(origin)1991  0.21805    0.03924   5.557 2.72e-06 ***\n",
       "factor(origin)1992  0.30366    0.03862   7.863 2.50e-09 ***\n",
       "factor(origin)1993  0.38228    0.03818  10.012 6.02e-12 ***\n",
       "factor(origin)1994  0.45247    0.03803  11.897 4.93e-14 ***\n",
       "factor(origin)1995  0.47260    0.03866  12.224 2.25e-14 ***\n",
       "factor(origin)1996  0.47876    0.04042  11.844 5.61e-14 ***\n",
       "factor(origin)1997  0.52749    0.04743  11.121 3.37e-13 ***\n",
       "factor(dev)2       -0.21501    0.01994 -10.780 8.04e-13 ***\n",
       "factor(dev)3       -1.01841    0.02755 -36.964  < 2e-16 ***\n",
       "factor(dev)4       -1.64697    0.03822 -43.093  < 2e-16 ***\n",
       "factor(dev)5       -2.29092    0.05583 -41.032  < 2e-16 ***\n",
       "factor(dev)6       -2.98892    0.08652 -34.547  < 2e-16 ***\n",
       "factor(dev)7       -3.67965    0.13766 -26.730  < 2e-16 ***\n",
       "factor(dev)8       -4.34104    0.22323 -19.446  < 2e-16 ***\n",
       "factor(dev)9       -4.97075    0.38383 -12.950 4.09e-15 ***\n",
       "factor(dev)10      -6.10403    0.98634  -6.189 3.89e-07 ***\n",
       "---\n",
       "Signif. codes:  0 '***' 0.001 '**' 0.01 '*' 0.05 '.' 0.1 ' ' 1\n",
       "\n",
       "(Dispersion parameter for Tweedie family taken to be 7371.859)\n",
       "\n",
       "    Null deviance: 105466383  on 54  degrees of freedom\n",
       "Residual deviance:    266715  on 36  degrees of freedom\n",
       "AIC: NA\n",
       "\n",
       "Number of Fisher Scoring iterations: 3\n"
      ]
     },
     "metadata": {},
     "output_type": "display_data"
    }
   ],
   "source": [
    "summary(ODP, type = \"model\")"
   ]
  },
  {
   "cell_type": "raw",
   "metadata": {},
   "source": [
    "To view the fully developed triangle, under the ODP model, the following command can be used:"
   ]
  },
  {
   "cell_type": "code",
   "execution_count": 29,
   "metadata": {},
   "outputs": [
    {
     "data": {
      "text/html": [
       "<table>\n",
       "<thead><tr><th></th><th scope=col>1</th><th scope=col>2</th><th scope=col>3</th><th scope=col>4</th><th scope=col>5</th><th scope=col>6</th><th scope=col>7</th><th scope=col>8</th><th scope=col>9</th><th scope=col>10</th></tr></thead>\n",
       "<tbody>\n",
       "\t<tr><th scope=row>1988</th><td>3092818 </td><td> 5942711</td><td> 7239089</td><td> 7930109</td><td> 8318795</td><td> 8518201</td><td> 8610355</td><td> 8655509</td><td> 8682451</td><td> 8690036</td></tr>\n",
       "\t<tr><th scope=row>1989</th><td>3556683 </td><td> 6753435</td><td> 8219551</td><td> 9018288</td><td> 9441842</td><td> 9647917</td><td> 9753014</td><td> 9800477</td><td> 9823747</td><td> 9832329</td></tr>\n",
       "\t<tr><th scope=row>1990</th><td>4015052 </td><td> 7478257</td><td> 9094949</td><td> 9945288</td><td>10371175</td><td>10575467</td><td>10671988</td><td>10728411</td><td>10757599</td><td>10766997</td></tr>\n",
       "\t<tr><th scope=row>1991</th><td>4065571 </td><td> 7564284</td><td> 9161104</td><td>10006407</td><td>10419901</td><td>10612083</td><td>10713621</td><td>10768615</td><td>10797912</td><td>10807345</td></tr>\n",
       "\t<tr><th scope=row>1992</th><td>4551591 </td><td> 8344021</td><td>10047179</td><td>10901995</td><td>11336777</td><td>11555121</td><td>11671193</td><td>11731102</td><td>11763018</td><td>11773294</td></tr>\n",
       "\t<tr><th scope=row>1993</th><td>5020277 </td><td> 9125734</td><td>10890282</td><td>11782219</td><td>12249826</td><td>12500354</td><td>12625921</td><td>12690731</td><td>12725258</td><td>12736375</td></tr>\n",
       "\t<tr><th scope=row>1994</th><td>5569355 </td><td> 9871002</td><td>11641397</td><td>12600432</td><td>13140534</td><td>13409279</td><td>13543976</td><td>13613498</td><td>13650535</td><td>13662460</td></tr>\n",
       "\t<tr><th scope=row>1995</th><td>5803124 </td><td>10008734</td><td>11807279</td><td>12856535</td><td>13407615</td><td>13681822</td><td>13819257</td><td>13890192</td><td>13927982</td><td>13940150</td></tr>\n",
       "\t<tr><th scope=row>1996</th><td>5835368 </td><td> 9900842</td><td>11880252</td><td>12935993</td><td>13490479</td><td>13766381</td><td>13904665</td><td>13976038</td><td>14014062</td><td>14026305</td></tr>\n",
       "\t<tr><th scope=row>1997</th><td>5754249 </td><td>10395258</td><td>12473514</td><td>13581975</td><td>14164150</td><td>14453829</td><td>14599019</td><td>14673957</td><td>14713879</td><td>14726733</td></tr>\n",
       "</tbody>\n",
       "</table>\n"
      ],
      "text/latex": [
       "\\begin{tabular}{r|llllllllll}\n",
       "  & 1 & 2 & 3 & 4 & 5 & 6 & 7 & 8 & 9 & 10\\\\\n",
       "\\hline\n",
       "\t1988 & 3092818  &  5942711 &  7239089 &  7930109 &  8318795 &  8518201 &  8610355 &  8655509 &  8682451 &  8690036\\\\\n",
       "\t1989 & 3556683  &  6753435 &  8219551 &  9018288 &  9441842 &  9647917 &  9753014 &  9800477 &  9823747 &  9832329\\\\\n",
       "\t1990 & 4015052  &  7478257 &  9094949 &  9945288 & 10371175 & 10575467 & 10671988 & 10728411 & 10757599 & 10766997\\\\\n",
       "\t1991 & 4065571  &  7564284 &  9161104 & 10006407 & 10419901 & 10612083 & 10713621 & 10768615 & 10797912 & 10807345\\\\\n",
       "\t1992 & 4551591  &  8344021 & 10047179 & 10901995 & 11336777 & 11555121 & 11671193 & 11731102 & 11763018 & 11773294\\\\\n",
       "\t1993 & 5020277  &  9125734 & 10890282 & 11782219 & 12249826 & 12500354 & 12625921 & 12690731 & 12725258 & 12736375\\\\\n",
       "\t1994 & 5569355  &  9871002 & 11641397 & 12600432 & 13140534 & 13409279 & 13543976 & 13613498 & 13650535 & 13662460\\\\\n",
       "\t1995 & 5803124  & 10008734 & 11807279 & 12856535 & 13407615 & 13681822 & 13819257 & 13890192 & 13927982 & 13940150\\\\\n",
       "\t1996 & 5835368  &  9900842 & 11880252 & 12935993 & 13490479 & 13766381 & 13904665 & 13976038 & 14014062 & 14026305\\\\\n",
       "\t1997 & 5754249  & 10395258 & 12473514 & 13581975 & 14164150 & 14453829 & 14599019 & 14673957 & 14713879 & 14726733\\\\\n",
       "\\end{tabular}\n"
      ],
      "text/markdown": [
       "\n",
       "| <!--/--> | 1 | 2 | 3 | 4 | 5 | 6 | 7 | 8 | 9 | 10 |\n",
       "|---|---|---|---|---|---|---|---|---|---|---|\n",
       "| 1988 | 3092818  |  5942711 |  7239089 |  7930109 |  8318795 |  8518201 |  8610355 |  8655509 |  8682451 |  8690036 |\n",
       "| 1989 | 3556683  |  6753435 |  8219551 |  9018288 |  9441842 |  9647917 |  9753014 |  9800477 |  9823747 |  9832329 |\n",
       "| 1990 | 4015052  |  7478257 |  9094949 |  9945288 | 10371175 | 10575467 | 10671988 | 10728411 | 10757599 | 10766997 |\n",
       "| 1991 | 4065571  |  7564284 |  9161104 | 10006407 | 10419901 | 10612083 | 10713621 | 10768615 | 10797912 | 10807345 |\n",
       "| 1992 | 4551591  |  8344021 | 10047179 | 10901995 | 11336777 | 11555121 | 11671193 | 11731102 | 11763018 | 11773294 |\n",
       "| 1993 | 5020277  |  9125734 | 10890282 | 11782219 | 12249826 | 12500354 | 12625921 | 12690731 | 12725258 | 12736375 |\n",
       "| 1994 | 5569355  |  9871002 | 11641397 | 12600432 | 13140534 | 13409279 | 13543976 | 13613498 | 13650535 | 13662460 |\n",
       "| 1995 | 5803124  | 10008734 | 11807279 | 12856535 | 13407615 | 13681822 | 13819257 | 13890192 | 13927982 | 13940150 |\n",
       "| 1996 | 5835368  |  9900842 | 11880252 | 12935993 | 13490479 | 13766381 | 13904665 | 13976038 | 14014062 | 14026305 |\n",
       "| 1997 | 5754249  | 10395258 | 12473514 | 13581975 | 14164150 | 14453829 | 14599019 | 14673957 | 14713879 | 14726733 |\n",
       "\n"
      ],
      "text/plain": [
       "      dev\n",
       "origin 1       2        3        4        5        6        7        8       \n",
       "  1988 3092818  5942711  7239089  7930109  8318795  8518201  8610355  8655509\n",
       "  1989 3556683  6753435  8219551  9018288  9441842  9647917  9753014  9800477\n",
       "  1990 4015052  7478257  9094949  9945288 10371175 10575467 10671988 10728411\n",
       "  1991 4065571  7564284  9161104 10006407 10419901 10612083 10713621 10768615\n",
       "  1992 4551591  8344021 10047179 10901995 11336777 11555121 11671193 11731102\n",
       "  1993 5020277  9125734 10890282 11782219 12249826 12500354 12625921 12690731\n",
       "  1994 5569355  9871002 11641397 12600432 13140534 13409279 13543976 13613498\n",
       "  1995 5803124 10008734 11807279 12856535 13407615 13681822 13819257 13890192\n",
       "  1996 5835368  9900842 11880252 12935993 13490479 13766381 13904665 13976038\n",
       "  1997 5754249 10395258 12473514 13581975 14164150 14453829 14599019 14673957\n",
       "      dev\n",
       "origin 9        10      \n",
       "  1988  8682451  8690036\n",
       "  1989  9823747  9832329\n",
       "  1990 10757599 10766997\n",
       "  1991 10797912 10807345\n",
       "  1992 11763018 11773294\n",
       "  1993 12725258 12736375\n",
       "  1994 13650535 13662460\n",
       "  1995 13927982 13940150\n",
       "  1996 14014062 14026305\n",
       "  1997 14713879 14726733"
      ]
     },
     "metadata": {},
     "output_type": "display_data"
    }
   ],
   "source": [
    "ODP$FullTriangle"
   ]
  },
  {
   "cell_type": "code",
   "execution_count": 30,
   "metadata": {},
   "outputs": [
    {
     "data": {
      "image/png": "[encoded data removed]",
      "text/plain": [
       "plot without title"
      ]
     },
     "metadata": {},
     "output_type": "display_data"
    }
   ],
   "source": [
    "plot(ODP)"
   ]
  }
 ],
 "metadata": {
  "kernelspec": {
   "display_name": "R",
   "language": "R",
   "name": "ir"
  },
  "language_info": {
   "codemirror_mode": "r",
   "file_extension": ".r",
   "mimetype": "text/x-r-source",
   "name": "R",
   "pygments_lexer": "r",
   "version": "3.6.1"
  }
 },
 "nbformat": 4,
 "nbformat_minor": 2
}
